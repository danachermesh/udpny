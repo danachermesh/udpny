{
 "cells": [
  {
   "cell_type": "code",
   "execution_count": 1,
   "metadata": {},
   "outputs": [],
   "source": [
    "import pandas as pd\n",
    "import numpy as np\n",
    "import matplotlib.pylab as pl\n",
    "import seaborn as sns\n",
    "sns.set_style('whitegrid')"
   ]
  },
  {
   "cell_type": "markdown",
   "metadata": {},
   "source": [
    "# UDPNY 2018 - _phase #3_\n",
    "# _new edition according to udp methodology and revision - September '18_\n",
    "\n",
    "This code defines the _**8 displacement typologies**_ and assignes each tract to a typology. \n",
    "\n",
    "- [UDP's methodology / displacement typollogies](https://drive.google.com/file/d/1nwOoVItI5RLLILrFpbTRoXbrjIohnSPY/view)"
   ]
  },
  {
   "cell_type": "code",
   "execution_count": 4,
   "metadata": {},
   "outputs": [
    {
     "name": "stdout",
     "output_type": "stream",
     "text": [
      "(5338, 89)\n"
     ]
    },
    {
     "data": {
      "text/html": [
       "<div>\n",
       "<style scoped>\n",
       "    .dataframe tbody tr th:only-of-type {\n",
       "        vertical-align: middle;\n",
       "    }\n",
       "\n",
       "    .dataframe tbody tr th {\n",
       "        vertical-align: top;\n",
       "    }\n",
       "\n",
       "    .dataframe thead th {\n",
       "        text-align: right;\n",
       "    }\n",
       "</style>\n",
       "<table border=\"1\" class=\"dataframe\">\n",
       "  <thead>\n",
       "    <tr style=\"text-align: right;\">\n",
       "      <th></th>\n",
       "      <th>GEOid2</th>\n",
       "      <th>hh16</th>\n",
       "      <th>moe_hh16</th>\n",
       "      <th>per_col00</th>\n",
       "      <th>per_nonwhite00</th>\n",
       "      <th>per_rent00</th>\n",
       "      <th>vli2000</th>\n",
       "      <th>li2000</th>\n",
       "      <th>mi2000</th>\n",
       "      <th>hmi2000</th>\n",
       "      <th>...</th>\n",
       "      <th>pop90</th>\n",
       "      <th>per_col90</th>\n",
       "      <th>moe_hu16</th>\n",
       "      <th>hinc16</th>\n",
       "      <th>moe_hinc16</th>\n",
       "      <th>popgrowth</th>\n",
       "      <th>hinc00</th>\n",
       "      <th>hinc90</th>\n",
       "      <th>pct_ch_hinc90_00</th>\n",
       "      <th>pct_ch_hinc00_16</th>\n",
       "    </tr>\n",
       "  </thead>\n",
       "  <tbody>\n",
       "    <tr>\n",
       "      <th>0</th>\n",
       "      <td>09001010101</td>\n",
       "      <td>1348.0</td>\n",
       "      <td>106.0</td>\n",
       "      <td>0.633120</td>\n",
       "      <td>0.066080</td>\n",
       "      <td>0.128119</td>\n",
       "      <td>0.097024</td>\n",
       "      <td>0.082058</td>\n",
       "      <td>0.058617</td>\n",
       "      <td>0.036841</td>\n",
       "      <td>...</td>\n",
       "      <td>4277.000000</td>\n",
       "      <td>0.516292</td>\n",
       "      <td>84.0</td>\n",
       "      <td>150655.0</td>\n",
       "      <td>21659.0</td>\n",
       "      <td>-529.0</td>\n",
       "      <td>273976.05</td>\n",
       "      <td>173204.009350</td>\n",
       "      <td>0.581811</td>\n",
       "      <td>-0.450116</td>\n",
       "    </tr>\n",
       "    <tr>\n",
       "      <th>1</th>\n",
       "      <td>09001010102</td>\n",
       "      <td>1293.0</td>\n",
       "      <td>100.0</td>\n",
       "      <td>0.748477</td>\n",
       "      <td>0.098972</td>\n",
       "      <td>0.108108</td>\n",
       "      <td>0.097878</td>\n",
       "      <td>0.055028</td>\n",
       "      <td>0.057780</td>\n",
       "      <td>0.040756</td>\n",
       "      <td>...</td>\n",
       "      <td>4273.694824</td>\n",
       "      <td>0.619490</td>\n",
       "      <td>71.0</td>\n",
       "      <td>250000.0</td>\n",
       "      <td>NaN</td>\n",
       "      <td>-302.0</td>\n",
       "      <td>290000.00</td>\n",
       "      <td>274501.826719</td>\n",
       "      <td>0.056459</td>\n",
       "      <td>-0.137931</td>\n",
       "    </tr>\n",
       "    <tr>\n",
       "      <th>2</th>\n",
       "      <td>09001010201</td>\n",
       "      <td>991.0</td>\n",
       "      <td>75.0</td>\n",
       "      <td>0.704225</td>\n",
       "      <td>0.088501</td>\n",
       "      <td>0.137864</td>\n",
       "      <td>0.055506</td>\n",
       "      <td>0.036763</td>\n",
       "      <td>0.027295</td>\n",
       "      <td>0.033678</td>\n",
       "      <td>...</td>\n",
       "      <td>3156.218236</td>\n",
       "      <td>0.602177</td>\n",
       "      <td>53.0</td>\n",
       "      <td>212448.0</td>\n",
       "      <td>58671.0</td>\n",
       "      <td>-158.0</td>\n",
       "      <td>290000.00</td>\n",
       "      <td>273595.114640</td>\n",
       "      <td>0.059960</td>\n",
       "      <td>-0.267421</td>\n",
       "    </tr>\n",
       "    <tr>\n",
       "      <th>3</th>\n",
       "      <td>09001010202</td>\n",
       "      <td>1856.0</td>\n",
       "      <td>99.0</td>\n",
       "      <td>0.621305</td>\n",
       "      <td>0.130701</td>\n",
       "      <td>0.213789</td>\n",
       "      <td>0.127129</td>\n",
       "      <td>0.112302</td>\n",
       "      <td>0.072605</td>\n",
       "      <td>0.062817</td>\n",
       "      <td>...</td>\n",
       "      <td>4725.289978</td>\n",
       "      <td>0.597040</td>\n",
       "      <td>82.0</td>\n",
       "      <td>187875.0</td>\n",
       "      <td>31078.0</td>\n",
       "      <td>328.0</td>\n",
       "      <td>157543.95</td>\n",
       "      <td>157618.518565</td>\n",
       "      <td>-0.000473</td>\n",
       "      <td>0.192524</td>\n",
       "    </tr>\n",
       "    <tr>\n",
       "      <th>4</th>\n",
       "      <td>09001010300</td>\n",
       "      <td>1435.0</td>\n",
       "      <td>111.0</td>\n",
       "      <td>0.716889</td>\n",
       "      <td>0.103641</td>\n",
       "      <td>0.273834</td>\n",
       "      <td>0.095201</td>\n",
       "      <td>0.074789</td>\n",
       "      <td>0.058684</td>\n",
       "      <td>0.052763</td>\n",
       "      <td>...</td>\n",
       "      <td>4036.000000</td>\n",
       "      <td>0.647751</td>\n",
       "      <td>85.0</td>\n",
       "      <td>221250.0</td>\n",
       "      <td>44939.0</td>\n",
       "      <td>-71.0</td>\n",
       "      <td>246540.60</td>\n",
       "      <td>186207.991984</td>\n",
       "      <td>0.324007</td>\n",
       "      <td>-0.102582</td>\n",
       "    </tr>\n",
       "  </tbody>\n",
       "</table>\n",
       "<p>5 rows × 89 columns</p>\n",
       "</div>"
      ],
      "text/plain": [
       "        GEOid2    hh16  moe_hh16  per_col00  per_nonwhite00  per_rent00  \\\n",
       "0  09001010101  1348.0     106.0   0.633120        0.066080    0.128119   \n",
       "1  09001010102  1293.0     100.0   0.748477        0.098972    0.108108   \n",
       "2  09001010201   991.0      75.0   0.704225        0.088501    0.137864   \n",
       "3  09001010202  1856.0      99.0   0.621305        0.130701    0.213789   \n",
       "4  09001010300  1435.0     111.0   0.716889        0.103641    0.273834   \n",
       "\n",
       "    vli2000    li2000    mi2000   hmi2000        ...               pop90  \\\n",
       "0  0.097024  0.082058  0.058617  0.036841        ...         4277.000000   \n",
       "1  0.097878  0.055028  0.057780  0.040756        ...         4273.694824   \n",
       "2  0.055506  0.036763  0.027295  0.033678        ...         3156.218236   \n",
       "3  0.127129  0.112302  0.072605  0.062817        ...         4725.289978   \n",
       "4  0.095201  0.074789  0.058684  0.052763        ...         4036.000000   \n",
       "\n",
       "   per_col90  moe_hu16    hinc16  moe_hinc16  popgrowth     hinc00  \\\n",
       "0   0.516292      84.0  150655.0     21659.0     -529.0  273976.05   \n",
       "1   0.619490      71.0  250000.0         NaN     -302.0  290000.00   \n",
       "2   0.602177      53.0  212448.0     58671.0     -158.0  290000.00   \n",
       "3   0.597040      82.0  187875.0     31078.0      328.0  157543.95   \n",
       "4   0.647751      85.0  221250.0     44939.0      -71.0  246540.60   \n",
       "\n",
       "          hinc90  pct_ch_hinc90_00  pct_ch_hinc00_16  \n",
       "0  173204.009350          0.581811         -0.450116  \n",
       "1  274501.826719          0.056459         -0.137931  \n",
       "2  273595.114640          0.059960         -0.267421  \n",
       "3  157618.518565         -0.000473          0.192524  \n",
       "4  186207.991984          0.324007         -0.102582  \n",
       "\n",
       "[5 rows x 89 columns]"
      ]
     },
     "execution_count": 4,
     "metadata": {},
     "output_type": "execute_result"
    }
   ],
   "source": [
    "data = pd.read_stata(\"UDP_NYC_Variables.dta\")\n",
    "print(data.shape)\n",
    "data.head()"
   ]
  },
  {
   "cell_type": "code",
   "execution_count": 7,
   "metadata": {},
   "outputs": [
    {
     "data": {
      "text/plain": [
       "['GEOid2',\n",
       " 'hh16',\n",
       " 'moe_hh16',\n",
       " 'per_col00',\n",
       " 'per_nonwhite00',\n",
       " 'per_rent00',\n",
       " 'vli2000',\n",
       " 'li2000',\n",
       " 'mi2000',\n",
       " 'hmi2000',\n",
       " 'hi2000',\n",
       " 'vhi2000',\n",
       " 'per_all_li00',\n",
       " 'hh00',\n",
       " 'all_li_count00',\n",
       " 'per_nonwhite90',\n",
       " 'per_rent90',\n",
       " 'vli1990',\n",
       " 'li1990',\n",
       " 'mi1990',\n",
       " 'hmi1990',\n",
       " 'hi1990',\n",
       " 'vhi1990',\n",
       " 'denominator',\n",
       " 'per_all_li90',\n",
       " 'all_li_count90',\n",
       " 'pop00',\n",
       " 'pop16',\n",
       " 'moe_pop16',\n",
       " 'ch_all_li_count90_00',\n",
       " 'ch_all_li_count00_16',\n",
       " 'moveinincd16',\n",
       " 'co_med_indinc16',\n",
       " 'per_limove16',\n",
       " 'per_limove09',\n",
       " 'TOD',\n",
       " 'empd15',\n",
       " 'mrent90',\n",
       " 'rou90',\n",
       " 'mrent00',\n",
       " 'rou00',\n",
       " 'mrent16',\n",
       " 'moe_mrent16',\n",
       " 'mhval90',\n",
       " 'ohu90',\n",
       " 'mhval00',\n",
       " 'ohu00',\n",
       " 'mhval16',\n",
       " 'moe_mhval16',\n",
       " 'mhval90_00',\n",
       " 'mhval00_16',\n",
       " 'mrent90_00',\n",
       " 'mrent00_16',\n",
       " 'hu16',\n",
       " 'per_units_pre50',\n",
       " 'ohu16',\n",
       " 'moe_owner16',\n",
       " 'rhu16',\n",
       " 'moe_renter16',\n",
       " 'per_rent16',\n",
       " 'per_nonwhite16',\n",
       " 'vli2016',\n",
       " 'li2016',\n",
       " 'mi2016',\n",
       " 'hmi2016',\n",
       " 'hi2016',\n",
       " 'vhi2016',\n",
       " 'per_all_li16',\n",
       " 'all_li_count16',\n",
       " 'ag25up',\n",
       " 'bachelors',\n",
       " 'moe_bachelors',\n",
       " 'masters',\n",
       " 'moe_masters',\n",
       " 'professional',\n",
       " 'moe_professionals',\n",
       " 'doctorate',\n",
       " 'moe_doctorates',\n",
       " 'per_col_16',\n",
       " 'pop90',\n",
       " 'per_col90',\n",
       " 'moe_hu16',\n",
       " 'hinc16',\n",
       " 'moe_hinc16',\n",
       " 'popgrowth',\n",
       " 'hinc00',\n",
       " 'hinc90',\n",
       " 'pct_ch_hinc90_00',\n",
       " 'pct_ch_hinc00_16']"
      ]
     },
     "execution_count": 7,
     "metadata": {},
     "output_type": "execute_result"
    }
   ],
   "source": [
    "list(data.columns)"
   ]
  },
  {
   "cell_type": "markdown",
   "metadata": {},
   "source": [
    "## Data cleaning\n",
    "- Dropping tracts with population less than 500 (2016)\n",
    "- Dropping tracts with more than 5 'Null' columns"
   ]
  },
  {
   "cell_type": "code",
   "execution_count": 6,
   "metadata": {},
   "outputs": [
    {
     "data": {
      "text/plain": [
       "(5192, 89)"
      ]
     },
     "execution_count": 6,
     "metadata": {},
     "output_type": "execute_result"
    }
   ],
   "source": [
    "# Dropping tracts with population less than 500 (2016)\n",
    "data = data[data['pop16'] > 500]\n",
    "# Dropping tracts with more than 5 'Null' columns\n",
    "data = data[data.isnull().sum(axis=1) <= 5]\n",
    "\n",
    "data.shape"
   ]
  },
  {
   "cell_type": "markdown",
   "metadata": {},
   "source": [
    "#### Coefficient of variation of MOE\n",
    "  _If any individual variable is missing, then the whole typology is missing._<br>\n",
    "    **Tracts with a coefficient of variation > 20% on several key 2015 variables are flagged and determined unreliable:**\n",
    "- Population -- V\n",
    "- Housing units -- V\n",
    "- Median rent -- V\n",
    "- Median home value -- V\n",
    "- Median income  -- **_no MOE in the data_**\n",
    "- College count\n",
    "- Renter count -- V"
   ]
  },
  {
   "cell_type": "code",
   "execution_count": 9,
   "metadata": {},
   "outputs": [
    {
     "data": {
      "text/plain": [
       "(4758, 89)"
      ]
     },
     "execution_count": 9,
     "metadata": {},
     "output_type": "execute_result"
    }
   ],
   "source": [
    "# Population\n",
    "data = data[(data.moe_pop16 / 1.645 ) / data.pop16 <= 0.3]\n",
    "# Housing Units\n",
    "data = data[(data.moe_hu16 / 1.645 ) / data.hu16 <= 0.3]\n",
    "# Bachelors count\n",
    "data = data[(data.moe_bachelors / 1.645 ) / data.bachelors <= 0.3]\n",
    "\n",
    "# Renter counts, Median rent, Median home value\n",
    "# dividing data to ct with majority of renters vs homeowners\n",
    "datarent = data[data.per_rent16 > 0.5]\n",
    "dataowner = data[data.per_rent16 <= 0.5]\n",
    "\n",
    "# Renter count, ownership counts\n",
    "datarent = datarent[(datarent.moe_renter16 / 1.645)  / datarent.rhu16 <= 0.3]\n",
    "dataowner = dataowner[(dataowner.moe_owner16 / 1.645 ) / dataowner.ohu16 <= 0.3]\n",
    "\n",
    "# Median rent, Median home value\n",
    "datarent = datarent[(datarent.moe_mrent16 / 1.645)  / datarent.mrent16 <= 0.3]\n",
    "dataowner = dataowner[(dataowner.moe_mhval16 / 1.645 ) / dataowner.mhval16 <= 0.3]\n",
    "\n",
    "# concatenating two datasets back to 'data'\n",
    "data = [dataowner, datarent]\n",
    "data = pd.concat(data)\n",
    "data.shape"
   ]
  },
  {
   "cell_type": "code",
   "execution_count": 10,
   "metadata": {},
   "outputs": [
    {
     "data": {
      "text/plain": [
       "0.08359013867488443"
      ]
     },
     "execution_count": 10,
     "metadata": {},
     "output_type": "execute_result"
    }
   ],
   "source": [
    "(5192-4758) / 5192"
   ]
  },
  {
   "cell_type": "markdown",
   "metadata": {},
   "source": [
    "### _4,758 CT were found valid for the analysis -- 8.3% were dropped._"
   ]
  },
  {
   "cell_type": "markdown",
   "metadata": {},
   "source": [
    "----\n",
    "# UDP Typologies\n",
    "### _8 Typologies_ to be generated to the displacement map:\n",
    "\n",
    "### Low Income:\n",
    "1. VLI - Highly Vulnerable >> _**an additional layer on top of assigned typologies**_\n",
    "2. LI - Stable (Not Losing Low-Income Households)\n",
    "3. LI - At Risk of Gentrification \n",
    "4. LI - Ongoing Gentrification \n",
    "\n",
    "### Moderate to High Income:\n",
    "5. MHI - Advanced / Completed Gentrification\n",
    "6. MHI - Stable (Not Losing Low-Income Households)\n",
    "7. MHI - At Risk of Exclusion\n",
    "8. MHI - Exclusion "
   ]
  },
  {
   "cell_type": "code",
   "execution_count": 20,
   "metadata": {
    "scrolled": false
   },
   "outputs": [
    {
     "data": {
      "text/plain": [
       "(4758, 89)"
      ]
     },
     "execution_count": 20,
     "metadata": {},
     "output_type": "execute_result"
    }
   ],
   "source": [
    "data.shape"
   ]
  },
  {
   "cell_type": "code",
   "execution_count": 21,
   "metadata": {
    "scrolled": true
   },
   "outputs": [
    {
     "name": "stdout",
     "output_type": "stream",
     "text": [
      "4437.259142496848\n",
      "1932.479370509086\n"
     ]
    }
   ],
   "source": [
    "print(data['pop16'].mean())\n",
    "print(data['pop16'].std())"
   ]
  },
  {
   "cell_type": "markdown",
   "metadata": {},
   "source": [
    "# Create necessary variables:"
   ]
  },
  {
   "cell_type": "markdown",
   "metadata": {},
   "source": [
    "## VLI - Very Low Income tract\n",
    "- vhi2016"
   ]
  },
  {
   "cell_type": "code",
   "execution_count": 22,
   "metadata": {},
   "outputs": [
    {
     "data": {
      "text/plain": [
       "0     0.572832\n",
       "3     0.602466\n",
       "5     0.395652\n",
       "9     0.506741\n",
       "10    0.513434\n",
       "Name: vhi2016, dtype: float32"
      ]
     },
     "execution_count": 22,
     "metadata": {},
     "output_type": "execute_result"
    }
   ],
   "source": [
    "data.vhi2016.head()"
   ]
  },
  {
   "cell_type": "code",
   "execution_count": 23,
   "metadata": {},
   "outputs": [
    {
     "name": "stdout",
     "output_type": "stream",
     "text": [
      "the median of very low income and very low income households at the year 2016 from total households, of all census tracts is: 0.22656558454036713\n"
     ]
    }
   ],
   "source": [
    "# Calculating median for vli and vli % of all hh in tract\n",
    "\n",
    "median_vli = data['vli2016'].median()\n",
    "print(\"the median of very low income and very low income households at the year 2016 from total households, \"  \n",
    "      \"of all census tracts is:\", median_vli)"
   ]
  },
  {
   "cell_type": "code",
   "execution_count": 24,
   "metadata": {},
   "outputs": [
    {
     "data": {
      "text/plain": [
       "0    4564\n",
       "1     194\n",
       "Name: vli_tract16, dtype: int64"
      ]
     },
     "execution_count": 24,
     "metadata": {},
     "output_type": "execute_result"
    }
   ],
   "source": [
    "# VLI tract (2016)\n",
    "\n",
    "data['vli_tract16'] = np.where(data['vli2016'] > 0.5, 1, 0)\n",
    "data['vli_tract16'].value_counts()"
   ]
  },
  {
   "cell_type": "markdown",
   "metadata": {},
   "source": [
    "## Low Income tract\n",
    "- calculate the median % of all tracts\n",
    "- Binary output (0 == low income tract; 1 = not a low income tract)"
   ]
  },
  {
   "cell_type": "code",
   "execution_count": 25,
   "metadata": {},
   "outputs": [
    {
     "data": {
      "text/html": [
       "<div>\n",
       "<style scoped>\n",
       "    .dataframe tbody tr th:only-of-type {\n",
       "        vertical-align: middle;\n",
       "    }\n",
       "\n",
       "    .dataframe tbody tr th {\n",
       "        vertical-align: top;\n",
       "    }\n",
       "\n",
       "    .dataframe thead th {\n",
       "        text-align: right;\n",
       "    }\n",
       "</style>\n",
       "<table border=\"1\" class=\"dataframe\">\n",
       "  <thead>\n",
       "    <tr style=\"text-align: right;\">\n",
       "      <th></th>\n",
       "      <th>vli2016</th>\n",
       "      <th>li2016</th>\n",
       "    </tr>\n",
       "  </thead>\n",
       "  <tbody>\n",
       "    <tr>\n",
       "      <th>0</th>\n",
       "      <td>0.207723</td>\n",
       "      <td>0.090243</td>\n",
       "    </tr>\n",
       "    <tr>\n",
       "      <th>3</th>\n",
       "      <td>0.097898</td>\n",
       "      <td>0.097730</td>\n",
       "    </tr>\n",
       "    <tr>\n",
       "      <th>5</th>\n",
       "      <td>0.165613</td>\n",
       "      <td>0.083121</td>\n",
       "    </tr>\n",
       "    <tr>\n",
       "      <th>9</th>\n",
       "      <td>0.136574</td>\n",
       "      <td>0.180567</td>\n",
       "    </tr>\n",
       "    <tr>\n",
       "      <th>10</th>\n",
       "      <td>0.148093</td>\n",
       "      <td>0.128081</td>\n",
       "    </tr>\n",
       "  </tbody>\n",
       "</table>\n",
       "</div>"
      ],
      "text/plain": [
       "     vli2016    li2016\n",
       "0   0.207723  0.090243\n",
       "3   0.097898  0.097730\n",
       "5   0.165613  0.083121\n",
       "9   0.136574  0.180567\n",
       "10  0.148093  0.128081"
      ]
     },
     "execution_count": 25,
     "metadata": {},
     "output_type": "execute_result"
    }
   ],
   "source": [
    "data.iloc[:,61:63].head()"
   ]
  },
  {
   "cell_type": "code",
   "execution_count": 26,
   "metadata": {},
   "outputs": [
    {
     "name": "stdout",
     "output_type": "stream",
     "text": [
      "the median of low income and very low income households at the year 2016 from total households, of all census tracts is: 0.36866429448127747\n"
     ]
    }
   ],
   "source": [
    "# Calculating median for li and vli % of all hh in tract\n",
    "\n",
    "medianli = data['vli2016'].median() + data['li2016'].median()\n",
    "print(\"the median of low income and very low income households at the year 2016 from total households, \"  \n",
    "      \"of all census tracts is:\", medianli)"
   ]
  },
  {
   "cell_type": "code",
   "execution_count": 27,
   "metadata": {
    "scrolled": true
   },
   "outputs": [
    {
     "data": {
      "text/html": [
       "<div>\n",
       "<style scoped>\n",
       "    .dataframe tbody tr th:only-of-type {\n",
       "        vertical-align: middle;\n",
       "    }\n",
       "\n",
       "    .dataframe tbody tr th {\n",
       "        vertical-align: top;\n",
       "    }\n",
       "\n",
       "    .dataframe thead th {\n",
       "        text-align: right;\n",
       "    }\n",
       "</style>\n",
       "<table border=\"1\" class=\"dataframe\">\n",
       "  <thead>\n",
       "    <tr style=\"text-align: right;\">\n",
       "      <th></th>\n",
       "      <th>li_tract16</th>\n",
       "    </tr>\n",
       "  </thead>\n",
       "  <tbody>\n",
       "    <tr>\n",
       "      <th>0</th>\n",
       "      <td>0</td>\n",
       "    </tr>\n",
       "    <tr>\n",
       "      <th>3</th>\n",
       "      <td>0</td>\n",
       "    </tr>\n",
       "    <tr>\n",
       "      <th>5</th>\n",
       "      <td>0</td>\n",
       "    </tr>\n",
       "    <tr>\n",
       "      <th>9</th>\n",
       "      <td>0</td>\n",
       "    </tr>\n",
       "    <tr>\n",
       "      <th>10</th>\n",
       "      <td>0</td>\n",
       "    </tr>\n",
       "    <tr>\n",
       "      <th>11</th>\n",
       "      <td>0</td>\n",
       "    </tr>\n",
       "    <tr>\n",
       "      <th>12</th>\n",
       "      <td>0</td>\n",
       "    </tr>\n",
       "    <tr>\n",
       "      <th>16</th>\n",
       "      <td>0</td>\n",
       "    </tr>\n",
       "    <tr>\n",
       "      <th>17</th>\n",
       "      <td>0</td>\n",
       "    </tr>\n",
       "    <tr>\n",
       "      <th>18</th>\n",
       "      <td>0</td>\n",
       "    </tr>\n",
       "  </tbody>\n",
       "</table>\n",
       "</div>"
      ],
      "text/plain": [
       "    li_tract16\n",
       "0            0\n",
       "3            0\n",
       "5            0\n",
       "9            0\n",
       "10           0\n",
       "11           0\n",
       "12           0\n",
       "16           0\n",
       "17           0\n",
       "18           0"
      ]
     },
     "execution_count": 27,
     "metadata": {},
     "output_type": "execute_result"
    }
   ],
   "source": [
    "# 2016\n",
    "\n",
    "data['li_tract16'] = np.where(data['vli2016']+data['li2016'] > medianli, 1, 0)\n",
    "data.iloc[:,-1:].head(10)"
   ]
  },
  {
   "cell_type": "code",
   "execution_count": 28,
   "metadata": {},
   "outputs": [
    {
     "data": {
      "text/plain": [
       "1    2521\n",
       "0    2237\n",
       "Name: li_tract16, dtype: int64"
      ]
     },
     "execution_count": 28,
     "metadata": {},
     "output_type": "execute_result"
    }
   ],
   "source": [
    "data['li_tract16'].value_counts()"
   ]
  },
  {
   "cell_type": "code",
   "execution_count": 29,
   "metadata": {},
   "outputs": [
    {
     "data": {
      "text/html": [
       "<div>\n",
       "<style scoped>\n",
       "    .dataframe tbody tr th:only-of-type {\n",
       "        vertical-align: middle;\n",
       "    }\n",
       "\n",
       "    .dataframe tbody tr th {\n",
       "        vertical-align: top;\n",
       "    }\n",
       "\n",
       "    .dataframe thead th {\n",
       "        text-align: right;\n",
       "    }\n",
       "</style>\n",
       "<table border=\"1\" class=\"dataframe\">\n",
       "  <thead>\n",
       "    <tr style=\"text-align: right;\">\n",
       "      <th></th>\n",
       "      <th>li_tract16</th>\n",
       "      <th>li_tract00</th>\n",
       "    </tr>\n",
       "  </thead>\n",
       "  <tbody>\n",
       "    <tr>\n",
       "      <th>0</th>\n",
       "      <td>0</td>\n",
       "      <td>0</td>\n",
       "    </tr>\n",
       "    <tr>\n",
       "      <th>3</th>\n",
       "      <td>0</td>\n",
       "      <td>0</td>\n",
       "    </tr>\n",
       "    <tr>\n",
       "      <th>5</th>\n",
       "      <td>0</td>\n",
       "      <td>0</td>\n",
       "    </tr>\n",
       "    <tr>\n",
       "      <th>9</th>\n",
       "      <td>0</td>\n",
       "      <td>0</td>\n",
       "    </tr>\n",
       "    <tr>\n",
       "      <th>10</th>\n",
       "      <td>0</td>\n",
       "      <td>0</td>\n",
       "    </tr>\n",
       "    <tr>\n",
       "      <th>11</th>\n",
       "      <td>0</td>\n",
       "      <td>0</td>\n",
       "    </tr>\n",
       "    <tr>\n",
       "      <th>12</th>\n",
       "      <td>0</td>\n",
       "      <td>0</td>\n",
       "    </tr>\n",
       "    <tr>\n",
       "      <th>16</th>\n",
       "      <td>0</td>\n",
       "      <td>0</td>\n",
       "    </tr>\n",
       "    <tr>\n",
       "      <th>17</th>\n",
       "      <td>0</td>\n",
       "      <td>0</td>\n",
       "    </tr>\n",
       "    <tr>\n",
       "      <th>18</th>\n",
       "      <td>0</td>\n",
       "      <td>0</td>\n",
       "    </tr>\n",
       "  </tbody>\n",
       "</table>\n",
       "</div>"
      ],
      "text/plain": [
       "    li_tract16  li_tract00\n",
       "0            0           0\n",
       "3            0           0\n",
       "5            0           0\n",
       "9            0           0\n",
       "10           0           0\n",
       "11           0           0\n",
       "12           0           0\n",
       "16           0           0\n",
       "17           0           0\n",
       "18           0           0"
      ]
     },
     "execution_count": 29,
     "metadata": {},
     "output_type": "execute_result"
    }
   ],
   "source": [
    "# 2000\n",
    "\n",
    "data['li_tract00'] = np.where(data['vli2000']+data['li2000'] > (data['vli2000'].median() + data['li2000'].median()), 1, 0)\n",
    "data.iloc[:,-2:].head(10)"
   ]
  },
  {
   "cell_type": "code",
   "execution_count": 30,
   "metadata": {},
   "outputs": [
    {
     "data": {
      "text/html": [
       "<div>\n",
       "<style scoped>\n",
       "    .dataframe tbody tr th:only-of-type {\n",
       "        vertical-align: middle;\n",
       "    }\n",
       "\n",
       "    .dataframe tbody tr th {\n",
       "        vertical-align: top;\n",
       "    }\n",
       "\n",
       "    .dataframe thead th {\n",
       "        text-align: right;\n",
       "    }\n",
       "</style>\n",
       "<table border=\"1\" class=\"dataframe\">\n",
       "  <thead>\n",
       "    <tr style=\"text-align: right;\">\n",
       "      <th></th>\n",
       "      <th>li_tract16</th>\n",
       "      <th>li_tract00</th>\n",
       "      <th>li_tract90</th>\n",
       "    </tr>\n",
       "  </thead>\n",
       "  <tbody>\n",
       "    <tr>\n",
       "      <th>0</th>\n",
       "      <td>0</td>\n",
       "      <td>0</td>\n",
       "      <td>0</td>\n",
       "    </tr>\n",
       "    <tr>\n",
       "      <th>3</th>\n",
       "      <td>0</td>\n",
       "      <td>0</td>\n",
       "      <td>0</td>\n",
       "    </tr>\n",
       "    <tr>\n",
       "      <th>5</th>\n",
       "      <td>0</td>\n",
       "      <td>0</td>\n",
       "      <td>1</td>\n",
       "    </tr>\n",
       "    <tr>\n",
       "      <th>9</th>\n",
       "      <td>0</td>\n",
       "      <td>0</td>\n",
       "      <td>0</td>\n",
       "    </tr>\n",
       "    <tr>\n",
       "      <th>10</th>\n",
       "      <td>0</td>\n",
       "      <td>0</td>\n",
       "      <td>0</td>\n",
       "    </tr>\n",
       "    <tr>\n",
       "      <th>11</th>\n",
       "      <td>0</td>\n",
       "      <td>0</td>\n",
       "      <td>0</td>\n",
       "    </tr>\n",
       "    <tr>\n",
       "      <th>12</th>\n",
       "      <td>0</td>\n",
       "      <td>0</td>\n",
       "      <td>0</td>\n",
       "    </tr>\n",
       "    <tr>\n",
       "      <th>16</th>\n",
       "      <td>0</td>\n",
       "      <td>0</td>\n",
       "      <td>0</td>\n",
       "    </tr>\n",
       "    <tr>\n",
       "      <th>17</th>\n",
       "      <td>0</td>\n",
       "      <td>0</td>\n",
       "      <td>0</td>\n",
       "    </tr>\n",
       "    <tr>\n",
       "      <th>18</th>\n",
       "      <td>0</td>\n",
       "      <td>0</td>\n",
       "      <td>0</td>\n",
       "    </tr>\n",
       "  </tbody>\n",
       "</table>\n",
       "</div>"
      ],
      "text/plain": [
       "    li_tract16  li_tract00  li_tract90\n",
       "0            0           0           0\n",
       "3            0           0           0\n",
       "5            0           0           1\n",
       "9            0           0           0\n",
       "10           0           0           0\n",
       "11           0           0           0\n",
       "12           0           0           0\n",
       "16           0           0           0\n",
       "17           0           0           0\n",
       "18           0           0           0"
      ]
     },
     "execution_count": 30,
     "metadata": {},
     "output_type": "execute_result"
    }
   ],
   "source": [
    "# 1990\n",
    "\n",
    "data['li_tract90'] = np.where(data['vli1990']+data['li1990'] > (data['vli1990'].median() + data['li1990'].median()), 1, 0)\n",
    "data.iloc[:,-3:].head(10)"
   ]
  },
  {
   "cell_type": "code",
   "execution_count": 31,
   "metadata": {},
   "outputs": [
    {
     "name": "stdout",
     "output_type": "stream",
     "text": [
      "LI HH 2000:\n",
      " 1    2491\n",
      "0    2267\n",
      "Name: li_tract00, dtype: int64\n",
      "\n",
      "LI HH 1990:\n",
      " 1    2513\n",
      "0    2245\n",
      "Name: li_tract90, dtype: int64\n"
     ]
    }
   ],
   "source": [
    "print('LI HH 2000:\\n', data['li_tract00'].value_counts())\n",
    "print('\\nLI HH 1990:\\n', data['li_tract90'].value_counts())"
   ]
  },
  {
   "cell_type": "markdown",
   "metadata": {},
   "source": [
    "### Define % college educated < regional median "
   ]
  },
  {
   "cell_type": "code",
   "execution_count": 32,
   "metadata": {},
   "outputs": [
    {
     "data": {
      "text/plain": [
       "0.2567002773284912"
      ]
     },
     "execution_count": 32,
     "metadata": {},
     "output_type": "execute_result"
    }
   ],
   "source": [
    "data['per_col00'].median()"
   ]
  },
  {
   "cell_type": "code",
   "execution_count": 33,
   "metadata": {},
   "outputs": [
    {
     "data": {
      "text/html": [
       "<div>\n",
       "<style scoped>\n",
       "    .dataframe tbody tr th:only-of-type {\n",
       "        vertical-align: middle;\n",
       "    }\n",
       "\n",
       "    .dataframe tbody tr th {\n",
       "        vertical-align: top;\n",
       "    }\n",
       "\n",
       "    .dataframe thead th {\n",
       "        text-align: right;\n",
       "    }\n",
       "</style>\n",
       "<table border=\"1\" class=\"dataframe\">\n",
       "  <thead>\n",
       "    <tr style=\"text-align: right;\">\n",
       "      <th></th>\n",
       "      <th>li_tract00</th>\n",
       "      <th>li_tract90</th>\n",
       "      <th>edulow90</th>\n",
       "      <th>edulow00</th>\n",
       "    </tr>\n",
       "  </thead>\n",
       "  <tbody>\n",
       "    <tr>\n",
       "      <th>0</th>\n",
       "      <td>0</td>\n",
       "      <td>0</td>\n",
       "      <td>0</td>\n",
       "      <td>0</td>\n",
       "    </tr>\n",
       "    <tr>\n",
       "      <th>3</th>\n",
       "      <td>0</td>\n",
       "      <td>0</td>\n",
       "      <td>0</td>\n",
       "      <td>0</td>\n",
       "    </tr>\n",
       "    <tr>\n",
       "      <th>5</th>\n",
       "      <td>0</td>\n",
       "      <td>1</td>\n",
       "      <td>0</td>\n",
       "      <td>0</td>\n",
       "    </tr>\n",
       "    <tr>\n",
       "      <th>9</th>\n",
       "      <td>0</td>\n",
       "      <td>0</td>\n",
       "      <td>0</td>\n",
       "      <td>0</td>\n",
       "    </tr>\n",
       "    <tr>\n",
       "      <th>10</th>\n",
       "      <td>0</td>\n",
       "      <td>0</td>\n",
       "      <td>0</td>\n",
       "      <td>0</td>\n",
       "    </tr>\n",
       "    <tr>\n",
       "      <th>11</th>\n",
       "      <td>0</td>\n",
       "      <td>0</td>\n",
       "      <td>0</td>\n",
       "      <td>0</td>\n",
       "    </tr>\n",
       "    <tr>\n",
       "      <th>12</th>\n",
       "      <td>0</td>\n",
       "      <td>0</td>\n",
       "      <td>0</td>\n",
       "      <td>0</td>\n",
       "    </tr>\n",
       "  </tbody>\n",
       "</table>\n",
       "</div>"
      ],
      "text/plain": [
       "    li_tract00  li_tract90  edulow90  edulow00\n",
       "0            0           0         0         0\n",
       "3            0           0         0         0\n",
       "5            0           1         0         0\n",
       "9            0           0         0         0\n",
       "10           0           0         0         0\n",
       "11           0           0         0         0\n",
       "12           0           0         0         0"
      ]
     },
     "execution_count": 33,
     "metadata": {},
     "output_type": "execute_result"
    }
   ],
   "source": [
    "data['edulow90'] = np.where(data['per_col90'] < data['per_col90'].median(), 1, 0)\n",
    "data['edulow00'] = np.where(data['per_col00'] < data['per_col00'].median(), 1, 0)\n",
    "data.iloc[:,-4:].head(7)"
   ]
  },
  {
   "cell_type": "markdown",
   "metadata": {},
   "source": [
    "### Define % renters > regional median"
   ]
  },
  {
   "cell_type": "code",
   "execution_count": 34,
   "metadata": {},
   "outputs": [
    {
     "data": {
      "text/plain": [
       "0.4009764790534973"
      ]
     },
     "execution_count": 34,
     "metadata": {},
     "output_type": "execute_result"
    }
   ],
   "source": [
    "data['per_rent00'].median()"
   ]
  },
  {
   "cell_type": "code",
   "execution_count": 35,
   "metadata": {},
   "outputs": [
    {
     "data": {
      "text/html": [
       "<div>\n",
       "<style scoped>\n",
       "    .dataframe tbody tr th:only-of-type {\n",
       "        vertical-align: middle;\n",
       "    }\n",
       "\n",
       "    .dataframe tbody tr th {\n",
       "        vertical-align: top;\n",
       "    }\n",
       "\n",
       "    .dataframe thead th {\n",
       "        text-align: right;\n",
       "    }\n",
       "</style>\n",
       "<table border=\"1\" class=\"dataframe\">\n",
       "  <thead>\n",
       "    <tr style=\"text-align: right;\">\n",
       "      <th></th>\n",
       "      <th>edulow90</th>\n",
       "      <th>edulow00</th>\n",
       "      <th>renters%90</th>\n",
       "      <th>renters%00</th>\n",
       "      <th>renters%16</th>\n",
       "    </tr>\n",
       "  </thead>\n",
       "  <tbody>\n",
       "    <tr>\n",
       "      <th>0</th>\n",
       "      <td>0</td>\n",
       "      <td>0</td>\n",
       "      <td>0</td>\n",
       "      <td>0</td>\n",
       "      <td>0</td>\n",
       "    </tr>\n",
       "    <tr>\n",
       "      <th>3</th>\n",
       "      <td>0</td>\n",
       "      <td>0</td>\n",
       "      <td>0</td>\n",
       "      <td>0</td>\n",
       "      <td>0</td>\n",
       "    </tr>\n",
       "    <tr>\n",
       "      <th>5</th>\n",
       "      <td>0</td>\n",
       "      <td>0</td>\n",
       "      <td>0</td>\n",
       "      <td>0</td>\n",
       "      <td>0</td>\n",
       "    </tr>\n",
       "    <tr>\n",
       "      <th>9</th>\n",
       "      <td>0</td>\n",
       "      <td>0</td>\n",
       "      <td>0</td>\n",
       "      <td>0</td>\n",
       "      <td>0</td>\n",
       "    </tr>\n",
       "    <tr>\n",
       "      <th>10</th>\n",
       "      <td>0</td>\n",
       "      <td>0</td>\n",
       "      <td>0</td>\n",
       "      <td>0</td>\n",
       "      <td>0</td>\n",
       "    </tr>\n",
       "    <tr>\n",
       "      <th>11</th>\n",
       "      <td>0</td>\n",
       "      <td>0</td>\n",
       "      <td>0</td>\n",
       "      <td>0</td>\n",
       "      <td>0</td>\n",
       "    </tr>\n",
       "    <tr>\n",
       "      <th>12</th>\n",
       "      <td>0</td>\n",
       "      <td>0</td>\n",
       "      <td>0</td>\n",
       "      <td>0</td>\n",
       "      <td>0</td>\n",
       "    </tr>\n",
       "  </tbody>\n",
       "</table>\n",
       "</div>"
      ],
      "text/plain": [
       "    edulow90  edulow00  renters%90  renters%00  renters%16\n",
       "0          0         0           0           0           0\n",
       "3          0         0           0           0           0\n",
       "5          0         0           0           0           0\n",
       "9          0         0           0           0           0\n",
       "10         0         0           0           0           0\n",
       "11         0         0           0           0           0\n",
       "12         0         0           0           0           0"
      ]
     },
     "execution_count": 35,
     "metadata": {},
     "output_type": "execute_result"
    }
   ],
   "source": [
    "data['renters%90'] = np.where(data['per_rent90'] > data['per_rent90'].median(), 1, 0)\n",
    "data['renters%00'] = np.where(data['per_rent00'] > data['per_rent00'].median(), 1, 0)\n",
    "data['renters%16'] = np.where(data['per_rent16'] > data['per_rent16'].median(), 1, 0)\n",
    "\n",
    "data.iloc[:,-5:].head(7)"
   ]
  },
  {
   "cell_type": "markdown",
   "metadata": {},
   "source": [
    "### Define % nonwhite > regional median"
   ]
  },
  {
   "cell_type": "code",
   "execution_count": 36,
   "metadata": {},
   "outputs": [
    {
     "data": {
      "text/plain": [
       "0.2858666479587555"
      ]
     },
     "execution_count": 36,
     "metadata": {},
     "output_type": "execute_result"
    }
   ],
   "source": [
    "data['per_nonwhite00'].median()"
   ]
  },
  {
   "cell_type": "code",
   "execution_count": 37,
   "metadata": {},
   "outputs": [
    {
     "data": {
      "text/html": [
       "<div>\n",
       "<style scoped>\n",
       "    .dataframe tbody tr th:only-of-type {\n",
       "        vertical-align: middle;\n",
       "    }\n",
       "\n",
       "    .dataframe tbody tr th {\n",
       "        vertical-align: top;\n",
       "    }\n",
       "\n",
       "    .dataframe thead th {\n",
       "        text-align: right;\n",
       "    }\n",
       "</style>\n",
       "<table border=\"1\" class=\"dataframe\">\n",
       "  <thead>\n",
       "    <tr style=\"text-align: right;\">\n",
       "      <th></th>\n",
       "      <th>renters%00</th>\n",
       "      <th>renters%16</th>\n",
       "      <th>nonwhiteHigh90</th>\n",
       "      <th>nonwhiteHigh00</th>\n",
       "      <th>nonwhiteHigh16</th>\n",
       "    </tr>\n",
       "  </thead>\n",
       "  <tbody>\n",
       "    <tr>\n",
       "      <th>0</th>\n",
       "      <td>0</td>\n",
       "      <td>0</td>\n",
       "      <td>0</td>\n",
       "      <td>0</td>\n",
       "      <td>0</td>\n",
       "    </tr>\n",
       "    <tr>\n",
       "      <th>3</th>\n",
       "      <td>0</td>\n",
       "      <td>0</td>\n",
       "      <td>0</td>\n",
       "      <td>0</td>\n",
       "      <td>0</td>\n",
       "    </tr>\n",
       "    <tr>\n",
       "      <th>5</th>\n",
       "      <td>0</td>\n",
       "      <td>0</td>\n",
       "      <td>0</td>\n",
       "      <td>0</td>\n",
       "      <td>0</td>\n",
       "    </tr>\n",
       "    <tr>\n",
       "      <th>9</th>\n",
       "      <td>0</td>\n",
       "      <td>0</td>\n",
       "      <td>0</td>\n",
       "      <td>0</td>\n",
       "      <td>0</td>\n",
       "    </tr>\n",
       "    <tr>\n",
       "      <th>10</th>\n",
       "      <td>0</td>\n",
       "      <td>0</td>\n",
       "      <td>0</td>\n",
       "      <td>0</td>\n",
       "      <td>0</td>\n",
       "    </tr>\n",
       "    <tr>\n",
       "      <th>11</th>\n",
       "      <td>0</td>\n",
       "      <td>0</td>\n",
       "      <td>0</td>\n",
       "      <td>0</td>\n",
       "      <td>0</td>\n",
       "    </tr>\n",
       "    <tr>\n",
       "      <th>12</th>\n",
       "      <td>0</td>\n",
       "      <td>0</td>\n",
       "      <td>0</td>\n",
       "      <td>0</td>\n",
       "      <td>0</td>\n",
       "    </tr>\n",
       "  </tbody>\n",
       "</table>\n",
       "</div>"
      ],
      "text/plain": [
       "    renters%00  renters%16  nonwhiteHigh90  nonwhiteHigh00  nonwhiteHigh16\n",
       "0            0           0               0               0               0\n",
       "3            0           0               0               0               0\n",
       "5            0           0               0               0               0\n",
       "9            0           0               0               0               0\n",
       "10           0           0               0               0               0\n",
       "11           0           0               0               0               0\n",
       "12           0           0               0               0               0"
      ]
     },
     "execution_count": 37,
     "metadata": {},
     "output_type": "execute_result"
    }
   ],
   "source": [
    "data['nonwhiteHigh90'] = np.where(data['per_nonwhite90'] > data['per_nonwhite90'].median(), 1, 0)\n",
    "data['nonwhiteHigh00'] = np.where(data['per_nonwhite00'] > data['per_nonwhite00'].median(), 1, 0)\n",
    "data['nonwhiteHigh16'] = np.where(data['per_nonwhite16'] > data['per_nonwhite16'].median(), 1, 0)\n",
    "data.iloc[:,-5:].head(7)"
   ]
  },
  {
   "cell_type": "markdown",
   "metadata": {},
   "source": [
    "### Define Severe Rent Burden 2016 -- DIDN\"T WORK! CHECK AGAIN"
   ]
  },
  {
   "cell_type": "code",
   "execution_count": 38,
   "metadata": {},
   "outputs": [
    {
     "data": {
      "text/html": [
       "<div>\n",
       "<style scoped>\n",
       "    .dataframe tbody tr th:only-of-type {\n",
       "        vertical-align: middle;\n",
       "    }\n",
       "\n",
       "    .dataframe tbody tr th {\n",
       "        vertical-align: top;\n",
       "    }\n",
       "\n",
       "    .dataframe thead th {\n",
       "        text-align: right;\n",
       "    }\n",
       "</style>\n",
       "<table border=\"1\" class=\"dataframe\">\n",
       "  <thead>\n",
       "    <tr style=\"text-align: right;\">\n",
       "      <th></th>\n",
       "      <th>GEOid2</th>\n",
       "      <th>hh16</th>\n",
       "      <th>moe_hh16</th>\n",
       "      <th>per_col00</th>\n",
       "      <th>per_nonwhite00</th>\n",
       "      <th>per_rent00</th>\n",
       "      <th>vli2000</th>\n",
       "      <th>li2000</th>\n",
       "      <th>mi2000</th>\n",
       "      <th>hmi2000</th>\n",
       "      <th>...</th>\n",
       "      <th>li_tract00</th>\n",
       "      <th>li_tract90</th>\n",
       "      <th>edulow90</th>\n",
       "      <th>edulow00</th>\n",
       "      <th>renters%90</th>\n",
       "      <th>renters%00</th>\n",
       "      <th>renters%16</th>\n",
       "      <th>nonwhiteHigh90</th>\n",
       "      <th>nonwhiteHigh00</th>\n",
       "      <th>nonwhiteHigh16</th>\n",
       "    </tr>\n",
       "  </thead>\n",
       "  <tbody>\n",
       "  </tbody>\n",
       "</table>\n",
       "<p>0 rows × 101 columns</p>\n",
       "</div>"
      ],
      "text/plain": [
       "Empty DataFrame\n",
       "Columns: [GEOid2, hh16, moe_hh16, per_col00, per_nonwhite00, per_rent00, vli2000, li2000, mi2000, hmi2000, hi2000, vhi2000, per_all_li00, hh00, all_li_count00, per_nonwhite90, per_rent90, vli1990, li1990, mi1990, hmi1990, hi1990, vhi1990, denominator, per_all_li90, all_li_count90, pop00, pop16, moe_pop16, ch_all_li_count90_00, ch_all_li_count00_16, moveinincd16, co_med_indinc16, per_limove16, per_limove09, TOD, empd15, mrent90, rou90, mrent00, rou00, mrent16, moe_mrent16, mhval90, ohu90, mhval00, ohu00, mhval16, moe_mhval16, mhval90_00, mhval00_16, mrent90_00, mrent00_16, hu16, per_units_pre50, ohu16, moe_owner16, rhu16, moe_renter16, per_rent16, per_nonwhite16, vli2016, li2016, mi2016, hmi2016, hi2016, vhi2016, per_all_li16, all_li_count16, ag25up, bachelors, moe_bachelors, masters, moe_masters, professional, moe_professionals, doctorate, moe_doctorates, per_col_16, pop90, per_col90, moe_hu16, hinc16, moe_hinc16, popgrowth, hinc00, hinc90, pct_ch_hinc90_00, pct_ch_hinc00_16, vli_tract16, li_tract16, li_tract00, li_tract90, edulow90, edulow00, renters%90, renters%00, renters%16, nonwhiteHigh90, nonwhiteHigh00, ...]\n",
       "Index: []\n",
       "\n",
       "[0 rows x 101 columns]"
      ]
     },
     "execution_count": 38,
     "metadata": {},
     "output_type": "execute_result"
    }
   ],
   "source": [
    "data[data['mrent16']/data['hinc16'] > 0.3]"
   ]
  },
  {
   "cell_type": "markdown",
   "metadata": {},
   "source": [
    "# Vulnerability 1990 / 2000 // 3 out of 4 of the above for each year\n",
    "- % low income households > regional median\n",
    "- college educated < regional median\n",
    "- renters > regional median\n",
    "- nonwhite > regional median"
   ]
  },
  {
   "cell_type": "code",
   "execution_count": 39,
   "metadata": {},
   "outputs": [],
   "source": [
    "# vulnerable 1990\n",
    "\n",
    "def volnurable90(df):\n",
    "    if df['li_tract90'] == 1 and df['edulow90'] == 1 and df['renters%90'] == 1:\n",
    "        val = 1\n",
    "    elif df['li_tract90'] == 1 and df['edulow90'] == 1 and df['nonwhiteHigh90'] == 1:\n",
    "        val = 1\n",
    "    elif df['li_tract90'] == 1 and df['renters%90'] == 1 and df['nonwhiteHigh90'] == 1:\n",
    "        val = 1\n",
    "    elif df['edulow90'] == 1 and df['renters%90'] == 1 and df['nonwhiteHigh90'] == 1:\n",
    "        val = 1\n",
    "    else:\n",
    "        val = 0\n",
    "    return val"
   ]
  },
  {
   "cell_type": "code",
   "execution_count": 40,
   "metadata": {},
   "outputs": [
    {
     "data": {
      "text/html": [
       "<div>\n",
       "<style scoped>\n",
       "    .dataframe tbody tr th:only-of-type {\n",
       "        vertical-align: middle;\n",
       "    }\n",
       "\n",
       "    .dataframe tbody tr th {\n",
       "        vertical-align: top;\n",
       "    }\n",
       "\n",
       "    .dataframe thead th {\n",
       "        text-align: right;\n",
       "    }\n",
       "</style>\n",
       "<table border=\"1\" class=\"dataframe\">\n",
       "  <thead>\n",
       "    <tr style=\"text-align: right;\">\n",
       "      <th></th>\n",
       "      <th>GEOid2</th>\n",
       "      <th>hh16</th>\n",
       "      <th>moe_hh16</th>\n",
       "      <th>per_col00</th>\n",
       "      <th>per_nonwhite00</th>\n",
       "      <th>per_rent00</th>\n",
       "      <th>vli2000</th>\n",
       "      <th>li2000</th>\n",
       "      <th>mi2000</th>\n",
       "      <th>hmi2000</th>\n",
       "      <th>...</th>\n",
       "      <th>li_tract90</th>\n",
       "      <th>edulow90</th>\n",
       "      <th>edulow00</th>\n",
       "      <th>renters%90</th>\n",
       "      <th>renters%00</th>\n",
       "      <th>renters%16</th>\n",
       "      <th>nonwhiteHigh90</th>\n",
       "      <th>nonwhiteHigh00</th>\n",
       "      <th>nonwhiteHigh16</th>\n",
       "      <th>Volnurable90</th>\n",
       "    </tr>\n",
       "  </thead>\n",
       "  <tbody>\n",
       "    <tr>\n",
       "      <th>19</th>\n",
       "      <td>09001020500</td>\n",
       "      <td>1715.0</td>\n",
       "      <td>69.0</td>\n",
       "      <td>0.560989</td>\n",
       "      <td>0.112982</td>\n",
       "      <td>0.100000</td>\n",
       "      <td>0.111704</td>\n",
       "      <td>0.090183</td>\n",
       "      <td>0.078906</td>\n",
       "      <td>0.065822</td>\n",
       "      <td>...</td>\n",
       "      <td>0</td>\n",
       "      <td>0</td>\n",
       "      <td>0</td>\n",
       "      <td>0</td>\n",
       "      <td>0</td>\n",
       "      <td>0</td>\n",
       "      <td>0</td>\n",
       "      <td>0</td>\n",
       "      <td>0</td>\n",
       "      <td>0</td>\n",
       "    </tr>\n",
       "    <tr>\n",
       "      <th>20</th>\n",
       "      <td>09001020600</td>\n",
       "      <td>1691.0</td>\n",
       "      <td>77.0</td>\n",
       "      <td>0.404769</td>\n",
       "      <td>0.165809</td>\n",
       "      <td>0.097722</td>\n",
       "      <td>0.196649</td>\n",
       "      <td>0.090011</td>\n",
       "      <td>0.079509</td>\n",
       "      <td>0.112833</td>\n",
       "      <td>...</td>\n",
       "      <td>0</td>\n",
       "      <td>0</td>\n",
       "      <td>0</td>\n",
       "      <td>0</td>\n",
       "      <td>0</td>\n",
       "      <td>0</td>\n",
       "      <td>0</td>\n",
       "      <td>0</td>\n",
       "      <td>0</td>\n",
       "      <td>0</td>\n",
       "    </tr>\n",
       "    <tr>\n",
       "      <th>21</th>\n",
       "      <td>09001020700</td>\n",
       "      <td>1597.0</td>\n",
       "      <td>60.0</td>\n",
       "      <td>0.432836</td>\n",
       "      <td>0.125184</td>\n",
       "      <td>0.138121</td>\n",
       "      <td>0.214971</td>\n",
       "      <td>0.099719</td>\n",
       "      <td>0.093306</td>\n",
       "      <td>0.099693</td>\n",
       "      <td>...</td>\n",
       "      <td>0</td>\n",
       "      <td>0</td>\n",
       "      <td>0</td>\n",
       "      <td>0</td>\n",
       "      <td>0</td>\n",
       "      <td>0</td>\n",
       "      <td>0</td>\n",
       "      <td>0</td>\n",
       "      <td>0</td>\n",
       "      <td>0</td>\n",
       "    </tr>\n",
       "    <tr>\n",
       "      <th>22</th>\n",
       "      <td>09001020800</td>\n",
       "      <td>963.0</td>\n",
       "      <td>34.0</td>\n",
       "      <td>0.434267</td>\n",
       "      <td>0.081625</td>\n",
       "      <td>0.033473</td>\n",
       "      <td>0.130064</td>\n",
       "      <td>0.137648</td>\n",
       "      <td>0.049873</td>\n",
       "      <td>0.099999</td>\n",
       "      <td>...</td>\n",
       "      <td>0</td>\n",
       "      <td>0</td>\n",
       "      <td>0</td>\n",
       "      <td>0</td>\n",
       "      <td>0</td>\n",
       "      <td>0</td>\n",
       "      <td>0</td>\n",
       "      <td>0</td>\n",
       "      <td>0</td>\n",
       "      <td>0</td>\n",
       "    </tr>\n",
       "    <tr>\n",
       "      <th>23</th>\n",
       "      <td>09001020900</td>\n",
       "      <td>2103.0</td>\n",
       "      <td>73.0</td>\n",
       "      <td>0.428743</td>\n",
       "      <td>0.211177</td>\n",
       "      <td>0.371636</td>\n",
       "      <td>0.247000</td>\n",
       "      <td>0.175742</td>\n",
       "      <td>0.106253</td>\n",
       "      <td>0.103783</td>\n",
       "      <td>...</td>\n",
       "      <td>1</td>\n",
       "      <td>0</td>\n",
       "      <td>0</td>\n",
       "      <td>1</td>\n",
       "      <td>0</td>\n",
       "      <td>0</td>\n",
       "      <td>0</td>\n",
       "      <td>0</td>\n",
       "      <td>1</td>\n",
       "      <td>0</td>\n",
       "    </tr>\n",
       "    <tr>\n",
       "      <th>24</th>\n",
       "      <td>09001021000</td>\n",
       "      <td>1216.0</td>\n",
       "      <td>73.0</td>\n",
       "      <td>0.388982</td>\n",
       "      <td>0.199408</td>\n",
       "      <td>0.193836</td>\n",
       "      <td>0.263976</td>\n",
       "      <td>0.111757</td>\n",
       "      <td>0.101140</td>\n",
       "      <td>0.074843</td>\n",
       "      <td>...</td>\n",
       "      <td>1</td>\n",
       "      <td>0</td>\n",
       "      <td>0</td>\n",
       "      <td>0</td>\n",
       "      <td>0</td>\n",
       "      <td>0</td>\n",
       "      <td>0</td>\n",
       "      <td>0</td>\n",
       "      <td>0</td>\n",
       "      <td>0</td>\n",
       "    </tr>\n",
       "  </tbody>\n",
       "</table>\n",
       "<p>6 rows × 102 columns</p>\n",
       "</div>"
      ],
      "text/plain": [
       "         GEOid2    hh16  moe_hh16  per_col00  per_nonwhite00  per_rent00  \\\n",
       "19  09001020500  1715.0      69.0   0.560989        0.112982    0.100000   \n",
       "20  09001020600  1691.0      77.0   0.404769        0.165809    0.097722   \n",
       "21  09001020700  1597.0      60.0   0.432836        0.125184    0.138121   \n",
       "22  09001020800   963.0      34.0   0.434267        0.081625    0.033473   \n",
       "23  09001020900  2103.0      73.0   0.428743        0.211177    0.371636   \n",
       "24  09001021000  1216.0      73.0   0.388982        0.199408    0.193836   \n",
       "\n",
       "     vli2000    li2000    mi2000   hmi2000      ...       li_tract90  \\\n",
       "19  0.111704  0.090183  0.078906  0.065822      ...                0   \n",
       "20  0.196649  0.090011  0.079509  0.112833      ...                0   \n",
       "21  0.214971  0.099719  0.093306  0.099693      ...                0   \n",
       "22  0.130064  0.137648  0.049873  0.099999      ...                0   \n",
       "23  0.247000  0.175742  0.106253  0.103783      ...                1   \n",
       "24  0.263976  0.111757  0.101140  0.074843      ...                1   \n",
       "\n",
       "    edulow90  edulow00  renters%90  renters%00  renters%16  nonwhiteHigh90  \\\n",
       "19         0         0           0           0           0               0   \n",
       "20         0         0           0           0           0               0   \n",
       "21         0         0           0           0           0               0   \n",
       "22         0         0           0           0           0               0   \n",
       "23         0         0           1           0           0               0   \n",
       "24         0         0           0           0           0               0   \n",
       "\n",
       "    nonwhiteHigh00  nonwhiteHigh16  Volnurable90  \n",
       "19               0               0             0  \n",
       "20               0               0             0  \n",
       "21               0               0             0  \n",
       "22               0               0             0  \n",
       "23               0               1             0  \n",
       "24               0               0             0  \n",
       "\n",
       "[6 rows x 102 columns]"
      ]
     },
     "execution_count": 40,
     "metadata": {},
     "output_type": "execute_result"
    }
   ],
   "source": [
    "data['Volnurable90'] = data.apply(volnurable90, axis=1)\n",
    "data[10:16]"
   ]
  },
  {
   "cell_type": "code",
   "execution_count": 41,
   "metadata": {},
   "outputs": [],
   "source": [
    "# Volnurable 2000\n",
    "\n",
    "def volnurable00(df):\n",
    "    if df['li_tract00'] == 1 and df['edulow00'] == 1 and df['renters%00'] == 1:\n",
    "        val = 1\n",
    "    elif df['li_tract00'] == 1 and df['edulow00'] == 1 and df['nonwhiteHigh00'] == 1:\n",
    "        val = 1\n",
    "    elif df['li_tract00'] == 1 and df['renters%00'] == 1 and df['nonwhiteHigh00'] == 1:\n",
    "        val = 1\n",
    "    elif df['edulow00'] == 1 and df['renters%00'] == 1 and df['nonwhiteHigh00'] == 1:\n",
    "        val = 1\n",
    "    else:\n",
    "        val = 0\n",
    "    return val"
   ]
  },
  {
   "cell_type": "code",
   "execution_count": 42,
   "metadata": {},
   "outputs": [
    {
     "data": {
      "text/html": [
       "<div>\n",
       "<style scoped>\n",
       "    .dataframe tbody tr th:only-of-type {\n",
       "        vertical-align: middle;\n",
       "    }\n",
       "\n",
       "    .dataframe tbody tr th {\n",
       "        vertical-align: top;\n",
       "    }\n",
       "\n",
       "    .dataframe thead th {\n",
       "        text-align: right;\n",
       "    }\n",
       "</style>\n",
       "<table border=\"1\" class=\"dataframe\">\n",
       "  <thead>\n",
       "    <tr style=\"text-align: right;\">\n",
       "      <th></th>\n",
       "      <th>GEOid2</th>\n",
       "      <th>hh16</th>\n",
       "      <th>moe_hh16</th>\n",
       "      <th>per_col00</th>\n",
       "      <th>per_nonwhite00</th>\n",
       "      <th>per_rent00</th>\n",
       "      <th>vli2000</th>\n",
       "      <th>li2000</th>\n",
       "      <th>mi2000</th>\n",
       "      <th>hmi2000</th>\n",
       "      <th>...</th>\n",
       "      <th>edulow90</th>\n",
       "      <th>edulow00</th>\n",
       "      <th>renters%90</th>\n",
       "      <th>renters%00</th>\n",
       "      <th>renters%16</th>\n",
       "      <th>nonwhiteHigh90</th>\n",
       "      <th>nonwhiteHigh00</th>\n",
       "      <th>nonwhiteHigh16</th>\n",
       "      <th>Volnurable90</th>\n",
       "      <th>Volnurable00</th>\n",
       "    </tr>\n",
       "  </thead>\n",
       "  <tbody>\n",
       "    <tr>\n",
       "      <th>19</th>\n",
       "      <td>09001020500</td>\n",
       "      <td>1715.0</td>\n",
       "      <td>69.0</td>\n",
       "      <td>0.560989</td>\n",
       "      <td>0.112982</td>\n",
       "      <td>0.100000</td>\n",
       "      <td>0.111704</td>\n",
       "      <td>0.090183</td>\n",
       "      <td>0.078906</td>\n",
       "      <td>0.065822</td>\n",
       "      <td>...</td>\n",
       "      <td>0</td>\n",
       "      <td>0</td>\n",
       "      <td>0</td>\n",
       "      <td>0</td>\n",
       "      <td>0</td>\n",
       "      <td>0</td>\n",
       "      <td>0</td>\n",
       "      <td>0</td>\n",
       "      <td>0</td>\n",
       "      <td>0</td>\n",
       "    </tr>\n",
       "    <tr>\n",
       "      <th>20</th>\n",
       "      <td>09001020600</td>\n",
       "      <td>1691.0</td>\n",
       "      <td>77.0</td>\n",
       "      <td>0.404769</td>\n",
       "      <td>0.165809</td>\n",
       "      <td>0.097722</td>\n",
       "      <td>0.196649</td>\n",
       "      <td>0.090011</td>\n",
       "      <td>0.079509</td>\n",
       "      <td>0.112833</td>\n",
       "      <td>...</td>\n",
       "      <td>0</td>\n",
       "      <td>0</td>\n",
       "      <td>0</td>\n",
       "      <td>0</td>\n",
       "      <td>0</td>\n",
       "      <td>0</td>\n",
       "      <td>0</td>\n",
       "      <td>0</td>\n",
       "      <td>0</td>\n",
       "      <td>0</td>\n",
       "    </tr>\n",
       "    <tr>\n",
       "      <th>21</th>\n",
       "      <td>09001020700</td>\n",
       "      <td>1597.0</td>\n",
       "      <td>60.0</td>\n",
       "      <td>0.432836</td>\n",
       "      <td>0.125184</td>\n",
       "      <td>0.138121</td>\n",
       "      <td>0.214971</td>\n",
       "      <td>0.099719</td>\n",
       "      <td>0.093306</td>\n",
       "      <td>0.099693</td>\n",
       "      <td>...</td>\n",
       "      <td>0</td>\n",
       "      <td>0</td>\n",
       "      <td>0</td>\n",
       "      <td>0</td>\n",
       "      <td>0</td>\n",
       "      <td>0</td>\n",
       "      <td>0</td>\n",
       "      <td>0</td>\n",
       "      <td>0</td>\n",
       "      <td>0</td>\n",
       "    </tr>\n",
       "    <tr>\n",
       "      <th>22</th>\n",
       "      <td>09001020800</td>\n",
       "      <td>963.0</td>\n",
       "      <td>34.0</td>\n",
       "      <td>0.434267</td>\n",
       "      <td>0.081625</td>\n",
       "      <td>0.033473</td>\n",
       "      <td>0.130064</td>\n",
       "      <td>0.137648</td>\n",
       "      <td>0.049873</td>\n",
       "      <td>0.099999</td>\n",
       "      <td>...</td>\n",
       "      <td>0</td>\n",
       "      <td>0</td>\n",
       "      <td>0</td>\n",
       "      <td>0</td>\n",
       "      <td>0</td>\n",
       "      <td>0</td>\n",
       "      <td>0</td>\n",
       "      <td>0</td>\n",
       "      <td>0</td>\n",
       "      <td>0</td>\n",
       "    </tr>\n",
       "    <tr>\n",
       "      <th>23</th>\n",
       "      <td>09001020900</td>\n",
       "      <td>2103.0</td>\n",
       "      <td>73.0</td>\n",
       "      <td>0.428743</td>\n",
       "      <td>0.211177</td>\n",
       "      <td>0.371636</td>\n",
       "      <td>0.247000</td>\n",
       "      <td>0.175742</td>\n",
       "      <td>0.106253</td>\n",
       "      <td>0.103783</td>\n",
       "      <td>...</td>\n",
       "      <td>0</td>\n",
       "      <td>0</td>\n",
       "      <td>1</td>\n",
       "      <td>0</td>\n",
       "      <td>0</td>\n",
       "      <td>0</td>\n",
       "      <td>0</td>\n",
       "      <td>1</td>\n",
       "      <td>0</td>\n",
       "      <td>0</td>\n",
       "    </tr>\n",
       "    <tr>\n",
       "      <th>24</th>\n",
       "      <td>09001021000</td>\n",
       "      <td>1216.0</td>\n",
       "      <td>73.0</td>\n",
       "      <td>0.388982</td>\n",
       "      <td>0.199408</td>\n",
       "      <td>0.193836</td>\n",
       "      <td>0.263976</td>\n",
       "      <td>0.111757</td>\n",
       "      <td>0.101140</td>\n",
       "      <td>0.074843</td>\n",
       "      <td>...</td>\n",
       "      <td>0</td>\n",
       "      <td>0</td>\n",
       "      <td>0</td>\n",
       "      <td>0</td>\n",
       "      <td>0</td>\n",
       "      <td>0</td>\n",
       "      <td>0</td>\n",
       "      <td>0</td>\n",
       "      <td>0</td>\n",
       "      <td>0</td>\n",
       "    </tr>\n",
       "  </tbody>\n",
       "</table>\n",
       "<p>6 rows × 103 columns</p>\n",
       "</div>"
      ],
      "text/plain": [
       "         GEOid2    hh16  moe_hh16  per_col00  per_nonwhite00  per_rent00  \\\n",
       "19  09001020500  1715.0      69.0   0.560989        0.112982    0.100000   \n",
       "20  09001020600  1691.0      77.0   0.404769        0.165809    0.097722   \n",
       "21  09001020700  1597.0      60.0   0.432836        0.125184    0.138121   \n",
       "22  09001020800   963.0      34.0   0.434267        0.081625    0.033473   \n",
       "23  09001020900  2103.0      73.0   0.428743        0.211177    0.371636   \n",
       "24  09001021000  1216.0      73.0   0.388982        0.199408    0.193836   \n",
       "\n",
       "     vli2000    li2000    mi2000   hmi2000      ...       edulow90  edulow00  \\\n",
       "19  0.111704  0.090183  0.078906  0.065822      ...              0         0   \n",
       "20  0.196649  0.090011  0.079509  0.112833      ...              0         0   \n",
       "21  0.214971  0.099719  0.093306  0.099693      ...              0         0   \n",
       "22  0.130064  0.137648  0.049873  0.099999      ...              0         0   \n",
       "23  0.247000  0.175742  0.106253  0.103783      ...              0         0   \n",
       "24  0.263976  0.111757  0.101140  0.074843      ...              0         0   \n",
       "\n",
       "    renters%90  renters%00  renters%16  nonwhiteHigh90  nonwhiteHigh00  \\\n",
       "19           0           0           0               0               0   \n",
       "20           0           0           0               0               0   \n",
       "21           0           0           0               0               0   \n",
       "22           0           0           0               0               0   \n",
       "23           1           0           0               0               0   \n",
       "24           0           0           0               0               0   \n",
       "\n",
       "    nonwhiteHigh16  Volnurable90  Volnurable00  \n",
       "19               0             0             0  \n",
       "20               0             0             0  \n",
       "21               0             0             0  \n",
       "22               0             0             0  \n",
       "23               1             0             0  \n",
       "24               0             0             0  \n",
       "\n",
       "[6 rows x 103 columns]"
      ]
     },
     "execution_count": 42,
     "metadata": {},
     "output_type": "execute_result"
    }
   ],
   "source": [
    "data['Volnurable00'] = data.apply(volnurable00, axis=1)\n",
    "data[10:16]"
   ]
  },
  {
   "cell_type": "code",
   "execution_count": 43,
   "metadata": {},
   "outputs": [
    {
     "data": {
      "text/plain": [
       "0    2828\n",
       "1    1930\n",
       "Name: Volnurable90, dtype: int64"
      ]
     },
     "execution_count": 43,
     "metadata": {},
     "output_type": "execute_result"
    }
   ],
   "source": [
    "data['Volnurable90'].value_counts()"
   ]
  },
  {
   "cell_type": "code",
   "execution_count": 44,
   "metadata": {},
   "outputs": [
    {
     "data": {
      "text/plain": [
       "0    2801\n",
       "1    1957\n",
       "Name: Volnurable00, dtype: int64"
      ]
     },
     "execution_count": 44,
     "metadata": {},
     "output_type": "execute_result"
    }
   ],
   "source": [
    "data['Volnurable00'].value_counts()"
   ]
  },
  {
   "cell_type": "markdown",
   "metadata": {},
   "source": [
    "### 2123 census tracts were found Volnurable in 1990, while 2159 were found Volnurable in 2000"
   ]
  },
  {
   "cell_type": "markdown",
   "metadata": {},
   "source": [
    "---\n",
    "\n",
    "### Rail station (TOD)"
   ]
  },
  {
   "cell_type": "code",
   "execution_count": 45,
   "metadata": {},
   "outputs": [
    {
     "data": {
      "text/plain": [
       "0.0    4012\n",
       "1.0     746\n",
       "Name: TOD, dtype: int64"
      ]
     },
     "execution_count": 45,
     "metadata": {},
     "output_type": "execute_result"
    }
   ],
   "source": [
    "data['TOD'].value_counts()"
   ]
  },
  {
   "cell_type": "markdown",
   "metadata": {},
   "source": [
    "## Define % of units in pre-1950 buildings > regional median"
   ]
  },
  {
   "cell_type": "code",
   "execution_count": 46,
   "metadata": {},
   "outputs": [
    {
     "data": {
      "text/html": [
       "<div>\n",
       "<style scoped>\n",
       "    .dataframe tbody tr th:only-of-type {\n",
       "        vertical-align: middle;\n",
       "    }\n",
       "\n",
       "    .dataframe tbody tr th {\n",
       "        vertical-align: top;\n",
       "    }\n",
       "\n",
       "    .dataframe thead th {\n",
       "        text-align: right;\n",
       "    }\n",
       "</style>\n",
       "<table border=\"1\" class=\"dataframe\">\n",
       "  <thead>\n",
       "    <tr style=\"text-align: right;\">\n",
       "      <th></th>\n",
       "      <th>Volnurable90</th>\n",
       "      <th>Volnurable00</th>\n",
       "      <th>units_pre50_High</th>\n",
       "    </tr>\n",
       "  </thead>\n",
       "  <tbody>\n",
       "    <tr>\n",
       "      <th>0</th>\n",
       "      <td>0</td>\n",
       "      <td>0</td>\n",
       "      <td>0</td>\n",
       "    </tr>\n",
       "    <tr>\n",
       "      <th>3</th>\n",
       "      <td>0</td>\n",
       "      <td>0</td>\n",
       "      <td>0</td>\n",
       "    </tr>\n",
       "    <tr>\n",
       "      <th>5</th>\n",
       "      <td>0</td>\n",
       "      <td>0</td>\n",
       "      <td>0</td>\n",
       "    </tr>\n",
       "    <tr>\n",
       "      <th>9</th>\n",
       "      <td>0</td>\n",
       "      <td>0</td>\n",
       "      <td>1</td>\n",
       "    </tr>\n",
       "    <tr>\n",
       "      <th>10</th>\n",
       "      <td>0</td>\n",
       "      <td>0</td>\n",
       "      <td>0</td>\n",
       "    </tr>\n",
       "    <tr>\n",
       "      <th>11</th>\n",
       "      <td>0</td>\n",
       "      <td>0</td>\n",
       "      <td>1</td>\n",
       "    </tr>\n",
       "    <tr>\n",
       "      <th>12</th>\n",
       "      <td>0</td>\n",
       "      <td>0</td>\n",
       "      <td>1</td>\n",
       "    </tr>\n",
       "  </tbody>\n",
       "</table>\n",
       "</div>"
      ],
      "text/plain": [
       "    Volnurable90  Volnurable00  units_pre50_High\n",
       "0              0             0                 0\n",
       "3              0             0                 0\n",
       "5              0             0                 0\n",
       "9              0             0                 1\n",
       "10             0             0                 0\n",
       "11             0             0                 1\n",
       "12             0             0                 1"
      ]
     },
     "execution_count": 46,
     "metadata": {},
     "output_type": "execute_result"
    }
   ],
   "source": [
    "data['units_pre50_High'] = np.where(data['per_units_pre50'] > data['per_units_pre50'].median(), 1, 0)\n",
    "data.iloc[:,-3:].head(7)"
   ]
  },
  {
   "cell_type": "markdown",
   "metadata": {},
   "source": [
    "## Define Employment density (2015) > regional median"
   ]
  },
  {
   "cell_type": "code",
   "execution_count": 47,
   "metadata": {},
   "outputs": [
    {
     "data": {
      "text/html": [
       "<div>\n",
       "<style scoped>\n",
       "    .dataframe tbody tr th:only-of-type {\n",
       "        vertical-align: middle;\n",
       "    }\n",
       "\n",
       "    .dataframe tbody tr th {\n",
       "        vertical-align: top;\n",
       "    }\n",
       "\n",
       "    .dataframe thead th {\n",
       "        text-align: right;\n",
       "    }\n",
       "</style>\n",
       "<table border=\"1\" class=\"dataframe\">\n",
       "  <thead>\n",
       "    <tr style=\"text-align: right;\">\n",
       "      <th></th>\n",
       "      <th>Volnurable00</th>\n",
       "      <th>units_pre50_High</th>\n",
       "      <th>empdens14_High</th>\n",
       "    </tr>\n",
       "  </thead>\n",
       "  <tbody>\n",
       "    <tr>\n",
       "      <th>0</th>\n",
       "      <td>0</td>\n",
       "      <td>0</td>\n",
       "      <td>0</td>\n",
       "    </tr>\n",
       "    <tr>\n",
       "      <th>3</th>\n",
       "      <td>0</td>\n",
       "      <td>0</td>\n",
       "      <td>0</td>\n",
       "    </tr>\n",
       "    <tr>\n",
       "      <th>5</th>\n",
       "      <td>0</td>\n",
       "      <td>0</td>\n",
       "      <td>0</td>\n",
       "    </tr>\n",
       "    <tr>\n",
       "      <th>9</th>\n",
       "      <td>0</td>\n",
       "      <td>1</td>\n",
       "      <td>1</td>\n",
       "    </tr>\n",
       "    <tr>\n",
       "      <th>10</th>\n",
       "      <td>0</td>\n",
       "      <td>0</td>\n",
       "      <td>0</td>\n",
       "    </tr>\n",
       "    <tr>\n",
       "      <th>11</th>\n",
       "      <td>0</td>\n",
       "      <td>1</td>\n",
       "      <td>0</td>\n",
       "    </tr>\n",
       "    <tr>\n",
       "      <th>12</th>\n",
       "      <td>0</td>\n",
       "      <td>1</td>\n",
       "      <td>0</td>\n",
       "    </tr>\n",
       "  </tbody>\n",
       "</table>\n",
       "</div>"
      ],
      "text/plain": [
       "    Volnurable00  units_pre50_High  empdens14_High\n",
       "0              0                 0               0\n",
       "3              0                 0               0\n",
       "5              0                 0               0\n",
       "9              0                 1               1\n",
       "10             0                 0               0\n",
       "11             0                 1               0\n",
       "12             0                 1               0"
      ]
     },
     "execution_count": 47,
     "metadata": {},
     "output_type": "execute_result"
    }
   ],
   "source": [
    "data['empdens14_High'] = np.where(data['empd15'] > data['empd15'].median(), 1, 0)\n",
    "data.iloc[:,-3:].head(7)"
   ]
  },
  {
   "cell_type": "markdown",
   "metadata": {},
   "source": [
    "## Define rent change 00-16 and home value change 00-16 > regional median"
   ]
  },
  {
   "cell_type": "code",
   "execution_count": 48,
   "metadata": {},
   "outputs": [
    {
     "data": {
      "text/html": [
       "<div>\n",
       "<style scoped>\n",
       "    .dataframe tbody tr th:only-of-type {\n",
       "        vertical-align: middle;\n",
       "    }\n",
       "\n",
       "    .dataframe tbody tr th {\n",
       "        vertical-align: top;\n",
       "    }\n",
       "\n",
       "    .dataframe thead th {\n",
       "        text-align: right;\n",
       "    }\n",
       "</style>\n",
       "<table border=\"1\" class=\"dataframe\">\n",
       "  <thead>\n",
       "    <tr style=\"text-align: right;\">\n",
       "      <th></th>\n",
       "      <th>rhomeValchange_High90</th>\n",
       "      <th>rentchange_High00</th>\n",
       "      <th>rhomeValchange_High00</th>\n",
       "    </tr>\n",
       "  </thead>\n",
       "  <tbody>\n",
       "    <tr>\n",
       "      <th>0</th>\n",
       "      <td>1</td>\n",
       "      <td>0</td>\n",
       "      <td>0</td>\n",
       "    </tr>\n",
       "    <tr>\n",
       "      <th>3</th>\n",
       "      <td>1</td>\n",
       "      <td>0</td>\n",
       "      <td>0</td>\n",
       "    </tr>\n",
       "    <tr>\n",
       "      <th>5</th>\n",
       "      <td>1</td>\n",
       "      <td>0</td>\n",
       "      <td>0</td>\n",
       "    </tr>\n",
       "    <tr>\n",
       "      <th>9</th>\n",
       "      <td>1</td>\n",
       "      <td>0</td>\n",
       "      <td>0</td>\n",
       "    </tr>\n",
       "    <tr>\n",
       "      <th>10</th>\n",
       "      <td>1</td>\n",
       "      <td>0</td>\n",
       "      <td>1</td>\n",
       "    </tr>\n",
       "    <tr>\n",
       "      <th>11</th>\n",
       "      <td>1</td>\n",
       "      <td>0</td>\n",
       "      <td>1</td>\n",
       "    </tr>\n",
       "    <tr>\n",
       "      <th>12</th>\n",
       "      <td>1</td>\n",
       "      <td>0</td>\n",
       "      <td>0</td>\n",
       "    </tr>\n",
       "  </tbody>\n",
       "</table>\n",
       "</div>"
      ],
      "text/plain": [
       "    rhomeValchange_High90  rentchange_High00  rhomeValchange_High00\n",
       "0                       1                  0                      0\n",
       "3                       1                  0                      0\n",
       "5                       1                  0                      0\n",
       "9                       1                  0                      0\n",
       "10                      1                  0                      1\n",
       "11                      1                  0                      1\n",
       "12                      1                  0                      0"
      ]
     },
     "execution_count": 48,
     "metadata": {},
     "output_type": "execute_result"
    }
   ],
   "source": [
    "# 1990 base\n",
    "data['rentchange_High90'] = np.where(data['mrent90_00'] > data['mrent90_00'].median(), 1, 0)\n",
    "data['rhomeValchange_High90'] = np.where(data['mrent90_00'] > data['mrent90_00'].median(), 1, 0)\n",
    "\n",
    "# 2000 base\n",
    "data['rentchange_High00'] = np.where(data['mrent00_16'] > data['mrent00_16'].median(), 1, 0)\n",
    "data['rhomeValchange_High00'] = np.where(data['mhval00_16'] > data['mhval00_16'].median(), 1, 0)\n",
    "\n",
    "data.iloc[:,-3:].head(7)"
   ]
  },
  {
   "cell_type": "markdown",
   "metadata": {},
   "source": [
    "## Define \"Hot Market\"\n",
    "one out of two options of changing market (rent / home value)"
   ]
  },
  {
   "cell_type": "code",
   "execution_count": 49,
   "metadata": {},
   "outputs": [],
   "source": [
    "def hotmarket90(df):\n",
    "    if df['rentchange_High90'] == 1 or df['rhomeValchange_High90'] == 1 and df['rentchange_High90'] == 1:\n",
    "        val = 1\n",
    "    else:\n",
    "        val = 0\n",
    "    return val"
   ]
  },
  {
   "cell_type": "code",
   "execution_count": 50,
   "metadata": {},
   "outputs": [],
   "source": [
    "def hotmarket00(df):\n",
    "    if df['rentchange_High00'] == 1 or df['rhomeValchange_High00'] == 1 and df['rentchange_High00'] == 1:\n",
    "        val = 1\n",
    "    else:\n",
    "        val = 0\n",
    "    return val"
   ]
  },
  {
   "cell_type": "code",
   "execution_count": 51,
   "metadata": {},
   "outputs": [
    {
     "data": {
      "text/html": [
       "<div>\n",
       "<style scoped>\n",
       "    .dataframe tbody tr th:only-of-type {\n",
       "        vertical-align: middle;\n",
       "    }\n",
       "\n",
       "    .dataframe tbody tr th {\n",
       "        vertical-align: top;\n",
       "    }\n",
       "\n",
       "    .dataframe thead th {\n",
       "        text-align: right;\n",
       "    }\n",
       "</style>\n",
       "<table border=\"1\" class=\"dataframe\">\n",
       "  <thead>\n",
       "    <tr style=\"text-align: right;\">\n",
       "      <th></th>\n",
       "      <th>rentchange_High90</th>\n",
       "      <th>rhomeValchange_High90</th>\n",
       "      <th>rentchange_High00</th>\n",
       "      <th>rhomeValchange_High00</th>\n",
       "      <th>hotmarket90</th>\n",
       "      <th>hotmarket00</th>\n",
       "    </tr>\n",
       "  </thead>\n",
       "  <tbody>\n",
       "    <tr>\n",
       "      <th>0</th>\n",
       "      <td>1</td>\n",
       "      <td>1</td>\n",
       "      <td>0</td>\n",
       "      <td>0</td>\n",
       "      <td>1</td>\n",
       "      <td>0</td>\n",
       "    </tr>\n",
       "    <tr>\n",
       "      <th>3</th>\n",
       "      <td>1</td>\n",
       "      <td>1</td>\n",
       "      <td>0</td>\n",
       "      <td>0</td>\n",
       "      <td>1</td>\n",
       "      <td>0</td>\n",
       "    </tr>\n",
       "    <tr>\n",
       "      <th>5</th>\n",
       "      <td>1</td>\n",
       "      <td>1</td>\n",
       "      <td>0</td>\n",
       "      <td>0</td>\n",
       "      <td>1</td>\n",
       "      <td>0</td>\n",
       "    </tr>\n",
       "    <tr>\n",
       "      <th>9</th>\n",
       "      <td>1</td>\n",
       "      <td>1</td>\n",
       "      <td>0</td>\n",
       "      <td>0</td>\n",
       "      <td>1</td>\n",
       "      <td>0</td>\n",
       "    </tr>\n",
       "    <tr>\n",
       "      <th>10</th>\n",
       "      <td>1</td>\n",
       "      <td>1</td>\n",
       "      <td>0</td>\n",
       "      <td>1</td>\n",
       "      <td>1</td>\n",
       "      <td>0</td>\n",
       "    </tr>\n",
       "    <tr>\n",
       "      <th>11</th>\n",
       "      <td>1</td>\n",
       "      <td>1</td>\n",
       "      <td>0</td>\n",
       "      <td>1</td>\n",
       "      <td>1</td>\n",
       "      <td>0</td>\n",
       "    </tr>\n",
       "    <tr>\n",
       "      <th>12</th>\n",
       "      <td>1</td>\n",
       "      <td>1</td>\n",
       "      <td>0</td>\n",
       "      <td>0</td>\n",
       "      <td>1</td>\n",
       "      <td>0</td>\n",
       "    </tr>\n",
       "  </tbody>\n",
       "</table>\n",
       "</div>"
      ],
      "text/plain": [
       "    rentchange_High90  rhomeValchange_High90  rentchange_High00  \\\n",
       "0                   1                      1                  0   \n",
       "3                   1                      1                  0   \n",
       "5                   1                      1                  0   \n",
       "9                   1                      1                  0   \n",
       "10                  1                      1                  0   \n",
       "11                  1                      1                  0   \n",
       "12                  1                      1                  0   \n",
       "\n",
       "    rhomeValchange_High00  hotmarket90  hotmarket00  \n",
       "0                       0            1            0  \n",
       "3                       0            1            0  \n",
       "5                       0            1            0  \n",
       "9                       0            1            0  \n",
       "10                      1            1            0  \n",
       "11                      1            1            0  \n",
       "12                      0            1            0  "
      ]
     },
     "execution_count": 51,
     "metadata": {},
     "output_type": "execute_result"
    }
   ],
   "source": [
    "data['hotmarket90'] = data.apply(hotmarket90, axis=1)\n",
    "data['hotmarket00'] = data.apply(hotmarket00, axis=1)\n",
    "data.iloc[:,-6:].head(7)"
   ]
  },
  {
   "cell_type": "markdown",
   "metadata": {},
   "source": [
    "## Define risk0\n",
    "2 out of the 4 of the following is true in 2016 (select only one 'hot market' from the 2 'hot market' option)\n",
    "- Has rail station in tract\n",
    "- % of units in pre-1950 buildings > regional median\n",
    "- Employment density (2014)> regional median\n",
    "- “Hot market”"
   ]
  },
  {
   "cell_type": "code",
   "execution_count": 52,
   "metadata": {},
   "outputs": [],
   "source": [
    "# risk 1990\n",
    "\n",
    "def risk90(df):\n",
    "    if df['TOD'] == 1 and df['units_pre50_High'] == 1 and df['empdens14_High'] == 1:\n",
    "        val = 1\n",
    "    elif df['TOD'] == 1 and df['units_pre50_High'] == 1 and df['hotmarket90'] == 1:\n",
    "        val = 1\n",
    "    elif df['TOD'] == 1 and df['empdens14_High'] == 1 and df['hotmarket90'] == 1:\n",
    "        val = 1\n",
    "    elif df['units_pre50_High'] == 1 and df['empdens14_High'] == 1 and df['hotmarket90'] == 1:\n",
    "        val = 1\n",
    "    else:\n",
    "        val = 0\n",
    "    return val"
   ]
  },
  {
   "cell_type": "code",
   "execution_count": 53,
   "metadata": {},
   "outputs": [],
   "source": [
    "# risk 2000\n",
    "\n",
    "def risk00(df):\n",
    "    if df['TOD'] == 1 and df['units_pre50_High'] == 1 and df['empdens14_High'] == 1:\n",
    "        val = 1\n",
    "    elif df['TOD'] == 1 and df['units_pre50_High'] == 1 and df['hotmarket00'] == 1:\n",
    "        val = 1\n",
    "    elif df['TOD'] == 1 and df['empdens14_High'] == 1 and df['hotmarket00'] == 1:\n",
    "        val = 1\n",
    "    elif df['units_pre50_High'] == 1 and df['empdens14_High'] == 1 and df['hotmarket00'] == 1:\n",
    "        val = 1\n",
    "    else:\n",
    "        val = 0\n",
    "    return val"
   ]
  },
  {
   "cell_type": "code",
   "execution_count": 54,
   "metadata": {},
   "outputs": [
    {
     "data": {
      "text/plain": [
       "0    3386\n",
       "1    1372\n",
       "Name: risk90, dtype: int64"
      ]
     },
     "execution_count": 54,
     "metadata": {},
     "output_type": "execute_result"
    }
   ],
   "source": [
    "data['risk90'] = data.apply(risk90, axis=1)\n",
    "data['risk90'].value_counts()"
   ]
  },
  {
   "cell_type": "code",
   "execution_count": 55,
   "metadata": {},
   "outputs": [
    {
     "data": {
      "text/plain": [
       "0    3400\n",
       "1    1358\n",
       "Name: risk00, dtype: int64"
      ]
     },
     "execution_count": 55,
     "metadata": {},
     "output_type": "execute_result"
    }
   ],
   "source": [
    "data['risk00'] = data.apply(risk00, axis=1)\n",
    "data['risk00'].value_counts()"
   ]
  },
  {
   "cell_type": "code",
   "execution_count": 56,
   "metadata": {},
   "outputs": [
    {
     "data": {
      "text/plain": [
       "(2521, 113)"
      ]
     },
     "execution_count": 56,
     "metadata": {},
     "output_type": "execute_result"
    }
   ],
   "source": [
    "# create a df with only low income tracts\n",
    "\n",
    "df_LI = data[data['li_tract16'] == 1]\n",
    "df_LI.shape"
   ]
  },
  {
   "cell_type": "markdown",
   "metadata": {},
   "source": [
    "### There are 2760 LI tracts in the NY region in 2016"
   ]
  },
  {
   "cell_type": "markdown",
   "metadata": {},
   "source": [
    "## recalculating popgrowth 90-00; 00-16"
   ]
  },
  {
   "cell_type": "code",
   "execution_count": 57,
   "metadata": {},
   "outputs": [
    {
     "data": {
      "text/html": [
       "<div>\n",
       "<style scoped>\n",
       "    .dataframe tbody tr th:only-of-type {\n",
       "        vertical-align: middle;\n",
       "    }\n",
       "\n",
       "    .dataframe tbody tr th {\n",
       "        vertical-align: top;\n",
       "    }\n",
       "\n",
       "    .dataframe thead th {\n",
       "        text-align: right;\n",
       "    }\n",
       "</style>\n",
       "<table border=\"1\" class=\"dataframe\">\n",
       "  <thead>\n",
       "    <tr style=\"text-align: right;\">\n",
       "      <th></th>\n",
       "      <th>risk00</th>\n",
       "      <th>popgrowth90-00</th>\n",
       "      <th>popgrowth00-16</th>\n",
       "    </tr>\n",
       "  </thead>\n",
       "  <tbody>\n",
       "    <tr>\n",
       "      <th>0</th>\n",
       "      <td>0</td>\n",
       "      <td>384.000000</td>\n",
       "      <td>-529.0</td>\n",
       "    </tr>\n",
       "    <tr>\n",
       "      <th>3</th>\n",
       "      <td>0</td>\n",
       "      <td>492.710022</td>\n",
       "      <td>328.0</td>\n",
       "    </tr>\n",
       "    <tr>\n",
       "      <th>5</th>\n",
       "      <td>0</td>\n",
       "      <td>108.000000</td>\n",
       "      <td>731.0</td>\n",
       "    </tr>\n",
       "  </tbody>\n",
       "</table>\n",
       "</div>"
      ],
      "text/plain": [
       "   risk00  popgrowth90-00  popgrowth00-16\n",
       "0       0      384.000000          -529.0\n",
       "3       0      492.710022           328.0\n",
       "5       0      108.000000           731.0"
      ]
     },
     "execution_count": 57,
     "metadata": {},
     "output_type": "execute_result"
    }
   ],
   "source": [
    "# recalculating popgrowth 90-00; 00-16\n",
    "data['popgrowth90-00'] = data['pop00'] - data['pop90']\n",
    "data['popgrowth00-16'] = data['pop16'] - data['pop00']\n",
    "data = data.drop(['popgrowth'], axis=1)\n",
    "\n",
    "data.iloc[:,-3:].head(3)"
   ]
  },
  {
   "cell_type": "markdown",
   "metadata": {},
   "source": [
    "## Define Population stable or growing 1990-2000; 2000-2016  ( >= 0 )"
   ]
  },
  {
   "cell_type": "code",
   "execution_count": 58,
   "metadata": {},
   "outputs": [
    {
     "data": {
      "text/html": [
       "<div>\n",
       "<style scoped>\n",
       "    .dataframe tbody tr th:only-of-type {\n",
       "        vertical-align: middle;\n",
       "    }\n",
       "\n",
       "    .dataframe tbody tr th {\n",
       "        vertical-align: top;\n",
       "    }\n",
       "\n",
       "    .dataframe thead th {\n",
       "        text-align: right;\n",
       "    }\n",
       "</style>\n",
       "<table border=\"1\" class=\"dataframe\">\n",
       "  <thead>\n",
       "    <tr style=\"text-align: right;\">\n",
       "      <th></th>\n",
       "      <th>popgrowth00-16</th>\n",
       "      <th>pgrowth90-00_High</th>\n",
       "      <th>pgrowth00-16_High</th>\n",
       "    </tr>\n",
       "  </thead>\n",
       "  <tbody>\n",
       "    <tr>\n",
       "      <th>0</th>\n",
       "      <td>-529.0</td>\n",
       "      <td>1</td>\n",
       "      <td>0</td>\n",
       "    </tr>\n",
       "    <tr>\n",
       "      <th>3</th>\n",
       "      <td>328.0</td>\n",
       "      <td>1</td>\n",
       "      <td>1</td>\n",
       "    </tr>\n",
       "    <tr>\n",
       "      <th>5</th>\n",
       "      <td>731.0</td>\n",
       "      <td>1</td>\n",
       "      <td>1</td>\n",
       "    </tr>\n",
       "    <tr>\n",
       "      <th>9</th>\n",
       "      <td>-10.0</td>\n",
       "      <td>0</td>\n",
       "      <td>0</td>\n",
       "    </tr>\n",
       "    <tr>\n",
       "      <th>10</th>\n",
       "      <td>535.0</td>\n",
       "      <td>1</td>\n",
       "      <td>1</td>\n",
       "    </tr>\n",
       "  </tbody>\n",
       "</table>\n",
       "</div>"
      ],
      "text/plain": [
       "    popgrowth00-16  pgrowth90-00_High  pgrowth00-16_High\n",
       "0           -529.0                  1                  0\n",
       "3            328.0                  1                  1\n",
       "5            731.0                  1                  1\n",
       "9            -10.0                  0                  0\n",
       "10           535.0                  1                  1"
      ]
     },
     "execution_count": 58,
     "metadata": {},
     "output_type": "execute_result"
    }
   ],
   "source": [
    "data['pgrowth90-00_High'] = np.where(data['popgrowth90-00'] >= 0, 1, 0)\n",
    "data['pgrowth00-16_High'] = np.where(data['popgrowth00-16'] >= 0, 1, 0)\n",
    "data.iloc[:,-3:].head()"
   ]
  },
  {
   "cell_type": "markdown",
   "metadata": {},
   "source": [
    "## Define Loss of LI households 1990-2000; 2000-2016 (absolute loss)\n",
    "- ch_all_li_count90_00 < 0\n",
    "- ch_all_li_count00_16 < 0"
   ]
  },
  {
   "cell_type": "code",
   "execution_count": 59,
   "metadata": {},
   "outputs": [
    {
     "data": {
      "text/html": [
       "<div>\n",
       "<style scoped>\n",
       "    .dataframe tbody tr th:only-of-type {\n",
       "        vertical-align: middle;\n",
       "    }\n",
       "\n",
       "    .dataframe tbody tr th {\n",
       "        vertical-align: top;\n",
       "    }\n",
       "\n",
       "    .dataframe thead th {\n",
       "        text-align: right;\n",
       "    }\n",
       "</style>\n",
       "<table border=\"1\" class=\"dataframe\">\n",
       "  <thead>\n",
       "    <tr style=\"text-align: right;\">\n",
       "      <th></th>\n",
       "      <th>pgrowth00-16_High</th>\n",
       "      <th>lossLI90-00</th>\n",
       "      <th>lossLI00-16</th>\n",
       "    </tr>\n",
       "  </thead>\n",
       "  <tbody>\n",
       "    <tr>\n",
       "      <th>0</th>\n",
       "      <td>0</td>\n",
       "      <td>1</td>\n",
       "      <td>0</td>\n",
       "    </tr>\n",
       "    <tr>\n",
       "      <th>3</th>\n",
       "      <td>1</td>\n",
       "      <td>0</td>\n",
       "      <td>1</td>\n",
       "    </tr>\n",
       "    <tr>\n",
       "      <th>5</th>\n",
       "      <td>1</td>\n",
       "      <td>1</td>\n",
       "      <td>1</td>\n",
       "    </tr>\n",
       "    <tr>\n",
       "      <th>9</th>\n",
       "      <td>0</td>\n",
       "      <td>0</td>\n",
       "      <td>1</td>\n",
       "    </tr>\n",
       "    <tr>\n",
       "      <th>10</th>\n",
       "      <td>1</td>\n",
       "      <td>1</td>\n",
       "      <td>1</td>\n",
       "    </tr>\n",
       "  </tbody>\n",
       "</table>\n",
       "</div>"
      ],
      "text/plain": [
       "    pgrowth00-16_High  lossLI90-00  lossLI00-16\n",
       "0                   0            1            0\n",
       "3                   1            0            1\n",
       "5                   1            1            1\n",
       "9                   0            0            1\n",
       "10                  1            1            1"
      ]
     },
     "execution_count": 59,
     "metadata": {},
     "output_type": "execute_result"
    }
   ],
   "source": [
    "data['lossLI90-00'] = np.where(data['ch_all_li_count90_00'] < 0, 1, 0)\n",
    "data['lossLI00-16'] = np.where(data['ch_all_li_count00_16'] < 0, 1, 0)\n",
    "\n",
    "data.iloc[:,-3:].head()"
   ]
  },
  {
   "cell_type": "markdown",
   "metadata": {},
   "source": [
    "## Define LI migration rate in 2015 < in 2009\n",
    "\n",
    "per_limove09 > per_limove16"
   ]
  },
  {
   "cell_type": "code",
   "execution_count": 60,
   "metadata": {},
   "outputs": [
    {
     "data": {
      "text/html": [
       "<div>\n",
       "<style scoped>\n",
       "    .dataframe tbody tr th:only-of-type {\n",
       "        vertical-align: middle;\n",
       "    }\n",
       "\n",
       "    .dataframe tbody tr th {\n",
       "        vertical-align: top;\n",
       "    }\n",
       "\n",
       "    .dataframe thead th {\n",
       "        text-align: right;\n",
       "    }\n",
       "</style>\n",
       "<table border=\"1\" class=\"dataframe\">\n",
       "  <thead>\n",
       "    <tr style=\"text-align: right;\">\n",
       "      <th></th>\n",
       "      <th>lossLI90-00</th>\n",
       "      <th>lossLI00-16</th>\n",
       "      <th>moveinLI_decrease00</th>\n",
       "    </tr>\n",
       "  </thead>\n",
       "  <tbody>\n",
       "    <tr>\n",
       "      <th>0</th>\n",
       "      <td>1</td>\n",
       "      <td>0</td>\n",
       "      <td>0</td>\n",
       "    </tr>\n",
       "    <tr>\n",
       "      <th>3</th>\n",
       "      <td>0</td>\n",
       "      <td>1</td>\n",
       "      <td>1</td>\n",
       "    </tr>\n",
       "    <tr>\n",
       "      <th>5</th>\n",
       "      <td>1</td>\n",
       "      <td>1</td>\n",
       "      <td>1</td>\n",
       "    </tr>\n",
       "    <tr>\n",
       "      <th>9</th>\n",
       "      <td>0</td>\n",
       "      <td>1</td>\n",
       "      <td>0</td>\n",
       "    </tr>\n",
       "    <tr>\n",
       "      <th>10</th>\n",
       "      <td>1</td>\n",
       "      <td>1</td>\n",
       "      <td>1</td>\n",
       "    </tr>\n",
       "  </tbody>\n",
       "</table>\n",
       "</div>"
      ],
      "text/plain": [
       "    lossLI90-00  lossLI00-16  moveinLI_decrease00\n",
       "0             1            0                    0\n",
       "3             0            1                    1\n",
       "5             1            1                    1\n",
       "9             0            1                    0\n",
       "10            1            1                    1"
      ]
     },
     "execution_count": 60,
     "metadata": {},
     "output_type": "execute_result"
    }
   ],
   "source": [
    "data['moveinLI_decrease00'] = np.where(data['per_limove16'] < data['per_limove09'], 1, 0)\n",
    "data.iloc[:,-3:].head()"
   ]
  },
  {
   "cell_type": "markdown",
   "metadata": {},
   "source": [
    "## Change in college educators % 90-00, 00-16"
   ]
  },
  {
   "cell_type": "code",
   "execution_count": 61,
   "metadata": {},
   "outputs": [
    {
     "data": {
      "text/html": [
       "<div>\n",
       "<style scoped>\n",
       "    .dataframe tbody tr th:only-of-type {\n",
       "        vertical-align: middle;\n",
       "    }\n",
       "\n",
       "    .dataframe tbody tr th {\n",
       "        vertical-align: top;\n",
       "    }\n",
       "\n",
       "    .dataframe thead th {\n",
       "        text-align: right;\n",
       "    }\n",
       "</style>\n",
       "<table border=\"1\" class=\"dataframe\">\n",
       "  <thead>\n",
       "    <tr style=\"text-align: right;\">\n",
       "      <th></th>\n",
       "      <th>moveinLI_decrease00</th>\n",
       "      <th>edu_change90-00</th>\n",
       "      <th>edu_change00-16</th>\n",
       "    </tr>\n",
       "  </thead>\n",
       "  <tbody>\n",
       "    <tr>\n",
       "      <th>0</th>\n",
       "      <td>0</td>\n",
       "      <td>0.116828</td>\n",
       "      <td>-0.013522</td>\n",
       "    </tr>\n",
       "    <tr>\n",
       "      <th>3</th>\n",
       "      <td>1</td>\n",
       "      <td>0.024265</td>\n",
       "      <td>0.041574</td>\n",
       "    </tr>\n",
       "    <tr>\n",
       "      <th>5</th>\n",
       "      <td>1</td>\n",
       "      <td>0.080670</td>\n",
       "      <td>0.173999</td>\n",
       "    </tr>\n",
       "    <tr>\n",
       "      <th>9</th>\n",
       "      <td>0</td>\n",
       "      <td>0.201110</td>\n",
       "      <td>0.159821</td>\n",
       "    </tr>\n",
       "    <tr>\n",
       "      <th>10</th>\n",
       "      <td>1</td>\n",
       "      <td>0.116943</td>\n",
       "      <td>0.093565</td>\n",
       "    </tr>\n",
       "  </tbody>\n",
       "</table>\n",
       "</div>"
      ],
      "text/plain": [
       "    moveinLI_decrease00  edu_change90-00  edu_change00-16\n",
       "0                     0         0.116828        -0.013522\n",
       "3                     1         0.024265         0.041574\n",
       "5                     1         0.080670         0.173999\n",
       "9                     0         0.201110         0.159821\n",
       "10                    1         0.116943         0.093565"
      ]
     },
     "execution_count": 61,
     "metadata": {},
     "output_type": "execute_result"
    }
   ],
   "source": [
    "data['edu_change90-00'] = data['per_col00'] - data['per_col90']\n",
    "data['edu_change00-16'] = data['per_col_16'] - data['per_col00']\n",
    "\n",
    "data.iloc[:,-3:].head()"
   ]
  },
  {
   "cell_type": "markdown",
   "metadata": {},
   "source": [
    "## Define Educated growth > region median"
   ]
  },
  {
   "cell_type": "code",
   "execution_count": 62,
   "metadata": {},
   "outputs": [
    {
     "data": {
      "text/html": [
       "<div>\n",
       "<style scoped>\n",
       "    .dataframe tbody tr th:only-of-type {\n",
       "        vertical-align: middle;\n",
       "    }\n",
       "\n",
       "    .dataframe tbody tr th {\n",
       "        vertical-align: top;\n",
       "    }\n",
       "\n",
       "    .dataframe thead th {\n",
       "        text-align: right;\n",
       "    }\n",
       "</style>\n",
       "<table border=\"1\" class=\"dataframe\">\n",
       "  <thead>\n",
       "    <tr style=\"text-align: right;\">\n",
       "      <th></th>\n",
       "      <th>edu_change00-16</th>\n",
       "      <th>edugrowth_High90</th>\n",
       "      <th>edugrowth_High00</th>\n",
       "    </tr>\n",
       "  </thead>\n",
       "  <tbody>\n",
       "    <tr>\n",
       "      <th>0</th>\n",
       "      <td>-0.013522</td>\n",
       "      <td>1</td>\n",
       "      <td>0</td>\n",
       "    </tr>\n",
       "    <tr>\n",
       "      <th>3</th>\n",
       "      <td>0.041574</td>\n",
       "      <td>0</td>\n",
       "      <td>0</td>\n",
       "    </tr>\n",
       "    <tr>\n",
       "      <th>5</th>\n",
       "      <td>0.173999</td>\n",
       "      <td>1</td>\n",
       "      <td>1</td>\n",
       "    </tr>\n",
       "    <tr>\n",
       "      <th>9</th>\n",
       "      <td>0.159821</td>\n",
       "      <td>1</td>\n",
       "      <td>1</td>\n",
       "    </tr>\n",
       "    <tr>\n",
       "      <th>10</th>\n",
       "      <td>0.093565</td>\n",
       "      <td>1</td>\n",
       "      <td>1</td>\n",
       "    </tr>\n",
       "  </tbody>\n",
       "</table>\n",
       "</div>"
      ],
      "text/plain": [
       "    edu_change00-16  edugrowth_High90  edugrowth_High00\n",
       "0         -0.013522                 1                 0\n",
       "3          0.041574                 0                 0\n",
       "5          0.173999                 1                 1\n",
       "9          0.159821                 1                 1\n",
       "10         0.093565                 1                 1"
      ]
     },
     "execution_count": 62,
     "metadata": {},
     "output_type": "execute_result"
    }
   ],
   "source": [
    "data['edugrowth_High90'] = np.where(data['edu_change90-00'] > data['edu_change90-00'].median(), 1, 0)\n",
    "data['edugrowth_High00'] = np.where(data['edu_change00-16'] > data['edu_change00-16'].median(), 1, 0)\n",
    "\n",
    "data.iloc[:,-3:].head()"
   ]
  },
  {
   "cell_type": "markdown",
   "metadata": {
    "collapsed": true
   },
   "source": [
    "## Define Growth in real median household income (percent change) > regional median (90 and 00)"
   ]
  },
  {
   "cell_type": "code",
   "execution_count": 63,
   "metadata": {},
   "outputs": [
    {
     "data": {
      "text/plain": [
       "0     0.581811\n",
       "3    -0.000473\n",
       "5     0.136427\n",
       "9     0.229514\n",
       "10    0.305062\n",
       "Name: pct_ch_hinc90_00, dtype: float32"
      ]
     },
     "execution_count": 63,
     "metadata": {},
     "output_type": "execute_result"
    }
   ],
   "source": [
    "data['pct_ch_hinc90_00'].head()"
   ]
  },
  {
   "cell_type": "code",
   "execution_count": 64,
   "metadata": {},
   "outputs": [
    {
     "data": {
      "text/html": [
       "<div>\n",
       "<style scoped>\n",
       "    .dataframe tbody tr th:only-of-type {\n",
       "        vertical-align: middle;\n",
       "    }\n",
       "\n",
       "    .dataframe tbody tr th {\n",
       "        vertical-align: top;\n",
       "    }\n",
       "\n",
       "    .dataframe thead th {\n",
       "        text-align: right;\n",
       "    }\n",
       "</style>\n",
       "<table border=\"1\" class=\"dataframe\">\n",
       "  <thead>\n",
       "    <tr style=\"text-align: right;\">\n",
       "      <th></th>\n",
       "      <th>edugrowth_High00</th>\n",
       "      <th>hhIncomeGrowthHigh90</th>\n",
       "      <th>hhIncomeGrowthHigh00</th>\n",
       "    </tr>\n",
       "  </thead>\n",
       "  <tbody>\n",
       "    <tr>\n",
       "      <th>0</th>\n",
       "      <td>0</td>\n",
       "      <td>1</td>\n",
       "      <td>0</td>\n",
       "    </tr>\n",
       "    <tr>\n",
       "      <th>3</th>\n",
       "      <td>0</td>\n",
       "      <td>0</td>\n",
       "      <td>1</td>\n",
       "    </tr>\n",
       "    <tr>\n",
       "      <th>5</th>\n",
       "      <td>1</td>\n",
       "      <td>1</td>\n",
       "      <td>1</td>\n",
       "    </tr>\n",
       "    <tr>\n",
       "      <th>9</th>\n",
       "      <td>1</td>\n",
       "      <td>1</td>\n",
       "      <td>1</td>\n",
       "    </tr>\n",
       "    <tr>\n",
       "      <th>10</th>\n",
       "      <td>1</td>\n",
       "      <td>1</td>\n",
       "      <td>1</td>\n",
       "    </tr>\n",
       "  </tbody>\n",
       "</table>\n",
       "</div>"
      ],
      "text/plain": [
       "    edugrowth_High00  hhIncomeGrowthHigh90  hhIncomeGrowthHigh00\n",
       "0                  0                     1                     0\n",
       "3                  0                     0                     1\n",
       "5                  1                     1                     1\n",
       "9                  1                     1                     1\n",
       "10                 1                     1                     1"
      ]
     },
     "execution_count": 64,
     "metadata": {},
     "output_type": "execute_result"
    }
   ],
   "source": [
    "data['hhIncomeGrowthHigh90'] = np.where(data['pct_ch_hinc90_00'] > data['pct_ch_hinc90_00'].median(), 1, 0)\n",
    "data['hhIncomeGrowthHigh00'] = np.where(data['pct_ch_hinc00_16'] > data['pct_ch_hinc00_16'].median(), 1, 0)\n",
    "\n",
    "data.iloc[:,-3:].head()"
   ]
  },
  {
   "cell_type": "markdown",
   "metadata": {},
   "source": [
    "## Define  Demographic change 90-00, 00-16 (2 out of 3 factors)"
   ]
  },
  {
   "cell_type": "code",
   "execution_count": 65,
   "metadata": {},
   "outputs": [],
   "source": [
    "# Demographic change 90-00\n",
    "\n",
    "def Dchange90(df):\n",
    "    if df['edugrowth_High90'] == 1 and df['hhIncomeGrowthHigh90'] == 1:\n",
    "        val = 1\n",
    "    elif df['edugrowth_High90'] == 1 and df['lossLI90-00'] == 1:\n",
    "        val = 1\n",
    "    elif df['hhIncomeGrowthHigh90'] == 1 and df['lossLI90-00'] == 1:\n",
    "        val = 1\n",
    "    else:\n",
    "        val = 0\n",
    "    return val"
   ]
  },
  {
   "cell_type": "code",
   "execution_count": 66,
   "metadata": {},
   "outputs": [],
   "source": [
    "# Demographic change 00-16\n",
    "\n",
    "def Dchange00(df):\n",
    "    if df['edugrowth_High00'] == 1 and df['hhIncomeGrowthHigh00'] == 1:\n",
    "        val = 1\n",
    "    elif df['edugrowth_High00'] == 1 and df['lossLI00-16'] == 1:\n",
    "        val = 1\n",
    "    elif df['hhIncomeGrowthHigh00'] == 1 and df['lossLI00-16'] == 1:\n",
    "        val = 1\n",
    "    else:\n",
    "        val = 0\n",
    "    return val"
   ]
  },
  {
   "cell_type": "code",
   "execution_count": 67,
   "metadata": {},
   "outputs": [
    {
     "data": {
      "text/html": [
       "<div>\n",
       "<style scoped>\n",
       "    .dataframe tbody tr th:only-of-type {\n",
       "        vertical-align: middle;\n",
       "    }\n",
       "\n",
       "    .dataframe tbody tr th {\n",
       "        vertical-align: top;\n",
       "    }\n",
       "\n",
       "    .dataframe thead th {\n",
       "        text-align: right;\n",
       "    }\n",
       "</style>\n",
       "<table border=\"1\" class=\"dataframe\">\n",
       "  <thead>\n",
       "    <tr style=\"text-align: right;\">\n",
       "      <th></th>\n",
       "      <th>hhIncomeGrowthHigh00</th>\n",
       "      <th>Dchange90</th>\n",
       "      <th>Dchange00</th>\n",
       "    </tr>\n",
       "  </thead>\n",
       "  <tbody>\n",
       "    <tr>\n",
       "      <th>0</th>\n",
       "      <td>0</td>\n",
       "      <td>1</td>\n",
       "      <td>0</td>\n",
       "    </tr>\n",
       "    <tr>\n",
       "      <th>3</th>\n",
       "      <td>1</td>\n",
       "      <td>0</td>\n",
       "      <td>1</td>\n",
       "    </tr>\n",
       "    <tr>\n",
       "      <th>5</th>\n",
       "      <td>1</td>\n",
       "      <td>1</td>\n",
       "      <td>1</td>\n",
       "    </tr>\n",
       "    <tr>\n",
       "      <th>9</th>\n",
       "      <td>1</td>\n",
       "      <td>1</td>\n",
       "      <td>1</td>\n",
       "    </tr>\n",
       "    <tr>\n",
       "      <th>10</th>\n",
       "      <td>1</td>\n",
       "      <td>1</td>\n",
       "      <td>1</td>\n",
       "    </tr>\n",
       "  </tbody>\n",
       "</table>\n",
       "</div>"
      ],
      "text/plain": [
       "    hhIncomeGrowthHigh00  Dchange90  Dchange00\n",
       "0                      0          1          0\n",
       "3                      1          0          1\n",
       "5                      1          1          1\n",
       "9                      1          1          1\n",
       "10                     1          1          1"
      ]
     },
     "execution_count": 67,
     "metadata": {},
     "output_type": "execute_result"
    }
   ],
   "source": [
    "data['Dchange90'] = data.apply(Dchange90, axis=1)\n",
    "data['Dchange00'] = data.apply(Dchange00, axis=1)\n",
    "\n",
    "data.iloc[:,-3:].head()"
   ]
  },
  {
   "cell_type": "markdown",
   "metadata": {},
   "source": [
    "# Gentrified 90 + Gentrified 00"
   ]
  },
  {
   "cell_type": "code",
   "execution_count": 68,
   "metadata": {},
   "outputs": [
    {
     "data": {
      "text/html": [
       "<div>\n",
       "<style scoped>\n",
       "    .dataframe tbody tr th:only-of-type {\n",
       "        vertical-align: middle;\n",
       "    }\n",
       "\n",
       "    .dataframe tbody tr th {\n",
       "        vertical-align: top;\n",
       "    }\n",
       "\n",
       "    .dataframe thead th {\n",
       "        text-align: right;\n",
       "    }\n",
       "</style>\n",
       "<table border=\"1\" class=\"dataframe\">\n",
       "  <thead>\n",
       "    <tr style=\"text-align: right;\">\n",
       "      <th></th>\n",
       "      <th>Dchange00</th>\n",
       "      <th>Gentrified90</th>\n",
       "      <th>Gentrified00</th>\n",
       "    </tr>\n",
       "  </thead>\n",
       "  <tbody>\n",
       "    <tr>\n",
       "      <th>19</th>\n",
       "      <td>0</td>\n",
       "      <td>0</td>\n",
       "      <td>0</td>\n",
       "    </tr>\n",
       "    <tr>\n",
       "      <th>20</th>\n",
       "      <td>1</td>\n",
       "      <td>0</td>\n",
       "      <td>0</td>\n",
       "    </tr>\n",
       "    <tr>\n",
       "      <th>21</th>\n",
       "      <td>1</td>\n",
       "      <td>0</td>\n",
       "      <td>0</td>\n",
       "    </tr>\n",
       "    <tr>\n",
       "      <th>22</th>\n",
       "      <td>1</td>\n",
       "      <td>0</td>\n",
       "      <td>0</td>\n",
       "    </tr>\n",
       "    <tr>\n",
       "      <th>23</th>\n",
       "      <td>0</td>\n",
       "      <td>0</td>\n",
       "      <td>0</td>\n",
       "    </tr>\n",
       "    <tr>\n",
       "      <th>24</th>\n",
       "      <td>0</td>\n",
       "      <td>0</td>\n",
       "      <td>0</td>\n",
       "    </tr>\n",
       "  </tbody>\n",
       "</table>\n",
       "</div>"
      ],
      "text/plain": [
       "    Dchange00  Gentrified90  Gentrified00\n",
       "19          0             0             0\n",
       "20          1             0             0\n",
       "21          1             0             0\n",
       "22          1             0             0\n",
       "23          0             0             0\n",
       "24          0             0             0"
      ]
     },
     "execution_count": 68,
     "metadata": {},
     "output_type": "execute_result"
    }
   ],
   "source": [
    "data['Gentrified90'] = np.where((data['Volnurable90'] == 1) & (data['Dchange90'] == 1) &\n",
    "                                (data['hotmarket90'] == 1), 1, 0)\n",
    "data['Gentrified00'] = np.where((data['Volnurable00'] == 1) & (data['Dchange00'] == 1) &\n",
    "                                (data['hotmarket00'] == 1) & (data['moveinLI_decrease00'] == 1), 1, 0)\n",
    "\n",
    "data.iloc[10:16,-3:]"
   ]
  },
  {
   "cell_type": "code",
   "execution_count": 69,
   "metadata": {},
   "outputs": [
    {
     "data": {
      "text/plain": [
       "Index(['hinc90', 'pct_ch_hinc90_00', 'pct_ch_hinc00_16', 'vli_tract16',\n",
       "       'li_tract16', 'li_tract00', 'li_tract90', 'edulow90', 'edulow00',\n",
       "       'renters%90', 'renters%00', 'renters%16', 'nonwhiteHigh90',\n",
       "       'nonwhiteHigh00', 'nonwhiteHigh16', 'Volnurable90', 'Volnurable00',\n",
       "       'units_pre50_High', 'empdens14_High', 'rentchange_High90',\n",
       "       'rhomeValchange_High90', 'rentchange_High00', 'rhomeValchange_High00',\n",
       "       'hotmarket90', 'hotmarket00', 'risk90', 'risk00', 'popgrowth90-00',\n",
       "       'popgrowth00-16', 'pgrowth90-00_High', 'pgrowth00-16_High',\n",
       "       'lossLI90-00', 'lossLI00-16', 'moveinLI_decrease00', 'edu_change90-00',\n",
       "       'edu_change00-16', 'edugrowth_High90', 'edugrowth_High00',\n",
       "       'hhIncomeGrowthHigh90', 'hhIncomeGrowthHigh00', 'Dchange90',\n",
       "       'Dchange00', 'Gentrified90', 'Gentrified00'],\n",
       "      dtype='object')"
      ]
     },
     "execution_count": 69,
     "metadata": {},
     "output_type": "execute_result"
    }
   ],
   "source": [
    "data.iloc[:,-44:].columns"
   ]
  },
  {
   "cell_type": "markdown",
   "metadata": {},
   "source": [
    "---\n",
    "\n",
    "# Assign typologies to census tracts\n",
    "\n",
    "----\n",
    "# 1. _VLI - Highly Vulnerable_"
   ]
  },
  {
   "cell_type": "code",
   "execution_count": 70,
   "metadata": {},
   "outputs": [
    {
     "data": {
      "text/plain": [
       "0    4571\n",
       "1     187\n",
       "Name: VLI, dtype: int64"
      ]
     },
     "execution_count": 70,
     "metadata": {},
     "output_type": "execute_result"
    }
   ],
   "source": [
    "data['VLI'] = np.where((data['vli_tract16'] == 1) & (data['renters%16'] == 1), 1, 0) \n",
    "data['VLI'].value_counts()"
   ]
  },
  {
   "cell_type": "markdown",
   "metadata": {},
   "source": [
    "# _5. MHI - Advanced / Completed Gentrification_\n",
    "    - Pop in 2000>500\n",
    "    - Moderate to High Income Tract in 2015\n",
    "    - Gentrified in in 1990-2000 or 2000-2015 (Defined in Appendix)"
   ]
  },
  {
   "cell_type": "code",
   "execution_count": 71,
   "metadata": {},
   "outputs": [],
   "source": [
    "# Advanced Gentrification (Moderate to High Income)\n",
    "\n",
    "def AdvancedGen(df):\n",
    "    if df['li_tract16'] == 0 and df['Gentrified90'] == 1 and df['VLI'] == 0:\n",
    "        val = 1\n",
    "    elif df['li_tract16'] == 0 and df['Gentrified00'] == 1 and df['VLI'] == 0:\n",
    "        val = 1\n",
    "    else:\n",
    "        val = 0\n",
    "    return val"
   ]
  },
  {
   "cell_type": "code",
   "execution_count": 72,
   "metadata": {},
   "outputs": [
    {
     "data": {
      "text/plain": [
       "0    4529\n",
       "1     229\n",
       "Name: AdvancedGen, dtype: int64"
      ]
     },
     "execution_count": 72,
     "metadata": {},
     "output_type": "execute_result"
    }
   ],
   "source": [
    "data['AdvancedGen'] = data.apply(AdvancedGen, axis=1)\n",
    "data['AdvancedGen'].value_counts()"
   ]
  },
  {
   "cell_type": "markdown",
   "metadata": {},
   "source": [
    "# _4. LI - Ongoing Gentrification_\n",
    "\n",
    "    - Pop in 2000 > 500\n",
    "    - Low Income Tract in 2016\n",
    "    - Vulnerable in 2000 (Defined in Appendix)\n",
    "    - Population stable or growing 2000-2016\n",
    "    - Loss of LI households 2000-2016 (absolute loss)\n",
    "    - Either:\n",
    "        o “Hot market” (Defined in Appendix)\n",
    "        o LI migration rate (percent of all migration to tract that was LI)\n",
    "    in 2016 < in 2009\n",
    "    - Gentrified in 1990-2000 or 2000-2016 (Defined in Appendix)"
   ]
  },
  {
   "cell_type": "code",
   "execution_count": 73,
   "metadata": {},
   "outputs": [],
   "source": [
    "# Displacement of LowIncome Households/Ongoing Gentrification (Low Income)\n",
    "\n",
    "def OngoingGenLI(df):\n",
    "    # gentrified in 90, LI tract in 2015\n",
    "    if df['li_tract16'] == 1 and df['Gentrified90'] == 1 and df['AdvancedGen'] == 0:\n",
    "        val = 1\n",
    "    # gentrified in 00, LI tract in 2015\n",
    "    elif df['li_tract16'] == 1 and df['Gentrified00'] == 1 and df['AdvancedGen'] == 0:\n",
    "        val = 1\n",
    "    # LI tract in 2016; Vulnerable in 2000; pop growth; Loss of LI households; hot market in 90\n",
    "    elif df['li_tract16'] == 1 and df['Volnurable00'] == 1 and df['popgrowth00-16'] == 1\\\n",
    "        and df['lossLI00-16'] == 1  and df['hotmarket90'] == 1 and df['AdvancedGen'] == 0:\n",
    "        val = 1\n",
    "    # LI tract in 2016; Vulnerable in 2000; pop growth; Loss of LI households; hot market in 00\n",
    "    elif df['li_tract16'] == 1 and df['Volnurable00'] == 1 and df['popgrowth00-16'] == 1\\\n",
    "        and df['lossLI00-16'] == 1 and df['hotmarket00'] == 1 and df['AdvancedGen'] == 0:\n",
    "        val = 1\n",
    "    #     # LI tract in 2016; Vulnerable in 2000; pop growth; Loss of LI households; LI migration rate\n",
    "    elif df['li_tract16'] == 1 and df['Volnurable00'] == 1 and df['popgrowth00-16'] == 1\\\n",
    "        and df['lossLI00-16'] == 1 and df['moveinLI_decrease00'] == 1 and df['AdvancedGen'] == 0:\n",
    "        val = 1\n",
    "    else:\n",
    "        val = 0\n",
    "    return val"
   ]
  },
  {
   "cell_type": "code",
   "execution_count": 74,
   "metadata": {},
   "outputs": [
    {
     "data": {
      "text/plain": [
       "0    4256\n",
       "1     502\n",
       "Name: OngoingGenLI, dtype: int64"
      ]
     },
     "execution_count": 74,
     "metadata": {},
     "output_type": "execute_result"
    }
   ],
   "source": [
    "data['OngoingGenLI'] = data.apply(OngoingGenLI, axis=1)\n",
    "data['OngoingGenLI'].value_counts()"
   ]
  },
  {
   "cell_type": "markdown",
   "metadata": {
    "collapsed": true
   },
   "source": [
    "# _3. LI - At Risk of Gentrification _\n",
    "    - Volnurable in 2000 (3 out of 4 variables)\n",
    "    - Not currently undergoing displacement or ongoing gentrification\n",
    "    - 2 out of the 4 of the following is true in 2015( select only one 'hot market' from the 2 'hot market' option)\n",
    "    - Not currently undergoing displacement or ongoing gentrification"
   ]
  },
  {
   "cell_type": "code",
   "execution_count": 75,
   "metadata": {},
   "outputs": [
    {
     "data": {
      "text/plain": [
       "0    4353\n",
       "1     405\n",
       "Name: AtRiskGen, dtype: int64"
      ]
     },
     "execution_count": 75,
     "metadata": {},
     "output_type": "execute_result"
    }
   ],
   "source": [
    "data['AtRiskGen'] = np.where((data['li_tract16'] == 1) & (data['Volnurable00'] == 1) &\n",
    "                            (data['risk00'] == 1) & (data['OngoingGenLI'] == 0), 1, 0)\n",
    "\n",
    "data['AtRiskGen'].value_counts()"
   ]
  },
  {
   "cell_type": "markdown",
   "metadata": {},
   "source": [
    "# 2. _LI - Stable (Not losing LI hh)_\n",
    "   -  _'pop00'_ (>500)\n",
    "   - Low Income tract in 2015\n",
    "   - Not classified as At Risk of, Ongoing, or Advanced Gentrification"
   ]
  },
  {
   "cell_type": "code",
   "execution_count": 76,
   "metadata": {},
   "outputs": [
    {
     "data": {
      "text/plain": [
       "0    3144\n",
       "1    1614\n",
       "Name: NotloseLI, dtype: int64"
      ]
     },
     "execution_count": 76,
     "metadata": {},
     "output_type": "execute_result"
    }
   ],
   "source": [
    "data['NotloseLI'] = np.where((data['li_tract16'] == 1) & (data['AtRiskGen'] == 0) &\n",
    "                             (data['OngoingGenLI'] == 0) & (data['AdvancedGen'] == 0), 1, 0)\n",
    "\n",
    "data['NotloseLI'].value_counts()"
   ]
  },
  {
   "cell_type": "markdown",
   "metadata": {
    "collapsed": true
   },
   "source": [
    "---"
   ]
  },
  {
   "cell_type": "markdown",
   "metadata": {},
   "source": [
    "# _8. MHI - Exclusion_\n",
    "    - Pop in 2000 > 500\n",
    "    - Moderate to High Income Tract in 2015\n",
    "    - <20% LI in 2000 \n",
    "    - % LI in 2016 < % LI in 2000\n",
    "    - LI migration < regional median in 2015"
   ]
  },
  {
   "cell_type": "code",
   "execution_count": 77,
   "metadata": {},
   "outputs": [
    {
     "data": {
      "text/html": [
       "<div>\n",
       "<style scoped>\n",
       "    .dataframe tbody tr th:only-of-type {\n",
       "        vertical-align: middle;\n",
       "    }\n",
       "\n",
       "    .dataframe tbody tr th {\n",
       "        vertical-align: top;\n",
       "    }\n",
       "\n",
       "    .dataframe thead th {\n",
       "        text-align: right;\n",
       "    }\n",
       "</style>\n",
       "<table border=\"1\" class=\"dataframe\">\n",
       "  <thead>\n",
       "    <tr style=\"text-align: right;\">\n",
       "      <th></th>\n",
       "      <th>LI&lt;20%</th>\n",
       "      <th>%LIdecrease</th>\n",
       "      <th>migLI_low</th>\n",
       "    </tr>\n",
       "  </thead>\n",
       "  <tbody>\n",
       "    <tr>\n",
       "      <th>0</th>\n",
       "      <td>0</td>\n",
       "      <td>0</td>\n",
       "      <td>0</td>\n",
       "    </tr>\n",
       "    <tr>\n",
       "      <th>3</th>\n",
       "      <td>1</td>\n",
       "      <td>1</td>\n",
       "      <td>1</td>\n",
       "    </tr>\n",
       "    <tr>\n",
       "      <th>5</th>\n",
       "      <td>0</td>\n",
       "      <td>1</td>\n",
       "      <td>1</td>\n",
       "    </tr>\n",
       "    <tr>\n",
       "      <th>9</th>\n",
       "      <td>0</td>\n",
       "      <td>0</td>\n",
       "      <td>1</td>\n",
       "    </tr>\n",
       "  </tbody>\n",
       "</table>\n",
       "</div>"
      ],
      "text/plain": [
       "   LI<20%  %LIdecrease  migLI_low\n",
       "0       0            0          0\n",
       "3       1            1          1\n",
       "5       0            1          1\n",
       "9       0            0          1"
      ]
     },
     "execution_count": 77,
     "metadata": {},
     "output_type": "execute_result"
    }
   ],
   "source": [
    "data['LI<20%'] = np.where(data['li2016']+data['vli2016'] < 0.2, 1, 0)\n",
    "data['%LIdecrease'] = np.where(data['li2016'] < data['li2000'], 1, 0)\n",
    "data['migLI_low'] = np.where(data['per_limove16'] < data['per_limove16'].median(), 1, 0)\n",
    "\n",
    "data.iloc[:,-3:].head(4)"
   ]
  },
  {
   "cell_type": "code",
   "execution_count": 78,
   "metadata": {},
   "outputs": [],
   "source": [
    "# Advanced Exclusion\n",
    "\n",
    "def Exclusion(df):\n",
    "    if df['li_tract16'] == 0 and df['LI<20%'] == 1 and df['%LIdecrease'] == 1 and df['migLI_low'] == 1:\n",
    "        val = 1\n",
    "    else:\n",
    "        val = 0\n",
    "    return val"
   ]
  },
  {
   "cell_type": "code",
   "execution_count": 79,
   "metadata": {},
   "outputs": [
    {
     "data": {
      "text/plain": [
       "0    4534\n",
       "1     224\n",
       "Name: Exclusion, dtype: int64"
      ]
     },
     "execution_count": 79,
     "metadata": {},
     "output_type": "execute_result"
    }
   ],
   "source": [
    "data['Exclusion'] = data.apply(Exclusion, axis=1)\n",
    "data['Exclusion'].value_counts()"
   ]
  },
  {
   "cell_type": "markdown",
   "metadata": {},
   "source": [
    "# _7. MHI - At Risk of Exclusion_\n",
    "\n",
    "    - Pop in 2000 > 500\n",
    "    - Moderate to High Income Tract in 2015\n",
    "    - 2 out of the 4 of the following is true in 2015:\n",
    "        o Has rail station in tract\n",
    "        o % of units in prewar buildings (1950) > regional median\n",
    "        o Employment density> regional median\n",
    "        o “Hot market” (options defined below table)\n",
    "    - Not currently undergoing exclusion – none of the below classifications are met"
   ]
  },
  {
   "cell_type": "code",
   "execution_count": 80,
   "metadata": {},
   "outputs": [
    {
     "data": {
      "text/plain": [
       "0    4288\n",
       "1     470\n",
       "Name: AtRiskExc, dtype: int64"
      ]
     },
     "execution_count": 80,
     "metadata": {},
     "output_type": "execute_result"
    }
   ],
   "source": [
    "data['AtRiskExc'] = np.where((data['li_tract16'] == 0) & (data['risk00'] == 1) &\n",
    "                            (data['Exclusion'] == 0), 1, 0)\n",
    "\n",
    "data['AtRiskExc'].value_counts()"
   ]
  },
  {
   "cell_type": "markdown",
   "metadata": {},
   "source": [
    "# _6. MHI - Stable (Not Losing Low-Income Households)_\n",
    "    - Pop in 2000>500\n",
    "    - Moderate to High Income Tract in 2015\n",
    "    - Not classified as At Risk of, Ongoing, or Advanced Exclusion"
   ]
  },
  {
   "cell_type": "code",
   "execution_count": 81,
   "metadata": {},
   "outputs": [
    {
     "data": {
      "text/plain": [
       "0    3215\n",
       "1    1543\n",
       "Name: NotloseHigh, dtype: int64"
      ]
     },
     "execution_count": 81,
     "metadata": {},
     "output_type": "execute_result"
    }
   ],
   "source": [
    "data['NotloseHigh'] = np.where((data['li_tract16'] == 0) & (data['AtRiskExc'] == 0) &\n",
    "                            (data['Exclusion'] == 0), 1, 0)\n",
    "\n",
    "data['NotloseHigh'].value_counts()"
   ]
  },
  {
   "cell_type": "markdown",
   "metadata": {},
   "source": [
    "#  << TYPOLOGY >>"
   ]
  },
  {
   "cell_type": "code",
   "execution_count": 82,
   "metadata": {},
   "outputs": [],
   "source": [
    "# Advanced Gentrification (Moderate to High Income)\n",
    "\n",
    "def Typology(df):\n",
    "    if df['VLI'] == 1:\n",
    "        val = 'VLI - Highly Vulnerable for Displacement'\n",
    "    elif df['AdvancedGen'] == 1:\n",
    "        val = 'MHI - Advanced Gentrification'\n",
    "    elif df['Exclusion'] == 1:\n",
    "        val = 'MHI - Exclusion' \n",
    "    elif df['AtRiskExc'] == 1:\n",
    "        val = 'MHI - At Risk of Exclusion'\n",
    "    elif df['NotloseHigh'] == 1:\n",
    "        val = 'MHI - Stable, Not Losing Low Income Households'\n",
    "    elif df['OngoingGenLI'] == 1:\n",
    "        val = 'LI - Ongoing Gentrification and/or Displacement'\n",
    "    elif df['AtRiskGen'] == 1:\n",
    "        val = 'LI - At Risk of Gentrification and/or Displacement'\n",
    "    elif df['NotloseLI'] == 1:\n",
    "        val = 'LI - Stable, Not Losing Low Income Households'\n",
    "    else:\n",
    "        val = 0\n",
    "    return val"
   ]
  },
  {
   "cell_type": "code",
   "execution_count": 83,
   "metadata": {},
   "outputs": [
    {
     "data": {
      "text/plain": [
       "LI - Stable, Not Losing Low Income Households         1510\n",
       "MHI - Stable, Not Losing Low Income Households        1478\n",
       "LI - Ongoing Gentrification and/or Displacement        459\n",
       "LI - At Risk of Gentrification and/or Displacement     365\n",
       "MHI - At Risk of Exclusion                             319\n",
       "MHI - Advanced Gentrification                          229\n",
       "MHI - Exclusion                                        211\n",
       "VLI - Highly Vulnerable for Displacement               187\n",
       "Name: Typology, dtype: int64"
      ]
     },
     "execution_count": 83,
     "metadata": {},
     "output_type": "execute_result"
    }
   ],
   "source": [
    "data['Typology'] = data.apply(Typology, axis=1)\n",
    "data['Typology'].value_counts()"
   ]
  },
  {
   "cell_type": "code",
   "execution_count": 84,
   "metadata": {},
   "outputs": [
    {
     "data": {
      "text/plain": [
       "4758"
      ]
     },
     "execution_count": 84,
     "metadata": {},
     "output_type": "execute_result"
    }
   ],
   "source": [
    "len(pd.DataFrame(data['Typology']))#.value_counts()))"
   ]
  },
  {
   "cell_type": "code",
   "execution_count": 85,
   "metadata": {},
   "outputs": [
    {
     "data": {
      "text/html": [
       "<div>\n",
       "<style scoped>\n",
       "    .dataframe tbody tr th:only-of-type {\n",
       "        vertical-align: middle;\n",
       "    }\n",
       "\n",
       "    .dataframe tbody tr th {\n",
       "        vertical-align: top;\n",
       "    }\n",
       "\n",
       "    .dataframe thead th {\n",
       "        text-align: right;\n",
       "    }\n",
       "</style>\n",
       "<table border=\"1\" class=\"dataframe\">\n",
       "  <thead>\n",
       "    <tr style=\"text-align: right;\">\n",
       "      <th></th>\n",
       "      <th>tractCounts</th>\n",
       "      <th>Typology%</th>\n",
       "    </tr>\n",
       "  </thead>\n",
       "  <tbody>\n",
       "    <tr>\n",
       "      <th>LI - Stable, Not Losing Low Income Households</th>\n",
       "      <td>1510</td>\n",
       "      <td>31.736024</td>\n",
       "    </tr>\n",
       "    <tr>\n",
       "      <th>MHI - Stable, Not Losing Low Income Households</th>\n",
       "      <td>1478</td>\n",
       "      <td>31.063472</td>\n",
       "    </tr>\n",
       "    <tr>\n",
       "      <th>LI - Ongoing Gentrification and/or Displacement</th>\n",
       "      <td>459</td>\n",
       "      <td>9.646910</td>\n",
       "    </tr>\n",
       "    <tr>\n",
       "      <th>LI - At Risk of Gentrification and/or Displacement</th>\n",
       "      <td>365</td>\n",
       "      <td>7.671290</td>\n",
       "    </tr>\n",
       "    <tr>\n",
       "      <th>MHI - At Risk of Exclusion</th>\n",
       "      <td>319</td>\n",
       "      <td>6.704498</td>\n",
       "    </tr>\n",
       "    <tr>\n",
       "      <th>MHI - Advanced Gentrification</th>\n",
       "      <td>229</td>\n",
       "      <td>4.812947</td>\n",
       "    </tr>\n",
       "    <tr>\n",
       "      <th>MHI - Exclusion</th>\n",
       "      <td>211</td>\n",
       "      <td>4.434636</td>\n",
       "    </tr>\n",
       "    <tr>\n",
       "      <th>VLI - Highly Vulnerable for Displacement</th>\n",
       "      <td>187</td>\n",
       "      <td>3.930223</td>\n",
       "    </tr>\n",
       "  </tbody>\n",
       "</table>\n",
       "</div>"
      ],
      "text/plain": [
       "                                                    tractCounts  Typology%\n",
       "LI - Stable, Not Losing Low Income Households              1510  31.736024\n",
       "MHI - Stable, Not Losing Low Income Households             1478  31.063472\n",
       "LI - Ongoing Gentrification and/or Displacement             459   9.646910\n",
       "LI - At Risk of Gentrification and/or Displacement          365   7.671290\n",
       "MHI - At Risk of Exclusion                                  319   6.704498\n",
       "MHI - Advanced Gentrification                               229   4.812947\n",
       "MHI - Exclusion                                             211   4.434636\n",
       "VLI - Highly Vulnerable for Displacement                    187   3.930223"
      ]
     },
     "execution_count": 85,
     "metadata": {},
     "output_type": "execute_result"
    }
   ],
   "source": [
    "resultsTyp = pd.DataFrame(data['Typology'].value_counts())\n",
    "resultsTyp.columns = ['tractCounts']\n",
    "resultsTyp['Typology%'] = resultsTyp['tractCounts'] / resultsTyp['tractCounts'].sum() *100\n",
    "\n",
    "resultsTyp"
   ]
  },
  {
   "cell_type": "code",
   "execution_count": 86,
   "metadata": {},
   "outputs": [
    {
     "data": {
      "text/plain": [
       "tractCounts      int64\n",
       "Typology%      float64\n",
       "dtype: object"
      ]
     },
     "execution_count": 86,
     "metadata": {},
     "output_type": "execute_result"
    }
   ],
   "source": [
    "resultsTyp.dtypes"
   ]
  },
  {
   "cell_type": "code",
   "execution_count": 87,
   "metadata": {},
   "outputs": [
    {
     "data": {
      "text/plain": [
       "(4758, 141)"
      ]
     },
     "execution_count": 87,
     "metadata": {},
     "output_type": "execute_result"
    }
   ],
   "source": [
    "data.shape"
   ]
  },
  {
   "cell_type": "code",
   "execution_count": 88,
   "metadata": {
    "scrolled": false
   },
   "outputs": [
    {
     "data": {
      "text/html": [
       "<div>\n",
       "<style scoped>\n",
       "    .dataframe tbody tr th:only-of-type {\n",
       "        vertical-align: middle;\n",
       "    }\n",
       "\n",
       "    .dataframe tbody tr th {\n",
       "        vertical-align: top;\n",
       "    }\n",
       "\n",
       "    .dataframe thead th {\n",
       "        text-align: right;\n",
       "    }\n",
       "</style>\n",
       "<table border=\"1\" class=\"dataframe\">\n",
       "  <thead>\n",
       "    <tr style=\"text-align: right;\">\n",
       "      <th></th>\n",
       "      <th>GEOid2</th>\n",
       "      <th>Typology</th>\n",
       "    </tr>\n",
       "  </thead>\n",
       "  <tbody>\n",
       "    <tr>\n",
       "      <th>0</th>\n",
       "      <td>09001010101</td>\n",
       "      <td>MHI - Stable, Not Losing Low Income Households</td>\n",
       "    </tr>\n",
       "    <tr>\n",
       "      <th>1</th>\n",
       "      <td>09001010202</td>\n",
       "      <td>MHI - Exclusion</td>\n",
       "    </tr>\n",
       "    <tr>\n",
       "      <th>2</th>\n",
       "      <td>09001010400</td>\n",
       "      <td>MHI - Stable, Not Losing Low Income Households</td>\n",
       "    </tr>\n",
       "    <tr>\n",
       "      <th>3</th>\n",
       "      <td>09001010800</td>\n",
       "      <td>MHI - At Risk of Exclusion</td>\n",
       "    </tr>\n",
       "    <tr>\n",
       "      <th>4</th>\n",
       "      <td>09001010900</td>\n",
       "      <td>MHI - Stable, Not Losing Low Income Households</td>\n",
       "    </tr>\n",
       "    <tr>\n",
       "      <th>5</th>\n",
       "      <td>09001011000</td>\n",
       "      <td>MHI - Stable, Not Losing Low Income Households</td>\n",
       "    </tr>\n",
       "    <tr>\n",
       "      <th>6</th>\n",
       "      <td>09001011100</td>\n",
       "      <td>MHI - Exclusion</td>\n",
       "    </tr>\n",
       "    <tr>\n",
       "      <th>7</th>\n",
       "      <td>09001020200</td>\n",
       "      <td>MHI - Exclusion</td>\n",
       "    </tr>\n",
       "    <tr>\n",
       "      <th>8</th>\n",
       "      <td>09001020300</td>\n",
       "      <td>MHI - Exclusion</td>\n",
       "    </tr>\n",
       "    <tr>\n",
       "      <th>9</th>\n",
       "      <td>09001020400</td>\n",
       "      <td>MHI - Exclusion</td>\n",
       "    </tr>\n",
       "    <tr>\n",
       "      <th>10</th>\n",
       "      <td>09001020500</td>\n",
       "      <td>MHI - Stable, Not Losing Low Income Households</td>\n",
       "    </tr>\n",
       "    <tr>\n",
       "      <th>11</th>\n",
       "      <td>09001020600</td>\n",
       "      <td>MHI - Stable, Not Losing Low Income Households</td>\n",
       "    </tr>\n",
       "    <tr>\n",
       "      <th>12</th>\n",
       "      <td>09001020700</td>\n",
       "      <td>MHI - Stable, Not Losing Low Income Households</td>\n",
       "    </tr>\n",
       "    <tr>\n",
       "      <th>13</th>\n",
       "      <td>09001020800</td>\n",
       "      <td>MHI - Stable, Not Losing Low Income Households</td>\n",
       "    </tr>\n",
       "    <tr>\n",
       "      <th>14</th>\n",
       "      <td>09001020900</td>\n",
       "      <td>LI - Stable, Not Losing Low Income Households</td>\n",
       "    </tr>\n",
       "    <tr>\n",
       "      <th>15</th>\n",
       "      <td>09001021000</td>\n",
       "      <td>MHI - Stable, Not Losing Low Income Households</td>\n",
       "    </tr>\n",
       "    <tr>\n",
       "      <th>16</th>\n",
       "      <td>09001021100</td>\n",
       "      <td>LI - Stable, Not Losing Low Income Households</td>\n",
       "    </tr>\n",
       "    <tr>\n",
       "      <th>17</th>\n",
       "      <td>09001021200</td>\n",
       "      <td>MHI - Stable, Not Losing Low Income Households</td>\n",
       "    </tr>\n",
       "    <tr>\n",
       "      <th>18</th>\n",
       "      <td>09001021300</td>\n",
       "      <td>MHI - Stable, Not Losing Low Income Households</td>\n",
       "    </tr>\n",
       "    <tr>\n",
       "      <th>19</th>\n",
       "      <td>09001021801</td>\n",
       "      <td>LI - Stable, Not Losing Low Income Households</td>\n",
       "    </tr>\n",
       "    <tr>\n",
       "      <th>20</th>\n",
       "      <td>09001021802</td>\n",
       "      <td>LI - Stable, Not Losing Low Income Households</td>\n",
       "    </tr>\n",
       "    <tr>\n",
       "      <th>21</th>\n",
       "      <td>09001021900</td>\n",
       "      <td>LI - Stable, Not Losing Low Income Households</td>\n",
       "    </tr>\n",
       "    <tr>\n",
       "      <th>22</th>\n",
       "      <td>09001022400</td>\n",
       "      <td>MHI - Stable, Not Losing Low Income Households</td>\n",
       "    </tr>\n",
       "    <tr>\n",
       "      <th>23</th>\n",
       "      <td>09001030200</td>\n",
       "      <td>MHI - At Risk of Exclusion</td>\n",
       "    </tr>\n",
       "    <tr>\n",
       "      <th>24</th>\n",
       "      <td>09001030300</td>\n",
       "      <td>MHI - Exclusion</td>\n",
       "    </tr>\n",
       "    <tr>\n",
       "      <th>25</th>\n",
       "      <td>09001030400</td>\n",
       "      <td>MHI - At Risk of Exclusion</td>\n",
       "    </tr>\n",
       "    <tr>\n",
       "      <th>26</th>\n",
       "      <td>09001030500</td>\n",
       "      <td>MHI - At Risk of Exclusion</td>\n",
       "    </tr>\n",
       "    <tr>\n",
       "      <th>27</th>\n",
       "      <td>09001035100</td>\n",
       "      <td>MHI - Stable, Not Losing Low Income Households</td>\n",
       "    </tr>\n",
       "    <tr>\n",
       "      <th>28</th>\n",
       "      <td>09001035300</td>\n",
       "      <td>MHI - Stable, Not Losing Low Income Households</td>\n",
       "    </tr>\n",
       "    <tr>\n",
       "      <th>29</th>\n",
       "      <td>09001035400</td>\n",
       "      <td>MHI - Stable, Not Losing Low Income Households</td>\n",
       "    </tr>\n",
       "    <tr>\n",
       "      <th>...</th>\n",
       "      <td>...</td>\n",
       "      <td>...</td>\n",
       "    </tr>\n",
       "    <tr>\n",
       "      <th>4728</th>\n",
       "      <td>36119005901</td>\n",
       "      <td>LI - Ongoing Gentrification and/or Displacement</td>\n",
       "    </tr>\n",
       "    <tr>\n",
       "      <th>4729</th>\n",
       "      <td>36119005902</td>\n",
       "      <td>LI - Stable, Not Losing Low Income Households</td>\n",
       "    </tr>\n",
       "    <tr>\n",
       "      <th>4730</th>\n",
       "      <td>36119006000</td>\n",
       "      <td>LI - Ongoing Gentrification and/or Displacement</td>\n",
       "    </tr>\n",
       "    <tr>\n",
       "      <th>4731</th>\n",
       "      <td>36119006100</td>\n",
       "      <td>LI - Stable, Not Losing Low Income Households</td>\n",
       "    </tr>\n",
       "    <tr>\n",
       "      <th>4732</th>\n",
       "      <td>36119006200</td>\n",
       "      <td>VLI - Highly Vulnerable for Displacement</td>\n",
       "    </tr>\n",
       "    <tr>\n",
       "      <th>4733</th>\n",
       "      <td>36119006400</td>\n",
       "      <td>LI - Stable, Not Losing Low Income Households</td>\n",
       "    </tr>\n",
       "    <tr>\n",
       "      <th>4734</th>\n",
       "      <td>36119007300</td>\n",
       "      <td>LI - Ongoing Gentrification and/or Displacement</td>\n",
       "    </tr>\n",
       "    <tr>\n",
       "      <th>4735</th>\n",
       "      <td>36119007800</td>\n",
       "      <td>LI - Ongoing Gentrification and/or Displacement</td>\n",
       "    </tr>\n",
       "    <tr>\n",
       "      <th>4736</th>\n",
       "      <td>36119007900</td>\n",
       "      <td>LI - At Risk of Gentrification and/or Displace...</td>\n",
       "    </tr>\n",
       "    <tr>\n",
       "      <th>4737</th>\n",
       "      <td>36119008000</td>\n",
       "      <td>VLI - Highly Vulnerable for Displacement</td>\n",
       "    </tr>\n",
       "    <tr>\n",
       "      <th>4738</th>\n",
       "      <td>36119008100</td>\n",
       "      <td>LI - Stable, Not Losing Low Income Households</td>\n",
       "    </tr>\n",
       "    <tr>\n",
       "      <th>4739</th>\n",
       "      <td>36119008404</td>\n",
       "      <td>MHI - At Risk of Exclusion</td>\n",
       "    </tr>\n",
       "    <tr>\n",
       "      <th>4740</th>\n",
       "      <td>36119008800</td>\n",
       "      <td>LI - At Risk of Gentrification and/or Displace...</td>\n",
       "    </tr>\n",
       "    <tr>\n",
       "      <th>4741</th>\n",
       "      <td>36119008902</td>\n",
       "      <td>LI - Ongoing Gentrification and/or Displacement</td>\n",
       "    </tr>\n",
       "    <tr>\n",
       "      <th>4742</th>\n",
       "      <td>36119009000</td>\n",
       "      <td>LI - Ongoing Gentrification and/or Displacement</td>\n",
       "    </tr>\n",
       "    <tr>\n",
       "      <th>4743</th>\n",
       "      <td>36119009100</td>\n",
       "      <td>LI - Stable, Not Losing Low Income Households</td>\n",
       "    </tr>\n",
       "    <tr>\n",
       "      <th>4744</th>\n",
       "      <td>36119009200</td>\n",
       "      <td>LI - Ongoing Gentrification and/or Displacement</td>\n",
       "    </tr>\n",
       "    <tr>\n",
       "      <th>4745</th>\n",
       "      <td>36119009300</td>\n",
       "      <td>VLI - Highly Vulnerable for Displacement</td>\n",
       "    </tr>\n",
       "    <tr>\n",
       "      <th>4746</th>\n",
       "      <td>36119009400</td>\n",
       "      <td>LI - Stable, Not Losing Low Income Households</td>\n",
       "    </tr>\n",
       "    <tr>\n",
       "      <th>4747</th>\n",
       "      <td>36119009500</td>\n",
       "      <td>LI - Stable, Not Losing Low Income Households</td>\n",
       "    </tr>\n",
       "    <tr>\n",
       "      <th>4748</th>\n",
       "      <td>36119010300</td>\n",
       "      <td>LI - Ongoing Gentrification and/or Displacement</td>\n",
       "    </tr>\n",
       "    <tr>\n",
       "      <th>4749</th>\n",
       "      <td>36119011600</td>\n",
       "      <td>VLI - Highly Vulnerable for Displacement</td>\n",
       "    </tr>\n",
       "    <tr>\n",
       "      <th>4750</th>\n",
       "      <td>36119012900</td>\n",
       "      <td>LI - Stable, Not Losing Low Income Households</td>\n",
       "    </tr>\n",
       "    <tr>\n",
       "      <th>4751</th>\n",
       "      <td>36119013301</td>\n",
       "      <td>LI - At Risk of Gentrification and/or Displace...</td>\n",
       "    </tr>\n",
       "    <tr>\n",
       "      <th>4752</th>\n",
       "      <td>36119013304</td>\n",
       "      <td>LI - At Risk of Gentrification and/or Displace...</td>\n",
       "    </tr>\n",
       "    <tr>\n",
       "      <th>4753</th>\n",
       "      <td>36119013600</td>\n",
       "      <td>LI - Stable, Not Losing Low Income Households</td>\n",
       "    </tr>\n",
       "    <tr>\n",
       "      <th>4754</th>\n",
       "      <td>36119014100</td>\n",
       "      <td>LI - At Risk of Gentrification and/or Displace...</td>\n",
       "    </tr>\n",
       "    <tr>\n",
       "      <th>4755</th>\n",
       "      <td>36119014200</td>\n",
       "      <td>LI - Stable, Not Losing Low Income Households</td>\n",
       "    </tr>\n",
       "    <tr>\n",
       "      <th>4756</th>\n",
       "      <td>36119014300</td>\n",
       "      <td>VLI - Highly Vulnerable for Displacement</td>\n",
       "    </tr>\n",
       "    <tr>\n",
       "      <th>4757</th>\n",
       "      <td>36119014605</td>\n",
       "      <td>LI - Stable, Not Losing Low Income Households</td>\n",
       "    </tr>\n",
       "  </tbody>\n",
       "</table>\n",
       "<p>4758 rows × 2 columns</p>\n",
       "</div>"
      ],
      "text/plain": [
       "           GEOid2                                           Typology\n",
       "0     09001010101     MHI - Stable, Not Losing Low Income Households\n",
       "1     09001010202                                    MHI - Exclusion\n",
       "2     09001010400     MHI - Stable, Not Losing Low Income Households\n",
       "3     09001010800                         MHI - At Risk of Exclusion\n",
       "4     09001010900     MHI - Stable, Not Losing Low Income Households\n",
       "5     09001011000     MHI - Stable, Not Losing Low Income Households\n",
       "6     09001011100                                    MHI - Exclusion\n",
       "7     09001020200                                    MHI - Exclusion\n",
       "8     09001020300                                    MHI - Exclusion\n",
       "9     09001020400                                    MHI - Exclusion\n",
       "10    09001020500     MHI - Stable, Not Losing Low Income Households\n",
       "11    09001020600     MHI - Stable, Not Losing Low Income Households\n",
       "12    09001020700     MHI - Stable, Not Losing Low Income Households\n",
       "13    09001020800     MHI - Stable, Not Losing Low Income Households\n",
       "14    09001020900      LI - Stable, Not Losing Low Income Households\n",
       "15    09001021000     MHI - Stable, Not Losing Low Income Households\n",
       "16    09001021100      LI - Stable, Not Losing Low Income Households\n",
       "17    09001021200     MHI - Stable, Not Losing Low Income Households\n",
       "18    09001021300     MHI - Stable, Not Losing Low Income Households\n",
       "19    09001021801      LI - Stable, Not Losing Low Income Households\n",
       "20    09001021802      LI - Stable, Not Losing Low Income Households\n",
       "21    09001021900      LI - Stable, Not Losing Low Income Households\n",
       "22    09001022400     MHI - Stable, Not Losing Low Income Households\n",
       "23    09001030200                         MHI - At Risk of Exclusion\n",
       "24    09001030300                                    MHI - Exclusion\n",
       "25    09001030400                         MHI - At Risk of Exclusion\n",
       "26    09001030500                         MHI - At Risk of Exclusion\n",
       "27    09001035100     MHI - Stable, Not Losing Low Income Households\n",
       "28    09001035300     MHI - Stable, Not Losing Low Income Households\n",
       "29    09001035400     MHI - Stable, Not Losing Low Income Households\n",
       "...           ...                                                ...\n",
       "4728  36119005901    LI - Ongoing Gentrification and/or Displacement\n",
       "4729  36119005902      LI - Stable, Not Losing Low Income Households\n",
       "4730  36119006000    LI - Ongoing Gentrification and/or Displacement\n",
       "4731  36119006100      LI - Stable, Not Losing Low Income Households\n",
       "4732  36119006200           VLI - Highly Vulnerable for Displacement\n",
       "4733  36119006400      LI - Stable, Not Losing Low Income Households\n",
       "4734  36119007300    LI - Ongoing Gentrification and/or Displacement\n",
       "4735  36119007800    LI - Ongoing Gentrification and/or Displacement\n",
       "4736  36119007900  LI - At Risk of Gentrification and/or Displace...\n",
       "4737  36119008000           VLI - Highly Vulnerable for Displacement\n",
       "4738  36119008100      LI - Stable, Not Losing Low Income Households\n",
       "4739  36119008404                         MHI - At Risk of Exclusion\n",
       "4740  36119008800  LI - At Risk of Gentrification and/or Displace...\n",
       "4741  36119008902    LI - Ongoing Gentrification and/or Displacement\n",
       "4742  36119009000    LI - Ongoing Gentrification and/or Displacement\n",
       "4743  36119009100      LI - Stable, Not Losing Low Income Households\n",
       "4744  36119009200    LI - Ongoing Gentrification and/or Displacement\n",
       "4745  36119009300           VLI - Highly Vulnerable for Displacement\n",
       "4746  36119009400      LI - Stable, Not Losing Low Income Households\n",
       "4747  36119009500      LI - Stable, Not Losing Low Income Households\n",
       "4748  36119010300    LI - Ongoing Gentrification and/or Displacement\n",
       "4749  36119011600           VLI - Highly Vulnerable for Displacement\n",
       "4750  36119012900      LI - Stable, Not Losing Low Income Households\n",
       "4751  36119013301  LI - At Risk of Gentrification and/or Displace...\n",
       "4752  36119013304  LI - At Risk of Gentrification and/or Displace...\n",
       "4753  36119013600      LI - Stable, Not Losing Low Income Households\n",
       "4754  36119014100  LI - At Risk of Gentrification and/or Displace...\n",
       "4755  36119014200      LI - Stable, Not Losing Low Income Households\n",
       "4756  36119014300           VLI - Highly Vulnerable for Displacement\n",
       "4757  36119014605      LI - Stable, Not Losing Low Income Households\n",
       "\n",
       "[4758 rows x 2 columns]"
      ]
     },
     "execution_count": 88,
     "metadata": {},
     "output_type": "execute_result"
    }
   ],
   "source": [
    "data[['GEOid2', 'Typology']].set_index('GEOid2').reset_index()"
   ]
  },
  {
   "cell_type": "code",
   "execution_count": 87,
   "metadata": {
    "collapsed": true
   },
   "outputs": [],
   "source": [
    "data[['GEOid2', 'Typology']].set_index('GEOid2').to_csv('UDPNY_revisedTypologies2.csv')"
   ]
  },
  {
   "cell_type": "code",
   "execution_count": 91,
   "metadata": {},
   "outputs": [
    {
     "data": {
      "text/plain": [
       "([<matplotlib.patches.Wedge at 0x1a1fe3a588>,\n",
       "  <matplotlib.patches.Wedge at 0x1a1fe3aa90>,\n",
       "  <matplotlib.patches.Wedge at 0x1a1fe40048>,\n",
       "  <matplotlib.patches.Wedge at 0x1a1fe40550>,\n",
       "  <matplotlib.patches.Wedge at 0x1a1fe40a90>,\n",
       "  <matplotlib.patches.Wedge at 0x1a1fe40fd0>,\n",
       "  <matplotlib.patches.Wedge at 0x1a1fe85550>,\n",
       "  <matplotlib.patches.Wedge at 0x1a1fe85a90>],\n",
       " [Text(0.597091,0.923841,''),\n",
       "  Text(-1.08383,0.187913,''),\n",
       "  Text(-0.491803,-0.983936,''),\n",
       "  Text(0.0885131,-1.09643,''),\n",
       "  Text(0.558157,-0.947872,''),\n",
       "  Text(0.857551,-0.688917,''),\n",
       "  Text(1.01896,-0.414401,''),\n",
       "  Text(1.09163,-0.135473,'')])"
      ]
     },
     "execution_count": 91,
     "metadata": {},
     "output_type": "execute_result"
    },
    {
     "data": {
      "image/png": "[encoded data removed]",
      "text/plain": [
       "<Figure size 432x288 with 1 Axes>"
      ]
     },
     "metadata": {},
     "output_type": "display_data"
    }
   ],
   "source": [
    "pl.pie(resultsTyp.iloc[:,1])"
   ]
  },
  {
   "cell_type": "code",
   "execution_count": null,
   "metadata": {},
   "outputs": [],
   "source": []
  }
 ],
 "metadata": {
  "kernelspec": {
   "display_name": "Python 3",
   "language": "python",
   "name": "python3"
  },
  "language_info": {
   "codemirror_mode": {
    "name": "ipython",
    "version": 3
   },
   "file_extension": ".py",
   "mimetype": "text/x-python",
   "name": "python",
   "nbconvert_exporter": "python",
   "pygments_lexer": "ipython3",
   "version": "3.5.5"
  }
 },
 "nbformat": 4,
 "nbformat_minor": 2
}
