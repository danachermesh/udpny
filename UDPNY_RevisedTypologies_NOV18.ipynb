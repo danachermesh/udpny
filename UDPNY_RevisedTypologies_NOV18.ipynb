{
 "cells": [
  {
   "cell_type": "code",
   "execution_count": 68,
   "metadata": {},
   "outputs": [],
   "source": [
    "import pandas as pd\n",
    "import numpy as np\n",
    "import geopandas as gpd\n",
    "import matplotlib.pylab as pl\n",
    "import seaborn as sns\n",
    "sns.set_style('whitegrid')"
   ]
  },
  {
   "cell_type": "markdown",
   "metadata": {},
   "source": [
    "# UDPNY 2018 - _phase #3_\n",
    "# _new edition according to udp methodology and revision - September '18_\n",
    "\n",
    "This code defines the _**8 displacement typologies**_ and assignes each tract to a typology. \n",
    "\n",
    "- [UDP's methodology / displacement typollogies](https://drive.google.com/file/d/1nwOoVItI5RLLILrFpbTRoXbrjIohnSPY/view)"
   ]
  },
  {
   "cell_type": "markdown",
   "metadata": {},
   "source": [
    "----\n",
    "# UDP Gentrification and Displacement Typologies\n",
    "The typologies (**Updated to October 2018**) can be found in the udp website under _[Gentrification and Displacement Census Tract Typologies](https://drive.google.com/file/d/1nwOoVItI5RLLILrFpbTRoXbrjIohnSPY/view])_\n",
    "### _8 Typologies_ to be generated to the displacement map:\n",
    "\n",
    "### Low Income:\n",
    "1. LI - Not Losing Low-Income Households\n",
    "2. LI - At Risk of Gentrification\n",
    "3. LI - Ongoing Displacement of Low-Income Households\n",
    "4. LI - Ongoing Gentrification \n",
    "\n",
    "### Moderate to High Income:\n",
    "5. MHI - Advanced Gentrification\n",
    "6. MHI - Not Losing Low-Income Households\n",
    "7. MHI - At Risk of Exclusion\n",
    "8. MHI - Displacement of Low-Income Households - Ongoing Exclusion "
   ]
  },
  {
   "cell_type": "markdown",
   "metadata": {},
   "source": [
    "---\n",
    "# 1. Data \n",
    "- This notebook uses the data was given by the Berkeley UDP team for the New-York region;\n",
    "- For the data aquisition process, including logistic regressions for the variables please refer to https://github.com/geeroovaa/udp"
   ]
  },
  {
   "cell_type": "code",
   "execution_count": 69,
   "metadata": {},
   "outputs": [
    {
     "name": "stdout",
     "output_type": "stream",
     "text": [
      "(5956, 146)\n"
     ]
    },
    {
     "data": {
      "text/html": [
       "<div>\n",
       "<style scoped>\n",
       "    .dataframe tbody tr th:only-of-type {\n",
       "        vertical-align: middle;\n",
       "    }\n",
       "\n",
       "    .dataframe tbody tr th {\n",
       "        vertical-align: top;\n",
       "    }\n",
       "\n",
       "    .dataframe thead th {\n",
       "        text-align: right;\n",
       "    }\n",
       "</style>\n",
       "<table border=\"1\" class=\"dataframe\">\n",
       "  <thead>\n",
       "    <tr style=\"text-align: right;\">\n",
       "      <th></th>\n",
       "      <th>empd02</th>\n",
       "      <th>TOD</th>\n",
       "      <th>TOD_pre_00</th>\n",
       "      <th>TOD_00_10</th>\n",
       "      <th>TOD_10</th>\n",
       "    </tr>\n",
       "  </thead>\n",
       "  <tbody>\n",
       "    <tr>\n",
       "      <th>0</th>\n",
       "      <td>398</td>\n",
       "      <td>False</td>\n",
       "      <td>False</td>\n",
       "      <td>False</td>\n",
       "      <td>False</td>\n",
       "    </tr>\n",
       "    <tr>\n",
       "      <th>1</th>\n",
       "      <td>222</td>\n",
       "      <td>False</td>\n",
       "      <td>False</td>\n",
       "      <td>False</td>\n",
       "      <td>False</td>\n",
       "    </tr>\n",
       "    <tr>\n",
       "      <th>2</th>\n",
       "      <td>364</td>\n",
       "      <td>False</td>\n",
       "      <td>False</td>\n",
       "      <td>False</td>\n",
       "      <td>False</td>\n",
       "    </tr>\n",
       "  </tbody>\n",
       "</table>\n",
       "</div>"
      ],
      "text/plain": [
       "   empd02    TOD  TOD_pre_00  TOD_00_10  TOD_10\n",
       "0     398  False       False      False   False\n",
       "1     222  False       False      False   False\n",
       "2     364  False       False      False   False"
      ]
     },
     "execution_count": 69,
     "metadata": {},
     "output_type": "execute_result"
    }
   ],
   "source": [
    "# unhash the following line if reading .dta file:\n",
    "# data = pd.read_stata(\"data/UDP_NYC_Variables.dta\")\n",
    "\n",
    "# reading .csv file:\n",
    "data = pd.read_csv(\"https://raw.githubusercontent.com/geeroovaa/udp/master/UDPNY_gerardo_11_07_18.csv\")\n",
    "\n",
    "print(data.shape)\n",
    "data.iloc[:3,-5:]"
   ]
  },
  {
   "cell_type": "code",
   "execution_count": 70,
   "metadata": {
    "scrolled": false
   },
   "outputs": [
    {
     "data": {
      "text/plain": [
       "['Unnamed: 0',\n",
       " 'NAME',\n",
       " 'county',\n",
       " 'hh_00',\n",
       " 'hh_16',\n",
       " 'hh_16_moe',\n",
       " 'hh_90',\n",
       " 'hi_00',\n",
       " 'hi_16',\n",
       " 'hi_16_moe',\n",
       " 'hi_90',\n",
       " 'hi_mig_10',\n",
       " 'hi_mig_10_moe',\n",
       " 'hi_mig_16',\n",
       " 'hi_mig_16_moe',\n",
       " 'hinc_00',\n",
       " 'hinc_16',\n",
       " 'hinc_16_moe',\n",
       " 'hinc_90',\n",
       " 'hu_00',\n",
       " 'hu_16',\n",
       " 'hu_16_moe',\n",
       " 'hu_90',\n",
       " 'li_00',\n",
       " 'li_16',\n",
       " 'li_16_moe',\n",
       " 'li_90',\n",
       " 'li_mig_10',\n",
       " 'li_mig_10_moe',\n",
       " 'li_mig_16',\n",
       " 'li_mig_16_moe',\n",
       " 'mhi_00',\n",
       " 'mhi_16',\n",
       " 'mhi_16_moe',\n",
       " 'mhi_90',\n",
       " 'mhi_mig_10',\n",
       " 'mhi_mig_10_moe',\n",
       " 'mhi_mig_16',\n",
       " 'mhi_mig_16_moe',\n",
       " 'mhval_00',\n",
       " 'mhval_16',\n",
       " 'mhval_16_moe',\n",
       " 'mhval_90',\n",
       " 'mi_00',\n",
       " 'mi_16',\n",
       " 'mi_16_moe',\n",
       " 'mi_90',\n",
       " 'mi_mig_10',\n",
       " 'mi_mig_10_moe',\n",
       " 'mi_mig_16',\n",
       " 'mi_mig_16_moe',\n",
       " 'mrent_00',\n",
       " 'mrent_16',\n",
       " 'mrent_16_moe',\n",
       " 'mrent_90',\n",
       " 'per_all_li_mig_10',\n",
       " 'per_all_li_mig_16',\n",
       " 'per_asian_00',\n",
       " 'per_asian_16',\n",
       " 'per_asian_16_moe',\n",
       " 'per_asian_90',\n",
       " 'per_black_00',\n",
       " 'per_black_16',\n",
       " 'per_black_16_moe',\n",
       " 'per_black_90',\n",
       " 'per_built_00_16',\n",
       " 'per_built_80_90',\n",
       " 'per_built_90_00',\n",
       " 'per_burden_00',\n",
       " 'per_burden_16',\n",
       " 'per_car_commute_00',\n",
       " 'per_car_commute_90',\n",
       " 'per_col_00',\n",
       " 'per_col_16',\n",
       " 'per_col_16_moe',\n",
       " 'per_col_90',\n",
       " 'per_commute_high_00',\n",
       " 'per_commute_high_16',\n",
       " 'per_commute_high_16_moe',\n",
       " 'per_commute_high_90',\n",
       " 'per_commute_low_00',\n",
       " 'per_commute_low_16',\n",
       " 'per_commute_low_16_moe',\n",
       " 'per_commute_low_90',\n",
       " 'per_commute_med_00',\n",
       " 'per_commute_med_16',\n",
       " 'per_commute_med_16_moe',\n",
       " 'per_commute_med_90',\n",
       " 'per_foreign_00',\n",
       " 'per_foreign_16',\n",
       " 'per_foreign_16_moe',\n",
       " 'per_foreign_90',\n",
       " 'per_hhwchild_00',\n",
       " 'per_hhwchild_16',\n",
       " 'per_hhwchild_16_moe',\n",
       " 'per_hhwchild_90',\n",
       " 'per_latino_00',\n",
       " 'per_latino_16',\n",
       " 'per_latino_16_moe',\n",
       " 'per_latino_90',\n",
       " 'per_nonwhite_00',\n",
       " 'per_nonwhite_16',\n",
       " 'per_nonwhite_16_moe',\n",
       " 'per_nonwhite_90',\n",
       " 'per_owners_00',\n",
       " 'per_owners_16',\n",
       " 'per_owners_16_moe',\n",
       " 'per_owners_90',\n",
       " 'per_rent_00',\n",
       " 'per_rent_16',\n",
       " 'per_rent_16_moe',\n",
       " 'per_rent_90',\n",
       " 'per_units_post80',\n",
       " 'per_units_pre50',\n",
       " 'per_units_pre50_00',\n",
       " 'per_units_pre50_16',\n",
       " 'pop_00',\n",
       " 'pop_16',\n",
       " 'pop_16_moe',\n",
       " 'pop_90',\n",
       " 'renters_pre_1979_16',\n",
       " 'state',\n",
       " 'tract',\n",
       " 'vhi_00',\n",
       " 'vhi_16',\n",
       " 'vhi_16_moe',\n",
       " 'vhi_90',\n",
       " 'vhi_mig_10',\n",
       " 'vhi_mig_10_moe',\n",
       " 'vhi_mig_16',\n",
       " 'vhi_mig_16_moe',\n",
       " 'vli_00',\n",
       " 'vli_16',\n",
       " 'vli_16_moe',\n",
       " 'vli_90',\n",
       " 'vli_mig_10',\n",
       " 'vli_mig_10_moe',\n",
       " 'vli_mig_16',\n",
       " 'vli_mig_16_moe',\n",
       " 'downtown',\n",
       " 'empd15',\n",
       " 'empd02',\n",
       " 'TOD',\n",
       " 'TOD_pre_00',\n",
       " 'TOD_00_10',\n",
       " 'TOD_10']"
      ]
     },
     "execution_count": 70,
     "metadata": {},
     "output_type": "execute_result"
    }
   ],
   "source": [
    "list(data.columns)"
   ]
  },
  {
   "cell_type": "markdown",
   "metadata": {},
   "source": [
    "## 1.1 Data cleaning and munging\n",
    "- Dropping tracts with _**population less than 500**_ (2016)\n",
    "- Dropping tracts with _**more than 5 'Null' columns**_\n",
    "- calculating coefficient of variation according to MOE (drop **_> 30% of variation_**)\n",
    "- reading in tracts' shapefile in order to claculate _**pop densities**_"
   ]
  },
  {
   "cell_type": "code",
   "execution_count": 71,
   "metadata": {},
   "outputs": [
    {
     "name": "stdout",
     "output_type": "stream",
     "text": [
      "# of tracts in data before cleaning:  5956\n",
      "# of tracts in data after cleaning:  5944\n"
     ]
    }
   ],
   "source": [
    "print(\"# of tracts in data before cleaning: \", data.shape[0])\n",
    "\n",
    "# Dropping tracts with population less than 500 (2016)\n",
    "data = data[data['pop_16'] > 500]\n",
    "# Dropping tracts with more than 5 'Null' columns\n",
    "data = data[data.isnull().sum(axis=1) <= 5]\n",
    "\n",
    "print(\"# of tracts in data after cleaning: \", data.shape[0])"
   ]
  },
  {
   "cell_type": "code",
   "execution_count": 72,
   "metadata": {},
   "outputs": [
    {
     "data": {
      "text/html": [
       "<div>\n",
       "<style scoped>\n",
       "    .dataframe tbody tr th:only-of-type {\n",
       "        vertical-align: middle;\n",
       "    }\n",
       "\n",
       "    .dataframe tbody tr th {\n",
       "        vertical-align: top;\n",
       "    }\n",
       "\n",
       "    .dataframe thead th {\n",
       "        text-align: right;\n",
       "    }\n",
       "</style>\n",
       "<table border=\"1\" class=\"dataframe\">\n",
       "  <thead>\n",
       "    <tr style=\"text-align: right;\">\n",
       "      <th></th>\n",
       "      <th>Unnamed: 0</th>\n",
       "      <th>NAME</th>\n",
       "      <th>county</th>\n",
       "      <th>hh_00</th>\n",
       "      <th>hh_16</th>\n",
       "      <th>hh_16_moe</th>\n",
       "      <th>hh_90</th>\n",
       "      <th>hi_00</th>\n",
       "      <th>hi_16</th>\n",
       "      <th>hi_16_moe</th>\n",
       "      <th>...</th>\n",
       "      <th>vli_mig_10_moe</th>\n",
       "      <th>vli_mig_16</th>\n",
       "      <th>vli_mig_16_moe</th>\n",
       "      <th>downtown</th>\n",
       "      <th>empd15</th>\n",
       "      <th>empd02</th>\n",
       "      <th>TOD</th>\n",
       "      <th>TOD_pre_00</th>\n",
       "      <th>TOD_00_10</th>\n",
       "      <th>TOD_10</th>\n",
       "    </tr>\n",
       "  </thead>\n",
       "  <tbody>\n",
       "    <tr>\n",
       "      <th>5955</th>\n",
       "      <td>9015830100</td>\n",
       "      <td>Census Tract 8301, Windham County, Connecticut</td>\n",
       "      <td>15</td>\n",
       "      <td>1574.0</td>\n",
       "      <td>1659.0</td>\n",
       "      <td>105.0</td>\n",
       "      <td>1428.0</td>\n",
       "      <td>0.162402</td>\n",
       "      <td>0.149289</td>\n",
       "      <td>0.059018</td>\n",
       "      <td>...</td>\n",
       "      <td>0.174726</td>\n",
       "      <td>0.457672</td>\n",
       "      <td>0.134416</td>\n",
       "      <td>False</td>\n",
       "      <td>526</td>\n",
       "      <td>367</td>\n",
       "      <td>False</td>\n",
       "      <td>False</td>\n",
       "      <td>False</td>\n",
       "      <td>False</td>\n",
       "    </tr>\n",
       "  </tbody>\n",
       "</table>\n",
       "<p>1 rows × 146 columns</p>\n",
       "</div>"
      ],
      "text/plain": [
       "      Unnamed: 0                                            NAME  county  \\\n",
       "5955  9015830100  Census Tract 8301, Windham County, Connecticut      15   \n",
       "\n",
       "       hh_00   hh_16  hh_16_moe   hh_90     hi_00     hi_16  hi_16_moe  \\\n",
       "5955  1574.0  1659.0      105.0  1428.0  0.162402  0.149289   0.059018   \n",
       "\n",
       "       ...    vli_mig_10_moe  vli_mig_16  vli_mig_16_moe  downtown  empd15  \\\n",
       "5955   ...          0.174726    0.457672        0.134416     False     526   \n",
       "\n",
       "      empd02    TOD  TOD_pre_00  TOD_00_10  TOD_10  \n",
       "5955     367  False       False      False   False  \n",
       "\n",
       "[1 rows x 146 columns]"
      ]
     },
     "execution_count": 72,
     "metadata": {},
     "output_type": "execute_result"
    }
   ],
   "source": [
    "data.tail(1)"
   ]
  },
  {
   "cell_type": "markdown",
   "metadata": {},
   "source": [
    "### Coefficient of variation of MOE\n",
    "## _Tracts with a coefficient of variation > 30% on several key 2016 variables are flagged and determined unreliable:_\n",
    "- Population -- V\n",
    "- Housing units -- V\n",
    "- Median rent -- V\n",
    "- Median home value -- V\n",
    "- Median income  -- **_no MOE in the data_**\n",
    "- College count\n",
    "- Renter count -- V"
   ]
  },
  {
   "cell_type": "code",
   "execution_count": 66,
   "metadata": {},
   "outputs": [
    {
     "data": {
      "text/plain": [
       "(4271, 146)"
      ]
     },
     "execution_count": 66,
     "metadata": {},
     "output_type": "execute_result"
    }
   ],
   "source": [
    "# Population\n",
    "data = data[(data.pop_16_moe / 1.645 ) / data.pop_16 <= 0.3]\n",
    "# Housing Units\n",
    "data = data[(data.hu_16_moe / 1.645 ) / data.hu_16 <= 0.3]\n",
    "# Bachelors count\n",
    "data = data[(data.per_col_16_moe / 1.645 ) / data.per_col_16 <= 0.3]\n",
    "\n",
    "# Renter counts, Median rent, Median home value\n",
    "# dividing data to ct with majority of renters vs homeowners\n",
    "datarent = data[data.per_rent_16 > 0.5]\n",
    "dataowner = data[data.per_rent_16 <= 0.5]\n",
    "\n",
    "# Renter count, ownership counts\n",
    "# datarent = datarent[(datarent.moe_renter16 / 1.645)  / datarent.rhu16 <= 0.3]\n",
    "# dataowner = dataowner[(dataowner.moe_owner16 / 1.645 ) / dataowner.ohu16 <= 0.3]\n",
    "\n",
    "# Median rent, Median home value\n",
    "datarent = datarent[(datarent.mrent_16_moe / 1.645)  / datarent.mrent_16 <= 0.3]\n",
    "dataowner = dataowner[(dataowner.mhval_16_moe / 1.645 ) / dataowner.mhval_16 <= 0.3]\n",
    "\n",
    "# concatenating two datasets back to 'data'\n",
    "data = [dataowner, datarent]\n",
    "data = pd.concat(data)\n",
    "data.shape"
   ]
  },
  {
   "cell_type": "code",
   "execution_count": 67,
   "metadata": {},
   "outputs": [
    {
     "data": {
      "text/plain": [
       "0.2814602960969044"
      ]
     },
     "execution_count": 67,
     "metadata": {},
     "output_type": "execute_result"
    }
   ],
   "source": [
    "(5944-data.shape[0]) / 5944"
   ]
  },
  {
   "cell_type": "markdown",
   "metadata": {},
   "source": [
    "### _4,271 CT were found valid for the analysis -- 28% were dropped._ "
   ]
  },
  {
   "cell_type": "markdown",
   "metadata": {},
   "source": [
    "### Census tracts shapefiles + calculating population densities"
   ]
  },
  {
   "cell_type": "code",
   "execution_count": 64,
   "metadata": {},
   "outputs": [
    {
     "name": "stdout",
     "output_type": "stream",
     "text": [
      "    Unnamed: 0\n",
      "0  34001000100\n",
      "1  34001000200\n",
      "2  34001000300\n",
      "3  34001000400\n",
      "4  34001000500\n",
      "Unnamed: 0    object\n",
      "dtype: object\n"
     ]
    }
   ],
   "source": [
    "print(data.iloc[:5,:1])\n",
    "data['Unnamed: 0'] = data['Unnamed: 0'].astype(str)\n",
    "data['Unnamed: 0'] = data['Unnamed: 0'].apply(lambda x: '{0:0>11}'.format(x))\n",
    "print(data.iloc[:,:1].dtypes)"
   ]
  },
  {
   "cell_type": "code",
   "execution_count": 65,
   "metadata": {},
   "outputs": [
    {
     "name": "stdout",
     "output_type": "stream",
     "text": [
      "5944\n",
      "[34 36  9]\n"
     ]
    }
   ],
   "source": [
    "print(len(data['Unnamed: 0'].unique()))\n",
    "print(data['state'].unique())"
   ]
  },
  {
   "cell_type": "code",
   "execution_count": 53,
   "metadata": {
    "scrolled": true
   },
   "outputs": [
    {
     "name": "stdout",
     "output_type": "stream",
     "text": [
      "(5297, 3)\n",
      "GEOID        object\n",
      "ALAND_mi    float64\n",
      "geometry     object\n",
      "dtype: object\n"
     ]
    },
    {
     "data": {
      "text/html": [
       "<div>\n",
       "<style scoped>\n",
       "    .dataframe tbody tr th:only-of-type {\n",
       "        vertical-align: middle;\n",
       "    }\n",
       "\n",
       "    .dataframe tbody tr th {\n",
       "        vertical-align: top;\n",
       "    }\n",
       "\n",
       "    .dataframe thead th {\n",
       "        text-align: right;\n",
       "    }\n",
       "</style>\n",
       "<table border=\"1\" class=\"dataframe\">\n",
       "  <thead>\n",
       "    <tr style=\"text-align: right;\">\n",
       "      <th></th>\n",
       "      <th>GEOID</th>\n",
       "      <th>ALAND_mi</th>\n",
       "      <th>geometry</th>\n",
       "    </tr>\n",
       "  </thead>\n",
       "  <tbody>\n",
       "    <tr>\n",
       "      <th>0</th>\n",
       "      <td>34003003200</td>\n",
       "      <td>0.47916</td>\n",
       "      <td>POLYGON ((-74.000221 40.914034, -73.9994909999...</td>\n",
       "    </tr>\n",
       "    <tr>\n",
       "      <th>1</th>\n",
       "      <td>34003003402</td>\n",
       "      <td>0.40644</td>\n",
       "      <td>POLYGON ((-74.01045499999999 40.914168, -74.00...</td>\n",
       "    </tr>\n",
       "    <tr>\n",
       "      <th>2</th>\n",
       "      <td>34003004002</td>\n",
       "      <td>0.42869</td>\n",
       "      <td>POLYGON ((-74.03627399999999 40.879097, -74.03...</td>\n",
       "    </tr>\n",
       "    <tr>\n",
       "      <th>3</th>\n",
       "      <td>34003015500</td>\n",
       "      <td>1.43050</td>\n",
       "      <td>POLYGON ((-73.984858 40.87487, -73.98401799999...</td>\n",
       "    </tr>\n",
       "    <tr>\n",
       "      <th>4</th>\n",
       "      <td>34003023401</td>\n",
       "      <td>0.16760</td>\n",
       "      <td>POLYGON ((-74.06457 40.887063, -74.062236 40.8...</td>\n",
       "    </tr>\n",
       "  </tbody>\n",
       "</table>\n",
       "</div>"
      ],
      "text/plain": [
       "         GEOID  ALAND_mi                                           geometry\n",
       "0  34003003200   0.47916  POLYGON ((-74.000221 40.914034, -73.9994909999...\n",
       "1  34003003402   0.40644  POLYGON ((-74.01045499999999 40.914168, -74.00...\n",
       "2  34003004002   0.42869  POLYGON ((-74.03627399999999 40.879097, -74.03...\n",
       "3  34003015500   1.43050  POLYGON ((-73.984858 40.87487, -73.98401799999...\n",
       "4  34003023401   0.16760  POLYGON ((-74.06457 40.887063, -74.062236 40.8..."
      ]
     },
     "execution_count": 53,
     "metadata": {},
     "output_type": "execute_result"
    }
   ],
   "source": [
    "Alltracts = gpd.GeoDataFrame.from_file(\"data/MM_Tracts_CSA-NYMetro/MM_Tracts_CSA-NYMetro.shp\")\n",
    "Alltracts = Alltracts[Alltracts['CSA'] == '408'].reset_index()\n",
    "Alltracts = Alltracts[['GEOID', 'ALAND_mi', 'geometry']]\n",
    "Alltracts['GEOID'] = Alltracts['GEOID'].apply(lambda x: '{0:0>11}'.format(x))\n",
    "\n",
    "print(Alltracts.shape)\n",
    "print(Alltracts.dtypes)\n",
    "Alltracts.head()"
   ]
  },
  {
   "cell_type": "code",
   "execution_count": 54,
   "metadata": {},
   "outputs": [
    {
     "name": "stdout",
     "output_type": "stream",
     "text": [
      "5297\n",
      "['34003003200' '34003003402' '34003004002' ... '09009154900' '09009165801'\n",
      " '09001055100']\n"
     ]
    }
   ],
   "source": [
    "print(len(Alltracts['GEOID'].unique()))\n",
    "print(Alltracts['GEOID'].unique())"
   ]
  },
  {
   "cell_type": "code",
   "execution_count": 55,
   "metadata": {},
   "outputs": [
    {
     "name": "stdout",
     "output_type": "stream",
     "text": [
      "<class 'geopandas.geodataframe.GeoDataFrame'>\n",
      "<class 'geopandas.geodataframe.GeoDataFrame'>\n",
      "(4128, 147)\n"
     ]
    },
    {
     "data": {
      "text/html": [
       "<div>\n",
       "<style scoped>\n",
       "    .dataframe tbody tr th:only-of-type {\n",
       "        vertical-align: middle;\n",
       "    }\n",
       "\n",
       "    .dataframe tbody tr th {\n",
       "        vertical-align: top;\n",
       "    }\n",
       "\n",
       "    .dataframe thead th {\n",
       "        text-align: right;\n",
       "    }\n",
       "</style>\n",
       "<table border=\"1\" class=\"dataframe\">\n",
       "  <thead>\n",
       "    <tr style=\"text-align: right;\">\n",
       "      <th></th>\n",
       "      <th>geometry</th>\n",
       "      <th>NAME</th>\n",
       "      <th>county</th>\n",
       "      <th>hh_00</th>\n",
       "      <th>hh_16</th>\n",
       "      <th>hh_16_moe</th>\n",
       "      <th>hh_90</th>\n",
       "      <th>hi_00</th>\n",
       "      <th>hi_16</th>\n",
       "      <th>hi_16_moe</th>\n",
       "      <th>...</th>\n",
       "      <th>vli_mig_16</th>\n",
       "      <th>vli_mig_16_moe</th>\n",
       "      <th>downtown</th>\n",
       "      <th>empd15</th>\n",
       "      <th>empd02</th>\n",
       "      <th>TOD</th>\n",
       "      <th>TOD_pre_00</th>\n",
       "      <th>TOD_00_10</th>\n",
       "      <th>TOD_10</th>\n",
       "      <th>pop_density16</th>\n",
       "    </tr>\n",
       "    <tr>\n",
       "      <th>GEOID</th>\n",
       "      <th></th>\n",
       "      <th></th>\n",
       "      <th></th>\n",
       "      <th></th>\n",
       "      <th></th>\n",
       "      <th></th>\n",
       "      <th></th>\n",
       "      <th></th>\n",
       "      <th></th>\n",
       "      <th></th>\n",
       "      <th></th>\n",
       "      <th></th>\n",
       "      <th></th>\n",
       "      <th></th>\n",
       "      <th></th>\n",
       "      <th></th>\n",
       "      <th></th>\n",
       "      <th></th>\n",
       "      <th></th>\n",
       "      <th></th>\n",
       "      <th></th>\n",
       "    </tr>\n",
       "  </thead>\n",
       "  <tbody>\n",
       "    <tr>\n",
       "      <th>34003023401</th>\n",
       "      <td>POLYGON ((-74.06457 40.887063, -74.062236 40.8...</td>\n",
       "      <td>Census Tract 234.01, Bergen County, New Jersey</td>\n",
       "      <td>3</td>\n",
       "      <td>1785.0</td>\n",
       "      <td>1714.0</td>\n",
       "      <td>105.0</td>\n",
       "      <td>1764.0</td>\n",
       "      <td>0.075360</td>\n",
       "      <td>0.085411</td>\n",
       "      <td>0.052440</td>\n",
       "      <td>...</td>\n",
       "      <td>0.497166</td>\n",
       "      <td>0.222092</td>\n",
       "      <td>False</td>\n",
       "      <td>461</td>\n",
       "      <td>478</td>\n",
       "      <td>False</td>\n",
       "      <td>False</td>\n",
       "      <td>False</td>\n",
       "      <td>False</td>\n",
       "      <td>23013.126492</td>\n",
       "    </tr>\n",
       "    <tr>\n",
       "      <th>34003030100</th>\n",
       "      <td>POLYGON ((-74.08288399999999 40.879418, -74.08...</td>\n",
       "      <td>Census Tract 301, Bergen County, New Jersey</td>\n",
       "      <td>3</td>\n",
       "      <td>2053.0</td>\n",
       "      <td>1952.0</td>\n",
       "      <td>139.0</td>\n",
       "      <td>2018.0</td>\n",
       "      <td>0.070906</td>\n",
       "      <td>0.034361</td>\n",
       "      <td>0.029258</td>\n",
       "      <td>...</td>\n",
       "      <td>0.707010</td>\n",
       "      <td>0.310734</td>\n",
       "      <td>False</td>\n",
       "      <td>2316</td>\n",
       "      <td>2634</td>\n",
       "      <td>False</td>\n",
       "      <td>False</td>\n",
       "      <td>False</td>\n",
       "      <td>False</td>\n",
       "      <td>6412.055759</td>\n",
       "    </tr>\n",
       "    <tr>\n",
       "      <th>34003033300</th>\n",
       "      <td>POLYGON ((-74.068018 40.889893, -74.0670339999...</td>\n",
       "      <td>Census Tract 333, Bergen County, New Jersey</td>\n",
       "      <td>3</td>\n",
       "      <td>1366.0</td>\n",
       "      <td>1407.0</td>\n",
       "      <td>65.0</td>\n",
       "      <td>1374.0</td>\n",
       "      <td>0.117540</td>\n",
       "      <td>0.112978</td>\n",
       "      <td>0.054905</td>\n",
       "      <td>...</td>\n",
       "      <td>0.604617</td>\n",
       "      <td>0.221888</td>\n",
       "      <td>False</td>\n",
       "      <td>732</td>\n",
       "      <td>786</td>\n",
       "      <td>False</td>\n",
       "      <td>False</td>\n",
       "      <td>False</td>\n",
       "      <td>False</td>\n",
       "      <td>10517.251798</td>\n",
       "    </tr>\n",
       "    <tr>\n",
       "      <th>34003041200</th>\n",
       "      <td>POLYGON ((-73.99802099999999 40.84664799999999...</td>\n",
       "      <td>Census Tract 412, Bergen County, New Jersey</td>\n",
       "      <td>3</td>\n",
       "      <td>1336.0</td>\n",
       "      <td>1667.0</td>\n",
       "      <td>87.0</td>\n",
       "      <td>1220.0</td>\n",
       "      <td>0.105694</td>\n",
       "      <td>0.073158</td>\n",
       "      <td>0.046579</td>\n",
       "      <td>...</td>\n",
       "      <td>0.605937</td>\n",
       "      <td>0.279433</td>\n",
       "      <td>False</td>\n",
       "      <td>359</td>\n",
       "      <td>646</td>\n",
       "      <td>False</td>\n",
       "      <td>False</td>\n",
       "      <td>False</td>\n",
       "      <td>False</td>\n",
       "      <td>24231.982529</td>\n",
       "    </tr>\n",
       "    <tr>\n",
       "      <th>34003046300</th>\n",
       "      <td>POLYGON ((-74.03238399999999 40.858634, -74.02...</td>\n",
       "      <td>Census Tract 463, Bergen County, New Jersey</td>\n",
       "      <td>3</td>\n",
       "      <td>1847.0</td>\n",
       "      <td>1626.0</td>\n",
       "      <td>101.0</td>\n",
       "      <td>1859.0</td>\n",
       "      <td>0.091163</td>\n",
       "      <td>0.112809</td>\n",
       "      <td>0.056503</td>\n",
       "      <td>...</td>\n",
       "      <td>0.553110</td>\n",
       "      <td>0.243652</td>\n",
       "      <td>False</td>\n",
       "      <td>1324</td>\n",
       "      <td>1341</td>\n",
       "      <td>False</td>\n",
       "      <td>False</td>\n",
       "      <td>False</td>\n",
       "      <td>False</td>\n",
       "      <td>12260.893395</td>\n",
       "    </tr>\n",
       "  </tbody>\n",
       "</table>\n",
       "<p>5 rows × 147 columns</p>\n",
       "</div>"
      ],
      "text/plain": [
       "                                                      geometry  \\\n",
       "GEOID                                                            \n",
       "34003023401  POLYGON ((-74.06457 40.887063, -74.062236 40.8...   \n",
       "34003030100  POLYGON ((-74.08288399999999 40.879418, -74.08...   \n",
       "34003033300  POLYGON ((-74.068018 40.889893, -74.0670339999...   \n",
       "34003041200  POLYGON ((-73.99802099999999 40.84664799999999...   \n",
       "34003046300  POLYGON ((-74.03238399999999 40.858634, -74.02...   \n",
       "\n",
       "                                                       NAME  county   hh_00  \\\n",
       "GEOID                                                                         \n",
       "34003023401  Census Tract 234.01, Bergen County, New Jersey       3  1785.0   \n",
       "34003030100     Census Tract 301, Bergen County, New Jersey       3  2053.0   \n",
       "34003033300     Census Tract 333, Bergen County, New Jersey       3  1366.0   \n",
       "34003041200     Census Tract 412, Bergen County, New Jersey       3  1336.0   \n",
       "34003046300     Census Tract 463, Bergen County, New Jersey       3  1847.0   \n",
       "\n",
       "              hh_16  hh_16_moe   hh_90     hi_00     hi_16  hi_16_moe  \\\n",
       "GEOID                                                                   \n",
       "34003023401  1714.0      105.0  1764.0  0.075360  0.085411   0.052440   \n",
       "34003030100  1952.0      139.0  2018.0  0.070906  0.034361   0.029258   \n",
       "34003033300  1407.0       65.0  1374.0  0.117540  0.112978   0.054905   \n",
       "34003041200  1667.0       87.0  1220.0  0.105694  0.073158   0.046579   \n",
       "34003046300  1626.0      101.0  1859.0  0.091163  0.112809   0.056503   \n",
       "\n",
       "                 ...        vli_mig_16  vli_mig_16_moe  downtown  empd15  \\\n",
       "GEOID            ...                                                       \n",
       "34003023401      ...          0.497166        0.222092     False     461   \n",
       "34003030100      ...          0.707010        0.310734     False    2316   \n",
       "34003033300      ...          0.604617        0.221888     False     732   \n",
       "34003041200      ...          0.605937        0.279433     False     359   \n",
       "34003046300      ...          0.553110        0.243652     False    1324   \n",
       "\n",
       "             empd02    TOD  TOD_pre_00  TOD_00_10  TOD_10  pop_density16  \n",
       "GEOID                                                                     \n",
       "34003023401     478  False       False      False   False   23013.126492  \n",
       "34003030100    2634  False       False      False   False    6412.055759  \n",
       "34003033300     786  False       False      False   False   10517.251798  \n",
       "34003041200     646  False       False      False   False   24231.982529  \n",
       "34003046300    1341  False       False      False   False   12260.893395  \n",
       "\n",
       "[5 rows x 147 columns]"
      ]
     },
     "execution_count": 55,
     "metadata": {},
     "output_type": "execute_result"
    }
   ],
   "source": [
    "data_shp = Alltracts.merge(data, left_on='GEOID', right_on='Unnamed: 0').drop('Unnamed: 0', axis=1)\\\n",
    "                                                                              .set_index('GEOID')\n",
    "\n",
    "# calculate pop density at 2016\n",
    "data_shp['pop_density16'] = data_shp['pop_16'] / data_shp['ALAND_mi']\n",
    "\n",
    "# replicating data_shp to data\n",
    "data = data_shp.drop(['ALAND_mi'], axis=1)\n",
    "\n",
    "print(type(data_shp))\n",
    "print(type(data))\n",
    "print(data.shape)\n",
    "data.head()"
   ]
  },
  {
   "cell_type": "code",
   "execution_count": 56,
   "metadata": {},
   "outputs": [],
   "source": [
    "data.to_csv('data_shp.csv')"
   ]
  },
  {
   "cell_type": "code",
   "execution_count": 57,
   "metadata": {},
   "outputs": [
    {
     "data": {
      "text/plain": [
       "<matplotlib.axes._subplots.AxesSubplot at 0x1a2185fa90>"
      ]
     },
     "execution_count": 57,
     "metadata": {},
     "output_type": "execute_result"
    },
    {
     "data": {
      "image/png": "[encoded data removed]",
      "text/plain": [
       "<Figure size 432x288 with 1 Axes>"
      ]
     },
     "metadata": {},
     "output_type": "display_data"
    }
   ],
   "source": [
    "data['pop_density16'].hist()"
   ]
  },
  {
   "cell_type": "markdown",
   "metadata": {},
   "source": [
    "---\n",
    "## 1.2 Creating conditional (binary) variables prior classification:"
   ]
  },
  {
   "cell_type": "markdown",
   "metadata": {},
   "source": [
    "### VLI - Very Low Income tract at 2016 -- _for additional layer on top of typologies_\n",
    "- vhi2016"
   ]
  },
  {
   "cell_type": "code",
   "execution_count": 73,
   "metadata": {},
   "outputs": [
    {
     "name": "stdout",
     "output_type": "stream",
     "text": [
      "(5944, 146)\n",
      "the median of very low income households at the year 2016 from total households, of all census tracts is: 0.24\n",
      "\n",
      "Number of VLI tracts at 2016: 472\n"
     ]
    }
   ],
   "source": [
    "# Calculating median for vli and vli % of all hh in tract\n",
    "\n",
    "print(data.shape)\n",
    "median_vli = data['vli_16'].median()\n",
    "print(\"the median of very low income households at the year 2016 from total households, \"  \n",
    "      \"of all census tracts is: {:.2f}\".format(median_vli))\n",
    "\n",
    "# VLI tract (2016)\n",
    "data['vli_tract16'] = np.where(data['vli_16'] > 0.5, 1, 0)\n",
    "print(\"\\nNumber of VLI tracts at 2016: {}\".format(data['vli_tract16'].value_counts()[1]))"
   ]
  },
  {
   "cell_type": "markdown",
   "metadata": {},
   "source": [
    "### Low Income tract\n",
    "- calculate the median % of all tracts\n",
    "- Binary output (0 == low income tract; 1 = not a low income tract)"
   ]
  },
  {
   "cell_type": "code",
   "execution_count": 74,
   "metadata": {
    "scrolled": true
   },
   "outputs": [
    {
     "name": "stdout",
     "output_type": "stream",
     "text": [
      "(5944, 147)\n",
      "the median of low income and very low income households at the year 2016 from total households, of all census tracts is: 0.39\n",
      "\n",
      "Number of LI tracts at 2016: 3126\n",
      "Number of LI tracts at 2000: 3096\n",
      "Number of LI tracts at 1990: 3111\n"
     ]
    }
   ],
   "source": [
    "# Calculating median for li and vli % of all hh in tract\n",
    "\n",
    "print(data.shape)\n",
    "medianli = data['vli_16'].median() + data['li_16'].median()\n",
    "print(\"the median of low income and very low income households at the year 2016 from total households, \"  \n",
    "      \"of all census tracts is: {:.2f}\".format(medianli))\n",
    "\n",
    "# LI 2016\n",
    "data['li_tract16'] = np.where(data['vli_16']+data['li_16'] > medianli, 1, 0)\n",
    "print(\"\\nNumber of LI tracts at 2016: {}\".format(data['li_tract16'].value_counts()[1]))\n",
    "\n",
    "# LI 2000\n",
    "data['li_tract00'] = np.where(data['vli_00']+data['li_00'] > (data['vli_00'].median() + data['li_00'].median()), 1, 0)\n",
    "print(\"Number of LI tracts at 2000: {}\".format(data['li_tract00'].value_counts()[1]))\n",
    "\n",
    "# LI 1990\n",
    "data['li_tract90'] = np.where(data['vli_90']+data['li_90'] > (data['vli_90'].median() + data['li_90'].median()), 1, 0)\n",
    "print(\"Number of LI tracts at 1990: {}\".format(data['li_tract90'].value_counts()[1]))"
   ]
  },
  {
   "cell_type": "markdown",
   "metadata": {},
   "source": [
    "### Ownership / Rentals oriented\n",
    "Does the tract has more than 50% renters?"
   ]
  },
  {
   "cell_type": "code",
   "execution_count": 75,
   "metadata": {},
   "outputs": [
    {
     "name": "stdout",
     "output_type": "stream",
     "text": [
      "In 1990, 2359 tracts were Renters-oriented while 3585 Ownerships-oriented\n",
      "In 2000, 2415 tracts were Renters-oriented while 3529 Ownerships-oriented\n",
      "In 2016, 2430 tracts were Renters-oriented while 3514 Ownerships-oriented\n"
     ]
    }
   ],
   "source": [
    "data['rentOriented_90'] = np.where(data['per_rent_90'] >= 0.5, 1, 0)\n",
    "data['rentOriented_00'] = np.where(data['per_rent_00'] >= 0.5, 1, 0)\n",
    "data['rentOriented_16'] = np.where(data['per_rent_16'] >= 0.5, 1, 0)\n",
    "\n",
    "print('In 1990, {} tracts were Renters-oriented while {} Ownerships-oriented'.format(\n",
    "                                            data['rentOriented_90'].value_counts()[1],\n",
    "                                            data['rentOriented_90'].value_counts()[0]))\n",
    "print('In 2000, {} tracts were Renters-oriented while {} Ownerships-oriented'.format(\n",
    "                                            data['rentOriented_00'].value_counts()[1],\n",
    "                                            data['rentOriented_00'].value_counts()[0]))\n",
    "print('In 2016, {} tracts were Renters-oriented while {} Ownerships-oriented'.format(\n",
    "                                            data['rentOriented_16'].value_counts()[1],\n",
    "                                            data['rentOriented_16'].value_counts()[0]))"
   ]
  },
  {
   "cell_type": "markdown",
   "metadata": {},
   "source": [
    "### Rent / Home Value < regional median"
   ]
  },
  {
   "cell_type": "code",
   "execution_count": 76,
   "metadata": {},
   "outputs": [],
   "source": [
    "data['rentLow_90'] = np.where((data['rentOriented_90'] == 1) &\n",
    "                               (data['mrent_90']<data['mrent_90'].median()),\n",
    "                               1, 0)\n",
    "data['hvalLow_90'] = np.where((data['rentOriented_90'] == 0) &\n",
    "                              (data['mhval_90']<data['mhval_90'].median()),\n",
    "                              1, 0)\n",
    "data['rentLow_00'] = np.where((data['rentOriented_00'] == 1) &\n",
    "                              (data['mrent_00']<data['mrent_00'].median()),\n",
    "                              1, 0)\n",
    "data['hvalLow_00'] = np.where((data['rentOriented_00'] == 0) &\n",
    "                              (data['mhval_00']<data['mhval_00'].median()),\n",
    "                              1, 0)"
   ]
  },
  {
   "cell_type": "markdown",
   "metadata": {},
   "source": [
    "### % renters > regional median"
   ]
  },
  {
   "cell_type": "code",
   "execution_count": 77,
   "metadata": {},
   "outputs": [],
   "source": [
    "data['renters%90'] = np.where(data['per_rent_90'] > data['per_rent_90'].median(), 1, 0)\n",
    "data['renters%00'] = np.where(data['per_rent_00'] > data['per_rent_00'].median(), 1, 0)\n",
    "data['renters%16'] = np.where(data['per_rent_16'] > data['per_rent_16'].median(), 1, 0)"
   ]
  },
  {
   "cell_type": "markdown",
   "metadata": {},
   "source": [
    "### % college educated < regional median "
   ]
  },
  {
   "cell_type": "code",
   "execution_count": 78,
   "metadata": {},
   "outputs": [],
   "source": [
    "data['edulow90'] = np.where(data['per_col_90'] < data['per_col_90'].median(), 1, 0)\n",
    "data['edulow00'] = np.where(data['per_col_00'] < data['per_col_00'].median(), 1, 0)"
   ]
  },
  {
   "cell_type": "markdown",
   "metadata": {},
   "source": [
    "### % nonwhite > regional median"
   ]
  },
  {
   "cell_type": "code",
   "execution_count": 79,
   "metadata": {},
   "outputs": [],
   "source": [
    "data['nonwhiteHigh90'] = np.where(data['per_nonwhite_90'] > data['per_nonwhite_90'].median(), 1, 0)\n",
    "data['nonwhiteHigh00'] = np.where(data['per_nonwhite_00'] > data['per_nonwhite_00'].median(), 1, 0)\n",
    "data['nonwhiteHigh16'] = np.where(data['per_nonwhite_16'] > data['per_nonwhite_16'].median(), 1, 0)"
   ]
  },
  {
   "cell_type": "markdown",
   "metadata": {},
   "source": [
    "### % of units in pre-1950 buildings > regional median"
   ]
  },
  {
   "cell_type": "code",
   "execution_count": 80,
   "metadata": {},
   "outputs": [],
   "source": [
    "data['units_pre50_High'] = np.where(data['per_units_pre50'] > data['per_units_pre50'].median(), 1, 0)"
   ]
  },
  {
   "cell_type": "markdown",
   "metadata": {},
   "source": [
    "### Employment density (2015) > regional median"
   ]
  },
  {
   "cell_type": "code",
   "execution_count": 81,
   "metadata": {},
   "outputs": [],
   "source": [
    "data['empdens16_High'] = np.where(data['empd15'] > data['empd15'].median(), 1, 0)"
   ]
  },
  {
   "cell_type": "markdown",
   "metadata": {},
   "source": [
    "### Population stable / growing 1990-2000; 2000-2016\n",
    "first step: recalculating **population growth in 90-00; 00-16**"
   ]
  },
  {
   "cell_type": "code",
   "execution_count": 82,
   "metadata": {
    "scrolled": true
   },
   "outputs": [],
   "source": [
    "# recalculating popgrowth 90-00; 00-16\n",
    "data['popgrowth90-00'] = data['pop_00'] - data['pop_90']\n",
    "data['popgrowth00-16'] = data['pop_16'] - data['pop_00']\n",
    "\n",
    "# Stable / Growing\n",
    "data['pgrowth90-00_High'] = np.where(data['popgrowth90-00'] >= 0, 1, 0)\n",
    "data['pgrowth00-16_High'] = np.where(data['popgrowth00-16'] >= 0, 1, 0)"
   ]
  },
  {
   "cell_type": "markdown",
   "metadata": {},
   "source": [
    "### Population Density < regional median"
   ]
  },
  {
   "cell_type": "code",
   "execution_count": 83,
   "metadata": {},
   "outputs": [
    {
     "ename": "KeyError",
     "evalue": "'pop_density16'",
     "output_type": "error",
     "traceback": [
      "\u001b[0;31m---------------------------------------------------------------------------\u001b[0m",
      "\u001b[0;31mKeyError\u001b[0m                                  Traceback (most recent call last)",
      "\u001b[0;32m/anaconda3/lib/python3.5/site-packages/pandas/core/indexes/base.py\u001b[0m in \u001b[0;36mget_loc\u001b[0;34m(self, key, method, tolerance)\u001b[0m\n\u001b[1;32m   3063\u001b[0m             \u001b[0;32mtry\u001b[0m\u001b[0;34m:\u001b[0m\u001b[0;34m\u001b[0m\u001b[0m\n\u001b[0;32m-> 3064\u001b[0;31m                 \u001b[0;32mreturn\u001b[0m \u001b[0mself\u001b[0m\u001b[0;34m.\u001b[0m\u001b[0m_engine\u001b[0m\u001b[0;34m.\u001b[0m\u001b[0mget_loc\u001b[0m\u001b[0;34m(\u001b[0m\u001b[0mkey\u001b[0m\u001b[0;34m)\u001b[0m\u001b[0;34m\u001b[0m\u001b[0m\n\u001b[0m\u001b[1;32m   3065\u001b[0m             \u001b[0;32mexcept\u001b[0m \u001b[0mKeyError\u001b[0m\u001b[0;34m:\u001b[0m\u001b[0;34m\u001b[0m\u001b[0m\n",
      "\u001b[0;32mpandas/_libs/index.pyx\u001b[0m in \u001b[0;36mpandas._libs.index.IndexEngine.get_loc\u001b[0;34m()\u001b[0m\n",
      "\u001b[0;32mpandas/_libs/index.pyx\u001b[0m in \u001b[0;36mpandas._libs.index.IndexEngine.get_loc\u001b[0;34m()\u001b[0m\n",
      "\u001b[0;32mpandas/_libs/hashtable_class_helper.pxi\u001b[0m in \u001b[0;36mpandas._libs.hashtable.PyObjectHashTable.get_item\u001b[0;34m()\u001b[0m\n",
      "\u001b[0;32mpandas/_libs/hashtable_class_helper.pxi\u001b[0m in \u001b[0;36mpandas._libs.hashtable.PyObjectHashTable.get_item\u001b[0;34m()\u001b[0m\n",
      "\u001b[0;31mKeyError\u001b[0m: 'pop_density16'",
      "\nDuring handling of the above exception, another exception occurred:\n",
      "\u001b[0;31mKeyError\u001b[0m                                  Traceback (most recent call last)",
      "\u001b[0;32m<ipython-input-83-1a6ec887b6ca>\u001b[0m in \u001b[0;36m<module>\u001b[0;34m()\u001b[0m\n\u001b[0;32m----> 1\u001b[0;31m \u001b[0mdata\u001b[0m\u001b[0;34m[\u001b[0m\u001b[0;34m'popDensLow16'\u001b[0m\u001b[0;34m]\u001b[0m \u001b[0;34m=\u001b[0m \u001b[0mnp\u001b[0m\u001b[0;34m.\u001b[0m\u001b[0mwhere\u001b[0m\u001b[0;34m(\u001b[0m\u001b[0mdata\u001b[0m\u001b[0;34m[\u001b[0m\u001b[0;34m'pop_density16'\u001b[0m\u001b[0;34m]\u001b[0m \u001b[0;34m<\u001b[0m \u001b[0mdata\u001b[0m\u001b[0;34m[\u001b[0m\u001b[0;34m'pop_density16'\u001b[0m\u001b[0;34m]\u001b[0m\u001b[0;34m.\u001b[0m\u001b[0mmedian\u001b[0m\u001b[0;34m(\u001b[0m\u001b[0;34m)\u001b[0m\u001b[0;34m,\u001b[0m \u001b[0;36m1\u001b[0m\u001b[0;34m,\u001b[0m \u001b[0;36m0\u001b[0m\u001b[0;34m)\u001b[0m\u001b[0;34m\u001b[0m\u001b[0m\n\u001b[0m",
      "\u001b[0;32m/anaconda3/lib/python3.5/site-packages/pandas/core/frame.py\u001b[0m in \u001b[0;36m__getitem__\u001b[0;34m(self, key)\u001b[0m\n\u001b[1;32m   2686\u001b[0m             \u001b[0;32mreturn\u001b[0m \u001b[0mself\u001b[0m\u001b[0;34m.\u001b[0m\u001b[0m_getitem_multilevel\u001b[0m\u001b[0;34m(\u001b[0m\u001b[0mkey\u001b[0m\u001b[0;34m)\u001b[0m\u001b[0;34m\u001b[0m\u001b[0m\n\u001b[1;32m   2687\u001b[0m         \u001b[0;32melse\u001b[0m\u001b[0;34m:\u001b[0m\u001b[0;34m\u001b[0m\u001b[0m\n\u001b[0;32m-> 2688\u001b[0;31m             \u001b[0;32mreturn\u001b[0m \u001b[0mself\u001b[0m\u001b[0;34m.\u001b[0m\u001b[0m_getitem_column\u001b[0m\u001b[0;34m(\u001b[0m\u001b[0mkey\u001b[0m\u001b[0;34m)\u001b[0m\u001b[0;34m\u001b[0m\u001b[0m\n\u001b[0m\u001b[1;32m   2689\u001b[0m \u001b[0;34m\u001b[0m\u001b[0m\n\u001b[1;32m   2690\u001b[0m     \u001b[0;32mdef\u001b[0m \u001b[0m_getitem_column\u001b[0m\u001b[0;34m(\u001b[0m\u001b[0mself\u001b[0m\u001b[0;34m,\u001b[0m \u001b[0mkey\u001b[0m\u001b[0;34m)\u001b[0m\u001b[0;34m:\u001b[0m\u001b[0;34m\u001b[0m\u001b[0m\n",
      "\u001b[0;32m/anaconda3/lib/python3.5/site-packages/pandas/core/frame.py\u001b[0m in \u001b[0;36m_getitem_column\u001b[0;34m(self, key)\u001b[0m\n\u001b[1;32m   2693\u001b[0m         \u001b[0;31m# get column\u001b[0m\u001b[0;34m\u001b[0m\u001b[0;34m\u001b[0m\u001b[0m\n\u001b[1;32m   2694\u001b[0m         \u001b[0;32mif\u001b[0m \u001b[0mself\u001b[0m\u001b[0;34m.\u001b[0m\u001b[0mcolumns\u001b[0m\u001b[0;34m.\u001b[0m\u001b[0mis_unique\u001b[0m\u001b[0;34m:\u001b[0m\u001b[0;34m\u001b[0m\u001b[0m\n\u001b[0;32m-> 2695\u001b[0;31m             \u001b[0;32mreturn\u001b[0m \u001b[0mself\u001b[0m\u001b[0;34m.\u001b[0m\u001b[0m_get_item_cache\u001b[0m\u001b[0;34m(\u001b[0m\u001b[0mkey\u001b[0m\u001b[0;34m)\u001b[0m\u001b[0;34m\u001b[0m\u001b[0m\n\u001b[0m\u001b[1;32m   2696\u001b[0m \u001b[0;34m\u001b[0m\u001b[0m\n\u001b[1;32m   2697\u001b[0m         \u001b[0;31m# duplicate columns & possible reduce dimensionality\u001b[0m\u001b[0;34m\u001b[0m\u001b[0;34m\u001b[0m\u001b[0m\n",
      "\u001b[0;32m/anaconda3/lib/python3.5/site-packages/pandas/core/generic.py\u001b[0m in \u001b[0;36m_get_item_cache\u001b[0;34m(self, item)\u001b[0m\n\u001b[1;32m   2484\u001b[0m         \u001b[0mres\u001b[0m \u001b[0;34m=\u001b[0m \u001b[0mcache\u001b[0m\u001b[0;34m.\u001b[0m\u001b[0mget\u001b[0m\u001b[0;34m(\u001b[0m\u001b[0mitem\u001b[0m\u001b[0;34m)\u001b[0m\u001b[0;34m\u001b[0m\u001b[0m\n\u001b[1;32m   2485\u001b[0m         \u001b[0;32mif\u001b[0m \u001b[0mres\u001b[0m \u001b[0;32mis\u001b[0m \u001b[0;32mNone\u001b[0m\u001b[0;34m:\u001b[0m\u001b[0;34m\u001b[0m\u001b[0m\n\u001b[0;32m-> 2486\u001b[0;31m             \u001b[0mvalues\u001b[0m \u001b[0;34m=\u001b[0m \u001b[0mself\u001b[0m\u001b[0;34m.\u001b[0m\u001b[0m_data\u001b[0m\u001b[0;34m.\u001b[0m\u001b[0mget\u001b[0m\u001b[0;34m(\u001b[0m\u001b[0mitem\u001b[0m\u001b[0;34m)\u001b[0m\u001b[0;34m\u001b[0m\u001b[0m\n\u001b[0m\u001b[1;32m   2487\u001b[0m             \u001b[0mres\u001b[0m \u001b[0;34m=\u001b[0m \u001b[0mself\u001b[0m\u001b[0;34m.\u001b[0m\u001b[0m_box_item_values\u001b[0m\u001b[0;34m(\u001b[0m\u001b[0mitem\u001b[0m\u001b[0;34m,\u001b[0m \u001b[0mvalues\u001b[0m\u001b[0;34m)\u001b[0m\u001b[0;34m\u001b[0m\u001b[0m\n\u001b[1;32m   2488\u001b[0m             \u001b[0mcache\u001b[0m\u001b[0;34m[\u001b[0m\u001b[0mitem\u001b[0m\u001b[0;34m]\u001b[0m \u001b[0;34m=\u001b[0m \u001b[0mres\u001b[0m\u001b[0;34m\u001b[0m\u001b[0m\n",
      "\u001b[0;32m/anaconda3/lib/python3.5/site-packages/pandas/core/internals.py\u001b[0m in \u001b[0;36mget\u001b[0;34m(self, item, fastpath)\u001b[0m\n\u001b[1;32m   4113\u001b[0m \u001b[0;34m\u001b[0m\u001b[0m\n\u001b[1;32m   4114\u001b[0m             \u001b[0;32mif\u001b[0m \u001b[0;32mnot\u001b[0m \u001b[0misna\u001b[0m\u001b[0;34m(\u001b[0m\u001b[0mitem\u001b[0m\u001b[0;34m)\u001b[0m\u001b[0;34m:\u001b[0m\u001b[0;34m\u001b[0m\u001b[0m\n\u001b[0;32m-> 4115\u001b[0;31m                 \u001b[0mloc\u001b[0m \u001b[0;34m=\u001b[0m \u001b[0mself\u001b[0m\u001b[0;34m.\u001b[0m\u001b[0mitems\u001b[0m\u001b[0;34m.\u001b[0m\u001b[0mget_loc\u001b[0m\u001b[0;34m(\u001b[0m\u001b[0mitem\u001b[0m\u001b[0;34m)\u001b[0m\u001b[0;34m\u001b[0m\u001b[0m\n\u001b[0m\u001b[1;32m   4116\u001b[0m             \u001b[0;32melse\u001b[0m\u001b[0;34m:\u001b[0m\u001b[0;34m\u001b[0m\u001b[0m\n\u001b[1;32m   4117\u001b[0m                 \u001b[0mindexer\u001b[0m \u001b[0;34m=\u001b[0m \u001b[0mnp\u001b[0m\u001b[0;34m.\u001b[0m\u001b[0marange\u001b[0m\u001b[0;34m(\u001b[0m\u001b[0mlen\u001b[0m\u001b[0;34m(\u001b[0m\u001b[0mself\u001b[0m\u001b[0;34m.\u001b[0m\u001b[0mitems\u001b[0m\u001b[0;34m)\u001b[0m\u001b[0;34m)\u001b[0m\u001b[0;34m[\u001b[0m\u001b[0misna\u001b[0m\u001b[0;34m(\u001b[0m\u001b[0mself\u001b[0m\u001b[0;34m.\u001b[0m\u001b[0mitems\u001b[0m\u001b[0;34m)\u001b[0m\u001b[0;34m]\u001b[0m\u001b[0;34m\u001b[0m\u001b[0m\n",
      "\u001b[0;32m/anaconda3/lib/python3.5/site-packages/pandas/core/indexes/base.py\u001b[0m in \u001b[0;36mget_loc\u001b[0;34m(self, key, method, tolerance)\u001b[0m\n\u001b[1;32m   3064\u001b[0m                 \u001b[0;32mreturn\u001b[0m \u001b[0mself\u001b[0m\u001b[0;34m.\u001b[0m\u001b[0m_engine\u001b[0m\u001b[0;34m.\u001b[0m\u001b[0mget_loc\u001b[0m\u001b[0;34m(\u001b[0m\u001b[0mkey\u001b[0m\u001b[0;34m)\u001b[0m\u001b[0;34m\u001b[0m\u001b[0m\n\u001b[1;32m   3065\u001b[0m             \u001b[0;32mexcept\u001b[0m \u001b[0mKeyError\u001b[0m\u001b[0;34m:\u001b[0m\u001b[0;34m\u001b[0m\u001b[0m\n\u001b[0;32m-> 3066\u001b[0;31m                 \u001b[0;32mreturn\u001b[0m \u001b[0mself\u001b[0m\u001b[0;34m.\u001b[0m\u001b[0m_engine\u001b[0m\u001b[0;34m.\u001b[0m\u001b[0mget_loc\u001b[0m\u001b[0;34m(\u001b[0m\u001b[0mself\u001b[0m\u001b[0;34m.\u001b[0m\u001b[0m_maybe_cast_indexer\u001b[0m\u001b[0;34m(\u001b[0m\u001b[0mkey\u001b[0m\u001b[0;34m)\u001b[0m\u001b[0;34m)\u001b[0m\u001b[0;34m\u001b[0m\u001b[0m\n\u001b[0m\u001b[1;32m   3067\u001b[0m \u001b[0;34m\u001b[0m\u001b[0m\n\u001b[1;32m   3068\u001b[0m         \u001b[0mindexer\u001b[0m \u001b[0;34m=\u001b[0m \u001b[0mself\u001b[0m\u001b[0;34m.\u001b[0m\u001b[0mget_indexer\u001b[0m\u001b[0;34m(\u001b[0m\u001b[0;34m[\u001b[0m\u001b[0mkey\u001b[0m\u001b[0;34m]\u001b[0m\u001b[0;34m,\u001b[0m \u001b[0mmethod\u001b[0m\u001b[0;34m=\u001b[0m\u001b[0mmethod\u001b[0m\u001b[0;34m,\u001b[0m \u001b[0mtolerance\u001b[0m\u001b[0;34m=\u001b[0m\u001b[0mtolerance\u001b[0m\u001b[0;34m)\u001b[0m\u001b[0;34m\u001b[0m\u001b[0m\n",
      "\u001b[0;32mpandas/_libs/index.pyx\u001b[0m in \u001b[0;36mpandas._libs.index.IndexEngine.get_loc\u001b[0;34m()\u001b[0m\n",
      "\u001b[0;32mpandas/_libs/index.pyx\u001b[0m in \u001b[0;36mpandas._libs.index.IndexEngine.get_loc\u001b[0;34m()\u001b[0m\n",
      "\u001b[0;32mpandas/_libs/hashtable_class_helper.pxi\u001b[0m in \u001b[0;36mpandas._libs.hashtable.PyObjectHashTable.get_item\u001b[0;34m()\u001b[0m\n",
      "\u001b[0;32mpandas/_libs/hashtable_class_helper.pxi\u001b[0m in \u001b[0;36mpandas._libs.hashtable.PyObjectHashTable.get_item\u001b[0;34m()\u001b[0m\n",
      "\u001b[0;31mKeyError\u001b[0m: 'pop_density16'"
     ]
    }
   ],
   "source": [
    "data['popDensLow16'] = np.where(data['pop_density16'] < data['pop_density16'].median(), 1, 0)"
   ]
  },
  {
   "cell_type": "markdown",
   "metadata": {},
   "source": [
    "### Loss of LI households 1990-2000; 2000-2016 (_absolute loss_)\n",
    "- ch_all_li_count90_00 < 0\n",
    "- ch_all_li_count00_16 < 0"
   ]
  },
  {
   "cell_type": "code",
   "execution_count": null,
   "metadata": {
    "scrolled": true
   },
   "outputs": [],
   "source": [
    "# calculate absolute loss of LI hh (vli + li)\n",
    "data['ch_all_li_count90_00'] = data['vli_00'] + data['li_00'] - data['vli_90'] - data['li_90']\n",
    "data['ch_all_li_count00_16'] = data['vli_16'] + data['li_16'] - data['vli_00'] - data['li_00']\n",
    "\n",
    "data['lossLI90-00'] = np.where(data['ch_all_li_count90_00'] < 0, 1, 0)\n",
    "data['lossLI00-16'] = np.where(data['ch_all_li_count00_16'] < 0, 1, 0)"
   ]
  },
  {
   "cell_type": "markdown",
   "metadata": {},
   "source": [
    "### LI migration rate in 2015 < in 2009\n",
    "\n",
    "per_all_li_mig_10 > per_all_li_mig_16"
   ]
  },
  {
   "cell_type": "code",
   "execution_count": 84,
   "metadata": {
    "scrolled": false
   },
   "outputs": [
    {
     "data": {
      "text/plain": [
       "1    3098\n",
       "0    2846\n",
       "Name: moveinLI_decrease00, dtype: int64"
      ]
     },
     "execution_count": 84,
     "metadata": {},
     "output_type": "execute_result"
    }
   ],
   "source": [
    "data['moveinLI_decrease00'] = np.where(data['per_all_li_mig_16'] < data['per_all_li_mig_10'], 1, 0)\n",
    "data['moveinLI_decrease00'].value_counts()"
   ]
  },
  {
   "cell_type": "markdown",
   "metadata": {},
   "source": [
    "### Define Educated growth > region median\n",
    "1. Calculate change in college educators % 90-00, 00-16"
   ]
  },
  {
   "cell_type": "code",
   "execution_count": 85,
   "metadata": {
    "scrolled": true
   },
   "outputs": [],
   "source": [
    "data['edu_change90-00'] = data['per_col_00'] - data['per_col_90']\n",
    "data['edu_change00-16'] = data['per_col_16'] - data['per_col_00']\n",
    "\n",
    "data['edugrowth_High90'] = np.where(data['edu_change90-00'] > data['edu_change90-00'].median(), 1, 0)\n",
    "data['edugrowth_High00'] = np.where(data['edu_change00-16'] > data['edu_change00-16'].median(), 1, 0)"
   ]
  },
  {
   "cell_type": "markdown",
   "metadata": {},
   "source": [
    "### % of households w children for 90,00,16 < regional median"
   ]
  },
  {
   "cell_type": "code",
   "execution_count": 86,
   "metadata": {},
   "outputs": [],
   "source": [
    "data['lessChildren90'] = np.where(data['per_hhwchild_90'] < data['per_hhwchild_90'].median(), 1, 0)\n",
    "data['lessChildren00'] = np.where(data['per_hhwchild_00'] < data['per_hhwchild_00'].median(), 1, 0)\n",
    "data['lessChildren16'] = np.where(data['per_hhwchild_16'] < data['per_hhwchild_16'].median(), 1, 0)"
   ]
  },
  {
   "cell_type": "markdown",
   "metadata": {
    "collapsed": true
   },
   "source": [
    "### Growth in real median household income (% change) > regional median (90 and 00)"
   ]
  },
  {
   "cell_type": "code",
   "execution_count": 87,
   "metadata": {
    "scrolled": true
   },
   "outputs": [],
   "source": [
    "data['pct_ch_hinc90_00'] = data['hinc_00'] - data['hinc_90']\n",
    "data['pct_ch_hinc00_16'] = data['hinc_16'] - data['hinc_00']\n",
    "                                                  \n",
    "data['hhIncomeGrowthHigh90'] = np.where(data['pct_ch_hinc90_00'] > data['pct_ch_hinc90_00'].median(), 1, 0)\n",
    "data['hhIncomeGrowthHigh00'] = np.where(data['pct_ch_hinc00_16'] > data['pct_ch_hinc00_16'].median(), 1, 0)"
   ]
  },
  {
   "cell_type": "markdown",
   "metadata": {},
   "source": [
    "### Rent change 90-00; 00-16 and home value change 90-00; 00-16 > regional median"
   ]
  },
  {
   "cell_type": "code",
   "execution_count": 88,
   "metadata": {},
   "outputs": [],
   "source": [
    "# calculate rent change and hv change for 90-00 and 00-16\n",
    "data['mrent90_00'] = data['mrent_00'] - data['mrent_90']\n",
    "data['mhval90_00'] = data['mhval_00'] - data['mhval_90']\n",
    "data['mrent00_16'] = data['mrent_16'] - data['mrent_00']\n",
    "data['mhval00_16'] = data['mhval_16'] - data['mhval_00']\n",
    "\n",
    "# 1990 base\n",
    "data['rentchange_High90'] = np.where(data['mrent90_00'] > data['mrent90_00'].median(), 1, 0)\n",
    "data['rhomeValchange_High90'] = np.where(data['mhval90_00'] > data['mhval90_00'].median(), 1, 0)\n",
    "\n",
    "# 2000 base\n",
    "data['rentchange_High00'] = np.where(data['mrent00_16'] > data['mrent00_16'].median(), 1, 0)\n",
    "data['rhomeValchange_High00'] = np.where(data['mhval00_16'] > data['mhval00_16'].median(), 1, 0)"
   ]
  },
  {
   "cell_type": "markdown",
   "metadata": {},
   "source": [
    "### Rail station (TOD)"
   ]
  },
  {
   "cell_type": "code",
   "execution_count": 89,
   "metadata": {
    "scrolled": false
   },
   "outputs": [
    {
     "name": "stdout",
     "output_type": "stream",
     "text": [
      "(5944, 191)\n"
     ]
    },
    {
     "data": {
      "text/plain": [
       "False    4304\n",
       "True     1640\n",
       "Name: TOD, dtype: int64"
      ]
     },
     "execution_count": 89,
     "metadata": {},
     "output_type": "execute_result"
    }
   ],
   "source": [
    "print(data.shape)\n",
    "data['TOD'].value_counts()"
   ]
  },
  {
   "cell_type": "markdown",
   "metadata": {},
   "source": [
    "### New built housing > regional median"
   ]
  },
  {
   "cell_type": "code",
   "execution_count": 90,
   "metadata": {},
   "outputs": [],
   "source": [
    "data['newBuilt_90'] = np.where(data['per_built_80_90'] > data['per_built_80_90'].median(), 1, 0)\n",
    "data['newBuilt_00'] = np.where(data['per_built_90_00'] > data['per_built_90_00'].median(), 1, 0)\n",
    "data['newBuilt_16'] = np.where(data['per_built_00_16'] > data['per_built_00_16'].median(), 1, 0)"
   ]
  },
  {
   "cell_type": "markdown",
   "metadata": {},
   "source": [
    "### % of car-commuters > regional median"
   ]
  },
  {
   "cell_type": "code",
   "execution_count": 91,
   "metadata": {},
   "outputs": [],
   "source": [
    "data['carcommuters_90'] = np.where(data['per_car_commute_90'] > data['per_car_commute_90'].median(), 1, 0)\n",
    "data['carcommuters_00'] = np.where(data['per_car_commute_00'] > data['per_car_commute_00'].median(), 1, 0)"
   ]
  },
  {
   "cell_type": "markdown",
   "metadata": {},
   "source": [
    "### Demographic change 90-00, 00-16 (2 out of 3 factors)"
   ]
  },
  {
   "cell_type": "code",
   "execution_count": 92,
   "metadata": {},
   "outputs": [
    {
     "name": "stdout",
     "output_type": "stream",
     "text": [
      "(5944, 198)\n",
      "In 1990, 1233 tracts in the data showed demographic change\n",
      "In 2000, 2173 tracts in the data showed demographic change\n"
     ]
    }
   ],
   "source": [
    "# Demographic change 90-00\n",
    "def Dchange90(df):\n",
    "    if df['edugrowth_High90'] == 1 and df['hhIncomeGrowthHigh90'] == 1:\n",
    "        val = 1\n",
    "    else:\n",
    "        val = 0\n",
    "    return val\n",
    "\n",
    "# Demographic change 00-16\n",
    "def Dchange00(df):\n",
    "    if df['edugrowth_High00'] == 1 and df['hhIncomeGrowthHigh00'] == 1:\n",
    "        val = 1\n",
    "    else:\n",
    "        val = 0\n",
    "    return val\n",
    "\n",
    "\n",
    "data['Dchange90'] = data.apply(Dchange90, axis=1)\n",
    "data['Dchange00'] = data.apply(Dchange00, axis=1)\n",
    "\n",
    "print(data.shape)\n",
    "print(\"In 1990, {} tracts in the data showed demographic change\".format(\n",
    "                                data['Dchange90'].value_counts()[1]))\n",
    "print(\"In 2000, {} tracts in the data showed demographic change\".format(\n",
    "                                data['Dchange00'].value_counts()[1]))"
   ]
  },
  {
   "cell_type": "markdown",
   "metadata": {},
   "source": [
    "### 1.2 Define \"Hot Market\"\n",
    "- Change in median real rent &gt; regional median<br>\n",
    "**or**<br>\n",
    "- Change in median value for owner-occupied homes &gt; regional median"
   ]
  },
  {
   "cell_type": "code",
   "execution_count": 93,
   "metadata": {},
   "outputs": [
    {
     "name": "stdout",
     "output_type": "stream",
     "text": [
      "(5944, 200)\n",
      "In 1990, 0.51 of the tracts in the data were defined as having a 'Hot Market'\n",
      "In 2000, 0.50 of the tracts in the data were defined as having a 'Hot Market'\n"
     ]
    }
   ],
   "source": [
    "def hotmarket90(df):\n",
    "    if df['rentOriented_90'] == 1 and df['rentchange_High90'] == 1:\n",
    "        val = 1\n",
    "    elif df['rentOriented_90'] == 0 and df['rhomeValchange_High90'] == 1:\n",
    "        val = 1\n",
    "    else:\n",
    "        val = 0\n",
    "    return val\n",
    "\n",
    "def hotmarket00(df):\n",
    "    if df['rentOriented_00'] == 1 and df['rentchange_High00'] == 1:\n",
    "        val = 1\n",
    "    elif df['rentOriented_00'] == 0 and df['rhomeValchange_High00'] == 1:\n",
    "        val = 1\n",
    "    else:\n",
    "        val = 0\n",
    "    return val\n",
    "\n",
    "data['hotmarket90'] = data.apply(hotmarket90, axis=1)\n",
    "data['hotmarket00'] = data.apply(hotmarket00, axis=1)\n",
    "\n",
    "print(data.shape)\n",
    "print(\"In 1990, {:.2f} of the tracts in the data were defined as having a 'Hot Market'\".format(\n",
    "                                                     data['hotmarket90'].value_counts([1])[1]))\n",
    "print(\"In 2000, {:.2f} of the tracts in the data were defined as having a 'Hot Market'\".format(\n",
    "                                                     data['hotmarket00'].value_counts([1])[1]))"
   ]
  },
  {
   "cell_type": "markdown",
   "metadata": {},
   "source": [
    "--- \n",
    "\n",
    "### 1.3 Define _Vulnerable to gentrification_ in 1990 or 2000\n",
    "\n",
    "- Housing affordable in base year (_Tract not a “Hot market”_) and (**any 2 of 4**):\n",
    "    - % low income households &gt; regional median\n",
    "    - % college educated &lt; regional median\n",
    "    - % renters &gt; regional median\n",
    "    - % nonwhite &gt; regional median"
   ]
  },
  {
   "cell_type": "code",
   "execution_count": 94,
   "metadata": {},
   "outputs": [
    {
     "name": "stdout",
     "output_type": "stream",
     "text": [
      "(5944, 202)\n",
      "In 1990, 2456 (0.41 of the) tracts were defined as 'Vulnerable'\n",
      "In 2000, 2363 (0.40 of the) tracts were defined as 'Vulnerable'\n"
     ]
    }
   ],
   "source": [
    "def vulnerable90(df):\n",
    "    if df['hvalLow_90']==1 and df['li_tract90']==1 and df['edulow90']==1:\n",
    "        val = 1\n",
    "    elif df['hvalLow_90']==1 and df['li_tract90']==1 and df['renters%90']==1:\n",
    "        val = 1\n",
    "    elif df['hvalLow_90']==1 and df['li_tract90']==1 and df['nonwhiteHigh90']==1:\n",
    "        val = 1\n",
    "    elif df['hvalLow_90']==1 and df['edulow90']==1 and df['renters%90']==1:\n",
    "        val = 1\n",
    "    elif df['hvalLow_90']==1 and df['edulow90']==1 and df['nonwhiteHigh90']==1:\n",
    "        val = 1\n",
    "    elif df['hvalLow_90']==1 and df['renters%90']==1 and df['nonwhiteHigh90']==1:\n",
    "        val = 1\n",
    "    elif df['rentLow_90']==1 and df['li_tract90']==1 and df['edulow90']==1:\n",
    "        val = 1\n",
    "    elif df['rentLow_90']==1 and df['li_tract90']==1 and df['renters%90']==1:\n",
    "        val = 1\n",
    "    elif df['rentLow_90']==1 and df['li_tract90']==1 and df['nonwhiteHigh90']==1:\n",
    "        val = 1\n",
    "    elif df['rentLow_90']==1 and df['edulow90']==1 and df['renters%90']==1:\n",
    "        val = 1\n",
    "    elif df['rentLow_90']==1 and df['edulow90']==1 and df['nonwhiteHigh90']==1:\n",
    "        val = 1\n",
    "    elif df['rentLow_90']==1 and df['renters%90']==1 and df['nonwhiteHigh90']==1:\n",
    "        val = 1\n",
    "    else:\n",
    "        val = 0\n",
    "    return val\n",
    "\n",
    "def vulnerable00(df):\n",
    "    if df['hvalLow_00']==1 and df['li_tract00']==1 and df['edulow00']==1:\n",
    "        val = 1\n",
    "    elif df['hvalLow_00']==1 and df['li_tract00']==1 and df['renters%00']==1:\n",
    "        val = 1\n",
    "    elif df['hvalLow_00']==1 and df['li_tract00']==1 and df['nonwhiteHigh00']==1:\n",
    "        val = 1\n",
    "    elif df['hvalLow_00']==1 and df['edulow00']==1 and df['renters%00']==1:\n",
    "        val = 1\n",
    "    elif df['hvalLow_00']==1 and df['edulow00']==1 and df['nonwhiteHigh00']==1:\n",
    "        val = 1\n",
    "    elif df['hvalLow_00']==1 and df['renters%00']==1 and df['nonwhiteHigh00']==1:\n",
    "        val = 1\n",
    "    elif df['rentLow_00']==1 and df['li_tract00']==1 and df['edulow00']==1:\n",
    "        val = 1\n",
    "    elif df['rentLow_00']==1 and df['li_tract00']==1 and df['renters%00']==1:\n",
    "        val = 1\n",
    "    elif df['rentLow_00']==1 and df['li_tract00']==1 and df['nonwhiteHigh00']==1:\n",
    "        val = 1\n",
    "    elif df['rentLow_00']==1 and df['edulow00']==1 and df['renters%00']==1:\n",
    "        val = 1\n",
    "    elif df['rentLow_00']==1 and df['edulow00']==1 and df['nonwhiteHigh00']==1:\n",
    "        val = 1\n",
    "    elif df['rentLow_00']==1 and df['renters%00']==1 and df['nonwhiteHigh00']==1:\n",
    "        val = 1\n",
    "    else:\n",
    "        val = 0\n",
    "    return val\n",
    "\n",
    "data['vulnerable90'] = data.apply(vulnerable90, axis=1)\n",
    "data['vulnerable00'] = data.apply(vulnerable00, axis=1)\n",
    "\n",
    "print(data.shape)\n",
    "print(\"In 1990, {} ({:.2f} of the) tracts were defined as 'Vulnerable'\".format(\n",
    "                                        data['vulnerable90'].value_counts()[1],                            \n",
    "                                    data['vulnerable90'].value_counts([1])[1]))\n",
    "print(\"In 2000, {} ({:.2f} of the) tracts were defined as 'Vulnerable'\".format(\n",
    "                                        data['vulnerable00'].value_counts()[1],                           \n",
    "                                    data['vulnerable00'].value_counts([1])[1]))"
   ]
  },
  {
   "cell_type": "markdown",
   "metadata": {},
   "source": [
    "---\n",
    "### 1.4 Define risk of gentrification\n",
    "4 out of the 8 of the following is true in 2016:\n",
    "- Located downtown\n",
    "- % of units in pre-1950 buildings > regional median\n",
    "- Share of renter households > regional median\n",
    "- Share of households with children < regional median\n",
    "- Share of recent new-build housing > regional median\n",
    "- Employment density < regional median\n",
    "- Population density < regional median\n",
    "- “Hot market”"
   ]
  },
  {
   "cell_type": "code",
   "execution_count": 95,
   "metadata": {
    "scrolled": true
   },
   "outputs": [
    {
     "ename": "KeyError",
     "evalue": "('popDensLow16', 'occurred at index 4')",
     "output_type": "error",
     "traceback": [
      "\u001b[0;31m---------------------------------------------------------------------------\u001b[0m",
      "\u001b[0;31mTypeError\u001b[0m                                 Traceback (most recent call last)",
      "\u001b[0;32m/anaconda3/lib/python3.5/site-packages/pandas/core/indexes/base.py\u001b[0m in \u001b[0;36mget_value\u001b[0;34m(self, series, key)\u001b[0m\n\u001b[1;32m   3109\u001b[0m             \u001b[0;32mtry\u001b[0m\u001b[0;34m:\u001b[0m\u001b[0;34m\u001b[0m\u001b[0m\n\u001b[0;32m-> 3110\u001b[0;31m                 \u001b[0;32mreturn\u001b[0m \u001b[0mlibindex\u001b[0m\u001b[0;34m.\u001b[0m\u001b[0mget_value_box\u001b[0m\u001b[0;34m(\u001b[0m\u001b[0ms\u001b[0m\u001b[0;34m,\u001b[0m \u001b[0mkey\u001b[0m\u001b[0;34m)\u001b[0m\u001b[0;34m\u001b[0m\u001b[0m\n\u001b[0m\u001b[1;32m   3111\u001b[0m             \u001b[0;32mexcept\u001b[0m \u001b[0mIndexError\u001b[0m\u001b[0;34m:\u001b[0m\u001b[0;34m\u001b[0m\u001b[0m\n",
      "\u001b[0;32mpandas/_libs/index.pyx\u001b[0m in \u001b[0;36mpandas._libs.index.get_value_box\u001b[0;34m()\u001b[0m\n",
      "\u001b[0;32mpandas/_libs/index.pyx\u001b[0m in \u001b[0;36mpandas._libs.index.get_value_box\u001b[0;34m()\u001b[0m\n",
      "\u001b[0;31mTypeError\u001b[0m: 'str' object cannot be interpreted as an integer",
      "\nDuring handling of the above exception, another exception occurred:\n",
      "\u001b[0;31mKeyError\u001b[0m                                  Traceback (most recent call last)",
      "\u001b[0;32m<ipython-input-95-2c2e10ef0ebf>\u001b[0m in \u001b[0;36m<module>\u001b[0;34m()\u001b[0m\n\u001b[1;32m     34\u001b[0m     \u001b[0;32mreturn\u001b[0m \u001b[0mval\u001b[0m\u001b[0;34m\u001b[0m\u001b[0m\n\u001b[1;32m     35\u001b[0m \u001b[0;34m\u001b[0m\u001b[0m\n\u001b[0;32m---> 36\u001b[0;31m \u001b[0mdata\u001b[0m\u001b[0;34m[\u001b[0m\u001b[0;34m'risk16'\u001b[0m\u001b[0;34m]\u001b[0m \u001b[0;34m=\u001b[0m \u001b[0mdata\u001b[0m\u001b[0;34m.\u001b[0m\u001b[0mapply\u001b[0m\u001b[0;34m(\u001b[0m\u001b[0mrisk16\u001b[0m\u001b[0;34m,\u001b[0m \u001b[0maxis\u001b[0m\u001b[0;34m=\u001b[0m\u001b[0;36m1\u001b[0m\u001b[0;34m)\u001b[0m\u001b[0;34m\u001b[0m\u001b[0m\n\u001b[0m\u001b[1;32m     37\u001b[0m \u001b[0;34m\u001b[0m\u001b[0m\n\u001b[1;32m     38\u001b[0m \u001b[0mprint\u001b[0m\u001b[0;34m(\u001b[0m\u001b[0mdata\u001b[0m\u001b[0;34m.\u001b[0m\u001b[0mshape\u001b[0m\u001b[0;34m)\u001b[0m\u001b[0;34m\u001b[0m\u001b[0m\n",
      "\u001b[0;32m/anaconda3/lib/python3.5/site-packages/pandas/core/frame.py\u001b[0m in \u001b[0;36mapply\u001b[0;34m(self, func, axis, broadcast, raw, reduce, result_type, args, **kwds)\u001b[0m\n\u001b[1;32m   6012\u001b[0m                          \u001b[0margs\u001b[0m\u001b[0;34m=\u001b[0m\u001b[0margs\u001b[0m\u001b[0;34m,\u001b[0m\u001b[0;34m\u001b[0m\u001b[0m\n\u001b[1;32m   6013\u001b[0m                          kwds=kwds)\n\u001b[0;32m-> 6014\u001b[0;31m         \u001b[0;32mreturn\u001b[0m \u001b[0mop\u001b[0m\u001b[0;34m.\u001b[0m\u001b[0mget_result\u001b[0m\u001b[0;34m(\u001b[0m\u001b[0;34m)\u001b[0m\u001b[0;34m\u001b[0m\u001b[0m\n\u001b[0m\u001b[1;32m   6015\u001b[0m \u001b[0;34m\u001b[0m\u001b[0m\n\u001b[1;32m   6016\u001b[0m     \u001b[0;32mdef\u001b[0m \u001b[0mapplymap\u001b[0m\u001b[0;34m(\u001b[0m\u001b[0mself\u001b[0m\u001b[0;34m,\u001b[0m \u001b[0mfunc\u001b[0m\u001b[0;34m)\u001b[0m\u001b[0;34m:\u001b[0m\u001b[0;34m\u001b[0m\u001b[0m\n",
      "\u001b[0;32m/anaconda3/lib/python3.5/site-packages/pandas/core/apply.py\u001b[0m in \u001b[0;36mget_result\u001b[0;34m(self)\u001b[0m\n\u001b[1;32m    140\u001b[0m             \u001b[0;32mreturn\u001b[0m \u001b[0mself\u001b[0m\u001b[0;34m.\u001b[0m\u001b[0mapply_raw\u001b[0m\u001b[0;34m(\u001b[0m\u001b[0;34m)\u001b[0m\u001b[0;34m\u001b[0m\u001b[0m\n\u001b[1;32m    141\u001b[0m \u001b[0;34m\u001b[0m\u001b[0m\n\u001b[0;32m--> 142\u001b[0;31m         \u001b[0;32mreturn\u001b[0m \u001b[0mself\u001b[0m\u001b[0;34m.\u001b[0m\u001b[0mapply_standard\u001b[0m\u001b[0;34m(\u001b[0m\u001b[0;34m)\u001b[0m\u001b[0;34m\u001b[0m\u001b[0m\n\u001b[0m\u001b[1;32m    143\u001b[0m \u001b[0;34m\u001b[0m\u001b[0m\n\u001b[1;32m    144\u001b[0m     \u001b[0;32mdef\u001b[0m \u001b[0mapply_empty_result\u001b[0m\u001b[0;34m(\u001b[0m\u001b[0mself\u001b[0m\u001b[0;34m)\u001b[0m\u001b[0;34m:\u001b[0m\u001b[0;34m\u001b[0m\u001b[0m\n",
      "\u001b[0;32m/anaconda3/lib/python3.5/site-packages/pandas/core/apply.py\u001b[0m in \u001b[0;36mapply_standard\u001b[0;34m(self)\u001b[0m\n\u001b[1;32m    246\u001b[0m \u001b[0;34m\u001b[0m\u001b[0m\n\u001b[1;32m    247\u001b[0m         \u001b[0;31m# compute the result using the series generator\u001b[0m\u001b[0;34m\u001b[0m\u001b[0;34m\u001b[0m\u001b[0m\n\u001b[0;32m--> 248\u001b[0;31m         \u001b[0mself\u001b[0m\u001b[0;34m.\u001b[0m\u001b[0mapply_series_generator\u001b[0m\u001b[0;34m(\u001b[0m\u001b[0;34m)\u001b[0m\u001b[0;34m\u001b[0m\u001b[0m\n\u001b[0m\u001b[1;32m    249\u001b[0m \u001b[0;34m\u001b[0m\u001b[0m\n\u001b[1;32m    250\u001b[0m         \u001b[0;31m# wrap results\u001b[0m\u001b[0;34m\u001b[0m\u001b[0;34m\u001b[0m\u001b[0m\n",
      "\u001b[0;32m/anaconda3/lib/python3.5/site-packages/pandas/core/apply.py\u001b[0m in \u001b[0;36mapply_series_generator\u001b[0;34m(self)\u001b[0m\n\u001b[1;32m    275\u001b[0m             \u001b[0;32mtry\u001b[0m\u001b[0;34m:\u001b[0m\u001b[0;34m\u001b[0m\u001b[0m\n\u001b[1;32m    276\u001b[0m                 \u001b[0;32mfor\u001b[0m \u001b[0mi\u001b[0m\u001b[0;34m,\u001b[0m \u001b[0mv\u001b[0m \u001b[0;32min\u001b[0m \u001b[0menumerate\u001b[0m\u001b[0;34m(\u001b[0m\u001b[0mseries_gen\u001b[0m\u001b[0;34m)\u001b[0m\u001b[0;34m:\u001b[0m\u001b[0;34m\u001b[0m\u001b[0m\n\u001b[0;32m--> 277\u001b[0;31m                     \u001b[0mresults\u001b[0m\u001b[0;34m[\u001b[0m\u001b[0mi\u001b[0m\u001b[0;34m]\u001b[0m \u001b[0;34m=\u001b[0m \u001b[0mself\u001b[0m\u001b[0;34m.\u001b[0m\u001b[0mf\u001b[0m\u001b[0;34m(\u001b[0m\u001b[0mv\u001b[0m\u001b[0;34m)\u001b[0m\u001b[0;34m\u001b[0m\u001b[0m\n\u001b[0m\u001b[1;32m    278\u001b[0m                     \u001b[0mkeys\u001b[0m\u001b[0;34m.\u001b[0m\u001b[0mappend\u001b[0m\u001b[0;34m(\u001b[0m\u001b[0mv\u001b[0m\u001b[0;34m.\u001b[0m\u001b[0mname\u001b[0m\u001b[0;34m)\u001b[0m\u001b[0;34m\u001b[0m\u001b[0m\n\u001b[1;32m    279\u001b[0m             \u001b[0;32mexcept\u001b[0m \u001b[0mException\u001b[0m \u001b[0;32mas\u001b[0m \u001b[0me\u001b[0m\u001b[0;34m:\u001b[0m\u001b[0;34m\u001b[0m\u001b[0m\n",
      "\u001b[0;32m<ipython-input-95-2c2e10ef0ebf>\u001b[0m in \u001b[0;36mrisk16\u001b[0;34m(df)\u001b[0m\n\u001b[1;32m      6\u001b[0m     \u001b[0;32melif\u001b[0m \u001b[0mdf\u001b[0m\u001b[0;34m[\u001b[0m\u001b[0;34m'downtown'\u001b[0m\u001b[0;34m]\u001b[0m \u001b[0;34m==\u001b[0m \u001b[0;36m1\u001b[0m \u001b[0;32mand\u001b[0m \u001b[0mdf\u001b[0m\u001b[0;34m[\u001b[0m\u001b[0;34m'units_pre50_High'\u001b[0m\u001b[0;34m]\u001b[0m \u001b[0;34m==\u001b[0m \u001b[0;36m1\u001b[0m \u001b[0;32mand\u001b[0m \u001b[0mdf\u001b[0m\u001b[0;34m[\u001b[0m\u001b[0;34m'renters%16'\u001b[0m\u001b[0;34m]\u001b[0m \u001b[0;34m==\u001b[0m \u001b[0;36m1\u001b[0m \u001b[0;32mand\u001b[0m \u001b[0mdf\u001b[0m\u001b[0;34m[\u001b[0m\u001b[0;34m'empdens16_High'\u001b[0m\u001b[0;34m]\u001b[0m \u001b[0;34m==\u001b[0m \u001b[0;36m1\u001b[0m\u001b[0;34m:\u001b[0m\u001b[0;34m\u001b[0m\u001b[0m\n\u001b[1;32m      7\u001b[0m         \u001b[0mval\u001b[0m \u001b[0;34m=\u001b[0m \u001b[0;36m1\u001b[0m\u001b[0;34m\u001b[0m\u001b[0m\n\u001b[0;32m----> 8\u001b[0;31m     \u001b[0;32melif\u001b[0m \u001b[0mdf\u001b[0m\u001b[0;34m[\u001b[0m\u001b[0;34m'downtown'\u001b[0m\u001b[0;34m]\u001b[0m \u001b[0;34m==\u001b[0m \u001b[0;36m1\u001b[0m \u001b[0;32mand\u001b[0m \u001b[0mdf\u001b[0m\u001b[0;34m[\u001b[0m\u001b[0;34m'units_pre50_High'\u001b[0m\u001b[0;34m]\u001b[0m \u001b[0;34m==\u001b[0m \u001b[0;36m1\u001b[0m \u001b[0;32mand\u001b[0m \u001b[0mdf\u001b[0m\u001b[0;34m[\u001b[0m\u001b[0;34m'renters%16'\u001b[0m\u001b[0;34m]\u001b[0m \u001b[0;34m==\u001b[0m \u001b[0;36m1\u001b[0m \u001b[0;32mand\u001b[0m \u001b[0mdf\u001b[0m\u001b[0;34m[\u001b[0m\u001b[0;34m'popDensLow16'\u001b[0m\u001b[0;34m]\u001b[0m \u001b[0;34m==\u001b[0m \u001b[0;36m1\u001b[0m\u001b[0;34m:\u001b[0m\u001b[0;34m\u001b[0m\u001b[0m\n\u001b[0m\u001b[1;32m      9\u001b[0m         \u001b[0mval\u001b[0m \u001b[0;34m=\u001b[0m \u001b[0;36m1\u001b[0m\u001b[0;34m\u001b[0m\u001b[0m\n\u001b[1;32m     10\u001b[0m     \u001b[0;32melif\u001b[0m \u001b[0mdf\u001b[0m\u001b[0;34m[\u001b[0m\u001b[0;34m'downtown'\u001b[0m\u001b[0;34m]\u001b[0m \u001b[0;34m==\u001b[0m \u001b[0;36m1\u001b[0m \u001b[0;32mand\u001b[0m \u001b[0mdf\u001b[0m\u001b[0;34m[\u001b[0m\u001b[0;34m'units_pre50_High'\u001b[0m\u001b[0;34m]\u001b[0m \u001b[0;34m==\u001b[0m \u001b[0;36m1\u001b[0m \u001b[0;32mand\u001b[0m \u001b[0mdf\u001b[0m\u001b[0;34m[\u001b[0m\u001b[0;34m'renters%16'\u001b[0m\u001b[0;34m]\u001b[0m \u001b[0;34m==\u001b[0m \u001b[0;36m1\u001b[0m \u001b[0;32mand\u001b[0m \u001b[0mdf\u001b[0m\u001b[0;34m[\u001b[0m\u001b[0;34m'hotmarket00'\u001b[0m\u001b[0;34m]\u001b[0m \u001b[0;34m==\u001b[0m \u001b[0;36m1\u001b[0m\u001b[0;34m:\u001b[0m\u001b[0;34m\u001b[0m\u001b[0m\n",
      "\u001b[0;32m/anaconda3/lib/python3.5/site-packages/pandas/core/series.py\u001b[0m in \u001b[0;36m__getitem__\u001b[0;34m(self, key)\u001b[0m\n\u001b[1;32m    765\u001b[0m         \u001b[0mkey\u001b[0m \u001b[0;34m=\u001b[0m \u001b[0mcom\u001b[0m\u001b[0;34m.\u001b[0m\u001b[0m_apply_if_callable\u001b[0m\u001b[0;34m(\u001b[0m\u001b[0mkey\u001b[0m\u001b[0;34m,\u001b[0m \u001b[0mself\u001b[0m\u001b[0;34m)\u001b[0m\u001b[0;34m\u001b[0m\u001b[0m\n\u001b[1;32m    766\u001b[0m         \u001b[0;32mtry\u001b[0m\u001b[0;34m:\u001b[0m\u001b[0;34m\u001b[0m\u001b[0m\n\u001b[0;32m--> 767\u001b[0;31m             \u001b[0mresult\u001b[0m \u001b[0;34m=\u001b[0m \u001b[0mself\u001b[0m\u001b[0;34m.\u001b[0m\u001b[0mindex\u001b[0m\u001b[0;34m.\u001b[0m\u001b[0mget_value\u001b[0m\u001b[0;34m(\u001b[0m\u001b[0mself\u001b[0m\u001b[0;34m,\u001b[0m \u001b[0mkey\u001b[0m\u001b[0;34m)\u001b[0m\u001b[0;34m\u001b[0m\u001b[0m\n\u001b[0m\u001b[1;32m    768\u001b[0m \u001b[0;34m\u001b[0m\u001b[0m\n\u001b[1;32m    769\u001b[0m             \u001b[0;32mif\u001b[0m \u001b[0;32mnot\u001b[0m \u001b[0mis_scalar\u001b[0m\u001b[0;34m(\u001b[0m\u001b[0mresult\u001b[0m\u001b[0;34m)\u001b[0m\u001b[0;34m:\u001b[0m\u001b[0;34m\u001b[0m\u001b[0m\n",
      "\u001b[0;32m/anaconda3/lib/python3.5/site-packages/pandas/core/indexes/base.py\u001b[0m in \u001b[0;36mget_value\u001b[0;34m(self, series, key)\u001b[0m\n\u001b[1;32m   3116\u001b[0m                     \u001b[0;32mraise\u001b[0m \u001b[0mInvalidIndexError\u001b[0m\u001b[0;34m(\u001b[0m\u001b[0mkey\u001b[0m\u001b[0;34m)\u001b[0m\u001b[0;34m\u001b[0m\u001b[0m\n\u001b[1;32m   3117\u001b[0m                 \u001b[0;32melse\u001b[0m\u001b[0;34m:\u001b[0m\u001b[0;34m\u001b[0m\u001b[0m\n\u001b[0;32m-> 3118\u001b[0;31m                     \u001b[0;32mraise\u001b[0m \u001b[0me1\u001b[0m\u001b[0;34m\u001b[0m\u001b[0m\n\u001b[0m\u001b[1;32m   3119\u001b[0m             \u001b[0;32mexcept\u001b[0m \u001b[0mException\u001b[0m\u001b[0;34m:\u001b[0m  \u001b[0;31m# pragma: no cover\u001b[0m\u001b[0;34m\u001b[0m\u001b[0m\n\u001b[1;32m   3120\u001b[0m                 \u001b[0;32mraise\u001b[0m \u001b[0me1\u001b[0m\u001b[0;34m\u001b[0m\u001b[0m\n",
      "\u001b[0;32m/anaconda3/lib/python3.5/site-packages/pandas/core/indexes/base.py\u001b[0m in \u001b[0;36mget_value\u001b[0;34m(self, series, key)\u001b[0m\n\u001b[1;32m   3102\u001b[0m         \u001b[0;32mtry\u001b[0m\u001b[0;34m:\u001b[0m\u001b[0;34m\u001b[0m\u001b[0m\n\u001b[1;32m   3103\u001b[0m             return self._engine.get_value(s, k,\n\u001b[0;32m-> 3104\u001b[0;31m                                           tz=getattr(series.dtype, 'tz', None))\n\u001b[0m\u001b[1;32m   3105\u001b[0m         \u001b[0;32mexcept\u001b[0m \u001b[0mKeyError\u001b[0m \u001b[0;32mas\u001b[0m \u001b[0me1\u001b[0m\u001b[0;34m:\u001b[0m\u001b[0;34m\u001b[0m\u001b[0m\n\u001b[1;32m   3106\u001b[0m             \u001b[0;32mif\u001b[0m \u001b[0mlen\u001b[0m\u001b[0;34m(\u001b[0m\u001b[0mself\u001b[0m\u001b[0;34m)\u001b[0m \u001b[0;34m>\u001b[0m \u001b[0;36m0\u001b[0m \u001b[0;32mand\u001b[0m \u001b[0mself\u001b[0m\u001b[0;34m.\u001b[0m\u001b[0minferred_type\u001b[0m \u001b[0;32min\u001b[0m \u001b[0;34m[\u001b[0m\u001b[0;34m'integer'\u001b[0m\u001b[0;34m,\u001b[0m \u001b[0;34m'boolean'\u001b[0m\u001b[0;34m]\u001b[0m\u001b[0;34m:\u001b[0m\u001b[0;34m\u001b[0m\u001b[0m\n",
      "\u001b[0;32mpandas/_libs/index.pyx\u001b[0m in \u001b[0;36mpandas._libs.index.IndexEngine.get_value\u001b[0;34m()\u001b[0m\n",
      "\u001b[0;32mpandas/_libs/index.pyx\u001b[0m in \u001b[0;36mpandas._libs.index.IndexEngine.get_value\u001b[0;34m()\u001b[0m\n",
      "\u001b[0;32mpandas/_libs/index.pyx\u001b[0m in \u001b[0;36mpandas._libs.index.IndexEngine.get_loc\u001b[0;34m()\u001b[0m\n",
      "\u001b[0;32mpandas/_libs/hashtable_class_helper.pxi\u001b[0m in \u001b[0;36mpandas._libs.hashtable.PyObjectHashTable.get_item\u001b[0;34m()\u001b[0m\n",
      "\u001b[0;32mpandas/_libs/hashtable_class_helper.pxi\u001b[0m in \u001b[0;36mpandas._libs.hashtable.PyObjectHashTable.get_item\u001b[0;34m()\u001b[0m\n",
      "\u001b[0;31mKeyError\u001b[0m: ('popDensLow16', 'occurred at index 4')"
     ]
    }
   ],
   "source": [
    "def risk16(df):\n",
    "    if df['downtown'] == 1 and df['units_pre50_High'] == 1 and df['renters%16'] == 1 and df['lessChildren16'] == 1:\n",
    "        val = 1\n",
    "    elif df['downtown'] == 1 and df['units_pre50_High'] == 1 and df['renters%16'] == 1 and df['newBuilt_16'] == 1:\n",
    "        val = 1\n",
    "    elif df['downtown'] == 1 and df['units_pre50_High'] == 1 and df['renters%16'] == 1 and df['empdens16_High'] == 1:\n",
    "        val = 1   \n",
    "    elif df['downtown'] == 1 and df['units_pre50_High'] == 1 and df['renters%16'] == 1 and df['popDensLow16'] == 1:\n",
    "        val = 1     \n",
    "    elif df['downtown'] == 1 and df['units_pre50_High'] == 1 and df['renters%16'] == 1 and df['hotmarket00'] == 1:\n",
    "        val = 1\n",
    "    elif df['units_pre50_High'] == 1 and df['renters%16'] == 1 and df['lessChildren16'] == 1 and df['newBuilt_16'] == 1:\n",
    "        val = 1\n",
    "    elif df['units_pre50_High'] == 1 and df['renters%16'] == 1 and df['lessChildren16'] == 1 and df['empdens16_High'] == 1:\n",
    "        val = 1\n",
    "    elif df['units_pre50_High'] == 1 and df['renters%16'] == 1 and df['lessChildren16'] == 1 and df['popDensLow16'] == 1:\n",
    "        val = 1\n",
    "    elif df['units_pre50_High'] == 1 and df['renters%16'] == 1 and df['lessChildren16'] == 1 and df['hotmarket00'] == 1:\n",
    "        val = 1    \n",
    "    elif df['renters%16'] == 1 and df['lessChildren16'] == 1 and df['newBuilt_16'] == 1 and df['empdens16_High'] == 1:\n",
    "        val = 1\n",
    "    elif df['renters%16'] == 1 and df['lessChildren16'] == 1 and df['newBuilt_16'] == 1 and df['popDensLow16'] == 1:\n",
    "        val = 1\n",
    "    elif df['renters%16'] == 1 and df['lessChildren16'] == 1 and df['newBuilt_16'] == 1 and df['hotmarket00'] == 1:\n",
    "        val = 1\n",
    "    elif df['lessChildren16'] == 1 and df['newBuilt_16'] == 1 and df['empdens16_High'] == 1 and df['popDensLow16'] == 1:\n",
    "        val=1\n",
    "    elif df['lessChildren16'] == 1 and df['newBuilt_16'] == 1 and df['empdens16_High'] == 1 and df['hotmarket00'] == 1:\n",
    "        val=1\n",
    "    elif df['newBuilt_16'] == 1 and df['empdens16_High'] == 1 and df['popDensLow16'] == 1 and df['hotmarket00'] == 1:\n",
    "        val=1\n",
    "    else:\n",
    "        val = 0\n",
    "    return val\n",
    "\n",
    "data['risk16'] = data.apply(risk16, axis=1)\n",
    "\n",
    "print(data.shape)\n",
    "print(\"In 2016, {} ({:.2f} of the) tracts were defined as 'at risk'\".format(\n",
    "                                           data['risk16'].value_counts()[1],                              \n",
    "                                       data['risk16'].value_counts([1])[1]))"
   ]
  },
  {
   "cell_type": "markdown",
   "metadata": {},
   "source": [
    "### 1.5 Define risk of exclusion\n",
    "3 out of the 5 of the following is true in 2016:\n",
    "\n",
    "- % of units in prewar buildings (1950) > regional median\n",
    "- Share of non-white < regional median\n",
    "- Share of college-education population > regional median\n",
    "- Share of car commuters > regional median\n",
    "- “Hot market”"
   ]
  },
  {
   "cell_type": "code",
   "execution_count": null,
   "metadata": {},
   "outputs": [],
   "source": [
    "def risk_Exclusion(df):\n",
    "    if df['units_pre50_High'] == 1 and df['edulow00'] == 0 and df['nonwhiteHigh16'] == 0:\n",
    "        val = 1\n",
    "    elif df['units_pre50_High'] == 1 and df['edulow00'] == 0 and df['carcommuters_00'] == 1:\n",
    "        val = 1\n",
    "    elif df['units_pre50_High'] == 1 and df['edulow00'] == 0 and df['hotmarket00'] == 1:\n",
    "        val = 1\n",
    "    elif df['units_pre50_High'] == 1 and df['nonwhiteHigh16'] == 0 and df['carcommuters_00'] == 1:\n",
    "        val = 1    \n",
    "    elif df['units_pre50_High'] == 1 and df['nonwhiteHigh16'] == 0 and df['hotmarket00'] == 1:\n",
    "        val = 1\n",
    "    elif df['units_pre50_High'] == 1 and df['carcommuters_00'] == 1 and df['hotmarket00'] == 1:\n",
    "        val = 1\n",
    "    elif df['nonwhiteHigh16'] == 0 and df['carcommuters_00'] == 1 and df['hotmarket00'] == 1:\n",
    "        val = 1\n",
    "    elif df['nonwhiteHigh16'] == 0 and df['carcommuters_00'] == 1 and df['edulow00'] == 0:\n",
    "        val=1\n",
    "    elif df['hotmarket00'] == 1 and df['carcommuters_00'] == 1 and df['edulow00'] == 0:\n",
    "        val=1\n",
    "    else:\n",
    "        val = 0\n",
    "    return val\n",
    "\n",
    "data['risk_Exclusion'] = data.apply(risk_Exclusion, axis=1)\n",
    "\n",
    "print(data.shape)\n",
    "print(\"In 2016, {} ({:.2f} of the) tracts were defined as 'at risk of exclusion'\".format(\n",
    "                                                data['risk_Exclusion'].value_counts()[1],                              \n",
    "                                            data['risk_Exclusion'].value_counts([1])[1]))"
   ]
  },
  {
   "cell_type": "markdown",
   "metadata": {},
   "source": [
    "### 1.6 Gentrified 90 + Gentrified 00"
   ]
  },
  {
   "cell_type": "code",
   "execution_count": 96,
   "metadata": {},
   "outputs": [
    {
     "name": "stdout",
     "output_type": "stream",
     "text": [
      "(5944, 204)\n",
      "From 1990 to 2000, 247 tracts were Gentrified\n",
      "From 2000 to 2016, 225 tracts were Gentrified\n"
     ]
    }
   ],
   "source": [
    "data['Gentrified90'] = np.where((data['vulnerable90'] == 1) &\n",
    "                                (data['Dchange90'] == 1) &\n",
    "                                (data['hotmarket90'] == 1), 1, 0)\n",
    "data['Gentrified00'] = np.where((data['vulnerable00'] == 1) & \n",
    "                                (data['Dchange00'] == 1) &\n",
    "                                (data['hotmarket00'] == 1), 1, 0)\n",
    "\n",
    "\n",
    "print(data.shape)\n",
    "print(\"From 1990 to 2000, {} tracts were Gentrified\".format(\n",
    "                     data['Gentrified90'].value_counts()[1]))\n",
    "print(\"From 2000 to 2016, {} tracts were Gentrified\".format(\n",
    "                     data['Gentrified00'].value_counts()[1]))"
   ]
  },
  {
   "cell_type": "markdown",
   "metadata": {},
   "source": [
    "---\n",
    "\n",
    "# 2. Classify census tracts by typologies\n",
    "•\tIf any individual variable is missing, then the whole typology is missing."
   ]
  },
  {
   "cell_type": "markdown",
   "metadata": {},
   "source": [
    "| Typology                                   | Typology Criteria  | \n",
    "| ------------------------------------------:|-------------------------------------------:|\n",
    "| LI - Not Losing Low-Income Households      | - Not classified as At Risk of,            |\n",
    "|                                            | Ongoing, or Advanced Gentrification        |\n",
    "| ------------------------------------------ |------------------------------------------- |\n",
    "| LI - At Risk of Gentrification             | - Vulnerable in 2000                       |\n",
    "|                                            | - Hot Market                               |\n",
    "|                                            | - At risk of Gentrification                |\n",
    "| ------------------------------------------ |------------------------------------------- |\n"
   ]
  },
  {
   "cell_type": "code",
   "execution_count": 97,
   "metadata": {},
   "outputs": [
    {
     "name": "stdout",
     "output_type": "stream",
     "text": [
      "(5944, 204)\n"
     ]
    },
    {
     "ename": "KeyError",
     "evalue": "('lossLI00-16', 'occurred at index 0')",
     "output_type": "error",
     "traceback": [
      "\u001b[0;31m---------------------------------------------------------------------------\u001b[0m",
      "\u001b[0;31mTypeError\u001b[0m                                 Traceback (most recent call last)",
      "\u001b[0;32m/anaconda3/lib/python3.5/site-packages/pandas/core/indexes/base.py\u001b[0m in \u001b[0;36mget_value\u001b[0;34m(self, series, key)\u001b[0m\n\u001b[1;32m   3109\u001b[0m             \u001b[0;32mtry\u001b[0m\u001b[0;34m:\u001b[0m\u001b[0;34m\u001b[0m\u001b[0m\n\u001b[0;32m-> 3110\u001b[0;31m                 \u001b[0;32mreturn\u001b[0m \u001b[0mlibindex\u001b[0m\u001b[0;34m.\u001b[0m\u001b[0mget_value_box\u001b[0m\u001b[0;34m(\u001b[0m\u001b[0ms\u001b[0m\u001b[0;34m,\u001b[0m \u001b[0mkey\u001b[0m\u001b[0;34m)\u001b[0m\u001b[0;34m\u001b[0m\u001b[0m\n\u001b[0m\u001b[1;32m   3111\u001b[0m             \u001b[0;32mexcept\u001b[0m \u001b[0mIndexError\u001b[0m\u001b[0;34m:\u001b[0m\u001b[0;34m\u001b[0m\u001b[0m\n",
      "\u001b[0;32mpandas/_libs/index.pyx\u001b[0m in \u001b[0;36mpandas._libs.index.get_value_box\u001b[0;34m()\u001b[0m\n",
      "\u001b[0;32mpandas/_libs/index.pyx\u001b[0m in \u001b[0;36mpandas._libs.index.get_value_box\u001b[0;34m()\u001b[0m\n",
      "\u001b[0;31mTypeError\u001b[0m: 'str' object cannot be interpreted as an integer",
      "\nDuring handling of the above exception, another exception occurred:\n",
      "\u001b[0;31mKeyError\u001b[0m                                  Traceback (most recent call last)",
      "\u001b[0;32m<ipython-input-97-896a5afaa51f>\u001b[0m in \u001b[0;36m<module>\u001b[0;34m()\u001b[0m\n\u001b[1;32m     52\u001b[0m \u001b[0;34m\u001b[0m\u001b[0m\n\u001b[1;32m     53\u001b[0m \u001b[0mprint\u001b[0m\u001b[0;34m(\u001b[0m\u001b[0mdata\u001b[0m\u001b[0;34m.\u001b[0m\u001b[0mshape\u001b[0m\u001b[0;34m)\u001b[0m\u001b[0;34m\u001b[0m\u001b[0m\n\u001b[0;32m---> 54\u001b[0;31m \u001b[0mdata\u001b[0m\u001b[0;34m[\u001b[0m\u001b[0;34m'Typology'\u001b[0m\u001b[0;34m]\u001b[0m \u001b[0;34m=\u001b[0m \u001b[0mdata\u001b[0m\u001b[0;34m.\u001b[0m\u001b[0mapply\u001b[0m\u001b[0;34m(\u001b[0m\u001b[0mTypology\u001b[0m\u001b[0;34m,\u001b[0m \u001b[0maxis\u001b[0m\u001b[0;34m=\u001b[0m\u001b[0;36m1\u001b[0m\u001b[0;34m)\u001b[0m\u001b[0;34m\u001b[0m\u001b[0m\n\u001b[0m\u001b[1;32m     55\u001b[0m \u001b[0mdata\u001b[0m\u001b[0;34m[\u001b[0m\u001b[0;34m'Typology'\u001b[0m\u001b[0;34m]\u001b[0m\u001b[0;34m.\u001b[0m\u001b[0mvalue_counts\u001b[0m\u001b[0;34m(\u001b[0m\u001b[0;34m)\u001b[0m\u001b[0;34m\u001b[0m\u001b[0m\n",
      "\u001b[0;32m/anaconda3/lib/python3.5/site-packages/pandas/core/frame.py\u001b[0m in \u001b[0;36mapply\u001b[0;34m(self, func, axis, broadcast, raw, reduce, result_type, args, **kwds)\u001b[0m\n\u001b[1;32m   6012\u001b[0m                          \u001b[0margs\u001b[0m\u001b[0;34m=\u001b[0m\u001b[0margs\u001b[0m\u001b[0;34m,\u001b[0m\u001b[0;34m\u001b[0m\u001b[0m\n\u001b[1;32m   6013\u001b[0m                          kwds=kwds)\n\u001b[0;32m-> 6014\u001b[0;31m         \u001b[0;32mreturn\u001b[0m \u001b[0mop\u001b[0m\u001b[0;34m.\u001b[0m\u001b[0mget_result\u001b[0m\u001b[0;34m(\u001b[0m\u001b[0;34m)\u001b[0m\u001b[0;34m\u001b[0m\u001b[0m\n\u001b[0m\u001b[1;32m   6015\u001b[0m \u001b[0;34m\u001b[0m\u001b[0m\n\u001b[1;32m   6016\u001b[0m     \u001b[0;32mdef\u001b[0m \u001b[0mapplymap\u001b[0m\u001b[0;34m(\u001b[0m\u001b[0mself\u001b[0m\u001b[0;34m,\u001b[0m \u001b[0mfunc\u001b[0m\u001b[0;34m)\u001b[0m\u001b[0;34m:\u001b[0m\u001b[0;34m\u001b[0m\u001b[0m\n",
      "\u001b[0;32m/anaconda3/lib/python3.5/site-packages/pandas/core/apply.py\u001b[0m in \u001b[0;36mget_result\u001b[0;34m(self)\u001b[0m\n\u001b[1;32m    140\u001b[0m             \u001b[0;32mreturn\u001b[0m \u001b[0mself\u001b[0m\u001b[0;34m.\u001b[0m\u001b[0mapply_raw\u001b[0m\u001b[0;34m(\u001b[0m\u001b[0;34m)\u001b[0m\u001b[0;34m\u001b[0m\u001b[0m\n\u001b[1;32m    141\u001b[0m \u001b[0;34m\u001b[0m\u001b[0m\n\u001b[0;32m--> 142\u001b[0;31m         \u001b[0;32mreturn\u001b[0m \u001b[0mself\u001b[0m\u001b[0;34m.\u001b[0m\u001b[0mapply_standard\u001b[0m\u001b[0;34m(\u001b[0m\u001b[0;34m)\u001b[0m\u001b[0;34m\u001b[0m\u001b[0m\n\u001b[0m\u001b[1;32m    143\u001b[0m \u001b[0;34m\u001b[0m\u001b[0m\n\u001b[1;32m    144\u001b[0m     \u001b[0;32mdef\u001b[0m \u001b[0mapply_empty_result\u001b[0m\u001b[0;34m(\u001b[0m\u001b[0mself\u001b[0m\u001b[0;34m)\u001b[0m\u001b[0;34m:\u001b[0m\u001b[0;34m\u001b[0m\u001b[0m\n",
      "\u001b[0;32m/anaconda3/lib/python3.5/site-packages/pandas/core/apply.py\u001b[0m in \u001b[0;36mapply_standard\u001b[0;34m(self)\u001b[0m\n\u001b[1;32m    246\u001b[0m \u001b[0;34m\u001b[0m\u001b[0m\n\u001b[1;32m    247\u001b[0m         \u001b[0;31m# compute the result using the series generator\u001b[0m\u001b[0;34m\u001b[0m\u001b[0;34m\u001b[0m\u001b[0m\n\u001b[0;32m--> 248\u001b[0;31m         \u001b[0mself\u001b[0m\u001b[0;34m.\u001b[0m\u001b[0mapply_series_generator\u001b[0m\u001b[0;34m(\u001b[0m\u001b[0;34m)\u001b[0m\u001b[0;34m\u001b[0m\u001b[0m\n\u001b[0m\u001b[1;32m    249\u001b[0m \u001b[0;34m\u001b[0m\u001b[0m\n\u001b[1;32m    250\u001b[0m         \u001b[0;31m# wrap results\u001b[0m\u001b[0;34m\u001b[0m\u001b[0;34m\u001b[0m\u001b[0m\n",
      "\u001b[0;32m/anaconda3/lib/python3.5/site-packages/pandas/core/apply.py\u001b[0m in \u001b[0;36mapply_series_generator\u001b[0;34m(self)\u001b[0m\n\u001b[1;32m    275\u001b[0m             \u001b[0;32mtry\u001b[0m\u001b[0;34m:\u001b[0m\u001b[0;34m\u001b[0m\u001b[0m\n\u001b[1;32m    276\u001b[0m                 \u001b[0;32mfor\u001b[0m \u001b[0mi\u001b[0m\u001b[0;34m,\u001b[0m \u001b[0mv\u001b[0m \u001b[0;32min\u001b[0m \u001b[0menumerate\u001b[0m\u001b[0;34m(\u001b[0m\u001b[0mseries_gen\u001b[0m\u001b[0;34m)\u001b[0m\u001b[0;34m:\u001b[0m\u001b[0;34m\u001b[0m\u001b[0m\n\u001b[0;32m--> 277\u001b[0;31m                     \u001b[0mresults\u001b[0m\u001b[0;34m[\u001b[0m\u001b[0mi\u001b[0m\u001b[0;34m]\u001b[0m \u001b[0;34m=\u001b[0m \u001b[0mself\u001b[0m\u001b[0;34m.\u001b[0m\u001b[0mf\u001b[0m\u001b[0;34m(\u001b[0m\u001b[0mv\u001b[0m\u001b[0;34m)\u001b[0m\u001b[0;34m\u001b[0m\u001b[0m\n\u001b[0m\u001b[1;32m    278\u001b[0m                     \u001b[0mkeys\u001b[0m\u001b[0;34m.\u001b[0m\u001b[0mappend\u001b[0m\u001b[0;34m(\u001b[0m\u001b[0mv\u001b[0m\u001b[0;34m.\u001b[0m\u001b[0mname\u001b[0m\u001b[0;34m)\u001b[0m\u001b[0;34m\u001b[0m\u001b[0m\n\u001b[1;32m    279\u001b[0m             \u001b[0;32mexcept\u001b[0m \u001b[0mException\u001b[0m \u001b[0;32mas\u001b[0m \u001b[0me\u001b[0m\u001b[0;34m:\u001b[0m\u001b[0;34m\u001b[0m\u001b[0m\n",
      "\u001b[0;32m<ipython-input-97-896a5afaa51f>\u001b[0m in \u001b[0;36mTypology\u001b[0;34m(df)\u001b[0m\n\u001b[1;32m     17\u001b[0m \u001b[0;34m\u001b[0m\u001b[0m\n\u001b[1;32m     18\u001b[0m     \u001b[0;31m# Ongoing Displacement of Low- Income Households\u001b[0m\u001b[0;34m\u001b[0m\u001b[0;34m\u001b[0m\u001b[0m\n\u001b[0;32m---> 19\u001b[0;31m     \u001b[0;32melif\u001b[0m \u001b[0mdf\u001b[0m\u001b[0;34m[\u001b[0m\u001b[0;34m'li_tract16'\u001b[0m\u001b[0;34m]\u001b[0m \u001b[0;34m==\u001b[0m \u001b[0;36m1\u001b[0m \u001b[0;32mand\u001b[0m \u001b[0mdf\u001b[0m\u001b[0;34m[\u001b[0m\u001b[0;34m'lossLI00-16'\u001b[0m\u001b[0;34m]\u001b[0m \u001b[0;34m==\u001b[0m \u001b[0;36m1\u001b[0m \u001b[0;32mand\u001b[0m \u001b[0mdf\u001b[0m\u001b[0;34m[\u001b[0m\u001b[0;34m'moveinLI_decrease00'\u001b[0m\u001b[0;34m]\u001b[0m \u001b[0;34m==\u001b[0m \u001b[0;36m1\u001b[0m\u001b[0;34m:\u001b[0m\u001b[0;34m\u001b[0m\u001b[0m\n\u001b[0m\u001b[1;32m     20\u001b[0m         \u001b[0mval\u001b[0m \u001b[0;34m=\u001b[0m \u001b[0;34m'LI - Ongoing Displacement of Low- Income Households'\u001b[0m\u001b[0;34m\u001b[0m\u001b[0m\n\u001b[1;32m     21\u001b[0m \u001b[0;34m\u001b[0m\u001b[0m\n",
      "\u001b[0;32m/anaconda3/lib/python3.5/site-packages/pandas/core/series.py\u001b[0m in \u001b[0;36m__getitem__\u001b[0;34m(self, key)\u001b[0m\n\u001b[1;32m    765\u001b[0m         \u001b[0mkey\u001b[0m \u001b[0;34m=\u001b[0m \u001b[0mcom\u001b[0m\u001b[0;34m.\u001b[0m\u001b[0m_apply_if_callable\u001b[0m\u001b[0;34m(\u001b[0m\u001b[0mkey\u001b[0m\u001b[0;34m,\u001b[0m \u001b[0mself\u001b[0m\u001b[0;34m)\u001b[0m\u001b[0;34m\u001b[0m\u001b[0m\n\u001b[1;32m    766\u001b[0m         \u001b[0;32mtry\u001b[0m\u001b[0;34m:\u001b[0m\u001b[0;34m\u001b[0m\u001b[0m\n\u001b[0;32m--> 767\u001b[0;31m             \u001b[0mresult\u001b[0m \u001b[0;34m=\u001b[0m \u001b[0mself\u001b[0m\u001b[0;34m.\u001b[0m\u001b[0mindex\u001b[0m\u001b[0;34m.\u001b[0m\u001b[0mget_value\u001b[0m\u001b[0;34m(\u001b[0m\u001b[0mself\u001b[0m\u001b[0;34m,\u001b[0m \u001b[0mkey\u001b[0m\u001b[0;34m)\u001b[0m\u001b[0;34m\u001b[0m\u001b[0m\n\u001b[0m\u001b[1;32m    768\u001b[0m \u001b[0;34m\u001b[0m\u001b[0m\n\u001b[1;32m    769\u001b[0m             \u001b[0;32mif\u001b[0m \u001b[0;32mnot\u001b[0m \u001b[0mis_scalar\u001b[0m\u001b[0;34m(\u001b[0m\u001b[0mresult\u001b[0m\u001b[0;34m)\u001b[0m\u001b[0;34m:\u001b[0m\u001b[0;34m\u001b[0m\u001b[0m\n",
      "\u001b[0;32m/anaconda3/lib/python3.5/site-packages/pandas/core/indexes/base.py\u001b[0m in \u001b[0;36mget_value\u001b[0;34m(self, series, key)\u001b[0m\n\u001b[1;32m   3116\u001b[0m                     \u001b[0;32mraise\u001b[0m \u001b[0mInvalidIndexError\u001b[0m\u001b[0;34m(\u001b[0m\u001b[0mkey\u001b[0m\u001b[0;34m)\u001b[0m\u001b[0;34m\u001b[0m\u001b[0m\n\u001b[1;32m   3117\u001b[0m                 \u001b[0;32melse\u001b[0m\u001b[0;34m:\u001b[0m\u001b[0;34m\u001b[0m\u001b[0m\n\u001b[0;32m-> 3118\u001b[0;31m                     \u001b[0;32mraise\u001b[0m \u001b[0me1\u001b[0m\u001b[0;34m\u001b[0m\u001b[0m\n\u001b[0m\u001b[1;32m   3119\u001b[0m             \u001b[0;32mexcept\u001b[0m \u001b[0mException\u001b[0m\u001b[0;34m:\u001b[0m  \u001b[0;31m# pragma: no cover\u001b[0m\u001b[0;34m\u001b[0m\u001b[0m\n\u001b[1;32m   3120\u001b[0m                 \u001b[0;32mraise\u001b[0m \u001b[0me1\u001b[0m\u001b[0;34m\u001b[0m\u001b[0m\n",
      "\u001b[0;32m/anaconda3/lib/python3.5/site-packages/pandas/core/indexes/base.py\u001b[0m in \u001b[0;36mget_value\u001b[0;34m(self, series, key)\u001b[0m\n\u001b[1;32m   3102\u001b[0m         \u001b[0;32mtry\u001b[0m\u001b[0;34m:\u001b[0m\u001b[0;34m\u001b[0m\u001b[0m\n\u001b[1;32m   3103\u001b[0m             return self._engine.get_value(s, k,\n\u001b[0;32m-> 3104\u001b[0;31m                                           tz=getattr(series.dtype, 'tz', None))\n\u001b[0m\u001b[1;32m   3105\u001b[0m         \u001b[0;32mexcept\u001b[0m \u001b[0mKeyError\u001b[0m \u001b[0;32mas\u001b[0m \u001b[0me1\u001b[0m\u001b[0;34m:\u001b[0m\u001b[0;34m\u001b[0m\u001b[0m\n\u001b[1;32m   3106\u001b[0m             \u001b[0;32mif\u001b[0m \u001b[0mlen\u001b[0m\u001b[0;34m(\u001b[0m\u001b[0mself\u001b[0m\u001b[0;34m)\u001b[0m \u001b[0;34m>\u001b[0m \u001b[0;36m0\u001b[0m \u001b[0;32mand\u001b[0m \u001b[0mself\u001b[0m\u001b[0;34m.\u001b[0m\u001b[0minferred_type\u001b[0m \u001b[0;32min\u001b[0m \u001b[0;34m[\u001b[0m\u001b[0;34m'integer'\u001b[0m\u001b[0;34m,\u001b[0m \u001b[0;34m'boolean'\u001b[0m\u001b[0;34m]\u001b[0m\u001b[0;34m:\u001b[0m\u001b[0;34m\u001b[0m\u001b[0m\n",
      "\u001b[0;32mpandas/_libs/index.pyx\u001b[0m in \u001b[0;36mpandas._libs.index.IndexEngine.get_value\u001b[0;34m()\u001b[0m\n",
      "\u001b[0;32mpandas/_libs/index.pyx\u001b[0m in \u001b[0;36mpandas._libs.index.IndexEngine.get_value\u001b[0;34m()\u001b[0m\n",
      "\u001b[0;32mpandas/_libs/index.pyx\u001b[0m in \u001b[0;36mpandas._libs.index.IndexEngine.get_loc\u001b[0;34m()\u001b[0m\n",
      "\u001b[0;32mpandas/_libs/hashtable_class_helper.pxi\u001b[0m in \u001b[0;36mpandas._libs.hashtable.PyObjectHashTable.get_item\u001b[0;34m()\u001b[0m\n",
      "\u001b[0;32mpandas/_libs/hashtable_class_helper.pxi\u001b[0m in \u001b[0;36mpandas._libs.hashtable.PyObjectHashTable.get_item\u001b[0;34m()\u001b[0m\n",
      "\u001b[0;31mKeyError\u001b[0m: ('lossLI00-16', 'occurred at index 0')"
     ]
    }
   ],
   "source": [
    "def Typology(df):\n",
    "    '''\n",
    "    classify tracts to a typology, on the range \n",
    "    between LI-not losing LI HH through displacement\n",
    "    and gentrification, to exclusion of LI HH.\n",
    "    Divided to four LI and four MHI typologies\n",
    "    '''\n",
    "    \n",
    "    ## LI typologies\n",
    "    # Ongoing Gentrification \n",
    "    # gentrified in 90, LI tract in 2015\n",
    "    if df['li_tract16'] == 1 and df['Gentrified90'] == 1:\n",
    "        val = 'LI - Ongoing Gentrification'\n",
    "    # gentrified in 00, LI tract in 2015\n",
    "    elif df['li_tract16'] == 1 and df['Gentrified00'] == 1:\n",
    "        val = 'LI - Ongoing Gentrification'\n",
    "        \n",
    "    # Ongoing Displacement of Low- Income Households\n",
    "    elif df['li_tract16'] == 1 and df['lossLI00-16'] == 1 and df['moveinLI_decrease00'] == 1:\n",
    "        val = 'LI - Ongoing Displacement of Low- Income Households'\n",
    "        \n",
    "    # At Risk of Gentrification\n",
    "    elif df['li_tract16'] == 1 and df['risk16'] == 1 and df['vulnerable00'] == 1 and df['hotmarket90'] == 1:\n",
    "        val = 'LI - At Risk of Gentrification'\n",
    "    \n",
    "    # Not Losing Low-Income Households\n",
    "    elif df['li_tract16'] == 1:\n",
    "        val = 'LI - Not Losing Low-Income Households'\n",
    "    \n",
    "    ## MHI typologies\n",
    "    # Advanced Gentrification \n",
    "    elif df['li_tract16'] == 0 and df['Gentrified90'] == 1:\n",
    "        val = 'MHI - Advanced Gentrification' \n",
    "    elif df['li_tract16'] == 0 and df['Gentrified00'] == 1:\n",
    "        val = 'MHI - Advanced Gentrification' \n",
    "        \n",
    "    # Displacement of LI hh - Ongoing Exclusion \n",
    "    elif df['li_tract16'] == 0 and df['pgrowth00-16_High'] == 1 and df['lossLI00-16'] == 1 and df['moveinLI_decrease00'] == 1:\n",
    "        val = 'MHI - Displacement of LI hh - Ongoing Exclusion' \n",
    "    \n",
    "    # At Risk of Exclusion\n",
    "    elif df['li_tract16'] == 0 and df['risk_Exclusion'] == 1:\n",
    "        val = 'MHI - At Risk of Exclusion' \n",
    "    \n",
    "    # Not Losing Low-Income Households\n",
    "    elif df['li_tract16'] == 0:\n",
    "        val = 'MHI - Not Losing Low-Income Households'\n",
    "\n",
    "    else:\n",
    "        val = \"TBD\"\n",
    "    return val\n",
    "\n",
    "print(data.shape)\n",
    "data['Typology'] = data.apply(Typology, axis=1)\n",
    "data['Typology'].value_counts()"
   ]
  },
  {
   "cell_type": "code",
   "execution_count": 98,
   "metadata": {},
   "outputs": [
    {
     "ename": "KeyError",
     "evalue": "'Typology'",
     "output_type": "error",
     "traceback": [
      "\u001b[0;31m---------------------------------------------------------------------------\u001b[0m",
      "\u001b[0;31mKeyError\u001b[0m                                  Traceback (most recent call last)",
      "\u001b[0;32m/anaconda3/lib/python3.5/site-packages/pandas/core/indexes/base.py\u001b[0m in \u001b[0;36mget_loc\u001b[0;34m(self, key, method, tolerance)\u001b[0m\n\u001b[1;32m   3063\u001b[0m             \u001b[0;32mtry\u001b[0m\u001b[0;34m:\u001b[0m\u001b[0;34m\u001b[0m\u001b[0m\n\u001b[0;32m-> 3064\u001b[0;31m                 \u001b[0;32mreturn\u001b[0m \u001b[0mself\u001b[0m\u001b[0;34m.\u001b[0m\u001b[0m_engine\u001b[0m\u001b[0;34m.\u001b[0m\u001b[0mget_loc\u001b[0m\u001b[0;34m(\u001b[0m\u001b[0mkey\u001b[0m\u001b[0;34m)\u001b[0m\u001b[0;34m\u001b[0m\u001b[0m\n\u001b[0m\u001b[1;32m   3065\u001b[0m             \u001b[0;32mexcept\u001b[0m \u001b[0mKeyError\u001b[0m\u001b[0;34m:\u001b[0m\u001b[0;34m\u001b[0m\u001b[0m\n",
      "\u001b[0;32mpandas/_libs/index.pyx\u001b[0m in \u001b[0;36mpandas._libs.index.IndexEngine.get_loc\u001b[0;34m()\u001b[0m\n",
      "\u001b[0;32mpandas/_libs/index.pyx\u001b[0m in \u001b[0;36mpandas._libs.index.IndexEngine.get_loc\u001b[0;34m()\u001b[0m\n",
      "\u001b[0;32mpandas/_libs/hashtable_class_helper.pxi\u001b[0m in \u001b[0;36mpandas._libs.hashtable.PyObjectHashTable.get_item\u001b[0;34m()\u001b[0m\n",
      "\u001b[0;32mpandas/_libs/hashtable_class_helper.pxi\u001b[0m in \u001b[0;36mpandas._libs.hashtable.PyObjectHashTable.get_item\u001b[0;34m()\u001b[0m\n",
      "\u001b[0;31mKeyError\u001b[0m: 'Typology'",
      "\nDuring handling of the above exception, another exception occurred:\n",
      "\u001b[0;31mKeyError\u001b[0m                                  Traceback (most recent call last)",
      "\u001b[0;32m<ipython-input-98-b17173431f86>\u001b[0m in \u001b[0;36m<module>\u001b[0;34m()\u001b[0m\n\u001b[0;32m----> 1\u001b[0;31m \u001b[0mlen\u001b[0m\u001b[0;34m(\u001b[0m\u001b[0mpd\u001b[0m\u001b[0;34m.\u001b[0m\u001b[0mDataFrame\u001b[0m\u001b[0;34m(\u001b[0m\u001b[0mdata\u001b[0m\u001b[0;34m[\u001b[0m\u001b[0;34m'Typology'\u001b[0m\u001b[0;34m]\u001b[0m\u001b[0;34m)\u001b[0m\u001b[0;34m)\u001b[0m\u001b[0;31m#.value_counts()))\u001b[0m\u001b[0;34m\u001b[0m\u001b[0m\n\u001b[0m",
      "\u001b[0;32m/anaconda3/lib/python3.5/site-packages/pandas/core/frame.py\u001b[0m in \u001b[0;36m__getitem__\u001b[0;34m(self, key)\u001b[0m\n\u001b[1;32m   2686\u001b[0m             \u001b[0;32mreturn\u001b[0m \u001b[0mself\u001b[0m\u001b[0;34m.\u001b[0m\u001b[0m_getitem_multilevel\u001b[0m\u001b[0;34m(\u001b[0m\u001b[0mkey\u001b[0m\u001b[0;34m)\u001b[0m\u001b[0;34m\u001b[0m\u001b[0m\n\u001b[1;32m   2687\u001b[0m         \u001b[0;32melse\u001b[0m\u001b[0;34m:\u001b[0m\u001b[0;34m\u001b[0m\u001b[0m\n\u001b[0;32m-> 2688\u001b[0;31m             \u001b[0;32mreturn\u001b[0m \u001b[0mself\u001b[0m\u001b[0;34m.\u001b[0m\u001b[0m_getitem_column\u001b[0m\u001b[0;34m(\u001b[0m\u001b[0mkey\u001b[0m\u001b[0;34m)\u001b[0m\u001b[0;34m\u001b[0m\u001b[0m\n\u001b[0m\u001b[1;32m   2689\u001b[0m \u001b[0;34m\u001b[0m\u001b[0m\n\u001b[1;32m   2690\u001b[0m     \u001b[0;32mdef\u001b[0m \u001b[0m_getitem_column\u001b[0m\u001b[0;34m(\u001b[0m\u001b[0mself\u001b[0m\u001b[0;34m,\u001b[0m \u001b[0mkey\u001b[0m\u001b[0;34m)\u001b[0m\u001b[0;34m:\u001b[0m\u001b[0;34m\u001b[0m\u001b[0m\n",
      "\u001b[0;32m/anaconda3/lib/python3.5/site-packages/pandas/core/frame.py\u001b[0m in \u001b[0;36m_getitem_column\u001b[0;34m(self, key)\u001b[0m\n\u001b[1;32m   2693\u001b[0m         \u001b[0;31m# get column\u001b[0m\u001b[0;34m\u001b[0m\u001b[0;34m\u001b[0m\u001b[0m\n\u001b[1;32m   2694\u001b[0m         \u001b[0;32mif\u001b[0m \u001b[0mself\u001b[0m\u001b[0;34m.\u001b[0m\u001b[0mcolumns\u001b[0m\u001b[0;34m.\u001b[0m\u001b[0mis_unique\u001b[0m\u001b[0;34m:\u001b[0m\u001b[0;34m\u001b[0m\u001b[0m\n\u001b[0;32m-> 2695\u001b[0;31m             \u001b[0;32mreturn\u001b[0m \u001b[0mself\u001b[0m\u001b[0;34m.\u001b[0m\u001b[0m_get_item_cache\u001b[0m\u001b[0;34m(\u001b[0m\u001b[0mkey\u001b[0m\u001b[0;34m)\u001b[0m\u001b[0;34m\u001b[0m\u001b[0m\n\u001b[0m\u001b[1;32m   2696\u001b[0m \u001b[0;34m\u001b[0m\u001b[0m\n\u001b[1;32m   2697\u001b[0m         \u001b[0;31m# duplicate columns & possible reduce dimensionality\u001b[0m\u001b[0;34m\u001b[0m\u001b[0;34m\u001b[0m\u001b[0m\n",
      "\u001b[0;32m/anaconda3/lib/python3.5/site-packages/pandas/core/generic.py\u001b[0m in \u001b[0;36m_get_item_cache\u001b[0;34m(self, item)\u001b[0m\n\u001b[1;32m   2484\u001b[0m         \u001b[0mres\u001b[0m \u001b[0;34m=\u001b[0m \u001b[0mcache\u001b[0m\u001b[0;34m.\u001b[0m\u001b[0mget\u001b[0m\u001b[0;34m(\u001b[0m\u001b[0mitem\u001b[0m\u001b[0;34m)\u001b[0m\u001b[0;34m\u001b[0m\u001b[0m\n\u001b[1;32m   2485\u001b[0m         \u001b[0;32mif\u001b[0m \u001b[0mres\u001b[0m \u001b[0;32mis\u001b[0m \u001b[0;32mNone\u001b[0m\u001b[0;34m:\u001b[0m\u001b[0;34m\u001b[0m\u001b[0m\n\u001b[0;32m-> 2486\u001b[0;31m             \u001b[0mvalues\u001b[0m \u001b[0;34m=\u001b[0m \u001b[0mself\u001b[0m\u001b[0;34m.\u001b[0m\u001b[0m_data\u001b[0m\u001b[0;34m.\u001b[0m\u001b[0mget\u001b[0m\u001b[0;34m(\u001b[0m\u001b[0mitem\u001b[0m\u001b[0;34m)\u001b[0m\u001b[0;34m\u001b[0m\u001b[0m\n\u001b[0m\u001b[1;32m   2487\u001b[0m             \u001b[0mres\u001b[0m \u001b[0;34m=\u001b[0m \u001b[0mself\u001b[0m\u001b[0;34m.\u001b[0m\u001b[0m_box_item_values\u001b[0m\u001b[0;34m(\u001b[0m\u001b[0mitem\u001b[0m\u001b[0;34m,\u001b[0m \u001b[0mvalues\u001b[0m\u001b[0;34m)\u001b[0m\u001b[0;34m\u001b[0m\u001b[0m\n\u001b[1;32m   2488\u001b[0m             \u001b[0mcache\u001b[0m\u001b[0;34m[\u001b[0m\u001b[0mitem\u001b[0m\u001b[0;34m]\u001b[0m \u001b[0;34m=\u001b[0m \u001b[0mres\u001b[0m\u001b[0;34m\u001b[0m\u001b[0m\n",
      "\u001b[0;32m/anaconda3/lib/python3.5/site-packages/pandas/core/internals.py\u001b[0m in \u001b[0;36mget\u001b[0;34m(self, item, fastpath)\u001b[0m\n\u001b[1;32m   4113\u001b[0m \u001b[0;34m\u001b[0m\u001b[0m\n\u001b[1;32m   4114\u001b[0m             \u001b[0;32mif\u001b[0m \u001b[0;32mnot\u001b[0m \u001b[0misna\u001b[0m\u001b[0;34m(\u001b[0m\u001b[0mitem\u001b[0m\u001b[0;34m)\u001b[0m\u001b[0;34m:\u001b[0m\u001b[0;34m\u001b[0m\u001b[0m\n\u001b[0;32m-> 4115\u001b[0;31m                 \u001b[0mloc\u001b[0m \u001b[0;34m=\u001b[0m \u001b[0mself\u001b[0m\u001b[0;34m.\u001b[0m\u001b[0mitems\u001b[0m\u001b[0;34m.\u001b[0m\u001b[0mget_loc\u001b[0m\u001b[0;34m(\u001b[0m\u001b[0mitem\u001b[0m\u001b[0;34m)\u001b[0m\u001b[0;34m\u001b[0m\u001b[0m\n\u001b[0m\u001b[1;32m   4116\u001b[0m             \u001b[0;32melse\u001b[0m\u001b[0;34m:\u001b[0m\u001b[0;34m\u001b[0m\u001b[0m\n\u001b[1;32m   4117\u001b[0m                 \u001b[0mindexer\u001b[0m \u001b[0;34m=\u001b[0m \u001b[0mnp\u001b[0m\u001b[0;34m.\u001b[0m\u001b[0marange\u001b[0m\u001b[0;34m(\u001b[0m\u001b[0mlen\u001b[0m\u001b[0;34m(\u001b[0m\u001b[0mself\u001b[0m\u001b[0;34m.\u001b[0m\u001b[0mitems\u001b[0m\u001b[0;34m)\u001b[0m\u001b[0;34m)\u001b[0m\u001b[0;34m[\u001b[0m\u001b[0misna\u001b[0m\u001b[0;34m(\u001b[0m\u001b[0mself\u001b[0m\u001b[0;34m.\u001b[0m\u001b[0mitems\u001b[0m\u001b[0;34m)\u001b[0m\u001b[0;34m]\u001b[0m\u001b[0;34m\u001b[0m\u001b[0m\n",
      "\u001b[0;32m/anaconda3/lib/python3.5/site-packages/pandas/core/indexes/base.py\u001b[0m in \u001b[0;36mget_loc\u001b[0;34m(self, key, method, tolerance)\u001b[0m\n\u001b[1;32m   3064\u001b[0m                 \u001b[0;32mreturn\u001b[0m \u001b[0mself\u001b[0m\u001b[0;34m.\u001b[0m\u001b[0m_engine\u001b[0m\u001b[0;34m.\u001b[0m\u001b[0mget_loc\u001b[0m\u001b[0;34m(\u001b[0m\u001b[0mkey\u001b[0m\u001b[0;34m)\u001b[0m\u001b[0;34m\u001b[0m\u001b[0m\n\u001b[1;32m   3065\u001b[0m             \u001b[0;32mexcept\u001b[0m \u001b[0mKeyError\u001b[0m\u001b[0;34m:\u001b[0m\u001b[0;34m\u001b[0m\u001b[0m\n\u001b[0;32m-> 3066\u001b[0;31m                 \u001b[0;32mreturn\u001b[0m \u001b[0mself\u001b[0m\u001b[0;34m.\u001b[0m\u001b[0m_engine\u001b[0m\u001b[0;34m.\u001b[0m\u001b[0mget_loc\u001b[0m\u001b[0;34m(\u001b[0m\u001b[0mself\u001b[0m\u001b[0;34m.\u001b[0m\u001b[0m_maybe_cast_indexer\u001b[0m\u001b[0;34m(\u001b[0m\u001b[0mkey\u001b[0m\u001b[0;34m)\u001b[0m\u001b[0;34m)\u001b[0m\u001b[0;34m\u001b[0m\u001b[0m\n\u001b[0m\u001b[1;32m   3067\u001b[0m \u001b[0;34m\u001b[0m\u001b[0m\n\u001b[1;32m   3068\u001b[0m         \u001b[0mindexer\u001b[0m \u001b[0;34m=\u001b[0m \u001b[0mself\u001b[0m\u001b[0;34m.\u001b[0m\u001b[0mget_indexer\u001b[0m\u001b[0;34m(\u001b[0m\u001b[0;34m[\u001b[0m\u001b[0mkey\u001b[0m\u001b[0;34m]\u001b[0m\u001b[0;34m,\u001b[0m \u001b[0mmethod\u001b[0m\u001b[0;34m=\u001b[0m\u001b[0mmethod\u001b[0m\u001b[0;34m,\u001b[0m \u001b[0mtolerance\u001b[0m\u001b[0;34m=\u001b[0m\u001b[0mtolerance\u001b[0m\u001b[0;34m)\u001b[0m\u001b[0;34m\u001b[0m\u001b[0m\n",
      "\u001b[0;32mpandas/_libs/index.pyx\u001b[0m in \u001b[0;36mpandas._libs.index.IndexEngine.get_loc\u001b[0;34m()\u001b[0m\n",
      "\u001b[0;32mpandas/_libs/index.pyx\u001b[0m in \u001b[0;36mpandas._libs.index.IndexEngine.get_loc\u001b[0;34m()\u001b[0m\n",
      "\u001b[0;32mpandas/_libs/hashtable_class_helper.pxi\u001b[0m in \u001b[0;36mpandas._libs.hashtable.PyObjectHashTable.get_item\u001b[0;34m()\u001b[0m\n",
      "\u001b[0;32mpandas/_libs/hashtable_class_helper.pxi\u001b[0m in \u001b[0;36mpandas._libs.hashtable.PyObjectHashTable.get_item\u001b[0;34m()\u001b[0m\n",
      "\u001b[0;31mKeyError\u001b[0m: 'Typology'"
     ]
    }
   ],
   "source": [
    "len(pd.DataFrame(data['Typology']))#.value_counts()))"
   ]
  },
  {
   "cell_type": "code",
   "execution_count": 99,
   "metadata": {},
   "outputs": [
    {
     "ename": "KeyError",
     "evalue": "'Typology'",
     "output_type": "error",
     "traceback": [
      "\u001b[0;31m---------------------------------------------------------------------------\u001b[0m",
      "\u001b[0;31mKeyError\u001b[0m                                  Traceback (most recent call last)",
      "\u001b[0;32m/anaconda3/lib/python3.5/site-packages/pandas/core/indexes/base.py\u001b[0m in \u001b[0;36mget_loc\u001b[0;34m(self, key, method, tolerance)\u001b[0m\n\u001b[1;32m   3063\u001b[0m             \u001b[0;32mtry\u001b[0m\u001b[0;34m:\u001b[0m\u001b[0;34m\u001b[0m\u001b[0m\n\u001b[0;32m-> 3064\u001b[0;31m                 \u001b[0;32mreturn\u001b[0m \u001b[0mself\u001b[0m\u001b[0;34m.\u001b[0m\u001b[0m_engine\u001b[0m\u001b[0;34m.\u001b[0m\u001b[0mget_loc\u001b[0m\u001b[0;34m(\u001b[0m\u001b[0mkey\u001b[0m\u001b[0;34m)\u001b[0m\u001b[0;34m\u001b[0m\u001b[0m\n\u001b[0m\u001b[1;32m   3065\u001b[0m             \u001b[0;32mexcept\u001b[0m \u001b[0mKeyError\u001b[0m\u001b[0;34m:\u001b[0m\u001b[0;34m\u001b[0m\u001b[0m\n",
      "\u001b[0;32mpandas/_libs/index.pyx\u001b[0m in \u001b[0;36mpandas._libs.index.IndexEngine.get_loc\u001b[0;34m()\u001b[0m\n",
      "\u001b[0;32mpandas/_libs/index.pyx\u001b[0m in \u001b[0;36mpandas._libs.index.IndexEngine.get_loc\u001b[0;34m()\u001b[0m\n",
      "\u001b[0;32mpandas/_libs/hashtable_class_helper.pxi\u001b[0m in \u001b[0;36mpandas._libs.hashtable.PyObjectHashTable.get_item\u001b[0;34m()\u001b[0m\n",
      "\u001b[0;32mpandas/_libs/hashtable_class_helper.pxi\u001b[0m in \u001b[0;36mpandas._libs.hashtable.PyObjectHashTable.get_item\u001b[0;34m()\u001b[0m\n",
      "\u001b[0;31mKeyError\u001b[0m: 'Typology'",
      "\nDuring handling of the above exception, another exception occurred:\n",
      "\u001b[0;31mKeyError\u001b[0m                                  Traceback (most recent call last)",
      "\u001b[0;32m<ipython-input-99-c9ce0978305c>\u001b[0m in \u001b[0;36m<module>\u001b[0;34m()\u001b[0m\n\u001b[0;32m----> 1\u001b[0;31m \u001b[0mresultsTyp\u001b[0m \u001b[0;34m=\u001b[0m \u001b[0mpd\u001b[0m\u001b[0;34m.\u001b[0m\u001b[0mDataFrame\u001b[0m\u001b[0;34m(\u001b[0m\u001b[0mdata\u001b[0m\u001b[0;34m[\u001b[0m\u001b[0;34m'Typology'\u001b[0m\u001b[0;34m]\u001b[0m\u001b[0;34m.\u001b[0m\u001b[0mvalue_counts\u001b[0m\u001b[0;34m(\u001b[0m\u001b[0;34m)\u001b[0m\u001b[0;34m)\u001b[0m\u001b[0;34m\u001b[0m\u001b[0m\n\u001b[0m\u001b[1;32m      2\u001b[0m \u001b[0mresultsTyp\u001b[0m\u001b[0;34m.\u001b[0m\u001b[0mcolumns\u001b[0m \u001b[0;34m=\u001b[0m \u001b[0;34m[\u001b[0m\u001b[0;34m'tractCounts'\u001b[0m\u001b[0;34m]\u001b[0m\u001b[0;34m\u001b[0m\u001b[0m\n\u001b[1;32m      3\u001b[0m \u001b[0mresultsTyp\u001b[0m\u001b[0;34m[\u001b[0m\u001b[0;34m'Typology%'\u001b[0m\u001b[0;34m]\u001b[0m \u001b[0;34m=\u001b[0m \u001b[0mresultsTyp\u001b[0m\u001b[0;34m[\u001b[0m\u001b[0;34m'tractCounts'\u001b[0m\u001b[0;34m]\u001b[0m \u001b[0;34m/\u001b[0m \u001b[0mresultsTyp\u001b[0m\u001b[0;34m[\u001b[0m\u001b[0;34m'tractCounts'\u001b[0m\u001b[0;34m]\u001b[0m\u001b[0;34m.\u001b[0m\u001b[0msum\u001b[0m\u001b[0;34m(\u001b[0m\u001b[0;34m)\u001b[0m \u001b[0;34m*\u001b[0m\u001b[0;36m100\u001b[0m\u001b[0;34m\u001b[0m\u001b[0m\n\u001b[1;32m      4\u001b[0m \u001b[0;34m\u001b[0m\u001b[0m\n\u001b[1;32m      5\u001b[0m \u001b[0mresultsTyp\u001b[0m\u001b[0;34m\u001b[0m\u001b[0m\n",
      "\u001b[0;32m/anaconda3/lib/python3.5/site-packages/pandas/core/frame.py\u001b[0m in \u001b[0;36m__getitem__\u001b[0;34m(self, key)\u001b[0m\n\u001b[1;32m   2686\u001b[0m             \u001b[0;32mreturn\u001b[0m \u001b[0mself\u001b[0m\u001b[0;34m.\u001b[0m\u001b[0m_getitem_multilevel\u001b[0m\u001b[0;34m(\u001b[0m\u001b[0mkey\u001b[0m\u001b[0;34m)\u001b[0m\u001b[0;34m\u001b[0m\u001b[0m\n\u001b[1;32m   2687\u001b[0m         \u001b[0;32melse\u001b[0m\u001b[0;34m:\u001b[0m\u001b[0;34m\u001b[0m\u001b[0m\n\u001b[0;32m-> 2688\u001b[0;31m             \u001b[0;32mreturn\u001b[0m \u001b[0mself\u001b[0m\u001b[0;34m.\u001b[0m\u001b[0m_getitem_column\u001b[0m\u001b[0;34m(\u001b[0m\u001b[0mkey\u001b[0m\u001b[0;34m)\u001b[0m\u001b[0;34m\u001b[0m\u001b[0m\n\u001b[0m\u001b[1;32m   2689\u001b[0m \u001b[0;34m\u001b[0m\u001b[0m\n\u001b[1;32m   2690\u001b[0m     \u001b[0;32mdef\u001b[0m \u001b[0m_getitem_column\u001b[0m\u001b[0;34m(\u001b[0m\u001b[0mself\u001b[0m\u001b[0;34m,\u001b[0m \u001b[0mkey\u001b[0m\u001b[0;34m)\u001b[0m\u001b[0;34m:\u001b[0m\u001b[0;34m\u001b[0m\u001b[0m\n",
      "\u001b[0;32m/anaconda3/lib/python3.5/site-packages/pandas/core/frame.py\u001b[0m in \u001b[0;36m_getitem_column\u001b[0;34m(self, key)\u001b[0m\n\u001b[1;32m   2693\u001b[0m         \u001b[0;31m# get column\u001b[0m\u001b[0;34m\u001b[0m\u001b[0;34m\u001b[0m\u001b[0m\n\u001b[1;32m   2694\u001b[0m         \u001b[0;32mif\u001b[0m \u001b[0mself\u001b[0m\u001b[0;34m.\u001b[0m\u001b[0mcolumns\u001b[0m\u001b[0;34m.\u001b[0m\u001b[0mis_unique\u001b[0m\u001b[0;34m:\u001b[0m\u001b[0;34m\u001b[0m\u001b[0m\n\u001b[0;32m-> 2695\u001b[0;31m             \u001b[0;32mreturn\u001b[0m \u001b[0mself\u001b[0m\u001b[0;34m.\u001b[0m\u001b[0m_get_item_cache\u001b[0m\u001b[0;34m(\u001b[0m\u001b[0mkey\u001b[0m\u001b[0;34m)\u001b[0m\u001b[0;34m\u001b[0m\u001b[0m\n\u001b[0m\u001b[1;32m   2696\u001b[0m \u001b[0;34m\u001b[0m\u001b[0m\n\u001b[1;32m   2697\u001b[0m         \u001b[0;31m# duplicate columns & possible reduce dimensionality\u001b[0m\u001b[0;34m\u001b[0m\u001b[0;34m\u001b[0m\u001b[0m\n",
      "\u001b[0;32m/anaconda3/lib/python3.5/site-packages/pandas/core/generic.py\u001b[0m in \u001b[0;36m_get_item_cache\u001b[0;34m(self, item)\u001b[0m\n\u001b[1;32m   2484\u001b[0m         \u001b[0mres\u001b[0m \u001b[0;34m=\u001b[0m \u001b[0mcache\u001b[0m\u001b[0;34m.\u001b[0m\u001b[0mget\u001b[0m\u001b[0;34m(\u001b[0m\u001b[0mitem\u001b[0m\u001b[0;34m)\u001b[0m\u001b[0;34m\u001b[0m\u001b[0m\n\u001b[1;32m   2485\u001b[0m         \u001b[0;32mif\u001b[0m \u001b[0mres\u001b[0m \u001b[0;32mis\u001b[0m \u001b[0;32mNone\u001b[0m\u001b[0;34m:\u001b[0m\u001b[0;34m\u001b[0m\u001b[0m\n\u001b[0;32m-> 2486\u001b[0;31m             \u001b[0mvalues\u001b[0m \u001b[0;34m=\u001b[0m \u001b[0mself\u001b[0m\u001b[0;34m.\u001b[0m\u001b[0m_data\u001b[0m\u001b[0;34m.\u001b[0m\u001b[0mget\u001b[0m\u001b[0;34m(\u001b[0m\u001b[0mitem\u001b[0m\u001b[0;34m)\u001b[0m\u001b[0;34m\u001b[0m\u001b[0m\n\u001b[0m\u001b[1;32m   2487\u001b[0m             \u001b[0mres\u001b[0m \u001b[0;34m=\u001b[0m \u001b[0mself\u001b[0m\u001b[0;34m.\u001b[0m\u001b[0m_box_item_values\u001b[0m\u001b[0;34m(\u001b[0m\u001b[0mitem\u001b[0m\u001b[0;34m,\u001b[0m \u001b[0mvalues\u001b[0m\u001b[0;34m)\u001b[0m\u001b[0;34m\u001b[0m\u001b[0m\n\u001b[1;32m   2488\u001b[0m             \u001b[0mcache\u001b[0m\u001b[0;34m[\u001b[0m\u001b[0mitem\u001b[0m\u001b[0;34m]\u001b[0m \u001b[0;34m=\u001b[0m \u001b[0mres\u001b[0m\u001b[0;34m\u001b[0m\u001b[0m\n",
      "\u001b[0;32m/anaconda3/lib/python3.5/site-packages/pandas/core/internals.py\u001b[0m in \u001b[0;36mget\u001b[0;34m(self, item, fastpath)\u001b[0m\n\u001b[1;32m   4113\u001b[0m \u001b[0;34m\u001b[0m\u001b[0m\n\u001b[1;32m   4114\u001b[0m             \u001b[0;32mif\u001b[0m \u001b[0;32mnot\u001b[0m \u001b[0misna\u001b[0m\u001b[0;34m(\u001b[0m\u001b[0mitem\u001b[0m\u001b[0;34m)\u001b[0m\u001b[0;34m:\u001b[0m\u001b[0;34m\u001b[0m\u001b[0m\n\u001b[0;32m-> 4115\u001b[0;31m                 \u001b[0mloc\u001b[0m \u001b[0;34m=\u001b[0m \u001b[0mself\u001b[0m\u001b[0;34m.\u001b[0m\u001b[0mitems\u001b[0m\u001b[0;34m.\u001b[0m\u001b[0mget_loc\u001b[0m\u001b[0;34m(\u001b[0m\u001b[0mitem\u001b[0m\u001b[0;34m)\u001b[0m\u001b[0;34m\u001b[0m\u001b[0m\n\u001b[0m\u001b[1;32m   4116\u001b[0m             \u001b[0;32melse\u001b[0m\u001b[0;34m:\u001b[0m\u001b[0;34m\u001b[0m\u001b[0m\n\u001b[1;32m   4117\u001b[0m                 \u001b[0mindexer\u001b[0m \u001b[0;34m=\u001b[0m \u001b[0mnp\u001b[0m\u001b[0;34m.\u001b[0m\u001b[0marange\u001b[0m\u001b[0;34m(\u001b[0m\u001b[0mlen\u001b[0m\u001b[0;34m(\u001b[0m\u001b[0mself\u001b[0m\u001b[0;34m.\u001b[0m\u001b[0mitems\u001b[0m\u001b[0;34m)\u001b[0m\u001b[0;34m)\u001b[0m\u001b[0;34m[\u001b[0m\u001b[0misna\u001b[0m\u001b[0;34m(\u001b[0m\u001b[0mself\u001b[0m\u001b[0;34m.\u001b[0m\u001b[0mitems\u001b[0m\u001b[0;34m)\u001b[0m\u001b[0;34m]\u001b[0m\u001b[0;34m\u001b[0m\u001b[0m\n",
      "\u001b[0;32m/anaconda3/lib/python3.5/site-packages/pandas/core/indexes/base.py\u001b[0m in \u001b[0;36mget_loc\u001b[0;34m(self, key, method, tolerance)\u001b[0m\n\u001b[1;32m   3064\u001b[0m                 \u001b[0;32mreturn\u001b[0m \u001b[0mself\u001b[0m\u001b[0;34m.\u001b[0m\u001b[0m_engine\u001b[0m\u001b[0;34m.\u001b[0m\u001b[0mget_loc\u001b[0m\u001b[0;34m(\u001b[0m\u001b[0mkey\u001b[0m\u001b[0;34m)\u001b[0m\u001b[0;34m\u001b[0m\u001b[0m\n\u001b[1;32m   3065\u001b[0m             \u001b[0;32mexcept\u001b[0m \u001b[0mKeyError\u001b[0m\u001b[0;34m:\u001b[0m\u001b[0;34m\u001b[0m\u001b[0m\n\u001b[0;32m-> 3066\u001b[0;31m                 \u001b[0;32mreturn\u001b[0m \u001b[0mself\u001b[0m\u001b[0;34m.\u001b[0m\u001b[0m_engine\u001b[0m\u001b[0;34m.\u001b[0m\u001b[0mget_loc\u001b[0m\u001b[0;34m(\u001b[0m\u001b[0mself\u001b[0m\u001b[0;34m.\u001b[0m\u001b[0m_maybe_cast_indexer\u001b[0m\u001b[0;34m(\u001b[0m\u001b[0mkey\u001b[0m\u001b[0;34m)\u001b[0m\u001b[0;34m)\u001b[0m\u001b[0;34m\u001b[0m\u001b[0m\n\u001b[0m\u001b[1;32m   3067\u001b[0m \u001b[0;34m\u001b[0m\u001b[0m\n\u001b[1;32m   3068\u001b[0m         \u001b[0mindexer\u001b[0m \u001b[0;34m=\u001b[0m \u001b[0mself\u001b[0m\u001b[0;34m.\u001b[0m\u001b[0mget_indexer\u001b[0m\u001b[0;34m(\u001b[0m\u001b[0;34m[\u001b[0m\u001b[0mkey\u001b[0m\u001b[0;34m]\u001b[0m\u001b[0;34m,\u001b[0m \u001b[0mmethod\u001b[0m\u001b[0;34m=\u001b[0m\u001b[0mmethod\u001b[0m\u001b[0;34m,\u001b[0m \u001b[0mtolerance\u001b[0m\u001b[0;34m=\u001b[0m\u001b[0mtolerance\u001b[0m\u001b[0;34m)\u001b[0m\u001b[0;34m\u001b[0m\u001b[0m\n",
      "\u001b[0;32mpandas/_libs/index.pyx\u001b[0m in \u001b[0;36mpandas._libs.index.IndexEngine.get_loc\u001b[0;34m()\u001b[0m\n",
      "\u001b[0;32mpandas/_libs/index.pyx\u001b[0m in \u001b[0;36mpandas._libs.index.IndexEngine.get_loc\u001b[0;34m()\u001b[0m\n",
      "\u001b[0;32mpandas/_libs/hashtable_class_helper.pxi\u001b[0m in \u001b[0;36mpandas._libs.hashtable.PyObjectHashTable.get_item\u001b[0;34m()\u001b[0m\n",
      "\u001b[0;32mpandas/_libs/hashtable_class_helper.pxi\u001b[0m in \u001b[0;36mpandas._libs.hashtable.PyObjectHashTable.get_item\u001b[0;34m()\u001b[0m\n",
      "\u001b[0;31mKeyError\u001b[0m: 'Typology'"
     ]
    }
   ],
   "source": [
    "resultsTyp = pd.DataFrame(data['Typology'].value_counts())\n",
    "resultsTyp.columns = ['tractCounts']\n",
    "resultsTyp['Typology%'] = resultsTyp['tractCounts'] / resultsTyp['tractCounts'].sum() *100\n",
    "\n",
    "resultsTyp"
   ]
  },
  {
   "cell_type": "code",
   "execution_count": 42,
   "metadata": {},
   "outputs": [
    {
     "data": {
      "text/html": [
       "<div>\n",
       "<style scoped>\n",
       "    .dataframe tbody tr th:only-of-type {\n",
       "        vertical-align: middle;\n",
       "    }\n",
       "\n",
       "    .dataframe tbody tr th {\n",
       "        vertical-align: top;\n",
       "    }\n",
       "\n",
       "    .dataframe thead th {\n",
       "        text-align: right;\n",
       "    }\n",
       "</style>\n",
       "<table border=\"1\" class=\"dataframe\">\n",
       "  <thead>\n",
       "    <tr style=\"text-align: right;\">\n",
       "      <th></th>\n",
       "      <th>geometry</th>\n",
       "      <th>NAME</th>\n",
       "      <th>county</th>\n",
       "      <th>hh_00</th>\n",
       "    </tr>\n",
       "    <tr>\n",
       "      <th>GEOID</th>\n",
       "      <th></th>\n",
       "      <th></th>\n",
       "      <th></th>\n",
       "      <th></th>\n",
       "    </tr>\n",
       "  </thead>\n",
       "  <tbody>\n",
       "    <tr>\n",
       "      <th>34003023401</th>\n",
       "      <td>POLYGON ((-74.06457 40.887063, -74.062236 40.8...</td>\n",
       "      <td>Census Tract 234.01, Bergen County, New Jersey</td>\n",
       "      <td>3</td>\n",
       "      <td>1785.0</td>\n",
       "    </tr>\n",
       "    <tr>\n",
       "      <th>34003030100</th>\n",
       "      <td>POLYGON ((-74.08288399999999 40.879418, -74.08...</td>\n",
       "      <td>Census Tract 301, Bergen County, New Jersey</td>\n",
       "      <td>3</td>\n",
       "      <td>2053.0</td>\n",
       "    </tr>\n",
       "    <tr>\n",
       "      <th>34003033300</th>\n",
       "      <td>POLYGON ((-74.068018 40.889893, -74.0670339999...</td>\n",
       "      <td>Census Tract 333, Bergen County, New Jersey</td>\n",
       "      <td>3</td>\n",
       "      <td>1366.0</td>\n",
       "    </tr>\n",
       "  </tbody>\n",
       "</table>\n",
       "</div>"
      ],
      "text/plain": [
       "                                                      geometry  \\\n",
       "GEOID                                                            \n",
       "34003023401  POLYGON ((-74.06457 40.887063, -74.062236 40.8...   \n",
       "34003030100  POLYGON ((-74.08288399999999 40.879418, -74.08...   \n",
       "34003033300  POLYGON ((-74.068018 40.889893, -74.0670339999...   \n",
       "\n",
       "                                                       NAME  county   hh_00  \n",
       "GEOID                                                                        \n",
       "34003023401  Census Tract 234.01, Bergen County, New Jersey       3  1785.0  \n",
       "34003030100     Census Tract 301, Bergen County, New Jersey       3  2053.0  \n",
       "34003033300     Census Tract 333, Bergen County, New Jersey       3  1366.0  "
      ]
     },
     "execution_count": 42,
     "metadata": {},
     "output_type": "execute_result"
    }
   ],
   "source": [
    "data.iloc[:3,:4]"
   ]
  },
  {
   "cell_type": "code",
   "execution_count": 43,
   "metadata": {
    "scrolled": true
   },
   "outputs": [
    {
     "data": {
      "text/html": [
       "<div>\n",
       "<style scoped>\n",
       "    .dataframe tbody tr th:only-of-type {\n",
       "        vertical-align: middle;\n",
       "    }\n",
       "\n",
       "    .dataframe tbody tr th {\n",
       "        vertical-align: top;\n",
       "    }\n",
       "\n",
       "    .dataframe thead th {\n",
       "        text-align: right;\n",
       "    }\n",
       "</style>\n",
       "<table border=\"1\" class=\"dataframe\">\n",
       "  <thead>\n",
       "    <tr style=\"text-align: right;\">\n",
       "      <th></th>\n",
       "      <th>Typology</th>\n",
       "    </tr>\n",
       "    <tr>\n",
       "      <th>GEOID</th>\n",
       "      <th></th>\n",
       "    </tr>\n",
       "  </thead>\n",
       "  <tbody>\n",
       "    <tr>\n",
       "      <th>34003023401</th>\n",
       "      <td>LI - Not Losing Low-Income Households</td>\n",
       "    </tr>\n",
       "    <tr>\n",
       "      <th>34003030100</th>\n",
       "      <td>LI - Not Losing Low-Income Households</td>\n",
       "    </tr>\n",
       "    <tr>\n",
       "      <th>34003033300</th>\n",
       "      <td>LI - Not Losing Low-Income Households</td>\n",
       "    </tr>\n",
       "    <tr>\n",
       "      <th>34003041200</th>\n",
       "      <td>LI - Not Losing Low-Income Households</td>\n",
       "    </tr>\n",
       "    <tr>\n",
       "      <th>34003046300</th>\n",
       "      <td>LI - Not Losing Low-Income Households</td>\n",
       "    </tr>\n",
       "    <tr>\n",
       "      <th>34013000500</th>\n",
       "      <td>LI - Not Losing Low-Income Households</td>\n",
       "    </tr>\n",
       "    <tr>\n",
       "      <th>34013004300</th>\n",
       "      <td>LI - Not Losing Low-Income Households</td>\n",
       "    </tr>\n",
       "    <tr>\n",
       "      <th>34013005200</th>\n",
       "      <td>LI - Ongoing Displacement of Low- Income House...</td>\n",
       "    </tr>\n",
       "    <tr>\n",
       "      <th>34013007600</th>\n",
       "      <td>LI - Not Losing Low-Income Households</td>\n",
       "    </tr>\n",
       "    <tr>\n",
       "      <th>34013009400</th>\n",
       "      <td>LI - Not Losing Low-Income Households</td>\n",
       "    </tr>\n",
       "    <tr>\n",
       "      <th>34013010100</th>\n",
       "      <td>LI - Not Losing Low-Income Households</td>\n",
       "    </tr>\n",
       "    <tr>\n",
       "      <th>34013010900</th>\n",
       "      <td>LI - Not Losing Low-Income Households</td>\n",
       "    </tr>\n",
       "    <tr>\n",
       "      <th>34013011100</th>\n",
       "      <td>LI - Not Losing Low-Income Households</td>\n",
       "    </tr>\n",
       "    <tr>\n",
       "      <th>34013012100</th>\n",
       "      <td>LI - Not Losing Low-Income Households</td>\n",
       "    </tr>\n",
       "    <tr>\n",
       "      <th>34013013300</th>\n",
       "      <td>LI - Not Losing Low-Income Households</td>\n",
       "    </tr>\n",
       "    <tr>\n",
       "      <th>34013014800</th>\n",
       "      <td>MHI - Displacement of LI hh - Ongoing Exclusion</td>\n",
       "    </tr>\n",
       "    <tr>\n",
       "      <th>34013016300</th>\n",
       "      <td>MHI - At Risk of Exclusion</td>\n",
       "    </tr>\n",
       "    <tr>\n",
       "      <th>34013017800</th>\n",
       "      <td>LI - Not Losing Low-Income Households</td>\n",
       "    </tr>\n",
       "    <tr>\n",
       "      <th>34017000100</th>\n",
       "      <td>LI - Not Losing Low-Income Households</td>\n",
       "    </tr>\n",
       "    <tr>\n",
       "      <th>34017001300</th>\n",
       "      <td>LI - Not Losing Low-Income Households</td>\n",
       "    </tr>\n",
       "    <tr>\n",
       "      <th>34017004900</th>\n",
       "      <td>LI - Not Losing Low-Income Households</td>\n",
       "    </tr>\n",
       "    <tr>\n",
       "      <th>34017011300</th>\n",
       "      <td>LI - Not Losing Low-Income Households</td>\n",
       "    </tr>\n",
       "    <tr>\n",
       "      <th>34017015600</th>\n",
       "      <td>LI - At Risk of Gentrification</td>\n",
       "    </tr>\n",
       "    <tr>\n",
       "      <th>34017016000</th>\n",
       "      <td>LI - At Risk of Gentrification</td>\n",
       "    </tr>\n",
       "    <tr>\n",
       "      <th>34017017300</th>\n",
       "      <td>LI - Not Losing Low-Income Households</td>\n",
       "    </tr>\n",
       "    <tr>\n",
       "      <th>34017018800</th>\n",
       "      <td>MHI - At Risk of Exclusion</td>\n",
       "    </tr>\n",
       "    <tr>\n",
       "      <th>34017019300</th>\n",
       "      <td>MHI - Advanced Gentrification</td>\n",
       "    </tr>\n",
       "    <tr>\n",
       "      <th>34019010900</th>\n",
       "      <td>LI - Not Losing Low-Income Households</td>\n",
       "    </tr>\n",
       "    <tr>\n",
       "      <th>34021003601</th>\n",
       "      <td>MHI - Not Losing Low-Income Households</td>\n",
       "    </tr>\n",
       "    <tr>\n",
       "      <th>34023001001</th>\n",
       "      <td>MHI - At Risk of Exclusion</td>\n",
       "    </tr>\n",
       "    <tr>\n",
       "      <th>...</th>\n",
       "      <td>...</td>\n",
       "    </tr>\n",
       "    <tr>\n",
       "      <th>09009341100</th>\n",
       "      <td>MHI - Displacement of LI hh - Ongoing Exclusion</td>\n",
       "    </tr>\n",
       "    <tr>\n",
       "      <th>09009350200</th>\n",
       "      <td>LI - Not Losing Low-Income Households</td>\n",
       "    </tr>\n",
       "    <tr>\n",
       "      <th>09001010600</th>\n",
       "      <td>LI - Not Losing Low-Income Households</td>\n",
       "    </tr>\n",
       "    <tr>\n",
       "      <th>09001020300</th>\n",
       "      <td>MHI - At Risk of Exclusion</td>\n",
       "    </tr>\n",
       "    <tr>\n",
       "      <th>09001045200</th>\n",
       "      <td>MHI - At Risk of Exclusion</td>\n",
       "    </tr>\n",
       "    <tr>\n",
       "      <th>09001050500</th>\n",
       "      <td>MHI - Displacement of LI hh - Ongoing Exclusion</td>\n",
       "    </tr>\n",
       "    <tr>\n",
       "      <th>09001070100</th>\n",
       "      <td>LI - Ongoing Displacement of Low- Income House...</td>\n",
       "    </tr>\n",
       "    <tr>\n",
       "      <th>09001071300</th>\n",
       "      <td>LI - Not Losing Low-Income Households</td>\n",
       "    </tr>\n",
       "    <tr>\n",
       "      <th>09001072600</th>\n",
       "      <td>LI - Ongoing Displacement of Low- Income House...</td>\n",
       "    </tr>\n",
       "    <tr>\n",
       "      <th>09001080600</th>\n",
       "      <td>LI - Not Losing Low-Income Households</td>\n",
       "    </tr>\n",
       "    <tr>\n",
       "      <th>09001090300</th>\n",
       "      <td>MHI - Displacement of LI hh - Ongoing Exclusion</td>\n",
       "    </tr>\n",
       "    <tr>\n",
       "      <th>09001110100</th>\n",
       "      <td>LI - Not Losing Low-Income Households</td>\n",
       "    </tr>\n",
       "    <tr>\n",
       "      <th>09001205100</th>\n",
       "      <td>MHI - At Risk of Exclusion</td>\n",
       "    </tr>\n",
       "    <tr>\n",
       "      <th>09001210800</th>\n",
       "      <td>MHI - At Risk of Exclusion</td>\n",
       "    </tr>\n",
       "    <tr>\n",
       "      <th>09001211300</th>\n",
       "      <td>MHI - At Risk of Exclusion</td>\n",
       "    </tr>\n",
       "    <tr>\n",
       "      <th>09009344100</th>\n",
       "      <td>MHI - At Risk of Exclusion</td>\n",
       "    </tr>\n",
       "    <tr>\n",
       "      <th>09001030200</th>\n",
       "      <td>MHI - At Risk of Exclusion</td>\n",
       "    </tr>\n",
       "    <tr>\n",
       "      <th>09001072300</th>\n",
       "      <td>LI - Ongoing Displacement of Low- Income House...</td>\n",
       "    </tr>\n",
       "    <tr>\n",
       "      <th>09009125200</th>\n",
       "      <td>LI - Ongoing Gentrification</td>\n",
       "    </tr>\n",
       "    <tr>\n",
       "      <th>09009165900</th>\n",
       "      <td>MHI - At Risk of Exclusion</td>\n",
       "    </tr>\n",
       "    <tr>\n",
       "      <th>09009194100</th>\n",
       "      <td>MHI - At Risk of Exclusion</td>\n",
       "    </tr>\n",
       "    <tr>\n",
       "      <th>09001020400</th>\n",
       "      <td>MHI - Displacement of LI hh - Ongoing Exclusion</td>\n",
       "    </tr>\n",
       "    <tr>\n",
       "      <th>09001080200</th>\n",
       "      <td>LI - Not Losing Low-Income Households</td>\n",
       "    </tr>\n",
       "    <tr>\n",
       "      <th>09009345100</th>\n",
       "      <td>LI - Not Losing Low-Income Households</td>\n",
       "    </tr>\n",
       "    <tr>\n",
       "      <th>09001072200</th>\n",
       "      <td>LI - Not Losing Low-Income Households</td>\n",
       "    </tr>\n",
       "    <tr>\n",
       "      <th>09009175700</th>\n",
       "      <td>MHI - At Risk of Exclusion</td>\n",
       "    </tr>\n",
       "    <tr>\n",
       "      <th>09001073000</th>\n",
       "      <td>LI - Not Losing Low-Income Households</td>\n",
       "    </tr>\n",
       "    <tr>\n",
       "      <th>09009154900</th>\n",
       "      <td>LI - Not Losing Low-Income Households</td>\n",
       "    </tr>\n",
       "    <tr>\n",
       "      <th>09009165801</th>\n",
       "      <td>MHI - Displacement of LI hh - Ongoing Exclusion</td>\n",
       "    </tr>\n",
       "    <tr>\n",
       "      <th>09001055100</th>\n",
       "      <td>MHI - At Risk of Exclusion</td>\n",
       "    </tr>\n",
       "  </tbody>\n",
       "</table>\n",
       "<p>4128 rows × 1 columns</p>\n",
       "</div>"
      ],
      "text/plain": [
       "                                                      Typology\n",
       "GEOID                                                         \n",
       "34003023401              LI - Not Losing Low-Income Households\n",
       "34003030100              LI - Not Losing Low-Income Households\n",
       "34003033300              LI - Not Losing Low-Income Households\n",
       "34003041200              LI - Not Losing Low-Income Households\n",
       "34003046300              LI - Not Losing Low-Income Households\n",
       "34013000500              LI - Not Losing Low-Income Households\n",
       "34013004300              LI - Not Losing Low-Income Households\n",
       "34013005200  LI - Ongoing Displacement of Low- Income House...\n",
       "34013007600              LI - Not Losing Low-Income Households\n",
       "34013009400              LI - Not Losing Low-Income Households\n",
       "34013010100              LI - Not Losing Low-Income Households\n",
       "34013010900              LI - Not Losing Low-Income Households\n",
       "34013011100              LI - Not Losing Low-Income Households\n",
       "34013012100              LI - Not Losing Low-Income Households\n",
       "34013013300              LI - Not Losing Low-Income Households\n",
       "34013014800    MHI - Displacement of LI hh - Ongoing Exclusion\n",
       "34013016300                         MHI - At Risk of Exclusion\n",
       "34013017800              LI - Not Losing Low-Income Households\n",
       "34017000100              LI - Not Losing Low-Income Households\n",
       "34017001300              LI - Not Losing Low-Income Households\n",
       "34017004900              LI - Not Losing Low-Income Households\n",
       "34017011300              LI - Not Losing Low-Income Households\n",
       "34017015600                     LI - At Risk of Gentrification\n",
       "34017016000                     LI - At Risk of Gentrification\n",
       "34017017300              LI - Not Losing Low-Income Households\n",
       "34017018800                         MHI - At Risk of Exclusion\n",
       "34017019300                      MHI - Advanced Gentrification\n",
       "34019010900              LI - Not Losing Low-Income Households\n",
       "34021003601             MHI - Not Losing Low-Income Households\n",
       "34023001001                         MHI - At Risk of Exclusion\n",
       "...                                                        ...\n",
       "09009341100    MHI - Displacement of LI hh - Ongoing Exclusion\n",
       "09009350200              LI - Not Losing Low-Income Households\n",
       "09001010600              LI - Not Losing Low-Income Households\n",
       "09001020300                         MHI - At Risk of Exclusion\n",
       "09001045200                         MHI - At Risk of Exclusion\n",
       "09001050500    MHI - Displacement of LI hh - Ongoing Exclusion\n",
       "09001070100  LI - Ongoing Displacement of Low- Income House...\n",
       "09001071300              LI - Not Losing Low-Income Households\n",
       "09001072600  LI - Ongoing Displacement of Low- Income House...\n",
       "09001080600              LI - Not Losing Low-Income Households\n",
       "09001090300    MHI - Displacement of LI hh - Ongoing Exclusion\n",
       "09001110100              LI - Not Losing Low-Income Households\n",
       "09001205100                         MHI - At Risk of Exclusion\n",
       "09001210800                         MHI - At Risk of Exclusion\n",
       "09001211300                         MHI - At Risk of Exclusion\n",
       "09009344100                         MHI - At Risk of Exclusion\n",
       "09001030200                         MHI - At Risk of Exclusion\n",
       "09001072300  LI - Ongoing Displacement of Low- Income House...\n",
       "09009125200                        LI - Ongoing Gentrification\n",
       "09009165900                         MHI - At Risk of Exclusion\n",
       "09009194100                         MHI - At Risk of Exclusion\n",
       "09001020400    MHI - Displacement of LI hh - Ongoing Exclusion\n",
       "09001080200              LI - Not Losing Low-Income Households\n",
       "09009345100              LI - Not Losing Low-Income Households\n",
       "09001072200              LI - Not Losing Low-Income Households\n",
       "09009175700                         MHI - At Risk of Exclusion\n",
       "09001073000              LI - Not Losing Low-Income Households\n",
       "09009154900              LI - Not Losing Low-Income Households\n",
       "09009165801    MHI - Displacement of LI hh - Ongoing Exclusion\n",
       "09001055100                         MHI - At Risk of Exclusion\n",
       "\n",
       "[4128 rows x 1 columns]"
      ]
     },
     "execution_count": 43,
     "metadata": {},
     "output_type": "execute_result"
    }
   ],
   "source": [
    "data[['Typology']]"
   ]
  },
  {
   "cell_type": "code",
   "execution_count": 44,
   "metadata": {},
   "outputs": [],
   "source": [
    "data[['Typology']].to_csv('UDPNY_results_NOV18_noMOE.csv')"
   ]
  },
  {
   "cell_type": "code",
   "execution_count": 45,
   "metadata": {},
   "outputs": [
    {
     "data": {
      "text/plain": [
       "([<matplotlib.patches.Wedge at 0x1a21857dd8>,\n",
       "  <matplotlib.patches.Wedge at 0x1a21867668>,\n",
       "  <matplotlib.patches.Wedge at 0x1a21867c88>,\n",
       "  <matplotlib.patches.Wedge at 0x1a21867978>,\n",
       "  <matplotlib.patches.Wedge at 0x1a2185eef0>,\n",
       "  <matplotlib.patches.Wedge at 0x1a2185e080>,\n",
       "  <matplotlib.patches.Wedge at 0x1a21868080>,\n",
       "  <matplotlib.patches.Wedge at 0x1a21868160>],\n",
       " [Text(0.424044,1.01498,''),\n",
       "  Text(-1.09649,0.0878071,''),\n",
       "  Text(-0.638,-0.896078,''),\n",
       "  Text(-0.00502267,-1.09999,''),\n",
       "  Text(0.508171,-0.975583,''),\n",
       "  Text(0.818691,-0.734674,''),\n",
       "  Text(1.00367,-0.450162,''),\n",
       "  Text(1.08923,-0.153532,'')])"
      ]
     },
     "execution_count": 45,
     "metadata": {},
     "output_type": "execute_result"
    },
    {
     "data": {
      "image/png": "[encoded data removed]",
      "text/plain": [
       "<Figure size 432x288 with 1 Axes>"
      ]
     },
     "metadata": {},
     "output_type": "display_data"
    }
   ],
   "source": [
    "pl.pie(resultsTyp.iloc[:,1])"
   ]
  },
  {
   "cell_type": "code",
   "execution_count": null,
   "metadata": {},
   "outputs": [],
   "source": []
  }
 ],
 "metadata": {
  "kernelspec": {
   "display_name": "Python 3",
   "language": "python",
   "name": "python3"
  },
  "language_info": {
   "codemirror_mode": {
    "name": "ipython",
    "version": 3
   },
   "file_extension": ".py",
   "mimetype": "text/x-python",
   "name": "python",
   "nbconvert_exporter": "python",
   "pygments_lexer": "ipython3",
   "version": "3.5.5"
  }
 },
 "nbformat": 4,
 "nbformat_minor": 2
}
