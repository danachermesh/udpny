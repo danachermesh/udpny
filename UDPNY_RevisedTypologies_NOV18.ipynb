{
 "cells": [
  {
   "cell_type": "code",
   "execution_count": 1,
   "metadata": {},
   "outputs": [],
   "source": [
    "import pandas as pd\n",
    "import numpy as np\n",
    "import geopandas as gpd\n",
    "import matplotlib.pylab as pl\n",
    "import seaborn as sns\n",
    "sns.set_style('whitegrid')"
   ]
  },
  {
   "cell_type": "markdown",
   "metadata": {},
   "source": [
    "# UDPNY 2018 - _phase #3_\n",
    "# _new edition according to udp methodology and revision - September '18_\n",
    "\n",
    "This code defines the _**8 displacement typologies**_ and assignes each tract to a typology. \n",
    "\n",
    "- [UDP's methodology / displacement typollogies](https://drive.google.com/file/d/1nwOoVItI5RLLILrFpbTRoXbrjIohnSPY/view)"
   ]
  },
  {
   "cell_type": "markdown",
   "metadata": {},
   "source": [
    "----\n",
    "# UDP Gentrification and Displacement Typologies\n",
    "The typologies (**Updated to October 2018**) can be found in the udp website under _[Gentrification and Displacement Census Tract Typologies](https://drive.google.com/file/d/1nwOoVItI5RLLILrFpbTRoXbrjIohnSPY/view])_\n",
    "### _8 Typologies_ to be generated to the displacement map:\n",
    "\n",
    "### Low Income:\n",
    "1. LI - Not Losing Low-Income Households\n",
    "2. LI - At Risk of Gentrification\n",
    "3. LI - Ongoing Displacement of Low-Income Households\n",
    "4. LI - Ongoing Gentrification \n",
    "\n",
    "### Moderate to High Income:\n",
    "5. MHI - Advanced Gentrification\n",
    "6. MHI - Not Losing Low-Income Households\n",
    "7. MHI - At Risk of Exclusion\n",
    "8. MHI - Displacement of Low-Income Households - Ongoing Exclusion "
   ]
  },
  {
   "cell_type": "markdown",
   "metadata": {},
   "source": [
    "---\n",
    "# 1. Data \n",
    "- This notebook uses the data was given by the Berkeley UDP team for the New-York region;\n",
    "- For the data aquisition process, including logistic regressions for the variables please refer to https://github.com/geeroovaa/udp"
   ]
  },
  {
   "cell_type": "code",
   "execution_count": 17,
   "metadata": {},
   "outputs": [
    {
     "name": "stdout",
     "output_type": "stream",
     "text": [
      "(5956, 146)\n"
     ]
    },
    {
     "data": {
      "text/html": [
       "<div>\n",
       "<style scoped>\n",
       "    .dataframe tbody tr th:only-of-type {\n",
       "        vertical-align: middle;\n",
       "    }\n",
       "\n",
       "    .dataframe tbody tr th {\n",
       "        vertical-align: top;\n",
       "    }\n",
       "\n",
       "    .dataframe thead th {\n",
       "        text-align: right;\n",
       "    }\n",
       "</style>\n",
       "<table border=\"1\" class=\"dataframe\">\n",
       "  <thead>\n",
       "    <tr style=\"text-align: right;\">\n",
       "      <th></th>\n",
       "      <th>empd02</th>\n",
       "      <th>TOD</th>\n",
       "      <th>TOD_pre_00</th>\n",
       "      <th>TOD_00_10</th>\n",
       "      <th>TOD_10</th>\n",
       "    </tr>\n",
       "  </thead>\n",
       "  <tbody>\n",
       "    <tr>\n",
       "      <th>0</th>\n",
       "      <td>398</td>\n",
       "      <td>False</td>\n",
       "      <td>False</td>\n",
       "      <td>False</td>\n",
       "      <td>False</td>\n",
       "    </tr>\n",
       "    <tr>\n",
       "      <th>1</th>\n",
       "      <td>222</td>\n",
       "      <td>False</td>\n",
       "      <td>False</td>\n",
       "      <td>False</td>\n",
       "      <td>False</td>\n",
       "    </tr>\n",
       "    <tr>\n",
       "      <th>2</th>\n",
       "      <td>364</td>\n",
       "      <td>False</td>\n",
       "      <td>False</td>\n",
       "      <td>False</td>\n",
       "      <td>False</td>\n",
       "    </tr>\n",
       "  </tbody>\n",
       "</table>\n",
       "</div>"
      ],
      "text/plain": [
       "   empd02    TOD  TOD_pre_00  TOD_00_10  TOD_10\n",
       "0     398  False       False      False   False\n",
       "1     222  False       False      False   False\n",
       "2     364  False       False      False   False"
      ]
     },
     "execution_count": 17,
     "metadata": {},
     "output_type": "execute_result"
    }
   ],
   "source": [
    "# unhash the following line if reading .dta file:\n",
    "# data = pd.read_stata(\"data/UDP_NYC_Variables.dta\")\n",
    "\n",
    "# reading .csv file:\n",
    "data = pd.read_csv(\"https://raw.githubusercontent.com/geeroovaa/udp/master/UDPNY_gerardo_11_07_18.csv\")\n",
    "data['Unnamed: 0'] = data['Unnamed: 0'].apply(lambda x: '{0:0>11}'.format(x))\n",
    "\n",
    "print(data.shape)\n",
    "data.iloc[:3,-5:]"
   ]
  },
  {
   "cell_type": "code",
   "execution_count": 18,
   "metadata": {
    "scrolled": false
   },
   "outputs": [
    {
     "data": {
      "text/plain": [
       "['Unnamed: 0',\n",
       " 'NAME',\n",
       " 'county',\n",
       " 'hh_00',\n",
       " 'hh_16',\n",
       " 'hh_16_moe',\n",
       " 'hh_90',\n",
       " 'hi_00',\n",
       " 'hi_16',\n",
       " 'hi_16_moe',\n",
       " 'hi_90',\n",
       " 'hi_mig_10',\n",
       " 'hi_mig_10_moe',\n",
       " 'hi_mig_16',\n",
       " 'hi_mig_16_moe',\n",
       " 'hinc_00',\n",
       " 'hinc_16',\n",
       " 'hinc_16_moe',\n",
       " 'hinc_90',\n",
       " 'hu_00',\n",
       " 'hu_16',\n",
       " 'hu_16_moe',\n",
       " 'hu_90',\n",
       " 'li_00',\n",
       " 'li_16',\n",
       " 'li_16_moe',\n",
       " 'li_90',\n",
       " 'li_mig_10',\n",
       " 'li_mig_10_moe',\n",
       " 'li_mig_16',\n",
       " 'li_mig_16_moe',\n",
       " 'mhi_00',\n",
       " 'mhi_16',\n",
       " 'mhi_16_moe',\n",
       " 'mhi_90',\n",
       " 'mhi_mig_10',\n",
       " 'mhi_mig_10_moe',\n",
       " 'mhi_mig_16',\n",
       " 'mhi_mig_16_moe',\n",
       " 'mhval_00',\n",
       " 'mhval_16',\n",
       " 'mhval_16_moe',\n",
       " 'mhval_90',\n",
       " 'mi_00',\n",
       " 'mi_16',\n",
       " 'mi_16_moe',\n",
       " 'mi_90',\n",
       " 'mi_mig_10',\n",
       " 'mi_mig_10_moe',\n",
       " 'mi_mig_16',\n",
       " 'mi_mig_16_moe',\n",
       " 'mrent_00',\n",
       " 'mrent_16',\n",
       " 'mrent_16_moe',\n",
       " 'mrent_90',\n",
       " 'per_all_li_mig_10',\n",
       " 'per_all_li_mig_16',\n",
       " 'per_asian_00',\n",
       " 'per_asian_16',\n",
       " 'per_asian_16_moe',\n",
       " 'per_asian_90',\n",
       " 'per_black_00',\n",
       " 'per_black_16',\n",
       " 'per_black_16_moe',\n",
       " 'per_black_90',\n",
       " 'per_built_00_16',\n",
       " 'per_built_80_90',\n",
       " 'per_built_90_00',\n",
       " 'per_burden_00',\n",
       " 'per_burden_16',\n",
       " 'per_car_commute_00',\n",
       " 'per_car_commute_90',\n",
       " 'per_col_00',\n",
       " 'per_col_16',\n",
       " 'per_col_16_moe',\n",
       " 'per_col_90',\n",
       " 'per_commute_high_00',\n",
       " 'per_commute_high_16',\n",
       " 'per_commute_high_16_moe',\n",
       " 'per_commute_high_90',\n",
       " 'per_commute_low_00',\n",
       " 'per_commute_low_16',\n",
       " 'per_commute_low_16_moe',\n",
       " 'per_commute_low_90',\n",
       " 'per_commute_med_00',\n",
       " 'per_commute_med_16',\n",
       " 'per_commute_med_16_moe',\n",
       " 'per_commute_med_90',\n",
       " 'per_foreign_00',\n",
       " 'per_foreign_16',\n",
       " 'per_foreign_16_moe',\n",
       " 'per_foreign_90',\n",
       " 'per_hhwchild_00',\n",
       " 'per_hhwchild_16',\n",
       " 'per_hhwchild_16_moe',\n",
       " 'per_hhwchild_90',\n",
       " 'per_latino_00',\n",
       " 'per_latino_16',\n",
       " 'per_latino_16_moe',\n",
       " 'per_latino_90',\n",
       " 'per_nonwhite_00',\n",
       " 'per_nonwhite_16',\n",
       " 'per_nonwhite_16_moe',\n",
       " 'per_nonwhite_90',\n",
       " 'per_owners_00',\n",
       " 'per_owners_16',\n",
       " 'per_owners_16_moe',\n",
       " 'per_owners_90',\n",
       " 'per_rent_00',\n",
       " 'per_rent_16',\n",
       " 'per_rent_16_moe',\n",
       " 'per_rent_90',\n",
       " 'per_units_post80',\n",
       " 'per_units_pre50',\n",
       " 'per_units_pre50_00',\n",
       " 'per_units_pre50_16',\n",
       " 'pop_00',\n",
       " 'pop_16',\n",
       " 'pop_16_moe',\n",
       " 'pop_90',\n",
       " 'renters_pre_1979_16',\n",
       " 'state',\n",
       " 'tract',\n",
       " 'vhi_00',\n",
       " 'vhi_16',\n",
       " 'vhi_16_moe',\n",
       " 'vhi_90',\n",
       " 'vhi_mig_10',\n",
       " 'vhi_mig_10_moe',\n",
       " 'vhi_mig_16',\n",
       " 'vhi_mig_16_moe',\n",
       " 'vli_00',\n",
       " 'vli_16',\n",
       " 'vli_16_moe',\n",
       " 'vli_90',\n",
       " 'vli_mig_10',\n",
       " 'vli_mig_10_moe',\n",
       " 'vli_mig_16',\n",
       " 'vli_mig_16_moe',\n",
       " 'downtown',\n",
       " 'empd15',\n",
       " 'empd02',\n",
       " 'TOD',\n",
       " 'TOD_pre_00',\n",
       " 'TOD_00_10',\n",
       " 'TOD_10']"
      ]
     },
     "execution_count": 18,
     "metadata": {},
     "output_type": "execute_result"
    }
   ],
   "source": [
    "list(data.columns)"
   ]
  },
  {
   "cell_type": "markdown",
   "metadata": {},
   "source": [
    "## 1.1 Data cleaning and munging\n",
    "- Dropping tracts with _**population less than 500**_ (2016)\n",
    "- Dropping tracts with _**more than 5 'Null' columns**_\n",
    "- calculating coefficient of variation according to MOE (drop **_> 30% of variation_**)\n",
    "- reading in tracts' shapefile in order to claculate _**pop densities**_"
   ]
  },
  {
   "cell_type": "code",
   "execution_count": 19,
   "metadata": {},
   "outputs": [
    {
     "name": "stdout",
     "output_type": "stream",
     "text": [
      "# of tracts in data before cleaning:  5956\n",
      "# of tracts in data after cleaning:  5944\n"
     ]
    }
   ],
   "source": [
    "print(\"# of tracts in data before cleaning: \", data.shape[0])\n",
    "\n",
    "# Dropping tracts with population less than 500 (2016)\n",
    "data = data[data['pop_16'] > 500]\n",
    "# Dropping tracts with more than 5 'Null' columns\n",
    "data = data[data.isnull().sum(axis=1) <= 5]\n",
    "\n",
    "print(\"# of tracts in data after cleaning: \", data.shape[0])"
   ]
  },
  {
   "cell_type": "code",
   "execution_count": 20,
   "metadata": {},
   "outputs": [
    {
     "data": {
      "text/html": [
       "<div>\n",
       "<style scoped>\n",
       "    .dataframe tbody tr th:only-of-type {\n",
       "        vertical-align: middle;\n",
       "    }\n",
       "\n",
       "    .dataframe tbody tr th {\n",
       "        vertical-align: top;\n",
       "    }\n",
       "\n",
       "    .dataframe thead th {\n",
       "        text-align: right;\n",
       "    }\n",
       "</style>\n",
       "<table border=\"1\" class=\"dataframe\">\n",
       "  <thead>\n",
       "    <tr style=\"text-align: right;\">\n",
       "      <th></th>\n",
       "      <th>Unnamed: 0</th>\n",
       "      <th>NAME</th>\n",
       "      <th>county</th>\n",
       "      <th>hh_00</th>\n",
       "      <th>hh_16</th>\n",
       "      <th>hh_16_moe</th>\n",
       "      <th>hh_90</th>\n",
       "      <th>hi_00</th>\n",
       "      <th>hi_16</th>\n",
       "      <th>hi_16_moe</th>\n",
       "      <th>...</th>\n",
       "      <th>vli_mig_10_moe</th>\n",
       "      <th>vli_mig_16</th>\n",
       "      <th>vli_mig_16_moe</th>\n",
       "      <th>downtown</th>\n",
       "      <th>empd15</th>\n",
       "      <th>empd02</th>\n",
       "      <th>TOD</th>\n",
       "      <th>TOD_pre_00</th>\n",
       "      <th>TOD_00_10</th>\n",
       "      <th>TOD_10</th>\n",
       "    </tr>\n",
       "  </thead>\n",
       "  <tbody>\n",
       "    <tr>\n",
       "      <th>5955</th>\n",
       "      <td>09015830100</td>\n",
       "      <td>Census Tract 8301, Windham County, Connecticut</td>\n",
       "      <td>15</td>\n",
       "      <td>1574.0</td>\n",
       "      <td>1659.0</td>\n",
       "      <td>105.0</td>\n",
       "      <td>1428.0</td>\n",
       "      <td>0.162402</td>\n",
       "      <td>0.149289</td>\n",
       "      <td>0.059018</td>\n",
       "      <td>...</td>\n",
       "      <td>0.174726</td>\n",
       "      <td>0.457672</td>\n",
       "      <td>0.134416</td>\n",
       "      <td>False</td>\n",
       "      <td>526</td>\n",
       "      <td>367</td>\n",
       "      <td>False</td>\n",
       "      <td>False</td>\n",
       "      <td>False</td>\n",
       "      <td>False</td>\n",
       "    </tr>\n",
       "  </tbody>\n",
       "</table>\n",
       "<p>1 rows × 146 columns</p>\n",
       "</div>"
      ],
      "text/plain": [
       "       Unnamed: 0                                            NAME  county  \\\n",
       "5955  09015830100  Census Tract 8301, Windham County, Connecticut      15   \n",
       "\n",
       "       hh_00   hh_16  hh_16_moe   hh_90     hi_00     hi_16  hi_16_moe  \\\n",
       "5955  1574.0  1659.0      105.0  1428.0  0.162402  0.149289   0.059018   \n",
       "\n",
       "       ...    vli_mig_10_moe  vli_mig_16  vli_mig_16_moe  downtown  empd15  \\\n",
       "5955   ...          0.174726    0.457672        0.134416     False     526   \n",
       "\n",
       "      empd02    TOD  TOD_pre_00  TOD_00_10  TOD_10  \n",
       "5955     367  False       False      False   False  \n",
       "\n",
       "[1 rows x 146 columns]"
      ]
     },
     "execution_count": 20,
     "metadata": {},
     "output_type": "execute_result"
    }
   ],
   "source": [
    "data.tail(1)"
   ]
  },
  {
   "cell_type": "markdown",
   "metadata": {},
   "source": [
    "### Coefficient of variation of MOE\n",
    "## _Tracts with a coefficient of variation > 30% on several key 2016 variables are flagged and determined unreliable:_\n",
    "- Population -- V\n",
    "- Housing units -- V\n",
    "- Median rent -- V\n",
    "- Median home value -- V\n",
    "- Median income  -- **_no MOE in the data_**\n",
    "- College count\n",
    "- Renter count -- V"
   ]
  },
  {
   "cell_type": "raw",
   "metadata": {},
   "source": [
    "# Population\n",
    "data = data[(data.pop_16_moe / 1.645 ) / data.pop_16 <= 0.3]\n",
    "# Housing Units\n",
    "data = data[(data.hu_16_moe / 1.645 ) / data.hu_16 <= 0.3]\n",
    "# Bachelors count\n",
    "data = data[(data.per_col_16_moe / 1.645 ) / data.per_col_16 <= 0.3]\n",
    "\n",
    "# Renter counts, Median rent, Median home value\n",
    "# dividing data to ct with majority of renters vs homeowners\n",
    "datarent = data[data.per_rent_16 > 0.5]\n",
    "dataowner = data[data.per_rent_16 <= 0.5]\n",
    "\n",
    "# Renter count, ownership counts\n",
    "# datarent = datarent[(datarent.moe_renter16 / 1.645)  / datarent.rhu16 <= 0.3]\n",
    "# dataowner = dataowner[(dataowner.moe_owner16 / 1.645 ) / dataowner.ohu16 <= 0.3]\n",
    "\n",
    "# Median rent, Median home value\n",
    "datarent = datarent[(datarent.mrent_16_moe / 1.645)  / datarent.mrent_16 <= 0.3]\n",
    "dataowner = dataowner[(dataowner.mhval_16_moe / 1.645 ) / dataowner.mhval_16 <= 0.3]\n",
    "\n",
    "# concatenating two datasets back to 'data'\n",
    "data = [dataowner, datarent]\n",
    "data = pd.concat(data)\n",
    "data.shape"
   ]
  },
  {
   "cell_type": "markdown",
   "metadata": {},
   "source": [
    "### Census tracts shapefiles + calculating population densities"
   ]
  },
  {
   "cell_type": "code",
   "execution_count": 22,
   "metadata": {},
   "outputs": [
    {
     "name": "stdout",
     "output_type": "stream",
     "text": [
      "    Unnamed: 0\n",
      "0  34001000100\n",
      "1  34001000200\n",
      "2  34001000300\n",
      "3  34001000400\n",
      "4  34001000500\n",
      "Unnamed: 0    object\n",
      "dtype: object\n"
     ]
    }
   ],
   "source": [
    "print(data.iloc[:5,:1])\n",
    "data['Unnamed: 0'] = data['Unnamed: 0'].astype(str)\n",
    "data['Unnamed: 0'] = data['Unnamed: 0'].apply(lambda x: '{0:0>11}'.format(x))\n",
    "print(data.iloc[:,:1].dtypes)"
   ]
  },
  {
   "cell_type": "code",
   "execution_count": 23,
   "metadata": {},
   "outputs": [
    {
     "name": "stdout",
     "output_type": "stream",
     "text": [
      "5944\n",
      "[34 36  9]\n"
     ]
    }
   ],
   "source": [
    "print(len(data['Unnamed: 0'].unique()))\n",
    "print(data['state'].unique())"
   ]
  },
  {
   "cell_type": "markdown",
   "metadata": {},
   "source": [
    "## _revised from here according to Eva's cleaned .shp (Nov 19th 2018)_"
   ]
  },
  {
   "cell_type": "code",
   "execution_count": 24,
   "metadata": {
    "scrolled": true
   },
   "outputs": [
    {
     "name": "stdout",
     "output_type": "stream",
     "text": [
      "(7738, 3)\n",
      "GEOID        object\n",
      "ALAND       float64\n",
      "geometry     object\n",
      "dtype: object\n"
     ]
    },
    {
     "data": {
      "text/html": [
       "<div>\n",
       "<style scoped>\n",
       "    .dataframe tbody tr th:only-of-type {\n",
       "        vertical-align: middle;\n",
       "    }\n",
       "\n",
       "    .dataframe tbody tr th {\n",
       "        vertical-align: top;\n",
       "    }\n",
       "\n",
       "    .dataframe thead th {\n",
       "        text-align: right;\n",
       "    }\n",
       "</style>\n",
       "<table border=\"1\" class=\"dataframe\">\n",
       "  <thead>\n",
       "    <tr style=\"text-align: right;\">\n",
       "      <th></th>\n",
       "      <th>GEOID</th>\n",
       "      <th>ALAND</th>\n",
       "      <th>geometry</th>\n",
       "    </tr>\n",
       "  </thead>\n",
       "  <tbody>\n",
       "    <tr>\n",
       "      <th>0</th>\n",
       "      <td>34031256804</td>\n",
       "      <td>29792621.0</td>\n",
       "      <td>POLYGON ((-74.359303 41.09905700000004, -74.35...</td>\n",
       "    </tr>\n",
       "    <tr>\n",
       "      <th>1</th>\n",
       "      <td>34031246300</td>\n",
       "      <td>10100082.0</td>\n",
       "      <td>POLYGON ((-74.27427100000004 40.94664300000004...</td>\n",
       "    </tr>\n",
       "    <tr>\n",
       "      <th>2</th>\n",
       "      <td>34031181200</td>\n",
       "      <td>401624.0</td>\n",
       "      <td>POLYGON ((-74.144605 40.92607499999999, -74.14...</td>\n",
       "    </tr>\n",
       "    <tr>\n",
       "      <th>3</th>\n",
       "      <td>34031256803</td>\n",
       "      <td>14231776.0</td>\n",
       "      <td>POLYGON ((-74.359303 41.09905700000004, -74.36...</td>\n",
       "    </tr>\n",
       "    <tr>\n",
       "      <th>4</th>\n",
       "      <td>34031246003</td>\n",
       "      <td>6580969.0</td>\n",
       "      <td>POLYGON ((-74.24918300000002 40.988769, -74.24...</td>\n",
       "    </tr>\n",
       "  </tbody>\n",
       "</table>\n",
       "</div>"
      ],
      "text/plain": [
       "         GEOID       ALAND                                           geometry\n",
       "0  34031256804  29792621.0  POLYGON ((-74.359303 41.09905700000004, -74.35...\n",
       "1  34031246300  10100082.0  POLYGON ((-74.27427100000004 40.94664300000004...\n",
       "2  34031181200    401624.0  POLYGON ((-74.144605 40.92607499999999, -74.14...\n",
       "3  34031256803  14231776.0  POLYGON ((-74.359303 41.09905700000004, -74.36...\n",
       "4  34031246003   6580969.0  POLYGON ((-74.24918300000002 40.988769, -74.24..."
      ]
     },
     "execution_count": 24,
     "metadata": {},
     "output_type": "execute_result"
    }
   ],
   "source": [
    "# all tracts\n",
    "alltracts = gpd.GeoDataFrame.from_file(\"final_tracts_nowater/ny_nj_ct_merge.shp\")\n",
    "alltracts = alltracts[['GEOID', 'ALAND', 'geometry']]\n",
    "alltracts['GEOID'] = alltracts['GEOID'].apply(lambda x: '{0:0>11}'.format(x))\n",
    "\n",
    "print(alltracts.shape)\n",
    "print(alltracts.dtypes)\n",
    "alltracts.head()"
   ]
  },
  {
   "cell_type": "code",
   "execution_count": 25,
   "metadata": {},
   "outputs": [
    {
     "name": "stdout",
     "output_type": "stream",
     "text": [
      "<class 'geopandas.geodataframe.GeoDataFrame'>\n",
      "<class 'geopandas.geodataframe.GeoDataFrame'>\n",
      "(5940, 148)\n"
     ]
    },
    {
     "data": {
      "text/html": [
       "<div>\n",
       "<style scoped>\n",
       "    .dataframe tbody tr th:only-of-type {\n",
       "        vertical-align: middle;\n",
       "    }\n",
       "\n",
       "    .dataframe tbody tr th {\n",
       "        vertical-align: top;\n",
       "    }\n",
       "\n",
       "    .dataframe thead th {\n",
       "        text-align: right;\n",
       "    }\n",
       "</style>\n",
       "<table border=\"1\" class=\"dataframe\">\n",
       "  <thead>\n",
       "    <tr style=\"text-align: right;\">\n",
       "      <th></th>\n",
       "      <th>geometry</th>\n",
       "      <th>NAME</th>\n",
       "      <th>county</th>\n",
       "      <th>hh_00</th>\n",
       "      <th>hh_16</th>\n",
       "      <th>hh_16_moe</th>\n",
       "      <th>hh_90</th>\n",
       "      <th>hi_00</th>\n",
       "      <th>hi_16</th>\n",
       "      <th>hi_16_moe</th>\n",
       "      <th>...</th>\n",
       "      <th>vli_mig_16</th>\n",
       "      <th>vli_mig_16_moe</th>\n",
       "      <th>downtown</th>\n",
       "      <th>empd15</th>\n",
       "      <th>empd02</th>\n",
       "      <th>TOD</th>\n",
       "      <th>TOD_pre_00</th>\n",
       "      <th>TOD_00_10</th>\n",
       "      <th>TOD_10</th>\n",
       "      <th>pop_density16</th>\n",
       "    </tr>\n",
       "    <tr>\n",
       "      <th>GEOID</th>\n",
       "      <th></th>\n",
       "      <th></th>\n",
       "      <th></th>\n",
       "      <th></th>\n",
       "      <th></th>\n",
       "      <th></th>\n",
       "      <th></th>\n",
       "      <th></th>\n",
       "      <th></th>\n",
       "      <th></th>\n",
       "      <th></th>\n",
       "      <th></th>\n",
       "      <th></th>\n",
       "      <th></th>\n",
       "      <th></th>\n",
       "      <th></th>\n",
       "      <th></th>\n",
       "      <th></th>\n",
       "      <th></th>\n",
       "      <th></th>\n",
       "      <th></th>\n",
       "    </tr>\n",
       "  </thead>\n",
       "  <tbody>\n",
       "    <tr>\n",
       "      <th>34031256804</th>\n",
       "      <td>POLYGON ((-74.359303 41.09905700000004, -74.35...</td>\n",
       "      <td>Census Tract 2568.04, Passaic County, New Jersey</td>\n",
       "      <td>31</td>\n",
       "      <td>2317.0</td>\n",
       "      <td>2242.0</td>\n",
       "      <td>136.0</td>\n",
       "      <td>1409.0</td>\n",
       "      <td>0.205070</td>\n",
       "      <td>0.220562</td>\n",
       "      <td>0.092990</td>\n",
       "      <td>...</td>\n",
       "      <td>0.349861</td>\n",
       "      <td>0.127235</td>\n",
       "      <td>True</td>\n",
       "      <td>1223</td>\n",
       "      <td>1616</td>\n",
       "      <td>False</td>\n",
       "      <td>False</td>\n",
       "      <td>False</td>\n",
       "      <td>False</td>\n",
       "      <td>0.000232</td>\n",
       "    </tr>\n",
       "    <tr>\n",
       "      <th>34031246300</th>\n",
       "      <td>POLYGON ((-74.27427100000004 40.94664300000004...</td>\n",
       "      <td>Census Tract 2463, Passaic County, New Jersey</td>\n",
       "      <td>31</td>\n",
       "      <td>1871.0</td>\n",
       "      <td>1699.0</td>\n",
       "      <td>116.0</td>\n",
       "      <td>1546.0</td>\n",
       "      <td>0.155281</td>\n",
       "      <td>0.097460</td>\n",
       "      <td>0.051801</td>\n",
       "      <td>...</td>\n",
       "      <td>0.488799</td>\n",
       "      <td>0.182888</td>\n",
       "      <td>True</td>\n",
       "      <td>10783</td>\n",
       "      <td>10352</td>\n",
       "      <td>True</td>\n",
       "      <td>True</td>\n",
       "      <td>False</td>\n",
       "      <td>False</td>\n",
       "      <td>0.000497</td>\n",
       "    </tr>\n",
       "    <tr>\n",
       "      <th>34031181200</th>\n",
       "      <td>POLYGON ((-74.144605 40.92607499999999, -74.14...</td>\n",
       "      <td>Census Tract 1812, Passaic County, New Jersey</td>\n",
       "      <td>31</td>\n",
       "      <td>1300.0</td>\n",
       "      <td>1378.0</td>\n",
       "      <td>86.0</td>\n",
       "      <td>1323.0</td>\n",
       "      <td>0.063370</td>\n",
       "      <td>0.083389</td>\n",
       "      <td>0.056995</td>\n",
       "      <td>...</td>\n",
       "      <td>0.712649</td>\n",
       "      <td>0.299533</td>\n",
       "      <td>True</td>\n",
       "      <td>455</td>\n",
       "      <td>423</td>\n",
       "      <td>False</td>\n",
       "      <td>False</td>\n",
       "      <td>False</td>\n",
       "      <td>False</td>\n",
       "      <td>0.012034</td>\n",
       "    </tr>\n",
       "    <tr>\n",
       "      <th>34031256803</th>\n",
       "      <td>POLYGON ((-74.359303 41.09905700000004, -74.36...</td>\n",
       "      <td>Census Tract 2568.03, Passaic County, New Jersey</td>\n",
       "      <td>31</td>\n",
       "      <td>1776.0</td>\n",
       "      <td>2050.0</td>\n",
       "      <td>139.0</td>\n",
       "      <td>2465.0</td>\n",
       "      <td>0.193215</td>\n",
       "      <td>0.148751</td>\n",
       "      <td>0.077255</td>\n",
       "      <td>...</td>\n",
       "      <td>0.440709</td>\n",
       "      <td>0.185892</td>\n",
       "      <td>True</td>\n",
       "      <td>884</td>\n",
       "      <td>666</td>\n",
       "      <td>False</td>\n",
       "      <td>False</td>\n",
       "      <td>False</td>\n",
       "      <td>False</td>\n",
       "      <td>0.000357</td>\n",
       "    </tr>\n",
       "    <tr>\n",
       "      <th>34031182400</th>\n",
       "      <td>POLYGON ((-74.14698300000002 40.916515, -74.14...</td>\n",
       "      <td>Census Tract 1824, Passaic County, New Jersey</td>\n",
       "      <td>31</td>\n",
       "      <td>1498.0</td>\n",
       "      <td>1386.0</td>\n",
       "      <td>96.0</td>\n",
       "      <td>1421.0</td>\n",
       "      <td>0.085245</td>\n",
       "      <td>0.115708</td>\n",
       "      <td>0.072924</td>\n",
       "      <td>...</td>\n",
       "      <td>0.624262</td>\n",
       "      <td>0.267881</td>\n",
       "      <td>True</td>\n",
       "      <td>588</td>\n",
       "      <td>678</td>\n",
       "      <td>False</td>\n",
       "      <td>False</td>\n",
       "      <td>False</td>\n",
       "      <td>False</td>\n",
       "      <td>0.007643</td>\n",
       "    </tr>\n",
       "  </tbody>\n",
       "</table>\n",
       "<p>5 rows × 147 columns</p>\n",
       "</div>"
      ],
      "text/plain": [
       "                                                      geometry  \\\n",
       "GEOID                                                            \n",
       "34031256804  POLYGON ((-74.359303 41.09905700000004, -74.35...   \n",
       "34031246300  POLYGON ((-74.27427100000004 40.94664300000004...   \n",
       "34031181200  POLYGON ((-74.144605 40.92607499999999, -74.14...   \n",
       "34031256803  POLYGON ((-74.359303 41.09905700000004, -74.36...   \n",
       "34031182400  POLYGON ((-74.14698300000002 40.916515, -74.14...   \n",
       "\n",
       "                                                         NAME  county   hh_00  \\\n",
       "GEOID                                                                           \n",
       "34031256804  Census Tract 2568.04, Passaic County, New Jersey      31  2317.0   \n",
       "34031246300     Census Tract 2463, Passaic County, New Jersey      31  1871.0   \n",
       "34031181200     Census Tract 1812, Passaic County, New Jersey      31  1300.0   \n",
       "34031256803  Census Tract 2568.03, Passaic County, New Jersey      31  1776.0   \n",
       "34031182400     Census Tract 1824, Passaic County, New Jersey      31  1498.0   \n",
       "\n",
       "              hh_16  hh_16_moe   hh_90     hi_00     hi_16  hi_16_moe  \\\n",
       "GEOID                                                                   \n",
       "34031256804  2242.0      136.0  1409.0  0.205070  0.220562   0.092990   \n",
       "34031246300  1699.0      116.0  1546.0  0.155281  0.097460   0.051801   \n",
       "34031181200  1378.0       86.0  1323.0  0.063370  0.083389   0.056995   \n",
       "34031256803  2050.0      139.0  2465.0  0.193215  0.148751   0.077255   \n",
       "34031182400  1386.0       96.0  1421.0  0.085245  0.115708   0.072924   \n",
       "\n",
       "                 ...        vli_mig_16  vli_mig_16_moe  downtown  empd15  \\\n",
       "GEOID            ...                                                       \n",
       "34031256804      ...          0.349861        0.127235      True    1223   \n",
       "34031246300      ...          0.488799        0.182888      True   10783   \n",
       "34031181200      ...          0.712649        0.299533      True     455   \n",
       "34031256803      ...          0.440709        0.185892      True     884   \n",
       "34031182400      ...          0.624262        0.267881      True     588   \n",
       "\n",
       "             empd02    TOD  TOD_pre_00  TOD_00_10  TOD_10  pop_density16  \n",
       "GEOID                                                                     \n",
       "34031256804    1616  False       False      False   False       0.000232  \n",
       "34031246300   10352   True        True      False   False       0.000497  \n",
       "34031181200     423  False       False      False   False       0.012034  \n",
       "34031256803     666  False       False      False   False       0.000357  \n",
       "34031182400     678  False       False      False   False       0.007643  \n",
       "\n",
       "[5 rows x 147 columns]"
      ]
     },
     "execution_count": 25,
     "metadata": {},
     "output_type": "execute_result"
    }
   ],
   "source": [
    "data_shp = alltracts.merge(data, left_on='GEOID', right_on='Unnamed: 0').drop('Unnamed: 0', axis=1)\\\n",
    "                                                                              .set_index('GEOID')\n",
    "\n",
    "# calculate pop density at 2016\n",
    "data_shp['pop_density16'] = data_shp['pop_16'] / data_shp['ALAND']\n",
    "# replicating data_shp to data\n",
    "data = data_shp.drop(['ALAND'], axis=1)\n",
    "\n",
    "print(type(data_shp))\n",
    "print(type(data))\n",
    "print(data_shp.shape)\n",
    "data.head()"
   ]
  },
  {
   "cell_type": "code",
   "execution_count": 26,
   "metadata": {},
   "outputs": [],
   "source": [
    "data.to_csv('data_shp.csv')"
   ]
  },
  {
   "cell_type": "code",
   "execution_count": 27,
   "metadata": {},
   "outputs": [
    {
     "data": {
      "text/plain": [
       "<matplotlib.axes._subplots.AxesSubplot at 0x1a1ca324e0>"
      ]
     },
     "execution_count": 27,
     "metadata": {},
     "output_type": "execute_result"
    },
    {
     "data": {
      "image/png": "[encoded data removed]",
      "text/plain": [
       "<Figure size 432x288 with 1 Axes>"
      ]
     },
     "metadata": {},
     "output_type": "display_data"
    }
   ],
   "source": [
    "data['pop_density16'].hist()"
   ]
  },
  {
   "cell_type": "markdown",
   "metadata": {},
   "source": [
    "---\n",
    "## 1.2 Creating conditional (binary) variables prior classification:"
   ]
  },
  {
   "cell_type": "markdown",
   "metadata": {},
   "source": [
    "### VLI - Very Low Income tract at 2016 -- _for additional layer on top of typologies_\n",
    "- vhi2016"
   ]
  },
  {
   "cell_type": "code",
   "execution_count": 28,
   "metadata": {},
   "outputs": [
    {
     "name": "stdout",
     "output_type": "stream",
     "text": [
      "(5940, 147)\n",
      "the median of very low income households at the year 2016 from total households, of all census tracts is: 0.24\n",
      "\n",
      "Number of VLI tracts at 2016: 471\n"
     ]
    }
   ],
   "source": [
    "# Calculating median for vli and vli % of all hh in tract\n",
    "\n",
    "print(data.shape)\n",
    "median_vli = data['vli_16'].median()\n",
    "print(\"the median of very low income households at the year 2016 from total households, \"  \n",
    "      \"of all census tracts is: {:.2f}\".format(median_vli))\n",
    "\n",
    "# VLI tract (2016)\n",
    "data['vli_tract16'] = np.where(data['vli_16'] > 0.5, 1, 0)\n",
    "print(\"\\nNumber of VLI tracts at 2016: {}\".format(data['vli_tract16'].value_counts()[1]))"
   ]
  },
  {
   "cell_type": "markdown",
   "metadata": {},
   "source": [
    "### Low Income tract\n",
    "- calculate the median % of all tracts\n",
    "- Binary output (0 == low income tract; 1 = not a low income tract)"
   ]
  },
  {
   "cell_type": "code",
   "execution_count": 29,
   "metadata": {
    "scrolled": true
   },
   "outputs": [
    {
     "name": "stdout",
     "output_type": "stream",
     "text": [
      "(5940, 148)\n",
      "the median of low income and very low income households at the year 2016 from total households, of all census tracts is: 0.39\n",
      "\n",
      "Number of LI tracts at 2016: 3124\n",
      "Number of LI tracts at 2000: 3093\n",
      "Number of LI tracts at 1990: 3110\n"
     ]
    }
   ],
   "source": [
    "# Calculating median for li and vli % of all hh in tract\n",
    "\n",
    "print(data.shape)\n",
    "medianli = data['vli_16'].median() + data['li_16'].median()\n",
    "print(\"the median of low income and very low income households at the year 2016 from total households, \"  \n",
    "      \"of all census tracts is: {:.2f}\".format(medianli))\n",
    "\n",
    "# LI 2016\n",
    "data['li_tract16'] = np.where(data['vli_16']+data['li_16'] > medianli, 1, 0)\n",
    "print(\"\\nNumber of LI tracts at 2016: {}\".format(data['li_tract16'].value_counts()[1]))\n",
    "\n",
    "# LI 2000\n",
    "data['li_tract00'] = np.where(data['vli_00']+data['li_00'] > (data['vli_00'].median() + data['li_00'].median()), 1, 0)\n",
    "print(\"Number of LI tracts at 2000: {}\".format(data['li_tract00'].value_counts()[1]))\n",
    "\n",
    "# LI 1990\n",
    "data['li_tract90'] = np.where(data['vli_90']+data['li_90'] > (data['vli_90'].median() + data['li_90'].median()), 1, 0)\n",
    "print(\"Number of LI tracts at 1990: {}\".format(data['li_tract90'].value_counts()[1]))"
   ]
  },
  {
   "cell_type": "markdown",
   "metadata": {},
   "source": [
    "### Ownership / Rentals oriented\n",
    "Does the tract has more than 50% renters?"
   ]
  },
  {
   "cell_type": "code",
   "execution_count": 30,
   "metadata": {},
   "outputs": [
    {
     "name": "stdout",
     "output_type": "stream",
     "text": [
      "In 1990, 2358 tracts were Renters-oriented while 3582 Ownerships-oriented\n",
      "In 2000, 2414 tracts were Renters-oriented while 3526 Ownerships-oriented\n",
      "In 2016, 2429 tracts were Renters-oriented while 3511 Ownerships-oriented\n"
     ]
    }
   ],
   "source": [
    "data['rentOriented_90'] = np.where(data['per_rent_90'] >= 0.5, 1, 0)\n",
    "data['rentOriented_00'] = np.where(data['per_rent_00'] >= 0.5, 1, 0)\n",
    "data['rentOriented_16'] = np.where(data['per_rent_16'] >= 0.5, 1, 0)\n",
    "\n",
    "print('In 1990, {} tracts were Renters-oriented while {} Ownerships-oriented'.format(\n",
    "                                            data['rentOriented_90'].value_counts()[1],\n",
    "                                            data['rentOriented_90'].value_counts()[0]))\n",
    "print('In 2000, {} tracts were Renters-oriented while {} Ownerships-oriented'.format(\n",
    "                                            data['rentOriented_00'].value_counts()[1],\n",
    "                                            data['rentOriented_00'].value_counts()[0]))\n",
    "print('In 2016, {} tracts were Renters-oriented while {} Ownerships-oriented'.format(\n",
    "                                            data['rentOriented_16'].value_counts()[1],\n",
    "                                            data['rentOriented_16'].value_counts()[0]))"
   ]
  },
  {
   "cell_type": "markdown",
   "metadata": {},
   "source": [
    "### Rent / Home Value < regional median"
   ]
  },
  {
   "cell_type": "code",
   "execution_count": 31,
   "metadata": {},
   "outputs": [],
   "source": [
    "data['rentLow_90'] = np.where((data['rentOriented_90'] == 1) &\n",
    "                               (data['mrent_90']<data['mrent_90'].median()),\n",
    "                               1, 0)\n",
    "data['hvalLow_90'] = np.where((data['rentOriented_90'] == 0) &\n",
    "                              (data['mhval_90']<data['mhval_90'].median()),\n",
    "                              1, 0)\n",
    "data['rentLow_00'] = np.where((data['rentOriented_00'] == 1) &\n",
    "                              (data['mrent_00']<data['mrent_00'].median()),\n",
    "                              1, 0)\n",
    "data['hvalLow_00'] = np.where((data['rentOriented_00'] == 0) &\n",
    "                              (data['mhval_00']<data['mhval_00'].median()),\n",
    "                              1, 0)"
   ]
  },
  {
   "cell_type": "markdown",
   "metadata": {},
   "source": [
    "### % renters > regional median"
   ]
  },
  {
   "cell_type": "code",
   "execution_count": 32,
   "metadata": {},
   "outputs": [],
   "source": [
    "data['renters%90'] = np.where(data['per_rent_90'] > data['per_rent_90'].median(), 1, 0)\n",
    "data['renters%00'] = np.where(data['per_rent_00'] > data['per_rent_00'].median(), 1, 0)\n",
    "data['renters%16'] = np.where(data['per_rent_16'] > data['per_rent_16'].median(), 1, 0)"
   ]
  },
  {
   "cell_type": "markdown",
   "metadata": {},
   "source": [
    "### % college educated < regional median "
   ]
  },
  {
   "cell_type": "code",
   "execution_count": 33,
   "metadata": {},
   "outputs": [],
   "source": [
    "data['edulow90'] = np.where(data['per_col_90'] < data['per_col_90'].median(), 1, 0)\n",
    "data['edulow00'] = np.where(data['per_col_00'] < data['per_col_00'].median(), 1, 0)"
   ]
  },
  {
   "cell_type": "markdown",
   "metadata": {},
   "source": [
    "### % nonwhite > regional median"
   ]
  },
  {
   "cell_type": "code",
   "execution_count": 34,
   "metadata": {},
   "outputs": [],
   "source": [
    "data['nonwhiteHigh90'] = np.where(data['per_nonwhite_90'] > data['per_nonwhite_90'].median(), 1, 0)\n",
    "data['nonwhiteHigh00'] = np.where(data['per_nonwhite_00'] > data['per_nonwhite_00'].median(), 1, 0)\n",
    "data['nonwhiteHigh16'] = np.where(data['per_nonwhite_16'] > data['per_nonwhite_16'].median(), 1, 0)"
   ]
  },
  {
   "cell_type": "markdown",
   "metadata": {},
   "source": [
    "### % of units in pre-1950 buildings > regional median"
   ]
  },
  {
   "cell_type": "code",
   "execution_count": 35,
   "metadata": {},
   "outputs": [],
   "source": [
    "data['units_pre50_High'] = np.where(data['per_units_pre50'] > data['per_units_pre50'].median(), 1, 0)"
   ]
  },
  {
   "cell_type": "markdown",
   "metadata": {},
   "source": [
    "### Employment density (2015) > regional median"
   ]
  },
  {
   "cell_type": "code",
   "execution_count": 36,
   "metadata": {},
   "outputs": [],
   "source": [
    "data['empdens16_High'] = np.where(data['empd15'] > data['empd15'].median(), 1, 0)"
   ]
  },
  {
   "cell_type": "markdown",
   "metadata": {},
   "source": [
    "### Population stable / growing 1990-2000; 2000-2016\n",
    "first step: recalculating **population growth in 90-00; 00-16**"
   ]
  },
  {
   "cell_type": "code",
   "execution_count": 37,
   "metadata": {
    "scrolled": true
   },
   "outputs": [],
   "source": [
    "# recalculating popgrowth 90-00; 00-16\n",
    "data['popgrowth90-00'] = data['pop_00'] - data['pop_90']\n",
    "data['popgrowth00-16'] = data['pop_16'] - data['pop_00']\n",
    "\n",
    "# Stable / Growing\n",
    "data['pgrowth90-00_High'] = np.where(data['popgrowth90-00'] >= 0, 1, 0)\n",
    "data['pgrowth00-16_High'] = np.where(data['popgrowth00-16'] >= 0, 1, 0)"
   ]
  },
  {
   "cell_type": "markdown",
   "metadata": {},
   "source": [
    "### Population Density < regional median"
   ]
  },
  {
   "cell_type": "code",
   "execution_count": 38,
   "metadata": {},
   "outputs": [],
   "source": [
    "data['popDensLow16'] = np.where(data['pop_density16'] < data['pop_density16'].median(), 1, 0)"
   ]
  },
  {
   "cell_type": "markdown",
   "metadata": {},
   "source": [
    "### Loss of LI households 1990-2000; 2000-2016 (_absolute loss_)\n",
    "- ch_all_li_count90_00 < 0\n",
    "- ch_all_li_count00_16 < 0"
   ]
  },
  {
   "cell_type": "code",
   "execution_count": 39,
   "metadata": {
    "scrolled": true
   },
   "outputs": [],
   "source": [
    "# calculate absolute loss of LI hh (vli + li)\n",
    "data['ch_all_li_count90_00'] = data['vli_00'] + data['li_00'] - data['vli_90'] - data['li_90']\n",
    "data['ch_all_li_count00_16'] = data['vli_16'] + data['li_16'] - data['vli_00'] - data['li_00']\n",
    "\n",
    "data['lossLI90-00'] = np.where(data['ch_all_li_count90_00'] < 0, 1, 0)\n",
    "data['lossLI00-16'] = np.where(data['ch_all_li_count00_16'] < 0, 1, 0)"
   ]
  },
  {
   "cell_type": "markdown",
   "metadata": {},
   "source": [
    "### LI migration rate in 2015 < in 2009\n",
    "\n",
    "per_all_li_mig_10 > per_all_li_mig_16"
   ]
  },
  {
   "cell_type": "code",
   "execution_count": 40,
   "metadata": {
    "scrolled": false
   },
   "outputs": [
    {
     "data": {
      "text/plain": [
       "1    3097\n",
       "0    2843\n",
       "Name: moveinLI_decrease00, dtype: int64"
      ]
     },
     "execution_count": 40,
     "metadata": {},
     "output_type": "execute_result"
    }
   ],
   "source": [
    "data['moveinLI_decrease00'] = np.where(data['per_all_li_mig_16'] < data['per_all_li_mig_10'], 1, 0)\n",
    "data['moveinLI_decrease00'].value_counts()"
   ]
  },
  {
   "cell_type": "markdown",
   "metadata": {},
   "source": [
    "### Define Educated growth > region median\n",
    "1. Calculate change in college educators % 90-00, 00-16"
   ]
  },
  {
   "cell_type": "code",
   "execution_count": 41,
   "metadata": {
    "scrolled": true
   },
   "outputs": [],
   "source": [
    "data['edu_change90-00'] = data['per_col_00'] - data['per_col_90']\n",
    "data['edu_change00-16'] = data['per_col_16'] - data['per_col_00']\n",
    "\n",
    "data['edugrowth_High90'] = np.where(data['edu_change90-00'] > data['edu_change90-00'].median(), 1, 0)\n",
    "data['edugrowth_High00'] = np.where(data['edu_change00-16'] > data['edu_change00-16'].median(), 1, 0)"
   ]
  },
  {
   "cell_type": "markdown",
   "metadata": {},
   "source": [
    "### % of households w children for 90,00,16 < regional median"
   ]
  },
  {
   "cell_type": "code",
   "execution_count": 42,
   "metadata": {},
   "outputs": [],
   "source": [
    "data['lessChildren90'] = np.where(data['per_hhwchild_90'] < data['per_hhwchild_90'].median(), 1, 0)\n",
    "data['lessChildren00'] = np.where(data['per_hhwchild_00'] < data['per_hhwchild_00'].median(), 1, 0)\n",
    "data['lessChildren16'] = np.where(data['per_hhwchild_16'] < data['per_hhwchild_16'].median(), 1, 0)"
   ]
  },
  {
   "cell_type": "markdown",
   "metadata": {
    "collapsed": true
   },
   "source": [
    "### Growth in real median household income (% change) > regional median (90 and 00)"
   ]
  },
  {
   "cell_type": "code",
   "execution_count": 43,
   "metadata": {
    "scrolled": true
   },
   "outputs": [],
   "source": [
    "data['pct_ch_hinc90_00'] = data['hinc_00'] - data['hinc_90']\n",
    "data['pct_ch_hinc00_16'] = data['hinc_16'] - data['hinc_00']\n",
    "                                                  \n",
    "data['hhIncomeGrowthHigh90'] = np.where(data['pct_ch_hinc90_00'] > data['pct_ch_hinc90_00'].median(), 1, 0)\n",
    "data['hhIncomeGrowthHigh00'] = np.where(data['pct_ch_hinc00_16'] > data['pct_ch_hinc00_16'].median(), 1, 0)"
   ]
  },
  {
   "cell_type": "markdown",
   "metadata": {},
   "source": [
    "### Rent change 90-00; 00-16 and home value change 90-00; 00-16 > regional median"
   ]
  },
  {
   "cell_type": "code",
   "execution_count": 44,
   "metadata": {},
   "outputs": [],
   "source": [
    "# calculate rent change and hv change for 90-00 and 00-16\n",
    "data['mrent90_00'] = data['mrent_00'] - data['mrent_90']\n",
    "data['mhval90_00'] = data['mhval_00'] - data['mhval_90']\n",
    "data['mrent00_16'] = data['mrent_16'] - data['mrent_00']\n",
    "data['mhval00_16'] = data['mhval_16'] - data['mhval_00']\n",
    "\n",
    "# 1990 base\n",
    "data['rentchange_High90'] = np.where(data['mrent90_00'] > data['mrent90_00'].median(), 1, 0)\n",
    "data['rhomeValchange_High90'] = np.where(data['mhval90_00'] > data['mhval90_00'].median(), 1, 0)\n",
    "\n",
    "# 2000 base\n",
    "data['rentchange_High00'] = np.where(data['mrent00_16'] > data['mrent00_16'].median(), 1, 0)\n",
    "data['rhomeValchange_High00'] = np.where(data['mhval00_16'] > data['mhval00_16'].median(), 1, 0)"
   ]
  },
  {
   "cell_type": "markdown",
   "metadata": {},
   "source": [
    "### Rail station (TOD)"
   ]
  },
  {
   "cell_type": "code",
   "execution_count": 45,
   "metadata": {
    "scrolled": false
   },
   "outputs": [
    {
     "name": "stdout",
     "output_type": "stream",
     "text": [
      "(5940, 197)\n"
     ]
    },
    {
     "data": {
      "text/plain": [
       "False    4300\n",
       "True     1640\n",
       "Name: TOD, dtype: int64"
      ]
     },
     "execution_count": 45,
     "metadata": {},
     "output_type": "execute_result"
    }
   ],
   "source": [
    "print(data.shape)\n",
    "data['TOD'].value_counts()"
   ]
  },
  {
   "cell_type": "markdown",
   "metadata": {},
   "source": [
    "### New built housing > regional median"
   ]
  },
  {
   "cell_type": "code",
   "execution_count": 46,
   "metadata": {},
   "outputs": [],
   "source": [
    "data['newBuilt_90'] = np.where(data['per_built_80_90'] > data['per_built_80_90'].median(), 1, 0)\n",
    "data['newBuilt_00'] = np.where(data['per_built_90_00'] > data['per_built_90_00'].median(), 1, 0)\n",
    "data['newBuilt_16'] = np.where(data['per_built_00_16'] > data['per_built_00_16'].median(), 1, 0)"
   ]
  },
  {
   "cell_type": "markdown",
   "metadata": {},
   "source": [
    "### % of car-commuters > regional median"
   ]
  },
  {
   "cell_type": "code",
   "execution_count": 47,
   "metadata": {},
   "outputs": [],
   "source": [
    "data['carcommuters_90'] = np.where(data['per_car_commute_90'] > data['per_car_commute_90'].median(), 1, 0)\n",
    "data['carcommuters_00'] = np.where(data['per_car_commute_00'] > data['per_car_commute_00'].median(), 1, 0)"
   ]
  },
  {
   "cell_type": "markdown",
   "metadata": {},
   "source": [
    "### Demographic change 90-00, 00-16 (2 out of 3 factors)"
   ]
  },
  {
   "cell_type": "code",
   "execution_count": 48,
   "metadata": {},
   "outputs": [
    {
     "name": "stdout",
     "output_type": "stream",
     "text": [
      "(5940, 204)\n",
      "In 1990, 1233 tracts in the data showed demographic change\n",
      "In 2000, 2172 tracts in the data showed demographic change\n"
     ]
    }
   ],
   "source": [
    "# Demographic change 90-00\n",
    "def Dchange90(df):\n",
    "    if df['edugrowth_High90'] == 1 and df['hhIncomeGrowthHigh90'] == 1:\n",
    "        val = 1\n",
    "    else:\n",
    "        val = 0\n",
    "    return val\n",
    "\n",
    "# Demographic change 00-16\n",
    "def Dchange00(df):\n",
    "    if df['edugrowth_High00'] == 1 and df['hhIncomeGrowthHigh00'] == 1:\n",
    "        val = 1\n",
    "    else:\n",
    "        val = 0\n",
    "    return val\n",
    "\n",
    "\n",
    "data['Dchange90'] = data.apply(Dchange90, axis=1)\n",
    "data['Dchange00'] = data.apply(Dchange00, axis=1)\n",
    "\n",
    "print(data.shape)\n",
    "print(\"In 1990, {} tracts in the data showed demographic change\".format(\n",
    "                                data['Dchange90'].value_counts()[1]))\n",
    "print(\"In 2000, {} tracts in the data showed demographic change\".format(\n",
    "                                data['Dchange00'].value_counts()[1]))"
   ]
  },
  {
   "cell_type": "markdown",
   "metadata": {},
   "source": [
    "### 1.2 Define \"Hot Market\"\n",
    "- Change in median real rent &gt; regional median<br>\n",
    "**or**<br>\n",
    "- Change in median value for owner-occupied homes &gt; regional median"
   ]
  },
  {
   "cell_type": "code",
   "execution_count": 49,
   "metadata": {},
   "outputs": [
    {
     "name": "stdout",
     "output_type": "stream",
     "text": [
      "(5940, 206)\n",
      "In 1990, 0.51 of the tracts in the data were defined as having a 'Hot Market'\n",
      "In 2000, 0.50 of the tracts in the data were defined as having a 'Hot Market'\n"
     ]
    }
   ],
   "source": [
    "def hotmarket90(df):\n",
    "    if df['rentOriented_90'] == 1 and df['rentchange_High90'] == 1:\n",
    "        val = 1\n",
    "    elif df['rentOriented_90'] == 0 and df['rhomeValchange_High90'] == 1:\n",
    "        val = 1\n",
    "    else:\n",
    "        val = 0\n",
    "    return val\n",
    "\n",
    "def hotmarket00(df):\n",
    "    if df['rentOriented_00'] == 1 and df['rentchange_High00'] == 1:\n",
    "        val = 1\n",
    "    elif df['rentOriented_00'] == 0 and df['rhomeValchange_High00'] == 1:\n",
    "        val = 1\n",
    "    else:\n",
    "        val = 0\n",
    "    return val\n",
    "\n",
    "data['hotmarket90'] = data.apply(hotmarket90, axis=1)\n",
    "data['hotmarket00'] = data.apply(hotmarket00, axis=1)\n",
    "\n",
    "print(data.shape)\n",
    "print(\"In 1990, {:.2f} of the tracts in the data were defined as having a 'Hot Market'\".format(\n",
    "                                                     data['hotmarket90'].value_counts([1])[1]))\n",
    "print(\"In 2000, {:.2f} of the tracts in the data were defined as having a 'Hot Market'\".format(\n",
    "                                                     data['hotmarket00'].value_counts([1])[1]))"
   ]
  },
  {
   "cell_type": "markdown",
   "metadata": {},
   "source": [
    "--- \n",
    "\n",
    "### 1.3 Define _Vulnerable to gentrification_ in 1990 or 2000\n",
    "\n",
    "- Housing affordable in base year (_Tract not a “Hot market”_) and (**any 2 of 4**):\n",
    "    - % low income households &gt; regional median\n",
    "    - % college educated &lt; regional median\n",
    "    - % renters &gt; regional median\n",
    "    - % nonwhite &gt; regional median"
   ]
  },
  {
   "cell_type": "code",
   "execution_count": 50,
   "metadata": {},
   "outputs": [
    {
     "name": "stdout",
     "output_type": "stream",
     "text": [
      "(5940, 208)\n",
      "In 1990, 2455 (0.41 of the) tracts were defined as 'Vulnerable'\n",
      "In 2000, 2361 (0.40 of the) tracts were defined as 'Vulnerable'\n"
     ]
    }
   ],
   "source": [
    "def vulnerable90(df):\n",
    "    if df['hvalLow_90']==1 and df['li_tract90']==1 and df['edulow90']==1:\n",
    "        val = 1\n",
    "    elif df['hvalLow_90']==1 and df['li_tract90']==1 and df['renters%90']==1:\n",
    "        val = 1\n",
    "    elif df['hvalLow_90']==1 and df['li_tract90']==1 and df['nonwhiteHigh90']==1:\n",
    "        val = 1\n",
    "    elif df['hvalLow_90']==1 and df['edulow90']==1 and df['renters%90']==1:\n",
    "        val = 1\n",
    "    elif df['hvalLow_90']==1 and df['edulow90']==1 and df['nonwhiteHigh90']==1:\n",
    "        val = 1\n",
    "    elif df['hvalLow_90']==1 and df['renters%90']==1 and df['nonwhiteHigh90']==1:\n",
    "        val = 1\n",
    "    elif df['rentLow_90']==1 and df['li_tract90']==1 and df['edulow90']==1:\n",
    "        val = 1\n",
    "    elif df['rentLow_90']==1 and df['li_tract90']==1 and df['renters%90']==1:\n",
    "        val = 1\n",
    "    elif df['rentLow_90']==1 and df['li_tract90']==1 and df['nonwhiteHigh90']==1:\n",
    "        val = 1\n",
    "    elif df['rentLow_90']==1 and df['edulow90']==1 and df['renters%90']==1:\n",
    "        val = 1\n",
    "    elif df['rentLow_90']==1 and df['edulow90']==1 and df['nonwhiteHigh90']==1:\n",
    "        val = 1\n",
    "    elif df['rentLow_90']==1 and df['renters%90']==1 and df['nonwhiteHigh90']==1:\n",
    "        val = 1\n",
    "    else:\n",
    "        val = 0\n",
    "    return val\n",
    "\n",
    "def vulnerable00(df):\n",
    "    if df['hvalLow_00']==1 and df['li_tract00']==1 and df['edulow00']==1:\n",
    "        val = 1\n",
    "    elif df['hvalLow_00']==1 and df['li_tract00']==1 and df['renters%00']==1:\n",
    "        val = 1\n",
    "    elif df['hvalLow_00']==1 and df['li_tract00']==1 and df['nonwhiteHigh00']==1:\n",
    "        val = 1\n",
    "    elif df['hvalLow_00']==1 and df['edulow00']==1 and df['renters%00']==1:\n",
    "        val = 1\n",
    "    elif df['hvalLow_00']==1 and df['edulow00']==1 and df['nonwhiteHigh00']==1:\n",
    "        val = 1\n",
    "    elif df['hvalLow_00']==1 and df['renters%00']==1 and df['nonwhiteHigh00']==1:\n",
    "        val = 1\n",
    "    elif df['rentLow_00']==1 and df['li_tract00']==1 and df['edulow00']==1:\n",
    "        val = 1\n",
    "    elif df['rentLow_00']==1 and df['li_tract00']==1 and df['renters%00']==1:\n",
    "        val = 1\n",
    "    elif df['rentLow_00']==1 and df['li_tract00']==1 and df['nonwhiteHigh00']==1:\n",
    "        val = 1\n",
    "    elif df['rentLow_00']==1 and df['edulow00']==1 and df['renters%00']==1:\n",
    "        val = 1\n",
    "    elif df['rentLow_00']==1 and df['edulow00']==1 and df['nonwhiteHigh00']==1:\n",
    "        val = 1\n",
    "    elif df['rentLow_00']==1 and df['renters%00']==1 and df['nonwhiteHigh00']==1:\n",
    "        val = 1\n",
    "    else:\n",
    "        val = 0\n",
    "    return val\n",
    "\n",
    "data['vulnerable90'] = data.apply(vulnerable90, axis=1)\n",
    "data['vulnerable00'] = data.apply(vulnerable00, axis=1)\n",
    "\n",
    "print(data.shape)\n",
    "print(\"In 1990, {} ({:.2f} of the) tracts were defined as 'Vulnerable'\".format(\n",
    "                                        data['vulnerable90'].value_counts()[1],                            \n",
    "                                    data['vulnerable90'].value_counts([1])[1]))\n",
    "print(\"In 2000, {} ({:.2f} of the) tracts were defined as 'Vulnerable'\".format(\n",
    "                                        data['vulnerable00'].value_counts()[1],                           \n",
    "                                    data['vulnerable00'].value_counts([1])[1]))"
   ]
  },
  {
   "cell_type": "markdown",
   "metadata": {},
   "source": [
    "---\n",
    "### 1.4 Define risk of gentrification\n",
    "“Hot market” + 4 out of the 7 of the following is true in 2016:\n",
    "- Located downtown\n",
    "- % of units in pre-1950 buildings > regional median\n",
    "- Share of renter households > regional median\n",
    "- Share of households with children < regional median\n",
    "- Share of recent new-build housing > regional median\n",
    "- Employment density < regional median\n",
    "- Population density < regional median"
   ]
  },
  {
   "cell_type": "code",
   "execution_count": 51,
   "metadata": {
    "scrolled": true
   },
   "outputs": [
    {
     "name": "stdout",
     "output_type": "stream",
     "text": [
      "(5940, 209)\n",
      "In 2016, 1125 (0.19 of the) tracts were defined as 'at risk'\n"
     ]
    }
   ],
   "source": [
    "def risk16(df):\n",
    "    if df['hotmarket00'] == 1 and df['downtown'] == 1 and df['units_pre50_High'] == 1\\\n",
    "    and df['renters%16'] == 1 and df['lessChildren16'] == 1:\n",
    "        val = 1\n",
    "    elif df['hotmarket00'] == 1 and df['downtown'] == 1 and df['units_pre50_High'] == 1\\\n",
    "    and df['renters%16'] == 1 and df['newBuilt_16'] == 1:\n",
    "        val = 1\n",
    "    elif df['hotmarket00'] == 1 and df['downtown'] == 1 and df['units_pre50_High'] == 1\\\n",
    "    and df['renters%16'] == 1 and df['empdens16_High'] == 1:\n",
    "        val = 1   \n",
    "    elif df['hotmarket00'] == 1 and df['downtown'] == 1 and df['units_pre50_High'] == 1\\\n",
    "    and df['renters%16'] == 1 and df['popDensLow16'] == 1:\n",
    "        val = 1     \n",
    "    elif df['hotmarket00'] == 1 and df['units_pre50_High'] == 1 and df['renters%16'] == 1\\\n",
    "    and df['lessChildren16'] == 1 and df['newBuilt_16'] == 1:\n",
    "        val = 1\n",
    "    elif df['hotmarket00'] == 1 and df['units_pre50_High'] == 1 and df['renters%16'] == 1\\\n",
    "    and df['lessChildren16'] == 1 and df['empdens16_High'] == 1:\n",
    "        val = 1\n",
    "    elif df['hotmarket00'] == 1 and df['units_pre50_High'] == 1 and df['renters%16'] == 1\\\n",
    "    and df['lessChildren16'] == 1 and df['popDensLow16'] == 1:\n",
    "        val = 1  \n",
    "    elif df['hotmarket00'] == 1 and df['renters%16'] == 1 and df['lessChildren16'] == 1\\\n",
    "    and df['newBuilt_16'] == 1 and df['empdens16_High'] == 1:\n",
    "        val = 1\n",
    "    elif df['hotmarket00'] == 1 and df['renters%16'] == 1 and df['lessChildren16'] == 1\\\n",
    "    and df['newBuilt_16'] == 1 and df['popDensLow16'] == 1:\n",
    "        val = 1\n",
    "    elif df['hotmarket00'] == 1 and df['lessChildren16'] == 1 and df['newBuilt_16'] == 1\\\n",
    "    and df['empdens16_High'] == 1 and df['popDensLow16'] == 1:\n",
    "        val=1\n",
    "    else:\n",
    "        val = 0\n",
    "    return val\n",
    "\n",
    "data['risk16'] = data.apply(risk16, axis=1)\n",
    "\n",
    "print(data.shape)\n",
    "print(\"In 2016, {} ({:.2f} of the) tracts were defined as 'at risk'\".format(\n",
    "                                           data['risk16'].value_counts()[1],                              \n",
    "                                       data['risk16'].value_counts([1])[1]))"
   ]
  },
  {
   "cell_type": "markdown",
   "metadata": {},
   "source": [
    "### 1.5 Define risk of exclusion\n",
    "3 out of the 5 of the following is true in 2016:\n",
    "\n",
    "- % of units in prewar buildings (1950) > regional median\n",
    "- Share of non-white < regional median\n",
    "- Share of college-education population > regional median\n",
    "- Share of car commuters > regional median\n",
    "- “Hot market”"
   ]
  },
  {
   "cell_type": "code",
   "execution_count": 52,
   "metadata": {},
   "outputs": [
    {
     "name": "stdout",
     "output_type": "stream",
     "text": [
      "(5940, 210)\n",
      "In 2016, 2949 (0.50 of the) tracts were defined as 'at risk of exclusion'\n"
     ]
    }
   ],
   "source": [
    "def risk_Exclusion(df):\n",
    "    if df['units_pre50_High'] == 1 and df['edulow00'] == 0 and df['nonwhiteHigh16'] == 0:\n",
    "        val = 1\n",
    "    elif df['units_pre50_High'] == 1 and df['edulow00'] == 0 and df['carcommuters_00'] == 1:\n",
    "        val = 1\n",
    "    elif df['units_pre50_High'] == 1 and df['edulow00'] == 0 and df['hotmarket00'] == 1:\n",
    "        val = 1\n",
    "    elif df['units_pre50_High'] == 1 and df['nonwhiteHigh16'] == 0 and df['carcommuters_00'] == 1:\n",
    "        val = 1    \n",
    "    elif df['units_pre50_High'] == 1 and df['nonwhiteHigh16'] == 0 and df['hotmarket00'] == 1:\n",
    "        val = 1\n",
    "    elif df['units_pre50_High'] == 1 and df['carcommuters_00'] == 1 and df['hotmarket00'] == 1:\n",
    "        val = 1\n",
    "    elif df['nonwhiteHigh16'] == 0 and df['carcommuters_00'] == 1 and df['hotmarket00'] == 1:\n",
    "        val = 1\n",
    "    elif df['nonwhiteHigh16'] == 0 and df['carcommuters_00'] == 1 and df['edulow00'] == 0:\n",
    "        val=1\n",
    "    elif df['hotmarket00'] == 1 and df['carcommuters_00'] == 1 and df['edulow00'] == 0:\n",
    "        val=1\n",
    "    else:\n",
    "        val = 0\n",
    "    return val\n",
    "\n",
    "data['risk_Exclusion'] = data.apply(risk_Exclusion, axis=1)\n",
    "\n",
    "print(data.shape)\n",
    "print(\"In 2016, {} ({:.2f} of the) tracts were defined as 'at risk of exclusion'\".format(\n",
    "                                                data['risk_Exclusion'].value_counts()[1],                              \n",
    "                                            data['risk_Exclusion'].value_counts([1])[1]))"
   ]
  },
  {
   "cell_type": "markdown",
   "metadata": {},
   "source": [
    "### 1.6 Gentrified 90 + Gentrified 00"
   ]
  },
  {
   "cell_type": "code",
   "execution_count": 53,
   "metadata": {},
   "outputs": [
    {
     "name": "stdout",
     "output_type": "stream",
     "text": [
      "(5940, 212)\n",
      "From 1990 to 2000, 247 tracts were Gentrified\n",
      "From 2000 to 2016, 225 tracts were Gentrified\n"
     ]
    }
   ],
   "source": [
    "data['Gentrified90'] = np.where((data['vulnerable90'] == 1) &\n",
    "                                (data['Dchange90'] == 1) &\n",
    "                                (data['hotmarket90'] == 1), 1, 0)\n",
    "data['Gentrified00'] = np.where((data['vulnerable00'] == 1) & \n",
    "                                (data['Dchange00'] == 1) &\n",
    "                                (data['hotmarket00'] == 1), 1, 0)\n",
    "\n",
    "\n",
    "print(data.shape)\n",
    "print(\"From 1990 to 2000, {} tracts were Gentrified\".format(\n",
    "                     data['Gentrified90'].value_counts()[1]))\n",
    "print(\"From 2000 to 2016, {} tracts were Gentrified\".format(\n",
    "                     data['Gentrified00'].value_counts()[1]))"
   ]
  },
  {
   "cell_type": "markdown",
   "metadata": {},
   "source": [
    "---\n",
    "\n",
    "# 2. Classify census tracts by typologies\n",
    "•\tIf any individual variable is missing, then the whole typology is missing."
   ]
  },
  {
   "cell_type": "markdown",
   "metadata": {},
   "source": [
    "| Typology                                   | Typology Criteria  | \n",
    "| ------------------------------------------:|-------------------------------------------:|\n",
    "| LI - Not Losing Low-Income Households      | - Not classified as At Risk of,            |\n",
    "|                                            | Ongoing, or Advanced Gentrification        |\n",
    "| ------------------------------------------ |------------------------------------------- |\n",
    "| LI - At Risk of Gentrification             | - Vulnerable in 2000                       |\n",
    "|                                            | - Hot Market                               |\n",
    "|                                            | - At risk of Gentrification                |\n",
    "| ------------------------------------------ |------------------------------------------- |\n"
   ]
  },
  {
   "cell_type": "code",
   "execution_count": 54,
   "metadata": {},
   "outputs": [
    {
     "name": "stdout",
     "output_type": "stream",
     "text": [
      "(5940, 212)\n"
     ]
    },
    {
     "data": {
      "text/plain": [
       "LI - Not Losing Low-Income Households                  2377\n",
       "MHI - At Risk of Exclusion                             1449\n",
       "MHI - Displacement of LI hh - Ongoing Exclusion         597\n",
       "MHI - Not Losing Low-Income Households                  596\n",
       "LI - Ongoing Displacement of Low- Income Households     358\n",
       "LI - Ongoing Gentrification                             268\n",
       "MHI - Advanced Gentrification                           174\n",
       "LI - At Risk of Gentrification                          121\n",
       "Name: Typology, dtype: int64"
      ]
     },
     "execution_count": 54,
     "metadata": {},
     "output_type": "execute_result"
    }
   ],
   "source": [
    "def Typology(df):\n",
    "    '''\n",
    "    classify tracts to a typology, on the range \n",
    "    between LI-not losing LI HH through displacement\n",
    "    and gentrification, to exclusion of LI HH.\n",
    "    Divided to four LI and four MHI typologies\n",
    "    '''\n",
    "    \n",
    "    ## LI typologies\n",
    "    # Ongoing Gentrification \n",
    "    # gentrified in 90, LI tract in 2015\n",
    "    if df['li_tract16'] == 1 and df['Gentrified90'] == 1:\n",
    "        val = 'LI - Ongoing Gentrification'\n",
    "    # gentrified in 00, LI tract in 2015\n",
    "    elif df['li_tract16'] == 1 and df['Gentrified00'] == 1:\n",
    "        val = 'LI - Ongoing Gentrification'\n",
    "        \n",
    "    # Ongoing Displacement of Low- Income Households\n",
    "    elif df['li_tract16'] == 1 and df['lossLI00-16'] == 1 and df['moveinLI_decrease00'] == 1:\n",
    "        val = 'LI - Ongoing Displacement of Low- Income Households'\n",
    "        \n",
    "    # At Risk of Gentrification\n",
    "    elif df['li_tract16'] == 1 and df['risk16'] == 1 and df['vulnerable00'] == 1 and df['hotmarket90'] == 1:\n",
    "        val = 'LI - At Risk of Gentrification'\n",
    "    \n",
    "    # Not Losing Low-Income Households\n",
    "    elif df['li_tract16'] == 1:\n",
    "        val = 'LI - Not Losing Low-Income Households'\n",
    "    \n",
    "    ## MHI typologies\n",
    "    # Advanced Gentrification \n",
    "    elif df['li_tract16'] == 0 and df['Gentrified90'] == 1:\n",
    "        val = 'MHI - Advanced Gentrification' \n",
    "    elif df['li_tract16'] == 0 and df['Gentrified00'] == 1:\n",
    "        val = 'MHI - Advanced Gentrification' \n",
    "        \n",
    "    # Displacement of LI hh - Ongoing Exclusion \n",
    "    elif df['li_tract16'] == 0 and df['pgrowth00-16_High'] == 1 and df['lossLI00-16'] == 1 and df['moveinLI_decrease00'] == 1:\n",
    "        val = 'MHI - Displacement of LI hh - Ongoing Exclusion' \n",
    "    \n",
    "    # At Risk of Exclusion\n",
    "    elif df['li_tract16'] == 0 and df['risk_Exclusion'] == 1:\n",
    "        val = 'MHI - At Risk of Exclusion' \n",
    "    \n",
    "    # Not Losing Low-Income Households\n",
    "    elif df['li_tract16'] == 0:\n",
    "        val = 'MHI - Not Losing Low-Income Households'\n",
    "\n",
    "    else:\n",
    "        val = \"TBD\"\n",
    "    return val\n",
    "\n",
    "print(data.shape)\n",
    "data['Typology'] = data.apply(Typology, axis=1)\n",
    "data['Typology'].value_counts()"
   ]
  },
  {
   "cell_type": "code",
   "execution_count": 55,
   "metadata": {},
   "outputs": [
    {
     "data": {
      "text/plain": [
       "5940"
      ]
     },
     "execution_count": 55,
     "metadata": {},
     "output_type": "execute_result"
    }
   ],
   "source": [
    "len(pd.DataFrame(data['Typology']))#.value_counts()))"
   ]
  },
  {
   "cell_type": "code",
   "execution_count": 56,
   "metadata": {},
   "outputs": [
    {
     "data": {
      "text/html": [
       "<div>\n",
       "<style scoped>\n",
       "    .dataframe tbody tr th:only-of-type {\n",
       "        vertical-align: middle;\n",
       "    }\n",
       "\n",
       "    .dataframe tbody tr th {\n",
       "        vertical-align: top;\n",
       "    }\n",
       "\n",
       "    .dataframe thead th {\n",
       "        text-align: right;\n",
       "    }\n",
       "</style>\n",
       "<table border=\"1\" class=\"dataframe\">\n",
       "  <thead>\n",
       "    <tr style=\"text-align: right;\">\n",
       "      <th></th>\n",
       "      <th>tractCounts</th>\n",
       "      <th>Typology%</th>\n",
       "    </tr>\n",
       "  </thead>\n",
       "  <tbody>\n",
       "    <tr>\n",
       "      <th>LI - Not Losing Low-Income Households</th>\n",
       "      <td>2377</td>\n",
       "      <td>40.016835</td>\n",
       "    </tr>\n",
       "    <tr>\n",
       "      <th>MHI - At Risk of Exclusion</th>\n",
       "      <td>1449</td>\n",
       "      <td>24.393939</td>\n",
       "    </tr>\n",
       "    <tr>\n",
       "      <th>MHI - Displacement of LI hh - Ongoing Exclusion</th>\n",
       "      <td>597</td>\n",
       "      <td>10.050505</td>\n",
       "    </tr>\n",
       "    <tr>\n",
       "      <th>MHI - Not Losing Low-Income Households</th>\n",
       "      <td>596</td>\n",
       "      <td>10.033670</td>\n",
       "    </tr>\n",
       "    <tr>\n",
       "      <th>LI - Ongoing Displacement of Low- Income Households</th>\n",
       "      <td>358</td>\n",
       "      <td>6.026936</td>\n",
       "    </tr>\n",
       "    <tr>\n",
       "      <th>LI - Ongoing Gentrification</th>\n",
       "      <td>268</td>\n",
       "      <td>4.511785</td>\n",
       "    </tr>\n",
       "    <tr>\n",
       "      <th>MHI - Advanced Gentrification</th>\n",
       "      <td>174</td>\n",
       "      <td>2.929293</td>\n",
       "    </tr>\n",
       "    <tr>\n",
       "      <th>LI - At Risk of Gentrification</th>\n",
       "      <td>121</td>\n",
       "      <td>2.037037</td>\n",
       "    </tr>\n",
       "  </tbody>\n",
       "</table>\n",
       "</div>"
      ],
      "text/plain": [
       "                                                    tractCounts  Typology%\n",
       "LI - Not Losing Low-Income Households                      2377  40.016835\n",
       "MHI - At Risk of Exclusion                                 1449  24.393939\n",
       "MHI - Displacement of LI hh - Ongoing Exclusion             597  10.050505\n",
       "MHI - Not Losing Low-Income Households                      596  10.033670\n",
       "LI - Ongoing Displacement of Low- Income Househ...          358   6.026936\n",
       "LI - Ongoing Gentrification                                 268   4.511785\n",
       "MHI - Advanced Gentrification                               174   2.929293\n",
       "LI - At Risk of Gentrification                              121   2.037037"
      ]
     },
     "execution_count": 56,
     "metadata": {},
     "output_type": "execute_result"
    }
   ],
   "source": [
    "resultsTyp = pd.DataFrame(data['Typology'].value_counts())\n",
    "resultsTyp.columns = ['tractCounts']\n",
    "resultsTyp['Typology%'] = resultsTyp['tractCounts'] / resultsTyp['tractCounts'].sum() *100\n",
    "\n",
    "resultsTyp"
   ]
  },
  {
   "cell_type": "code",
   "execution_count": 57,
   "metadata": {},
   "outputs": [
    {
     "data": {
      "text/html": [
       "<div>\n",
       "<style scoped>\n",
       "    .dataframe tbody tr th:only-of-type {\n",
       "        vertical-align: middle;\n",
       "    }\n",
       "\n",
       "    .dataframe tbody tr th {\n",
       "        vertical-align: top;\n",
       "    }\n",
       "\n",
       "    .dataframe thead th {\n",
       "        text-align: right;\n",
       "    }\n",
       "</style>\n",
       "<table border=\"1\" class=\"dataframe\">\n",
       "  <thead>\n",
       "    <tr style=\"text-align: right;\">\n",
       "      <th></th>\n",
       "      <th>geometry</th>\n",
       "      <th>NAME</th>\n",
       "      <th>county</th>\n",
       "      <th>hh_00</th>\n",
       "    </tr>\n",
       "    <tr>\n",
       "      <th>GEOID</th>\n",
       "      <th></th>\n",
       "      <th></th>\n",
       "      <th></th>\n",
       "      <th></th>\n",
       "    </tr>\n",
       "  </thead>\n",
       "  <tbody>\n",
       "    <tr>\n",
       "      <th>34031256804</th>\n",
       "      <td>POLYGON ((-74.359303 41.09905700000004, -74.35...</td>\n",
       "      <td>Census Tract 2568.04, Passaic County, New Jersey</td>\n",
       "      <td>31</td>\n",
       "      <td>2317.0</td>\n",
       "    </tr>\n",
       "    <tr>\n",
       "      <th>34031246300</th>\n",
       "      <td>POLYGON ((-74.27427100000004 40.94664300000004...</td>\n",
       "      <td>Census Tract 2463, Passaic County, New Jersey</td>\n",
       "      <td>31</td>\n",
       "      <td>1871.0</td>\n",
       "    </tr>\n",
       "    <tr>\n",
       "      <th>34031181200</th>\n",
       "      <td>POLYGON ((-74.144605 40.92607499999999, -74.14...</td>\n",
       "      <td>Census Tract 1812, Passaic County, New Jersey</td>\n",
       "      <td>31</td>\n",
       "      <td>1300.0</td>\n",
       "    </tr>\n",
       "  </tbody>\n",
       "</table>\n",
       "</div>"
      ],
      "text/plain": [
       "                                                      geometry  \\\n",
       "GEOID                                                            \n",
       "34031256804  POLYGON ((-74.359303 41.09905700000004, -74.35...   \n",
       "34031246300  POLYGON ((-74.27427100000004 40.94664300000004...   \n",
       "34031181200  POLYGON ((-74.144605 40.92607499999999, -74.14...   \n",
       "\n",
       "                                                         NAME  county   hh_00  \n",
       "GEOID                                                                          \n",
       "34031256804  Census Tract 2568.04, Passaic County, New Jersey      31  2317.0  \n",
       "34031246300     Census Tract 2463, Passaic County, New Jersey      31  1871.0  \n",
       "34031181200     Census Tract 1812, Passaic County, New Jersey      31  1300.0  "
      ]
     },
     "execution_count": 57,
     "metadata": {},
     "output_type": "execute_result"
    }
   ],
   "source": [
    "data.iloc[:3,:4]"
   ]
  },
  {
   "cell_type": "code",
   "execution_count": 58,
   "metadata": {
    "scrolled": true
   },
   "outputs": [
    {
     "data": {
      "text/html": [
       "<div>\n",
       "<style scoped>\n",
       "    .dataframe tbody tr th:only-of-type {\n",
       "        vertical-align: middle;\n",
       "    }\n",
       "\n",
       "    .dataframe tbody tr th {\n",
       "        vertical-align: top;\n",
       "    }\n",
       "\n",
       "    .dataframe thead th {\n",
       "        text-align: right;\n",
       "    }\n",
       "</style>\n",
       "<table border=\"1\" class=\"dataframe\">\n",
       "  <thead>\n",
       "    <tr style=\"text-align: right;\">\n",
       "      <th></th>\n",
       "      <th>Typology</th>\n",
       "    </tr>\n",
       "    <tr>\n",
       "      <th>GEOID</th>\n",
       "      <th></th>\n",
       "    </tr>\n",
       "  </thead>\n",
       "  <tbody>\n",
       "    <tr>\n",
       "      <th>34031256804</th>\n",
       "      <td>MHI - At Risk of Exclusion</td>\n",
       "    </tr>\n",
       "    <tr>\n",
       "      <th>34031246300</th>\n",
       "      <td>MHI - At Risk of Exclusion</td>\n",
       "    </tr>\n",
       "    <tr>\n",
       "      <th>34031181200</th>\n",
       "      <td>LI - Not Losing Low-Income Households</td>\n",
       "    </tr>\n",
       "    <tr>\n",
       "      <th>34031256803</th>\n",
       "      <td>MHI - At Risk of Exclusion</td>\n",
       "    </tr>\n",
       "    <tr>\n",
       "      <th>34031182400</th>\n",
       "      <td>LI - Not Losing Low-Income Households</td>\n",
       "    </tr>\n",
       "    <tr>\n",
       "      <th>34031181702</th>\n",
       "      <td>LI - Not Losing Low-Income Households</td>\n",
       "    </tr>\n",
       "    <tr>\n",
       "      <th>34031256805</th>\n",
       "      <td>MHI - At Risk of Exclusion</td>\n",
       "    </tr>\n",
       "    <tr>\n",
       "      <th>34031124200</th>\n",
       "      <td>MHI - At Risk of Exclusion</td>\n",
       "    </tr>\n",
       "    <tr>\n",
       "      <th>34031124900</th>\n",
       "      <td>LI - Not Losing Low-Income Households</td>\n",
       "    </tr>\n",
       "    <tr>\n",
       "      <th>34031180100</th>\n",
       "      <td>MHI - Displacement of LI hh - Ongoing Exclusion</td>\n",
       "    </tr>\n",
       "    <tr>\n",
       "      <th>34031183000</th>\n",
       "      <td>LI - Not Losing Low-Income Households</td>\n",
       "    </tr>\n",
       "    <tr>\n",
       "      <th>34031116500</th>\n",
       "      <td>MHI - At Risk of Exclusion</td>\n",
       "    </tr>\n",
       "    <tr>\n",
       "      <th>34031180700</th>\n",
       "      <td>LI - Not Losing Low-Income Households</td>\n",
       "    </tr>\n",
       "    <tr>\n",
       "      <th>34031124402</th>\n",
       "      <td>MHI - Displacement of LI hh - Ongoing Exclusion</td>\n",
       "    </tr>\n",
       "    <tr>\n",
       "      <th>34031256802</th>\n",
       "      <td>MHI - At Risk of Exclusion</td>\n",
       "    </tr>\n",
       "    <tr>\n",
       "      <th>34005701001</th>\n",
       "      <td>LI - Not Losing Low-Income Households</td>\n",
       "    </tr>\n",
       "    <tr>\n",
       "      <th>34017012800</th>\n",
       "      <td>LI - Not Losing Low-Income Households</td>\n",
       "    </tr>\n",
       "    <tr>\n",
       "      <th>34017012900</th>\n",
       "      <td>LI - Not Losing Low-Income Households</td>\n",
       "    </tr>\n",
       "    <tr>\n",
       "      <th>34031124311</th>\n",
       "      <td>MHI - At Risk of Exclusion</td>\n",
       "    </tr>\n",
       "    <tr>\n",
       "      <th>34031124312</th>\n",
       "      <td>MHI - Displacement of LI hh - Ongoing Exclusion</td>\n",
       "    </tr>\n",
       "    <tr>\n",
       "      <th>34031124321</th>\n",
       "      <td>MHI - At Risk of Exclusion</td>\n",
       "    </tr>\n",
       "    <tr>\n",
       "      <th>34031124323</th>\n",
       "      <td>MHI - At Risk of Exclusion</td>\n",
       "    </tr>\n",
       "    <tr>\n",
       "      <th>34031124401</th>\n",
       "      <td>MHI - Displacement of LI hh - Ongoing Exclusion</td>\n",
       "    </tr>\n",
       "    <tr>\n",
       "      <th>34031124500</th>\n",
       "      <td>LI - Not Losing Low-Income Households</td>\n",
       "    </tr>\n",
       "    <tr>\n",
       "      <th>34031125000</th>\n",
       "      <td>LI - Not Losing Low-Income Households</td>\n",
       "    </tr>\n",
       "    <tr>\n",
       "      <th>34031143200</th>\n",
       "      <td>MHI - At Risk of Exclusion</td>\n",
       "    </tr>\n",
       "    <tr>\n",
       "      <th>34031143300</th>\n",
       "      <td>MHI - At Risk of Exclusion</td>\n",
       "    </tr>\n",
       "    <tr>\n",
       "      <th>34031143400</th>\n",
       "      <td>MHI - Displacement of LI hh - Ongoing Exclusion</td>\n",
       "    </tr>\n",
       "    <tr>\n",
       "      <th>34031124601</th>\n",
       "      <td>LI - Not Losing Low-Income Households</td>\n",
       "    </tr>\n",
       "    <tr>\n",
       "      <th>34031175200</th>\n",
       "      <td>LI - Not Losing Low-Income Households</td>\n",
       "    </tr>\n",
       "    <tr>\n",
       "      <th>...</th>\n",
       "      <td>...</td>\n",
       "    </tr>\n",
       "    <tr>\n",
       "      <th>09001073000</th>\n",
       "      <td>LI - Not Losing Low-Income Households</td>\n",
       "    </tr>\n",
       "    <tr>\n",
       "      <th>09001073200</th>\n",
       "      <td>LI - Ongoing Displacement of Low- Income House...</td>\n",
       "    </tr>\n",
       "    <tr>\n",
       "      <th>09001073300</th>\n",
       "      <td>LI - Ongoing Displacement of Low- Income House...</td>\n",
       "    </tr>\n",
       "    <tr>\n",
       "      <th>09001073400</th>\n",
       "      <td>LI - Not Losing Low-Income Households</td>\n",
       "    </tr>\n",
       "    <tr>\n",
       "      <th>09001073500</th>\n",
       "      <td>LI - Not Losing Low-Income Households</td>\n",
       "    </tr>\n",
       "    <tr>\n",
       "      <th>09001073700</th>\n",
       "      <td>LI - Not Losing Low-Income Households</td>\n",
       "    </tr>\n",
       "    <tr>\n",
       "      <th>09001073800</th>\n",
       "      <td>LI - Not Losing Low-Income Households</td>\n",
       "    </tr>\n",
       "    <tr>\n",
       "      <th>09001074300</th>\n",
       "      <td>LI - Not Losing Low-Income Households</td>\n",
       "    </tr>\n",
       "    <tr>\n",
       "      <th>09001074400</th>\n",
       "      <td>LI - Not Losing Low-Income Households</td>\n",
       "    </tr>\n",
       "    <tr>\n",
       "      <th>09001080100</th>\n",
       "      <td>LI - Not Losing Low-Income Households</td>\n",
       "    </tr>\n",
       "    <tr>\n",
       "      <th>09001021600</th>\n",
       "      <td>MHI - Displacement of LI hh - Ongoing Exclusion</td>\n",
       "    </tr>\n",
       "    <tr>\n",
       "      <th>09001021700</th>\n",
       "      <td>LI - Ongoing Displacement of Low- Income House...</td>\n",
       "    </tr>\n",
       "    <tr>\n",
       "      <th>09001080200</th>\n",
       "      <td>LI - Not Losing Low-Income Households</td>\n",
       "    </tr>\n",
       "    <tr>\n",
       "      <th>09001080600</th>\n",
       "      <td>LI - Not Losing Low-Income Households</td>\n",
       "    </tr>\n",
       "    <tr>\n",
       "      <th>09001080700</th>\n",
       "      <td>LI - Not Losing Low-Income Households</td>\n",
       "    </tr>\n",
       "    <tr>\n",
       "      <th>09001044300</th>\n",
       "      <td>MHI - At Risk of Exclusion</td>\n",
       "    </tr>\n",
       "    <tr>\n",
       "      <th>09001044400</th>\n",
       "      <td>LI - Not Losing Low-Income Households</td>\n",
       "    </tr>\n",
       "    <tr>\n",
       "      <th>09001044500</th>\n",
       "      <td>LI - Not Losing Low-Income Households</td>\n",
       "    </tr>\n",
       "    <tr>\n",
       "      <th>09001044600</th>\n",
       "      <td>MHI - At Risk of Exclusion</td>\n",
       "    </tr>\n",
       "    <tr>\n",
       "      <th>09001090700</th>\n",
       "      <td>MHI - Displacement of LI hh - Ongoing Exclusion</td>\n",
       "    </tr>\n",
       "    <tr>\n",
       "      <th>09001110100</th>\n",
       "      <td>LI - Not Losing Low-Income Households</td>\n",
       "    </tr>\n",
       "    <tr>\n",
       "      <th>09001200302</th>\n",
       "      <td>MHI - At Risk of Exclusion</td>\n",
       "    </tr>\n",
       "    <tr>\n",
       "      <th>09001210300</th>\n",
       "      <td>LI - Not Losing Low-Income Households</td>\n",
       "    </tr>\n",
       "    <tr>\n",
       "      <th>09001080900</th>\n",
       "      <td>LI - Not Losing Low-Income Households</td>\n",
       "    </tr>\n",
       "    <tr>\n",
       "      <th>09007680100</th>\n",
       "      <td>LI - Not Losing Low-Income Households</td>\n",
       "    </tr>\n",
       "    <tr>\n",
       "      <th>09011693700</th>\n",
       "      <td>MHI - Displacement of LI hh - Ongoing Exclusion</td>\n",
       "    </tr>\n",
       "    <tr>\n",
       "      <th>09011713100</th>\n",
       "      <td>MHI - Not Losing Low-Income Households</td>\n",
       "    </tr>\n",
       "    <tr>\n",
       "      <th>09011696500</th>\n",
       "      <td>LI - Not Losing Low-Income Households</td>\n",
       "    </tr>\n",
       "    <tr>\n",
       "      <th>09011660102</th>\n",
       "      <td>MHI - Displacement of LI hh - Ongoing Exclusion</td>\n",
       "    </tr>\n",
       "    <tr>\n",
       "      <th>09003405600</th>\n",
       "      <td>LI - Not Losing Low-Income Households</td>\n",
       "    </tr>\n",
       "  </tbody>\n",
       "</table>\n",
       "<p>5940 rows × 1 columns</p>\n",
       "</div>"
      ],
      "text/plain": [
       "                                                      Typology\n",
       "GEOID                                                         \n",
       "34031256804                         MHI - At Risk of Exclusion\n",
       "34031246300                         MHI - At Risk of Exclusion\n",
       "34031181200              LI - Not Losing Low-Income Households\n",
       "34031256803                         MHI - At Risk of Exclusion\n",
       "34031182400              LI - Not Losing Low-Income Households\n",
       "34031181702              LI - Not Losing Low-Income Households\n",
       "34031256805                         MHI - At Risk of Exclusion\n",
       "34031124200                         MHI - At Risk of Exclusion\n",
       "34031124900              LI - Not Losing Low-Income Households\n",
       "34031180100    MHI - Displacement of LI hh - Ongoing Exclusion\n",
       "34031183000              LI - Not Losing Low-Income Households\n",
       "34031116500                         MHI - At Risk of Exclusion\n",
       "34031180700              LI - Not Losing Low-Income Households\n",
       "34031124402    MHI - Displacement of LI hh - Ongoing Exclusion\n",
       "34031256802                         MHI - At Risk of Exclusion\n",
       "34005701001              LI - Not Losing Low-Income Households\n",
       "34017012800              LI - Not Losing Low-Income Households\n",
       "34017012900              LI - Not Losing Low-Income Households\n",
       "34031124311                         MHI - At Risk of Exclusion\n",
       "34031124312    MHI - Displacement of LI hh - Ongoing Exclusion\n",
       "34031124321                         MHI - At Risk of Exclusion\n",
       "34031124323                         MHI - At Risk of Exclusion\n",
       "34031124401    MHI - Displacement of LI hh - Ongoing Exclusion\n",
       "34031124500              LI - Not Losing Low-Income Households\n",
       "34031125000              LI - Not Losing Low-Income Households\n",
       "34031143200                         MHI - At Risk of Exclusion\n",
       "34031143300                         MHI - At Risk of Exclusion\n",
       "34031143400    MHI - Displacement of LI hh - Ongoing Exclusion\n",
       "34031124601              LI - Not Losing Low-Income Households\n",
       "34031175200              LI - Not Losing Low-Income Households\n",
       "...                                                        ...\n",
       "09001073000              LI - Not Losing Low-Income Households\n",
       "09001073200  LI - Ongoing Displacement of Low- Income House...\n",
       "09001073300  LI - Ongoing Displacement of Low- Income House...\n",
       "09001073400              LI - Not Losing Low-Income Households\n",
       "09001073500              LI - Not Losing Low-Income Households\n",
       "09001073700              LI - Not Losing Low-Income Households\n",
       "09001073800              LI - Not Losing Low-Income Households\n",
       "09001074300              LI - Not Losing Low-Income Households\n",
       "09001074400              LI - Not Losing Low-Income Households\n",
       "09001080100              LI - Not Losing Low-Income Households\n",
       "09001021600    MHI - Displacement of LI hh - Ongoing Exclusion\n",
       "09001021700  LI - Ongoing Displacement of Low- Income House...\n",
       "09001080200              LI - Not Losing Low-Income Households\n",
       "09001080600              LI - Not Losing Low-Income Households\n",
       "09001080700              LI - Not Losing Low-Income Households\n",
       "09001044300                         MHI - At Risk of Exclusion\n",
       "09001044400              LI - Not Losing Low-Income Households\n",
       "09001044500              LI - Not Losing Low-Income Households\n",
       "09001044600                         MHI - At Risk of Exclusion\n",
       "09001090700    MHI - Displacement of LI hh - Ongoing Exclusion\n",
       "09001110100              LI - Not Losing Low-Income Households\n",
       "09001200302                         MHI - At Risk of Exclusion\n",
       "09001210300              LI - Not Losing Low-Income Households\n",
       "09001080900              LI - Not Losing Low-Income Households\n",
       "09007680100              LI - Not Losing Low-Income Households\n",
       "09011693700    MHI - Displacement of LI hh - Ongoing Exclusion\n",
       "09011713100             MHI - Not Losing Low-Income Households\n",
       "09011696500              LI - Not Losing Low-Income Households\n",
       "09011660102    MHI - Displacement of LI hh - Ongoing Exclusion\n",
       "09003405600              LI - Not Losing Low-Income Households\n",
       "\n",
       "[5940 rows x 1 columns]"
      ]
     },
     "execution_count": 58,
     "metadata": {},
     "output_type": "execute_result"
    }
   ],
   "source": [
    "data[['Typology']]"
   ]
  },
  {
   "cell_type": "code",
   "execution_count": 59,
   "metadata": {},
   "outputs": [],
   "source": [
    "data[['Typology']].to_csv('UDPNY_results_1118_noMOEnoWater.csv')"
   ]
  },
  {
   "cell_type": "code",
   "execution_count": 60,
   "metadata": {},
   "outputs": [
    {
     "data": {
      "text/plain": [
       "([<matplotlib.patches.Wedge at 0x1a1c45af60>,\n",
       "  <matplotlib.patches.Wedge at 0x1a1c45aa58>,\n",
       "  <matplotlib.patches.Wedge at 0x117f56c88>,\n",
       "  <matplotlib.patches.Wedge at 0x117f56c50>,\n",
       "  <matplotlib.patches.Wedge at 0x1a1c466cf8>,\n",
       "  <matplotlib.patches.Wedge at 0x1a1c466b70>,\n",
       "  <matplotlib.patches.Wedge at 0x1a1c453128>,\n",
       "  <matplotlib.patches.Wedge at 0x1a1c453d68>],\n",
       " [Text(0.339365,1.04634,''),\n",
       "  Text(-1.08938,-0.152514,''),\n",
       "  Text(-0.376769,-1.03346,''),\n",
       "  Text(0.305437,-1.05674,''),\n",
       "  Text(0.778229,-0.777406,''),\n",
       "  Text(0.988673,-0.482208,''),\n",
       "  Text(1.07348,-0.240071,''),\n",
       "  Text(1.09775,-0.070347,'')])"
      ]
     },
     "execution_count": 60,
     "metadata": {},
     "output_type": "execute_result"
    },
    {
     "data": {
      "image/png": "[encoded data removed]",
      "text/plain": [
       "<Figure size 432x288 with 1 Axes>"
      ]
     },
     "metadata": {},
     "output_type": "display_data"
    }
   ],
   "source": [
    "pl.pie(resultsTyp.iloc[:,1])"
   ]
  },
  {
   "cell_type": "code",
   "execution_count": null,
   "metadata": {},
   "outputs": [],
   "source": []
  }
 ],
 "metadata": {
  "kernelspec": {
   "display_name": "Python 3",
   "language": "python",
   "name": "python3"
  },
  "language_info": {
   "codemirror_mode": {
    "name": "ipython",
    "version": 3
   },
   "file_extension": ".py",
   "mimetype": "text/x-python",
   "name": "python",
   "nbconvert_exporter": "python",
   "pygments_lexer": "ipython3",
   "version": "3.5.5"
  }
 },
 "nbformat": 4,
 "nbformat_minor": 2
}
