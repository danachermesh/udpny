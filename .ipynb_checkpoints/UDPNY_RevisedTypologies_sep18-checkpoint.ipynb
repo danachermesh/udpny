{
 "cells": [
  {
   "cell_type": "code",
   "execution_count": 1,
   "metadata": {},
   "outputs": [],
   "source": [
    "import pandas as pd\n",
    "import numpy as np\n",
    "import geopandas as gpd\n",
    "import matplotlib.pylab as pl\n",
    "import seaborn as sns\n",
    "sns.set_style('whitegrid')"
   ]
  },
  {
   "cell_type": "markdown",
   "metadata": {},
   "source": [
    "# UDPNY 2018 - _phase #3_\n",
    "# _new edition according to udp methodology and revision - September '18_\n",
    "\n",
    "This code defines the _**8 displacement typologies**_ and assignes each tract to a typology. \n",
    "\n",
    "- [UDP's methodology / displacement typollogies](https://drive.google.com/file/d/1nwOoVItI5RLLILrFpbTRoXbrjIohnSPY/view)"
   ]
  },
  {
   "cell_type": "markdown",
   "metadata": {},
   "source": [
    "----\n",
    "# UDP Gentrification and Displacement Typologies\n",
    "The typologies (**Updated to October 2018**) can be found in the udp website under _[Gentrification and Displacement Census Tract Typologies](https://drive.google.com/file/d/1nwOoVItI5RLLILrFpbTRoXbrjIohnSPY/view])_\n",
    "### _8 Typologies_ to be generated to the displacement map:\n",
    "\n",
    "### Low Income:\n",
    "1. LI - Not Losing Low-Income Households\n",
    "2. LI - At Risk of Gentrification\n",
    "3. LI - Ongoing Displacement of Low-Income Households\n",
    "4. LI - Ongoing Gentrification \n",
    "\n",
    "### Moderate to High Income:\n",
    "5. MHI - Advanced Gentrification\n",
    "6. MHI - Not Losing Low-Income Households\n",
    "7. MHI - At Risk of Exclusion\n",
    "8. MHI - Displacement of Low-Income Households - Ongoing Exclusion "
   ]
  },
  {
   "cell_type": "markdown",
   "metadata": {},
   "source": [
    "---\n",
    "# 1. Data \n",
    "- This notebook uses the data was given by the Berkeley UDP team for the New-York region;\n",
    "- For the data aquisition process, including logistic regressions for the variables please refer to https://github.com/geeroovaa/udp"
   ]
  },
  {
   "cell_type": "code",
   "execution_count": 25,
   "metadata": {},
   "outputs": [
    {
     "name": "stdout",
     "output_type": "stream",
     "text": [
      "(5338, 89)\n"
     ]
    }
   ],
   "source": [
    "data = pd.read_stata(\"data/UDP_NYC_Variables.dta\")\n",
    "print(data.shape)"
   ]
  },
  {
   "cell_type": "code",
   "execution_count": 26,
   "metadata": {},
   "outputs": [
    {
     "data": {
      "text/plain": [
       "['GEOid2',\n",
       " 'hh16',\n",
       " 'moe_hh16',\n",
       " 'per_col00',\n",
       " 'per_nonwhite00',\n",
       " 'per_rent00',\n",
       " 'vli2000',\n",
       " 'li2000',\n",
       " 'mi2000',\n",
       " 'hmi2000',\n",
       " 'hi2000',\n",
       " 'vhi2000',\n",
       " 'per_all_li00',\n",
       " 'hh00',\n",
       " 'all_li_count00',\n",
       " 'per_nonwhite90',\n",
       " 'per_rent90',\n",
       " 'vli1990',\n",
       " 'li1990',\n",
       " 'mi1990',\n",
       " 'hmi1990',\n",
       " 'hi1990',\n",
       " 'vhi1990',\n",
       " 'denominator',\n",
       " 'per_all_li90',\n",
       " 'all_li_count90',\n",
       " 'pop00',\n",
       " 'pop16',\n",
       " 'moe_pop16',\n",
       " 'ch_all_li_count90_00',\n",
       " 'ch_all_li_count00_16',\n",
       " 'moveinincd16',\n",
       " 'co_med_indinc16',\n",
       " 'per_limove16',\n",
       " 'per_limove09',\n",
       " 'TOD',\n",
       " 'empd15',\n",
       " 'mrent90',\n",
       " 'rou90',\n",
       " 'mrent00',\n",
       " 'rou00',\n",
       " 'mrent16',\n",
       " 'moe_mrent16',\n",
       " 'mhval90',\n",
       " 'ohu90',\n",
       " 'mhval00',\n",
       " 'ohu00',\n",
       " 'mhval16',\n",
       " 'moe_mhval16',\n",
       " 'mhval90_00',\n",
       " 'mhval00_16',\n",
       " 'mrent90_00',\n",
       " 'mrent00_16',\n",
       " 'hu16',\n",
       " 'per_units_pre50',\n",
       " 'ohu16',\n",
       " 'moe_owner16',\n",
       " 'rhu16',\n",
       " 'moe_renter16',\n",
       " 'per_rent16',\n",
       " 'per_nonwhite16',\n",
       " 'vli2016',\n",
       " 'li2016',\n",
       " 'mi2016',\n",
       " 'hmi2016',\n",
       " 'hi2016',\n",
       " 'vhi2016',\n",
       " 'per_all_li16',\n",
       " 'all_li_count16',\n",
       " 'ag25up',\n",
       " 'bachelors',\n",
       " 'moe_bachelors',\n",
       " 'masters',\n",
       " 'moe_masters',\n",
       " 'professional',\n",
       " 'moe_professionals',\n",
       " 'doctorate',\n",
       " 'moe_doctorates',\n",
       " 'per_col_16',\n",
       " 'pop90',\n",
       " 'per_col90',\n",
       " 'moe_hu16',\n",
       " 'hinc16',\n",
       " 'moe_hinc16',\n",
       " 'popgrowth',\n",
       " 'hinc00',\n",
       " 'hinc90',\n",
       " 'pct_ch_hinc90_00',\n",
       " 'pct_ch_hinc00_16']"
      ]
     },
     "execution_count": 26,
     "metadata": {},
     "output_type": "execute_result"
    }
   ],
   "source": [
    "list(data.columns)"
   ]
  },
  {
   "cell_type": "markdown",
   "metadata": {},
   "source": [
    "## 1.1 Data cleaning and munging\n",
    "- Dropping tracts with _**population less than 500**_ (2016)\n",
    "- Dropping tracts with _**more than 5 'Null' columns**_\n",
    "- calculating coefficient of variation according to MOE (drop **_> 30% of variation_**)\n",
    "- reading in tracts' shapefile in order to claculate _**pop densities**_"
   ]
  },
  {
   "cell_type": "code",
   "execution_count": 27,
   "metadata": {},
   "outputs": [
    {
     "name": "stdout",
     "output_type": "stream",
     "text": [
      "# of tracts in data before cleaning:  5338\n",
      "# of tracts in data after cleaning:  5192\n"
     ]
    }
   ],
   "source": [
    "print(\"# of tracts in data before cleaning: \", data.shape[0])\n",
    "\n",
    "# Dropping tracts with population less than 500 (2016)\n",
    "data = data[data['pop16'] > 500]\n",
    "# Dropping tracts with more than 5 'Null' columns\n",
    "data = data[data.isnull().sum(axis=1) <= 5]\n",
    "\n",
    "print(\"# of tracts in data after cleaning: \", data.shape[0])"
   ]
  },
  {
   "cell_type": "markdown",
   "metadata": {},
   "source": [
    "### Coefficient of variation of MOE\n",
    "## _Tracts with a coefficient of variation > 30% on several key 2016 variables are flagged and determined unreliable:_\n",
    "- Population -- V\n",
    "- Housing units -- V\n",
    "- Median rent -- V\n",
    "- Median home value -- V\n",
    "- Median income  -- **_no MOE in the data_**\n",
    "- College count\n",
    "- Renter count -- V"
   ]
  },
  {
   "cell_type": "code",
   "execution_count": 28,
   "metadata": {},
   "outputs": [
    {
     "data": {
      "text/plain": [
       "(4758, 89)"
      ]
     },
     "execution_count": 28,
     "metadata": {},
     "output_type": "execute_result"
    }
   ],
   "source": [
    "# Population\n",
    "data = data[(data.moe_pop16 / 1.645 ) / data.pop16 <= 0.3]\n",
    "# Housing Units\n",
    "data = data[(data.moe_hu16 / 1.645 ) / data.hu16 <= 0.3]\n",
    "# Bachelors count\n",
    "data = data[(data.moe_bachelors / 1.645 ) / data.bachelors <= 0.3]\n",
    "\n",
    "# Renter counts, Median rent, Median home value\n",
    "# dividing data to ct with majority of renters vs homeowners\n",
    "datarent = data[data.per_rent16 > 0.5]\n",
    "dataowner = data[data.per_rent16 <= 0.5]\n",
    "\n",
    "# Renter count, ownership counts\n",
    "datarent = datarent[(datarent.moe_renter16 / 1.645)  / datarent.rhu16 <= 0.3]\n",
    "dataowner = dataowner[(dataowner.moe_owner16 / 1.645 ) / dataowner.ohu16 <= 0.3]\n",
    "\n",
    "# Median rent, Median home value\n",
    "datarent = datarent[(datarent.moe_mrent16 / 1.645)  / datarent.mrent16 <= 0.3]\n",
    "dataowner = dataowner[(dataowner.moe_mhval16 / 1.645 ) / dataowner.mhval16 <= 0.3]\n",
    "\n",
    "# concatenating two datasets back to 'data'\n",
    "data = [dataowner, datarent]\n",
    "data = pd.concat(data)\n",
    "data.shape"
   ]
  },
  {
   "cell_type": "code",
   "execution_count": 29,
   "metadata": {},
   "outputs": [
    {
     "data": {
      "text/plain": [
       "0.08359013867488443"
      ]
     },
     "execution_count": 29,
     "metadata": {},
     "output_type": "execute_result"
    }
   ],
   "source": [
    "(5192-data.shape[0]) / 5192"
   ]
  },
  {
   "cell_type": "markdown",
   "metadata": {},
   "source": [
    "#### _4,758 CT were found valid for the analysis -- 8.3% were dropped._"
   ]
  },
  {
   "cell_type": "markdown",
   "metadata": {},
   "source": [
    "### Census tracts shapefiles + calculating population densities"
   ]
  },
  {
   "cell_type": "code",
   "execution_count": 30,
   "metadata": {},
   "outputs": [
    {
     "data": {
      "text/html": [
       "<div>\n",
       "<style scoped>\n",
       "    .dataframe tbody tr th:only-of-type {\n",
       "        vertical-align: middle;\n",
       "    }\n",
       "\n",
       "    .dataframe tbody tr th {\n",
       "        vertical-align: top;\n",
       "    }\n",
       "\n",
       "    .dataframe thead th {\n",
       "        text-align: right;\n",
       "    }\n",
       "</style>\n",
       "<table border=\"1\" class=\"dataframe\">\n",
       "  <thead>\n",
       "    <tr style=\"text-align: right;\">\n",
       "      <th></th>\n",
       "      <th>GEOid2</th>\n",
       "    </tr>\n",
       "  </thead>\n",
       "  <tbody>\n",
       "    <tr>\n",
       "      <th>0</th>\n",
       "      <td>09001010101</td>\n",
       "    </tr>\n",
       "    <tr>\n",
       "      <th>3</th>\n",
       "      <td>09001010202</td>\n",
       "    </tr>\n",
       "    <tr>\n",
       "      <th>5</th>\n",
       "      <td>09001010400</td>\n",
       "    </tr>\n",
       "    <tr>\n",
       "      <th>9</th>\n",
       "      <td>09001010800</td>\n",
       "    </tr>\n",
       "    <tr>\n",
       "      <th>10</th>\n",
       "      <td>09001010900</td>\n",
       "    </tr>\n",
       "  </tbody>\n",
       "</table>\n",
       "</div>"
      ],
      "text/plain": [
       "         GEOid2\n",
       "0   09001010101\n",
       "3   09001010202\n",
       "5   09001010400\n",
       "9   09001010800\n",
       "10  09001010900"
      ]
     },
     "execution_count": 30,
     "metadata": {},
     "output_type": "execute_result"
    }
   ],
   "source": [
    "data.iloc[:5,:1]"
   ]
  },
  {
   "cell_type": "code",
   "execution_count": 31,
   "metadata": {
    "scrolled": true
   },
   "outputs": [
    {
     "name": "stdout",
     "output_type": "stream",
     "text": [
      "(5297, 3)\n"
     ]
    },
    {
     "data": {
      "text/html": [
       "<div>\n",
       "<style scoped>\n",
       "    .dataframe tbody tr th:only-of-type {\n",
       "        vertical-align: middle;\n",
       "    }\n",
       "\n",
       "    .dataframe tbody tr th {\n",
       "        vertical-align: top;\n",
       "    }\n",
       "\n",
       "    .dataframe thead th {\n",
       "        text-align: right;\n",
       "    }\n",
       "</style>\n",
       "<table border=\"1\" class=\"dataframe\">\n",
       "  <thead>\n",
       "    <tr style=\"text-align: right;\">\n",
       "      <th></th>\n",
       "      <th>GEOID</th>\n",
       "      <th>ALAND_mi</th>\n",
       "      <th>geometry</th>\n",
       "    </tr>\n",
       "  </thead>\n",
       "  <tbody>\n",
       "    <tr>\n",
       "      <th>0</th>\n",
       "      <td>34003003200</td>\n",
       "      <td>0.47916</td>\n",
       "      <td>POLYGON ((-74.000221 40.914034, -73.9994909999...</td>\n",
       "    </tr>\n",
       "    <tr>\n",
       "      <th>1</th>\n",
       "      <td>34003003402</td>\n",
       "      <td>0.40644</td>\n",
       "      <td>POLYGON ((-74.01045499999999 40.914168, -74.00...</td>\n",
       "    </tr>\n",
       "    <tr>\n",
       "      <th>2</th>\n",
       "      <td>34003004002</td>\n",
       "      <td>0.42869</td>\n",
       "      <td>POLYGON ((-74.03627399999999 40.879097, -74.03...</td>\n",
       "    </tr>\n",
       "    <tr>\n",
       "      <th>3</th>\n",
       "      <td>34003015500</td>\n",
       "      <td>1.43050</td>\n",
       "      <td>POLYGON ((-73.984858 40.87487, -73.98401799999...</td>\n",
       "    </tr>\n",
       "    <tr>\n",
       "      <th>4</th>\n",
       "      <td>34003023401</td>\n",
       "      <td>0.16760</td>\n",
       "      <td>POLYGON ((-74.06457 40.887063, -74.062236 40.8...</td>\n",
       "    </tr>\n",
       "  </tbody>\n",
       "</table>\n",
       "</div>"
      ],
      "text/plain": [
       "         GEOID  ALAND_mi                                           geometry\n",
       "0  34003003200   0.47916  POLYGON ((-74.000221 40.914034, -73.9994909999...\n",
       "1  34003003402   0.40644  POLYGON ((-74.01045499999999 40.914168, -74.00...\n",
       "2  34003004002   0.42869  POLYGON ((-74.03627399999999 40.879097, -74.03...\n",
       "3  34003015500   1.43050  POLYGON ((-73.984858 40.87487, -73.98401799999...\n",
       "4  34003023401   0.16760  POLYGON ((-74.06457 40.887063, -74.062236 40.8..."
      ]
     },
     "execution_count": 31,
     "metadata": {},
     "output_type": "execute_result"
    }
   ],
   "source": [
    "Alltracts = gpd.GeoDataFrame.from_file(\"data/MM_Tracts_CSA-NYMetro/MM_Tracts_CSA-NYMetro.shp\")\n",
    "Alltracts = Alltracts[Alltracts['CSA'] == '408'].reset_index()\n",
    "Alltracts = Alltracts[['GEOID', 'ALAND_mi', 'geometry']]\n",
    "\n",
    "print(Alltracts.shape)\n",
    "Alltracts.head()"
   ]
  },
  {
   "cell_type": "code",
   "execution_count": 32,
   "metadata": {},
   "outputs": [
    {
     "name": "stdout",
     "output_type": "stream",
     "text": [
      "<class 'geopandas.geodataframe.GeoDataFrame'>\n",
      "<class 'geopandas.geodataframe.GeoDataFrame'>\n",
      "(4758, 90)\n"
     ]
    },
    {
     "data": {
      "text/html": [
       "<div>\n",
       "<style scoped>\n",
       "    .dataframe tbody tr th:only-of-type {\n",
       "        vertical-align: middle;\n",
       "    }\n",
       "\n",
       "    .dataframe tbody tr th {\n",
       "        vertical-align: top;\n",
       "    }\n",
       "\n",
       "    .dataframe thead th {\n",
       "        text-align: right;\n",
       "    }\n",
       "</style>\n",
       "<table border=\"1\" class=\"dataframe\">\n",
       "  <thead>\n",
       "    <tr style=\"text-align: right;\">\n",
       "      <th></th>\n",
       "      <th>geometry</th>\n",
       "      <th>hh16</th>\n",
       "      <th>moe_hh16</th>\n",
       "      <th>per_col00</th>\n",
       "      <th>per_nonwhite00</th>\n",
       "      <th>per_rent00</th>\n",
       "      <th>vli2000</th>\n",
       "      <th>li2000</th>\n",
       "      <th>mi2000</th>\n",
       "      <th>hmi2000</th>\n",
       "      <th>...</th>\n",
       "      <th>per_col90</th>\n",
       "      <th>moe_hu16</th>\n",
       "      <th>hinc16</th>\n",
       "      <th>moe_hinc16</th>\n",
       "      <th>popgrowth</th>\n",
       "      <th>hinc00</th>\n",
       "      <th>hinc90</th>\n",
       "      <th>pct_ch_hinc90_00</th>\n",
       "      <th>pct_ch_hinc00_16</th>\n",
       "      <th>pop_density16</th>\n",
       "    </tr>\n",
       "    <tr>\n",
       "      <th>GEOID</th>\n",
       "      <th></th>\n",
       "      <th></th>\n",
       "      <th></th>\n",
       "      <th></th>\n",
       "      <th></th>\n",
       "      <th></th>\n",
       "      <th></th>\n",
       "      <th></th>\n",
       "      <th></th>\n",
       "      <th></th>\n",
       "      <th></th>\n",
       "      <th></th>\n",
       "      <th></th>\n",
       "      <th></th>\n",
       "      <th></th>\n",
       "      <th></th>\n",
       "      <th></th>\n",
       "      <th></th>\n",
       "      <th></th>\n",
       "      <th></th>\n",
       "      <th></th>\n",
       "    </tr>\n",
       "  </thead>\n",
       "  <tbody>\n",
       "    <tr>\n",
       "      <th>34003003200</th>\n",
       "      <td>POLYGON ((-74.000221 40.914034, -73.9994909999...</td>\n",
       "      <td>1818.0</td>\n",
       "      <td>75.0</td>\n",
       "      <td>0.247377</td>\n",
       "      <td>0.476583</td>\n",
       "      <td>0.536743</td>\n",
       "      <td>0.318922</td>\n",
       "      <td>0.219438</td>\n",
       "      <td>0.118793</td>\n",
       "      <td>0.093017</td>\n",
       "      <td>...</td>\n",
       "      <td>0.179408</td>\n",
       "      <td>71.0</td>\n",
       "      <td>69531.0</td>\n",
       "      <td>13744.0</td>\n",
       "      <td>560.0</td>\n",
       "      <td>67178.500000</td>\n",
       "      <td>66941.400411</td>\n",
       "      <td>0.003542</td>\n",
       "      <td>0.035019</td>\n",
       "      <td>10526.755155</td>\n",
       "    </tr>\n",
       "    <tr>\n",
       "      <th>34003003402</th>\n",
       "      <td>POLYGON ((-74.01045499999999 40.914168, -74.00...</td>\n",
       "      <td>1028.0</td>\n",
       "      <td>52.0</td>\n",
       "      <td>0.432369</td>\n",
       "      <td>0.416820</td>\n",
       "      <td>0.118849</td>\n",
       "      <td>0.170313</td>\n",
       "      <td>0.198515</td>\n",
       "      <td>0.125508</td>\n",
       "      <td>0.106981</td>\n",
       "      <td>...</td>\n",
       "      <td>0.287577</td>\n",
       "      <td>45.0</td>\n",
       "      <td>105776.0</td>\n",
       "      <td>13007.0</td>\n",
       "      <td>569.0</td>\n",
       "      <td>97150.000000</td>\n",
       "      <td>96268.984734</td>\n",
       "      <td>0.009152</td>\n",
       "      <td>0.088791</td>\n",
       "      <td>9415.903946</td>\n",
       "    </tr>\n",
       "    <tr>\n",
       "      <th>34003004002</th>\n",
       "      <td>POLYGON ((-74.03627399999999 40.879097, -74.03...</td>\n",
       "      <td>1758.0</td>\n",
       "      <td>112.0</td>\n",
       "      <td>0.283652</td>\n",
       "      <td>0.366105</td>\n",
       "      <td>0.331942</td>\n",
       "      <td>0.244617</td>\n",
       "      <td>0.184616</td>\n",
       "      <td>0.113347</td>\n",
       "      <td>0.098640</td>\n",
       "      <td>...</td>\n",
       "      <td>0.136622</td>\n",
       "      <td>102.0</td>\n",
       "      <td>78306.0</td>\n",
       "      <td>4222.0</td>\n",
       "      <td>-21.0</td>\n",
       "      <td>86728.851241</td>\n",
       "      <td>84282.688605</td>\n",
       "      <td>0.029023</td>\n",
       "      <td>-0.097117</td>\n",
       "      <td>11607.455271</td>\n",
       "    </tr>\n",
       "    <tr>\n",
       "      <th>34003015500</th>\n",
       "      <td>POLYGON ((-73.984858 40.87487, -73.98401799999...</td>\n",
       "      <td>2366.0</td>\n",
       "      <td>163.0</td>\n",
       "      <td>0.592240</td>\n",
       "      <td>0.352864</td>\n",
       "      <td>0.323038</td>\n",
       "      <td>0.172292</td>\n",
       "      <td>0.159436</td>\n",
       "      <td>0.084572</td>\n",
       "      <td>0.043188</td>\n",
       "      <td>...</td>\n",
       "      <td>1.542397</td>\n",
       "      <td>132.0</td>\n",
       "      <td>112723.0</td>\n",
       "      <td>8079.0</td>\n",
       "      <td>-239.0</td>\n",
       "      <td>124537.600000</td>\n",
       "      <td>114894.324654</td>\n",
       "      <td>0.083932</td>\n",
       "      <td>-0.094868</td>\n",
       "      <td>4092.275428</td>\n",
       "    </tr>\n",
       "    <tr>\n",
       "      <th>34003023401</th>\n",
       "      <td>POLYGON ((-74.06457 40.887063, -74.062236 40.8...</td>\n",
       "      <td>1714.0</td>\n",
       "      <td>105.0</td>\n",
       "      <td>0.365932</td>\n",
       "      <td>0.519520</td>\n",
       "      <td>0.820426</td>\n",
       "      <td>0.283204</td>\n",
       "      <td>0.213065</td>\n",
       "      <td>0.114194</td>\n",
       "      <td>0.094534</td>\n",
       "      <td>...</td>\n",
       "      <td>0.344021</td>\n",
       "      <td>68.0</td>\n",
       "      <td>71197.0</td>\n",
       "      <td>4529.0</td>\n",
       "      <td>271.0</td>\n",
       "      <td>74602.500000</td>\n",
       "      <td>74190.029896</td>\n",
       "      <td>0.005560</td>\n",
       "      <td>-0.045649</td>\n",
       "      <td>23013.126492</td>\n",
       "    </tr>\n",
       "  </tbody>\n",
       "</table>\n",
       "<p>5 rows × 90 columns</p>\n",
       "</div>"
      ],
      "text/plain": [
       "                                                      geometry    hh16  \\\n",
       "GEOID                                                                    \n",
       "34003003200  POLYGON ((-74.000221 40.914034, -73.9994909999...  1818.0   \n",
       "34003003402  POLYGON ((-74.01045499999999 40.914168, -74.00...  1028.0   \n",
       "34003004002  POLYGON ((-74.03627399999999 40.879097, -74.03...  1758.0   \n",
       "34003015500  POLYGON ((-73.984858 40.87487, -73.98401799999...  2366.0   \n",
       "34003023401  POLYGON ((-74.06457 40.887063, -74.062236 40.8...  1714.0   \n",
       "\n",
       "             moe_hh16  per_col00  per_nonwhite00  per_rent00   vli2000  \\\n",
       "GEOID                                                                    \n",
       "34003003200      75.0   0.247377        0.476583    0.536743  0.318922   \n",
       "34003003402      52.0   0.432369        0.416820    0.118849  0.170313   \n",
       "34003004002     112.0   0.283652        0.366105    0.331942  0.244617   \n",
       "34003015500     163.0   0.592240        0.352864    0.323038  0.172292   \n",
       "34003023401     105.0   0.365932        0.519520    0.820426  0.283204   \n",
       "\n",
       "               li2000    mi2000   hmi2000      ...        per_col90  moe_hu16  \\\n",
       "GEOID                                          ...                              \n",
       "34003003200  0.219438  0.118793  0.093017      ...         0.179408      71.0   \n",
       "34003003402  0.198515  0.125508  0.106981      ...         0.287577      45.0   \n",
       "34003004002  0.184616  0.113347  0.098640      ...         0.136622     102.0   \n",
       "34003015500  0.159436  0.084572  0.043188      ...         1.542397     132.0   \n",
       "34003023401  0.213065  0.114194  0.094534      ...         0.344021      68.0   \n",
       "\n",
       "               hinc16  moe_hinc16  popgrowth         hinc00         hinc90  \\\n",
       "GEOID                                                                        \n",
       "34003003200   69531.0     13744.0      560.0   67178.500000   66941.400411   \n",
       "34003003402  105776.0     13007.0      569.0   97150.000000   96268.984734   \n",
       "34003004002   78306.0      4222.0      -21.0   86728.851241   84282.688605   \n",
       "34003015500  112723.0      8079.0     -239.0  124537.600000  114894.324654   \n",
       "34003023401   71197.0      4529.0      271.0   74602.500000   74190.029896   \n",
       "\n",
       "             pct_ch_hinc90_00  pct_ch_hinc00_16  pop_density16  \n",
       "GEOID                                                           \n",
       "34003003200          0.003542          0.035019   10526.755155  \n",
       "34003003402          0.009152          0.088791    9415.903946  \n",
       "34003004002          0.029023         -0.097117   11607.455271  \n",
       "34003015500          0.083932         -0.094868    4092.275428  \n",
       "34003023401          0.005560         -0.045649   23013.126492  \n",
       "\n",
       "[5 rows x 90 columns]"
      ]
     },
     "execution_count": 32,
     "metadata": {},
     "output_type": "execute_result"
    }
   ],
   "source": [
    "data_shp = Alltracts.merge(data, left_on='GEOID', right_on='GEOid2').drop('GEOid2', axis=1)\\\n",
    "                                                                        .set_index('GEOID')\n",
    "\n",
    "# calculate pop density at 2016\n",
    "data_shp['pop_density16'] = data_shp['pop16'] / data_shp['ALAND_mi']\n",
    "\n",
    "# replicating data_shp to data\n",
    "data = data_shp.drop(['ALAND_mi'], axis=1)\n",
    "\n",
    "print(type(data_shp))\n",
    "print(type(data))\n",
    "print(data.shape)\n",
    "data.head()"
   ]
  },
  {
   "cell_type": "code",
   "execution_count": 33,
   "metadata": {},
   "outputs": [
    {
     "data": {
      "text/plain": [
       "<matplotlib.axes._subplots.AxesSubplot at 0x1a1cac8358>"
      ]
     },
     "execution_count": 33,
     "metadata": {},
     "output_type": "execute_result"
    },
    {
     "data": {
      "image/png": "[encoded data removed]",
      "text/plain": [
       "<Figure size 432x288 with 1 Axes>"
      ]
     },
     "metadata": {},
     "output_type": "display_data"
    }
   ],
   "source": [
    "data['pop_density16'].hist()"
   ]
  },
  {
   "cell_type": "markdown",
   "metadata": {},
   "source": [
    "---\n",
    "## 1.2 Creating conditional (binary) variables prior classification:"
   ]
  },
  {
   "cell_type": "markdown",
   "metadata": {},
   "source": [
    "### VLI - Very Low Income tract at 2016 -- _for additional layer on top of typologies_\n",
    "- vhi2016"
   ]
  },
  {
   "cell_type": "code",
   "execution_count": 37,
   "metadata": {},
   "outputs": [
    {
     "name": "stdout",
     "output_type": "stream",
     "text": [
      "the median of very low income households at the year 2016 from total households, of all census tracts is: 0.23\n",
      "\n",
      "Number of VLI tracts at 2016: 194\n"
     ]
    }
   ],
   "source": [
    "# Calculating median for vli and vli % of all hh in tract\n",
    "\n",
    "median_vli = data['vli2016'].median()\n",
    "print(\"the median of very low income households at the year 2016 from total households, \"  \n",
    "      \"of all census tracts is: {:.2f}\".format(median_vli))\n",
    "\n",
    "# VLI tract (2016)\n",
    "data['vli_tract16'] = np.where(data['vli2016'] > 0.5, 1, 0)\n",
    "print(\"\\nNumber of VLI tracts at 2016: {}\".format(data['vli_tract16'].value_counts()[1]))"
   ]
  },
  {
   "cell_type": "markdown",
   "metadata": {},
   "source": [
    "### Low Income tract\n",
    "- calculate the median % of all tracts\n",
    "- Binary output (0 == low income tract; 1 = not a low income tract)"
   ]
  },
  {
   "cell_type": "code",
   "execution_count": 38,
   "metadata": {
    "scrolled": true
   },
   "outputs": [
    {
     "name": "stdout",
     "output_type": "stream",
     "text": [
      "the median of low income and very low income households at the year 2016 from total households, of all census tracts is: 0.37\n",
      "\n",
      "Number of LI tracts at 2016: 2521\n",
      "Number of LI tracts at 2000: 2491\n",
      "Number of LI tracts at 1990: 2513\n"
     ]
    }
   ],
   "source": [
    "# Calculating median for li and vli % of all hh in tract\n",
    "\n",
    "medianli = data['vli2016'].median() + data['li2016'].median()\n",
    "print(\"the median of low income and very low income households at the year 2016 from total households, \"  \n",
    "      \"of all census tracts is: {:.2f}\".format(medianli))\n",
    "\n",
    "# LI 2016\n",
    "data['li_tract16'] = np.where(data['vli2016']+data['li2016'] > medianli, 1, 0)\n",
    "print(\"\\nNumber of LI tracts at 2016: {}\".format(data['li_tract16'].value_counts()[1]))\n",
    "\n",
    "# LI 2000\n",
    "data['li_tract00'] = np.where(data['vli2000']+data['li2000'] > (data['vli2000'].median() + data['li2000'].median()), 1, 0)\n",
    "print(\"Number of LI tracts at 2000: {}\".format(data['li_tract00'].value_counts()[1]))\n",
    "\n",
    "# LI 1990\n",
    "data['li_tract90'] = np.where(data['vli1990']+data['li1990'] > (data['vli1990'].median() + data['li1990'].median()), 1, 0)\n",
    "print(\"Number of LI tracts at 1990: {}\".format(data['li_tract90'].value_counts()[1]))"
   ]
  },
  {
   "cell_type": "markdown",
   "metadata": {},
   "source": [
    "### Ownership / Rentals oriented\n",
    "Does the tract has more than 50% renters?"
   ]
  },
  {
   "cell_type": "code",
   "execution_count": 39,
   "metadata": {},
   "outputs": [
    {
     "name": "stdout",
     "output_type": "stream",
     "text": [
      "In 1990, 1854 tracts were Renters-oriented while 2904 Ownerships-oriented\n",
      "In 2000, 1993 tracts were Renters-oriented while 2765 Ownerships-oriented\n",
      "In 2016, 1966 tracts were Renters-oriented while 2792 Ownerships-oriented\n"
     ]
    }
   ],
   "source": [
    "data['rentOriented_90'] = np.where(data['per_rent90'] >= 0.5, 1, 0)\n",
    "data['rentOriented_00'] = np.where(data['per_rent00'] >= 0.5, 1, 0)\n",
    "data['rentOriented_16'] = np.where(data['per_rent16'] >= 0.5, 1, 0)\n",
    "\n",
    "print('In 1990, {} tracts were Renters-oriented while {} Ownerships-oriented'.format(\n",
    "                                            data['rentOriented_90'].value_counts()[1],\n",
    "                                            data['rentOriented_90'].value_counts()[0]))\n",
    "print('In 2000, {} tracts were Renters-oriented while {} Ownerships-oriented'.format(\n",
    "                                            data['rentOriented_00'].value_counts()[1],\n",
    "                                            data['rentOriented_00'].value_counts()[0]))\n",
    "print('In 2016, {} tracts were Renters-oriented while {} Ownerships-oriented'.format(\n",
    "                                            data['rentOriented_16'].value_counts()[1],\n",
    "                                            data['rentOriented_16'].value_counts()[0]))"
   ]
  },
  {
   "cell_type": "markdown",
   "metadata": {},
   "source": [
    "### % renters > regional median"
   ]
  },
  {
   "cell_type": "code",
   "execution_count": 40,
   "metadata": {},
   "outputs": [],
   "source": [
    "data['renters%90'] = np.where(data['per_rent90'] > data['per_rent90'].median(), 1, 0)\n",
    "data['renters%00'] = np.where(data['per_rent00'] > data['per_rent00'].median(), 1, 0)\n",
    "data['renters%16'] = np.where(data['per_rent16'] > data['per_rent16'].median(), 1, 0)"
   ]
  },
  {
   "cell_type": "markdown",
   "metadata": {},
   "source": [
    "### % college educated < regional median "
   ]
  },
  {
   "cell_type": "code",
   "execution_count": 41,
   "metadata": {},
   "outputs": [],
   "source": [
    "data['edulow90'] = np.where(data['per_col90'] < data['per_col90'].median(), 1, 0)\n",
    "data['edulow00'] = np.where(data['per_col00'] < data['per_col00'].median(), 1, 0)"
   ]
  },
  {
   "cell_type": "markdown",
   "metadata": {},
   "source": [
    "### % nonwhite > regional median"
   ]
  },
  {
   "cell_type": "code",
   "execution_count": 42,
   "metadata": {},
   "outputs": [],
   "source": [
    "data['nonwhiteHigh90'] = np.where(data['per_nonwhite90'] > data['per_nonwhite90'].median(), 1, 0)\n",
    "data['nonwhiteHigh00'] = np.where(data['per_nonwhite00'] > data['per_nonwhite00'].median(), 1, 0)\n",
    "data['nonwhiteHigh16'] = np.where(data['per_nonwhite16'] > data['per_nonwhite16'].median(), 1, 0)"
   ]
  },
  {
   "cell_type": "markdown",
   "metadata": {},
   "source": [
    "### % of units in pre-1950 buildings > regional median"
   ]
  },
  {
   "cell_type": "code",
   "execution_count": 43,
   "metadata": {},
   "outputs": [],
   "source": [
    "data['units_pre50_High'] = np.where(data['per_units_pre50'] > data['per_units_pre50'].median(), 1, 0)"
   ]
  },
  {
   "cell_type": "markdown",
   "metadata": {},
   "source": [
    "### Employment density (2015) > regional median"
   ]
  },
  {
   "cell_type": "code",
   "execution_count": 44,
   "metadata": {},
   "outputs": [],
   "source": [
    "data['empdens16_High'] = np.where(data['empd15'] > data['empd15'].median(), 1, 0)"
   ]
  },
  {
   "cell_type": "markdown",
   "metadata": {},
   "source": [
    "### Population stable / growing 1990-2000; 2000-2016\n",
    "first step: recalculating **population growth in 90-00; 00-16**"
   ]
  },
  {
   "cell_type": "code",
   "execution_count": 45,
   "metadata": {
    "scrolled": true
   },
   "outputs": [],
   "source": [
    "# recalculating popgrowth 90-00; 00-16\n",
    "data['popgrowth90-00'] = data['pop00'] - data['pop90']\n",
    "data['popgrowth00-16'] = data['pop16'] - data['pop00']\n",
    "\n",
    "# Stable / Growing\n",
    "data['pgrowth90-00_High'] = np.where(data['popgrowth90-00'] >= 0, 1, 0)\n",
    "data['pgrowth00-16_High'] = np.where(data['popgrowth00-16'] >= 0, 1, 0)"
   ]
  },
  {
   "attachments": {},
   "cell_type": "markdown",
   "metadata": {},
   "source": [
    "### Population Density < regional median"
   ]
  },
  {
   "cell_type": "code",
   "execution_count": 46,
   "metadata": {},
   "outputs": [],
   "source": [
    "data['popDensLow16'] = np.where(data['pop_density16'] < data['pop_density16'].median(), 1, 0)"
   ]
  },
  {
   "cell_type": "markdown",
   "metadata": {},
   "source": [
    "### Loss of LI households 1990-2000; 2000-2016 (_absolute loss_)\n",
    "- ch_all_li_count90_00 < 0\n",
    "- ch_all_li_count00_16 < 0"
   ]
  },
  {
   "cell_type": "code",
   "execution_count": 47,
   "metadata": {
    "scrolled": true
   },
   "outputs": [],
   "source": [
    "data['lossLI90-00'] = np.where(data['ch_all_li_count90_00'] < 0, 1, 0)\n",
    "data['lossLI00-16'] = np.where(data['ch_all_li_count00_16'] < 0, 1, 0)"
   ]
  },
  {
   "cell_type": "markdown",
   "metadata": {},
   "source": [
    "### LI migration rate in 2015 < in 2009\n",
    "\n",
    "per_limove09 > per_limove16"
   ]
  },
  {
   "cell_type": "code",
   "execution_count": 48,
   "metadata": {
    "scrolled": true
   },
   "outputs": [],
   "source": [
    "data['moveinLI_decrease00'] = np.where(data['per_limove16'] < data['per_limove09'], 1, 0)"
   ]
  },
  {
   "cell_type": "markdown",
   "metadata": {},
   "source": [
    "### Define Educated growth > region median\n",
    "1. Calculate change in college educators % 90-00, 00-16"
   ]
  },
  {
   "cell_type": "code",
   "execution_count": 49,
   "metadata": {
    "scrolled": true
   },
   "outputs": [],
   "source": [
    "data['edu_change90-00'] = data['per_col00'] - data['per_col90']\n",
    "data['edu_change00-16'] = data['per_col_16'] - data['per_col00']\n",
    "\n",
    "data['edugrowth_High90'] = np.where(data['edu_change90-00'] > data['edu_change90-00'].median(), 1, 0)\n",
    "data['edugrowth_High00'] = np.where(data['edu_change00-16'] > data['edu_change00-16'].median(), 1, 0)"
   ]
  },
  {
   "cell_type": "markdown",
   "metadata": {},
   "source": [
    "### % of households w children for 90,00,16 < regional median"
   ]
  },
  {
   "cell_type": "code",
   "execution_count": null,
   "metadata": {},
   "outputs": [],
   "source": [
    "data['lessChildren90'] = np.where(data['per_hhwchild_90'] < data['per_hhwchild_90'].median(), 1, 0)\n",
    "data['lessChildren00'] = np.where(data['per_hhwchild_00'] < data['per_hhwchild_00'].median(), 1, 0)\n",
    "data['lessChildren16'] = np.where(data['per_hhwchild_16'] < data['per_hhwchild_16'].median(), 1, 0)"
   ]
  },
  {
   "cell_type": "markdown",
   "metadata": {
    "collapsed": true
   },
   "source": [
    "### Growth in real median household income (% change) > regional median (90 and 00)"
   ]
  },
  {
   "cell_type": "code",
   "execution_count": 50,
   "metadata": {
    "scrolled": true
   },
   "outputs": [],
   "source": [
    "data['hhIncomeGrowthHigh90'] = np.where(data['pct_ch_hinc90_00'] > data['pct_ch_hinc90_00'].median(), 1, 0)\n",
    "data['hhIncomeGrowthHigh00'] = np.where(data['pct_ch_hinc00_16'] > data['pct_ch_hinc00_16'].median(), 1, 0)"
   ]
  },
  {
   "cell_type": "markdown",
   "metadata": {},
   "source": [
    "### Rent change 90-00; 00-16 and home value change 90-00; 00-16 > regional median"
   ]
  },
  {
   "cell_type": "code",
   "execution_count": 51,
   "metadata": {},
   "outputs": [],
   "source": [
    "# 1990 base\n",
    "data['rentchange_High90'] = np.where(data['mrent90_00'] > data['mrent90_00'].median(), 1, 0)\n",
    "data['rhomeValchange_High90'] = np.where(data['mhval90_00'] > data['mhval90_00'].median(), 1, 0)\n",
    "\n",
    "# 2000 base\n",
    "data['rentchange_High00'] = np.where(data['mrent00_16'] > data['mrent00_16'].median(), 1, 0)\n",
    "data['rhomeValchange_High00'] = np.where(data['mhval00_16'] > data['mhval00_16'].median(), 1, 0)"
   ]
  },
  {
   "cell_type": "markdown",
   "metadata": {},
   "source": [
    "### Rail station (TOD)"
   ]
  },
  {
   "cell_type": "code",
   "execution_count": 52,
   "metadata": {
    "scrolled": false
   },
   "outputs": [
    {
     "data": {
      "text/plain": [
       "0.0    4012\n",
       "1.0     746\n",
       "Name: TOD, dtype: int64"
      ]
     },
     "execution_count": 52,
     "metadata": {},
     "output_type": "execute_result"
    }
   ],
   "source": [
    "data['TOD'].value_counts()"
   ]
  },
  {
   "cell_type": "markdown",
   "metadata": {},
   "source": [
    "### New built housing > regional median"
   ]
  },
  {
   "cell_type": "code",
   "execution_count": null,
   "metadata": {},
   "outputs": [],
   "source": [
    "data['newBuilt_90'] = np.where(data['per_units_post80'] > data['per_units_post80'].median(), 1, 0)\n",
    "data['newBuilt_00'] = np.where(data['per_units_post90'] > data['per_units_post90'].median(), 1, 0)\n",
    "data['newBuilt_16'] = np.where(data['per_units_post00'] > data['per_units_post00'].median(), 1, 0)"
   ]
  },
  {
   "cell_type": "markdown",
   "metadata": {},
   "source": [
    "### Demographic change 90-00, 00-16 (2 out of 3 factors)"
   ]
  },
  {
   "cell_type": "code",
   "execution_count": 53,
   "metadata": {},
   "outputs": [],
   "source": [
    "# Demographic change 90-00\n",
    "def Dchange90(df):\n",
    "    if df['edugrowth_High90'] == 1 and df['hhIncomeGrowthHigh90'] == 1:\n",
    "        val = 1\n",
    "    elif df['edugrowth_High90'] == 1 and df['lossLI90-00'] == 1:\n",
    "        val = 1\n",
    "    elif df['hhIncomeGrowthHigh90'] == 1 and df['lossLI90-00'] == 1:\n",
    "        val = 1\n",
    "    else:\n",
    "        val = 0\n",
    "    return val\n",
    "\n",
    "# Demographic change 00-16\n",
    "def Dchange00(df):\n",
    "    if df['edugrowth_High00'] == 1 and df['hhIncomeGrowthHigh00'] == 1:\n",
    "        val = 1\n",
    "    elif df['edugrowth_High00'] == 1 and df['lossLI00-16'] == 1:\n",
    "        val = 1\n",
    "    elif df['hhIncomeGrowthHigh00'] == 1 and df['lossLI00-16'] == 1:\n",
    "        val = 1\n",
    "    else:\n",
    "        val = 0\n",
    "    return val\n",
    "\n",
    "\n",
    "data['Dchange90'] = data.apply(Dchange90, axis=1)\n",
    "data['Dchange00'] = data.apply(Dchange00, axis=1)"
   ]
  },
  {
   "cell_type": "markdown",
   "metadata": {},
   "source": [
    "## 1.2 Define \"Hot Market\"\n",
    "- Change in median real rent &gt; regional median<br>\n",
    "**or**<br>\n",
    "- Change in median value for owner-occupied homes &gt; regional median"
   ]
  },
  {
   "cell_type": "code",
   "execution_count": 54,
   "metadata": {},
   "outputs": [
    {
     "name": "stdout",
     "output_type": "stream",
     "text": [
      "In 1990, 0.55 of the tracts in the data were defined as 'Hot Market'\n",
      "In 2000, 0.51 of the tracts in the data were defined as 'Hot Market'\n"
     ]
    }
   ],
   "source": [
    "def hotmarket90(df):\n",
    "    if df['rentOriented_90'] == 1 and df['rentchange_High90'] == 1:\n",
    "        val = 1\n",
    "    elif df['rentOriented_90'] == 0 and df['rhomeValchange_High90'] == 1:\n",
    "        val = 1\n",
    "    else:\n",
    "        val = 0\n",
    "    return val\n",
    "\n",
    "def hotmarket00(df):\n",
    "    if df['rentOriented_00'] == 1 and df['rentchange_High00'] == 1:\n",
    "        val = 1\n",
    "    elif df['rentOriented_00'] == 0 and df['rhomeValchange_High00'] == 1:\n",
    "        val = 1\n",
    "    else:\n",
    "        val = 0\n",
    "    return val\n",
    "\n",
    "data['hotmarket90'] = data.apply(hotmarket90, axis=1)\n",
    "data['hotmarket00'] = data.apply(hotmarket00, axis=1)\n",
    "\n",
    "print(\"In 1990, {:.2f} of the tracts in the data were defined as 'Hot Market'\".format(\n",
    "                                            data['hotmarket90'].value_counts([1])[1]))\n",
    "print(\"In 2000, {:.2f} of the tracts in the data were defined as 'Hot Market'\".format(\n",
    "                                            data['hotmarket00'].value_counts([1])[1]))"
   ]
  },
  {
   "cell_type": "markdown",
   "metadata": {},
   "source": [
    "--- \n",
    "\n",
    "## 1.3 Define _Vulnerable to gentrification_ in 1990 or 2000\n",
    "\n",
    "- Housing affordable in base year (_Tract not a “Hot market”_) and (**any 2 of 4**):\n",
    "    - % low income households &gt; regional median\n",
    "    - % college educated &lt; regional median\n",
    "    - % renters &gt; regional median\n",
    "    - % nonwhite &gt; regional median"
   ]
  },
  {
   "cell_type": "code",
   "execution_count": 55,
   "metadata": {},
   "outputs": [
    {
     "name": "stdout",
     "output_type": "stream",
     "text": [
      "In 1990, 0.25 of the tracts were defined as 'Vulnerable'\n",
      "In 2000, 0.24 of the tracts were defined as 'Vulnerable'\n"
     ]
    }
   ],
   "source": [
    "def vulnerable90(df):\n",
    "    if df['hotmarket90'] == 0 and df['li_tract90'] == 1 and df['edulow90'] == 1:\n",
    "        val = 1\n",
    "    elif df['hotmarket90'] == 0 and df['li_tract90'] == 1 and df['renters%90'] == 1:\n",
    "        val = 1\n",
    "    elif df['hotmarket90'] == 0 and df['li_tract90'] == 1 and df['nonwhiteHigh90'] == 1:\n",
    "        val = 1\n",
    "    elif df['hotmarket90'] == 0 and df['edulow90'] == 1 and df['renters%90'] == 1:\n",
    "        val = 1\n",
    "    elif df['hotmarket90'] == 0 and df['edulow90'] == 1 and df['nonwhiteHigh90'] == 1:\n",
    "        val = 1\n",
    "    elif df['hotmarket90'] == 0 and df['renters%90'] == 1 and df['nonwhiteHigh90'] == 1:\n",
    "        val = 1\n",
    "    else:\n",
    "        val = 0\n",
    "    return val\n",
    "\n",
    "def vulnerable00(df):\n",
    "    if df['hotmarket00'] == 0 and df['li_tract00'] == 1 and df['edulow00'] == 1:\n",
    "        val = 1\n",
    "    elif df['hotmarket00'] == 0 and df['li_tract00'] == 1 and df['renters%00'] == 1:\n",
    "        val = 1\n",
    "    elif df['hotmarket00'] == 0 and df['li_tract00'] == 1 and df['nonwhiteHigh00'] == 1:\n",
    "        val = 1\n",
    "    elif df['hotmarket00'] == 0 and df['edulow00'] == 1 and df['renters%00'] == 1:\n",
    "        val = 1\n",
    "    elif df['hotmarket00'] == 0 and df['edulow00'] == 1 and df['nonwhiteHigh00'] == 1:\n",
    "        val = 1\n",
    "    elif df['hotmarket00'] == 0 and df['renters%00'] == 1 and df['nonwhiteHigh00'] == 1:\n",
    "        val = 1\n",
    "    else:\n",
    "        val = 0\n",
    "    return val\n",
    "\n",
    "\n",
    "data['vulnerable90'] = data.apply(vulnerable90, axis=1)\n",
    "data['vulnerable00'] = data.apply(vulnerable00, axis=1)\n",
    "\n",
    "print(\"In 1990, {:.2f} of the tracts were defined as 'Vulnerable'\".format(\n",
    "                                data['vulnerable90'].value_counts([1])[1]))\n",
    "print(\"In 2000, {:.2f} of the tracts were defined as 'Vulnerable'\".format(\n",
    "                                data['vulnerable00'].value_counts([1])[1]))"
   ]
  },
  {
   "cell_type": "markdown",
   "metadata": {},
   "source": [
    "---\n",
    "## 1.4 Define risk of gentrification\n",
    "4 out of the 8 of the following is true in 2016:\n",
    "- Located downtown\n",
    "- % of units in pre-1950 buildings > regional median\n",
    "- Share of renter households > regional median\n",
    "- Share of households with children < regional median\n",
    "- Share of recent new-build housing > regional median\n",
    "- Employment density < regional median\n",
    "- Population density < regional median\n",
    "- “Hot market”"
   ]
  },
  {
   "cell_type": "code",
   "execution_count": null,
   "metadata": {},
   "outputs": [],
   "source": [
    "def risk16(df):\n",
    "    if df['downtown'] == 1 and df['units_pre50_High'] == 1 and df['renters%16'] == 1 and df['lessChildren16'] == 1:\n",
    "        val = 1\n",
    "    elif df['downtown'] == 1 and df['units_pre50_High'] == 1 and df['renters%16'] == 1 and df['newBuilt_16'] == 1:\n",
    "        val = 1\n",
    "    elif df['downtown'] == 1 and df['units_pre50_High'] == 1 and df['renters%16'] == 1 and df['empdens16_High'] == 1:\n",
    "        val = 1   \n",
    "    elif df['downtown'] == 1 and df['units_pre50_High'] == 1 and df['renters%16'] == 1 and df['popDensLow16'] == 1:\n",
    "        val = 1     \n",
    "    elif df['downtown'] == 1 and df['units_pre50_High'] == 1 and df['renters%16'] == 1 and df['hotmarket00'] == 1:\n",
    "        val = 1\n",
    "    elif df['units_pre50_High'] == 1 and df['renters%16'] == 1 and df['lessChildren16'] == 1 and df['newBuilt_16'] == 1:\n",
    "        val = 1\n",
    "    elif df['units_pre50_High'] == 1 and df['renters%16'] == 1 and df['lessChildren16'] == 1 and df['empdens16_High'] == 1:\n",
    "        val = 1\n",
    "    elif df['units_pre50_High'] == 1 and df['renters%16'] == 1 and df['lessChildren16'] == 1 and df['popDensLow16'] == 1:\n",
    "        val = 1\n",
    "    elif df['units_pre50_High'] == 1 and df['renters%16'] == 1 and df['lessChildren16'] == 1 and df['hotmarket00'] == 1:\n",
    "        val = 1    \n",
    "    elif df['renters%16'] == 1 and df['lessChildren16'] == 1 and df['newBuilt_16'] == 1 and df['empdens16_High'] == 1:\n",
    "        val = 1\n",
    "    elif df['renters%16'] == 1 and df['lessChildren16'] == 1 and df['newBuilt_16'] == 1 and df['popDensLow16'] == 1:\n",
    "        val = 1\n",
    "    elif df['renters%16'] == 1 and df['lessChildren16'] == 1 and df['newBuilt_16'] == 1 and df['hotmarket00'] == 1:\n",
    "        val = 1\n",
    "    elif df['lessChildren16'] == 1 and df['newBuilt_16'] == 1 and df['empdens16_High'] == 1 and df['popDensLow16'] == 1:\n",
    "        val=1\n",
    "    elif df['lessChildren16'] == 1 and df['newBuilt_16'] == 1 and df['empdens16_High'] == 1 and df['hotmarket00'] == 1:\n",
    "        val=1\n",
    "    elif df['newBuilt_16'] == 1 and df['empdens16_High'] == 1 and df['popDensLow16'] == 1 and df['hotmarket00'] == 1:\n",
    "        val=1\n",
    "    else:\n",
    "        val = 0\n",
    "    return val\n",
    "\n",
    "data['risk16'] = data.apply(risk16, axis=1)"
   ]
  },
  {
   "cell_type": "markdown",
   "metadata": {},
   "source": [
    "## 1.5 Gentrified 90 + Gentrified 00"
   ]
  },
  {
   "cell_type": "code",
   "execution_count": 68,
   "metadata": {},
   "outputs": [
    {
     "data": {
      "text/html": [
       "<div>\n",
       "<style scoped>\n",
       "    .dataframe tbody tr th:only-of-type {\n",
       "        vertical-align: middle;\n",
       "    }\n",
       "\n",
       "    .dataframe tbody tr th {\n",
       "        vertical-align: top;\n",
       "    }\n",
       "\n",
       "    .dataframe thead th {\n",
       "        text-align: right;\n",
       "    }\n",
       "</style>\n",
       "<table border=\"1\" class=\"dataframe\">\n",
       "  <thead>\n",
       "    <tr style=\"text-align: right;\">\n",
       "      <th></th>\n",
       "      <th>Dchange00</th>\n",
       "      <th>Gentrified90</th>\n",
       "      <th>Gentrified00</th>\n",
       "    </tr>\n",
       "  </thead>\n",
       "  <tbody>\n",
       "    <tr>\n",
       "      <th>19</th>\n",
       "      <td>0</td>\n",
       "      <td>0</td>\n",
       "      <td>0</td>\n",
       "    </tr>\n",
       "    <tr>\n",
       "      <th>20</th>\n",
       "      <td>1</td>\n",
       "      <td>0</td>\n",
       "      <td>0</td>\n",
       "    </tr>\n",
       "    <tr>\n",
       "      <th>21</th>\n",
       "      <td>1</td>\n",
       "      <td>0</td>\n",
       "      <td>0</td>\n",
       "    </tr>\n",
       "    <tr>\n",
       "      <th>22</th>\n",
       "      <td>1</td>\n",
       "      <td>0</td>\n",
       "      <td>0</td>\n",
       "    </tr>\n",
       "    <tr>\n",
       "      <th>23</th>\n",
       "      <td>0</td>\n",
       "      <td>0</td>\n",
       "      <td>0</td>\n",
       "    </tr>\n",
       "    <tr>\n",
       "      <th>24</th>\n",
       "      <td>0</td>\n",
       "      <td>0</td>\n",
       "      <td>0</td>\n",
       "    </tr>\n",
       "  </tbody>\n",
       "</table>\n",
       "</div>"
      ],
      "text/plain": [
       "    Dchange00  Gentrified90  Gentrified00\n",
       "19          0             0             0\n",
       "20          1             0             0\n",
       "21          1             0             0\n",
       "22          1             0             0\n",
       "23          0             0             0\n",
       "24          0             0             0"
      ]
     },
     "execution_count": 68,
     "metadata": {},
     "output_type": "execute_result"
    }
   ],
   "source": [
    "data['Gentrified90'] = np.where((data['Volnurable90'] == 1) & (data['Dchange90'] == 1) &\n",
    "                                (data['hotmarket90'] == 1), 1, 0)\n",
    "data['Gentrified00'] = np.where((data['Volnurable00'] == 1) & (data['Dchange00'] == 1) &\n",
    "                                (data['hotmarket00'] == 1) & (data['moveinLI_decrease00'] == 1), 1, 0)\n",
    "\n",
    "data.iloc[10:16,-3:]"
   ]
  },
  {
   "cell_type": "markdown",
   "metadata": {},
   "source": [
    "---\n",
    "\n",
    "# 2. Classify census tracts by typologies\n"
   ]
  },
  {
   "cell_type": "markdown",
   "metadata": {},
   "source": [
    "## _MHI - Advanced / Completed Gentrification_\n",
    "    - Pop in 2000>500\n",
    "    - Moderate to High Income Tract in 2015\n",
    "    - Gentrified in in 1990-2000 or 2000-2015 (Defined in Appendix)"
   ]
  },
  {
   "cell_type": "code",
   "execution_count": 71,
   "metadata": {},
   "outputs": [],
   "source": [
    "# Advanced Gentrification (Moderate to High Income)\n",
    "\n",
    "def AdvancedGen(df):\n",
    "    if df['li_tract16'] == 0 and df['Gentrified90'] == 1 and df['VLI'] == 0:\n",
    "        val = 1\n",
    "    elif df['li_tract16'] == 0 and df['Gentrified00'] == 1 and df['VLI'] == 0:\n",
    "        val = 1\n",
    "    else:\n",
    "        val = 0\n",
    "    return val"
   ]
  },
  {
   "cell_type": "code",
   "execution_count": 72,
   "metadata": {},
   "outputs": [
    {
     "data": {
      "text/plain": [
       "0    4529\n",
       "1     229\n",
       "Name: AdvancedGen, dtype: int64"
      ]
     },
     "execution_count": 72,
     "metadata": {},
     "output_type": "execute_result"
    }
   ],
   "source": [
    "data['AdvancedGen'] = data.apply(AdvancedGen, axis=1)\n",
    "data['AdvancedGen'].value_counts()"
   ]
  },
  {
   "cell_type": "markdown",
   "metadata": {},
   "source": [
    "# _4. LI - Ongoing Gentrification_\n",
    "\n",
    "    - Pop in 2000 > 500\n",
    "    - Low Income Tract in 2016\n",
    "    - Vulnerable in 2000 (Defined in Appendix)\n",
    "    - Population stable or growing 2000-2016\n",
    "    - Loss of LI households 2000-2016 (absolute loss)\n",
    "    - Either:\n",
    "        o “Hot market” (Defined in Appendix)\n",
    "        o LI migration rate (percent of all migration to tract that was LI)\n",
    "    in 2016 < in 2009\n",
    "    - Gentrified in 1990-2000 or 2000-2016 (Defined in Appendix)"
   ]
  },
  {
   "cell_type": "code",
   "execution_count": 73,
   "metadata": {},
   "outputs": [],
   "source": [
    "# Displacement of LowIncome Households/Ongoing Gentrification (Low Income)\n",
    "\n",
    "def OngoingGenLI(df):\n",
    "    # gentrified in 90, LI tract in 2015\n",
    "    if df['li_tract16'] == 1 and df['Gentrified90'] == 1 and df['AdvancedGen'] == 0:\n",
    "        val = 1\n",
    "    # gentrified in 00, LI tract in 2015\n",
    "    elif df['li_tract16'] == 1 and df['Gentrified00'] == 1 and df['AdvancedGen'] == 0:\n",
    "        val = 1\n",
    "    # LI tract in 2016; Vulnerable in 2000; pop growth; Loss of LI households; hot market in 90\n",
    "    elif df['li_tract16'] == 1 and df['Volnurable00'] == 1 and df['popgrowth00-16'] == 1\\\n",
    "        and df['lossLI00-16'] == 1  and df['hotmarket90'] == 1 and df['AdvancedGen'] == 0:\n",
    "        val = 1\n",
    "    # LI tract in 2016; Vulnerable in 2000; pop growth; Loss of LI households; hot market in 00\n",
    "    elif df['li_tract16'] == 1 and df['Volnurable00'] == 1 and df['popgrowth00-16'] == 1\\\n",
    "        and df['lossLI00-16'] == 1 and df['hotmarket00'] == 1 and df['AdvancedGen'] == 0:\n",
    "        val = 1\n",
    "    #     # LI tract in 2016; Vulnerable in 2000; pop growth; Loss of LI households; LI migration rate\n",
    "    elif df['li_tract16'] == 1 and df['Volnurable00'] == 1 and df['popgrowth00-16'] == 1\\\n",
    "        and df['lossLI00-16'] == 1 and df['moveinLI_decrease00'] == 1 and df['AdvancedGen'] == 0:\n",
    "        val = 1\n",
    "    else:\n",
    "        val = 0\n",
    "    return val"
   ]
  },
  {
   "cell_type": "code",
   "execution_count": 74,
   "metadata": {},
   "outputs": [
    {
     "data": {
      "text/plain": [
       "0    4256\n",
       "1     502\n",
       "Name: OngoingGenLI, dtype: int64"
      ]
     },
     "execution_count": 74,
     "metadata": {},
     "output_type": "execute_result"
    }
   ],
   "source": [
    "data['OngoingGenLI'] = data.apply(OngoingGenLI, axis=1)\n",
    "data['OngoingGenLI'].value_counts()"
   ]
  },
  {
   "cell_type": "markdown",
   "metadata": {
    "collapsed": true
   },
   "source": [
    "# _LI - At Risk of Gentrification _\n",
    "- Volnurable in 2000 (3 out of 4 variables)\n",
    "- Not currently undergoing displacement or ongoing gentrification\n",
    "- 2 out of the 4 of the following is true in 2015( select only one 'hot market' from the 2 'hot market' option)\n",
    "- Not currently undergoing displacement or ongoing gentrification"
   ]
  },
  {
   "cell_type": "code",
   "execution_count": 75,
   "metadata": {},
   "outputs": [
    {
     "data": {
      "text/plain": [
       "0    4353\n",
       "1     405\n",
       "Name: AtRiskGen, dtype: int64"
      ]
     },
     "execution_count": 75,
     "metadata": {},
     "output_type": "execute_result"
    }
   ],
   "source": [
    "data['AtRiskGen'] = np.where((data['li_tract16'] == 1) & (data['Volnurable00'] == 1) &\n",
    "                            (data['risk00'] == 1) & (data['OngoingGenLI'] == 0), 1, 0)\n",
    "\n",
    "data['AtRiskGen'].value_counts()"
   ]
  },
  {
   "cell_type": "markdown",
   "metadata": {},
   "source": [
    "# 2. _LI - Stable (Not losing LI hh)_\n",
    "   -  _'pop00'_ (>500)\n",
    "   - Low Income tract in 2015\n",
    "   - Not classified as At Risk of, Ongoing, or Advanced Gentrification"
   ]
  },
  {
   "cell_type": "code",
   "execution_count": 76,
   "metadata": {},
   "outputs": [
    {
     "data": {
      "text/plain": [
       "0    3144\n",
       "1    1614\n",
       "Name: NotloseLI, dtype: int64"
      ]
     },
     "execution_count": 76,
     "metadata": {},
     "output_type": "execute_result"
    }
   ],
   "source": [
    "data['NotloseLI'] = np.where((data['li_tract16'] == 1) & (data['AtRiskGen'] == 0) &\n",
    "                             (data['OngoingGenLI'] == 0) & (data['AdvancedGen'] == 0), 1, 0)\n",
    "\n",
    "data['NotloseLI'].value_counts()"
   ]
  },
  {
   "cell_type": "markdown",
   "metadata": {
    "collapsed": true
   },
   "source": [
    "---"
   ]
  },
  {
   "cell_type": "markdown",
   "metadata": {},
   "source": [
    "# _8. MHI - Exclusion_\n",
    "    - Pop in 2000 > 500\n",
    "    - Moderate to High Income Tract in 2015\n",
    "    - <20% LI in 2000 \n",
    "    - % LI in 2016 < % LI in 2000\n",
    "    - LI migration < regional median in 2015"
   ]
  },
  {
   "cell_type": "code",
   "execution_count": 77,
   "metadata": {},
   "outputs": [
    {
     "data": {
      "text/html": [
       "<div>\n",
       "<style scoped>\n",
       "    .dataframe tbody tr th:only-of-type {\n",
       "        vertical-align: middle;\n",
       "    }\n",
       "\n",
       "    .dataframe tbody tr th {\n",
       "        vertical-align: top;\n",
       "    }\n",
       "\n",
       "    .dataframe thead th {\n",
       "        text-align: right;\n",
       "    }\n",
       "</style>\n",
       "<table border=\"1\" class=\"dataframe\">\n",
       "  <thead>\n",
       "    <tr style=\"text-align: right;\">\n",
       "      <th></th>\n",
       "      <th>LI&lt;20%</th>\n",
       "      <th>%LIdecrease</th>\n",
       "      <th>migLI_low</th>\n",
       "    </tr>\n",
       "  </thead>\n",
       "  <tbody>\n",
       "    <tr>\n",
       "      <th>0</th>\n",
       "      <td>0</td>\n",
       "      <td>0</td>\n",
       "      <td>0</td>\n",
       "    </tr>\n",
       "    <tr>\n",
       "      <th>3</th>\n",
       "      <td>1</td>\n",
       "      <td>1</td>\n",
       "      <td>1</td>\n",
       "    </tr>\n",
       "    <tr>\n",
       "      <th>5</th>\n",
       "      <td>0</td>\n",
       "      <td>1</td>\n",
       "      <td>1</td>\n",
       "    </tr>\n",
       "    <tr>\n",
       "      <th>9</th>\n",
       "      <td>0</td>\n",
       "      <td>0</td>\n",
       "      <td>1</td>\n",
       "    </tr>\n",
       "  </tbody>\n",
       "</table>\n",
       "</div>"
      ],
      "text/plain": [
       "   LI<20%  %LIdecrease  migLI_low\n",
       "0       0            0          0\n",
       "3       1            1          1\n",
       "5       0            1          1\n",
       "9       0            0          1"
      ]
     },
     "execution_count": 77,
     "metadata": {},
     "output_type": "execute_result"
    }
   ],
   "source": [
    "data['LI<20%'] = np.where(data['li2016']+data['vli2016'] < 0.2, 1, 0)\n",
    "data['%LIdecrease'] = np.where(data['li2016'] < data['li2000'], 1, 0)\n",
    "data['migLI_low'] = np.where(data['per_limove16'] < data['per_limove16'].median(), 1, 0)\n",
    "\n",
    "data.iloc[:,-3:].head(4)"
   ]
  },
  {
   "cell_type": "code",
   "execution_count": 78,
   "metadata": {},
   "outputs": [],
   "source": [
    "# Advanced Exclusion\n",
    "\n",
    "def Exclusion(df):\n",
    "    if df['li_tract16'] == 0 and df['LI<20%'] == 1 and df['%LIdecrease'] == 1 and df['migLI_low'] == 1:\n",
    "        val = 1\n",
    "    else:\n",
    "        val = 0\n",
    "    return val"
   ]
  },
  {
   "cell_type": "code",
   "execution_count": 79,
   "metadata": {},
   "outputs": [
    {
     "data": {
      "text/plain": [
       "0    4534\n",
       "1     224\n",
       "Name: Exclusion, dtype: int64"
      ]
     },
     "execution_count": 79,
     "metadata": {},
     "output_type": "execute_result"
    }
   ],
   "source": [
    "data['Exclusion'] = data.apply(Exclusion, axis=1)\n",
    "data['Exclusion'].value_counts()"
   ]
  },
  {
   "cell_type": "markdown",
   "metadata": {},
   "source": [
    "# _7. MHI - At Risk of Exclusion_\n",
    "\n",
    "    - Pop in 2000 > 500\n",
    "    - Moderate to High Income Tract in 2015\n",
    "    - 2 out of the 4 of the following is true in 2015:\n",
    "        o Has rail station in tract\n",
    "        o % of units in prewar buildings (1950) > regional median\n",
    "        o Employment density> regional median\n",
    "        o “Hot market” (options defined below table)\n",
    "    - Not currently undergoing exclusion – none of the below classifications are met"
   ]
  },
  {
   "cell_type": "code",
   "execution_count": 80,
   "metadata": {},
   "outputs": [
    {
     "data": {
      "text/plain": [
       "0    4288\n",
       "1     470\n",
       "Name: AtRiskExc, dtype: int64"
      ]
     },
     "execution_count": 80,
     "metadata": {},
     "output_type": "execute_result"
    }
   ],
   "source": [
    "data['AtRiskExc'] = np.where((data['li_tract16'] == 0) & (data['risk00'] == 1) &\n",
    "                            (data['Exclusion'] == 0), 1, 0)\n",
    "\n",
    "data['AtRiskExc'].value_counts()"
   ]
  },
  {
   "cell_type": "markdown",
   "metadata": {},
   "source": [
    "# _6. MHI - Stable (Not Losing Low-Income Households)_\n",
    "    - Pop in 2000>500\n",
    "    - Moderate to High Income Tract in 2015\n",
    "    - Not classified as At Risk of, Ongoing, or Advanced Exclusion"
   ]
  },
  {
   "cell_type": "code",
   "execution_count": 81,
   "metadata": {},
   "outputs": [
    {
     "data": {
      "text/plain": [
       "0    3215\n",
       "1    1543\n",
       "Name: NotloseHigh, dtype: int64"
      ]
     },
     "execution_count": 81,
     "metadata": {},
     "output_type": "execute_result"
    }
   ],
   "source": [
    "data['NotloseHigh'] = np.where((data['li_tract16'] == 0) & (data['AtRiskExc'] == 0) &\n",
    "                            (data['Exclusion'] == 0), 1, 0)\n",
    "\n",
    "data['NotloseHigh'].value_counts()"
   ]
  },
  {
   "cell_type": "markdown",
   "metadata": {},
   "source": [
    "#  << TYPOLOGY >>"
   ]
  },
  {
   "cell_type": "code",
   "execution_count": 82,
   "metadata": {},
   "outputs": [],
   "source": [
    "# Advanced Gentrification (Moderate to High Income)\n",
    "\n",
    "def Typology(df):\n",
    "    if df['VLI'] == 1:\n",
    "        val = 'VLI - Highly Vulnerable for Displacement'\n",
    "    elif df['AdvancedGen'] == 1:\n",
    "        val = 'MHI - Advanced Gentrification'\n",
    "    elif df['Exclusion'] == 1:\n",
    "        val = 'MHI - Exclusion' \n",
    "    elif df['AtRiskExc'] == 1:\n",
    "        val = 'MHI - At Risk of Exclusion'\n",
    "    elif df['NotloseHigh'] == 1:\n",
    "        val = 'MHI - Stable, Not Losing Low Income Households'\n",
    "    elif df['OngoingGenLI'] == 1:\n",
    "        val = 'LI - Ongoing Gentrification and/or Displacement'\n",
    "    elif df['AtRiskGen'] == 1:\n",
    "        val = 'LI - At Risk of Gentrification and/or Displacement'\n",
    "    elif df['NotloseLI'] == 1:\n",
    "        val = 'LI - Stable, Not Losing Low Income Households'\n",
    "    else:\n",
    "        val = 0\n",
    "    return val"
   ]
  },
  {
   "cell_type": "code",
   "execution_count": 83,
   "metadata": {},
   "outputs": [
    {
     "data": {
      "text/plain": [
       "LI - Stable, Not Losing Low Income Households         1510\n",
       "MHI - Stable, Not Losing Low Income Households        1478\n",
       "LI - Ongoing Gentrification and/or Displacement        459\n",
       "LI - At Risk of Gentrification and/or Displacement     365\n",
       "MHI - At Risk of Exclusion                             319\n",
       "MHI - Advanced Gentrification                          229\n",
       "MHI - Exclusion                                        211\n",
       "VLI - Highly Vulnerable for Displacement               187\n",
       "Name: Typology, dtype: int64"
      ]
     },
     "execution_count": 83,
     "metadata": {},
     "output_type": "execute_result"
    }
   ],
   "source": [
    "data['Typology'] = data.apply(Typology, axis=1)\n",
    "data['Typology'].value_counts()"
   ]
  },
  {
   "cell_type": "code",
   "execution_count": 84,
   "metadata": {},
   "outputs": [
    {
     "data": {
      "text/plain": [
       "4758"
      ]
     },
     "execution_count": 84,
     "metadata": {},
     "output_type": "execute_result"
    }
   ],
   "source": [
    "len(pd.DataFrame(data['Typology']))#.value_counts()))"
   ]
  },
  {
   "cell_type": "code",
   "execution_count": 85,
   "metadata": {},
   "outputs": [
    {
     "data": {
      "text/html": [
       "<div>\n",
       "<style scoped>\n",
       "    .dataframe tbody tr th:only-of-type {\n",
       "        vertical-align: middle;\n",
       "    }\n",
       "\n",
       "    .dataframe tbody tr th {\n",
       "        vertical-align: top;\n",
       "    }\n",
       "\n",
       "    .dataframe thead th {\n",
       "        text-align: right;\n",
       "    }\n",
       "</style>\n",
       "<table border=\"1\" class=\"dataframe\">\n",
       "  <thead>\n",
       "    <tr style=\"text-align: right;\">\n",
       "      <th></th>\n",
       "      <th>tractCounts</th>\n",
       "      <th>Typology%</th>\n",
       "    </tr>\n",
       "  </thead>\n",
       "  <tbody>\n",
       "    <tr>\n",
       "      <th>LI - Stable, Not Losing Low Income Households</th>\n",
       "      <td>1510</td>\n",
       "      <td>31.736024</td>\n",
       "    </tr>\n",
       "    <tr>\n",
       "      <th>MHI - Stable, Not Losing Low Income Households</th>\n",
       "      <td>1478</td>\n",
       "      <td>31.063472</td>\n",
       "    </tr>\n",
       "    <tr>\n",
       "      <th>LI - Ongoing Gentrification and/or Displacement</th>\n",
       "      <td>459</td>\n",
       "      <td>9.646910</td>\n",
       "    </tr>\n",
       "    <tr>\n",
       "      <th>LI - At Risk of Gentrification and/or Displacement</th>\n",
       "      <td>365</td>\n",
       "      <td>7.671290</td>\n",
       "    </tr>\n",
       "    <tr>\n",
       "      <th>MHI - At Risk of Exclusion</th>\n",
       "      <td>319</td>\n",
       "      <td>6.704498</td>\n",
       "    </tr>\n",
       "    <tr>\n",
       "      <th>MHI - Advanced Gentrification</th>\n",
       "      <td>229</td>\n",
       "      <td>4.812947</td>\n",
       "    </tr>\n",
       "    <tr>\n",
       "      <th>MHI - Exclusion</th>\n",
       "      <td>211</td>\n",
       "      <td>4.434636</td>\n",
       "    </tr>\n",
       "    <tr>\n",
       "      <th>VLI - Highly Vulnerable for Displacement</th>\n",
       "      <td>187</td>\n",
       "      <td>3.930223</td>\n",
       "    </tr>\n",
       "  </tbody>\n",
       "</table>\n",
       "</div>"
      ],
      "text/plain": [
       "                                                    tractCounts  Typology%\n",
       "LI - Stable, Not Losing Low Income Households              1510  31.736024\n",
       "MHI - Stable, Not Losing Low Income Households             1478  31.063472\n",
       "LI - Ongoing Gentrification and/or Displacement             459   9.646910\n",
       "LI - At Risk of Gentrification and/or Displacement          365   7.671290\n",
       "MHI - At Risk of Exclusion                                  319   6.704498\n",
       "MHI - Advanced Gentrification                               229   4.812947\n",
       "MHI - Exclusion                                             211   4.434636\n",
       "VLI - Highly Vulnerable for Displacement                    187   3.930223"
      ]
     },
     "execution_count": 85,
     "metadata": {},
     "output_type": "execute_result"
    }
   ],
   "source": [
    "resultsTyp = pd.DataFrame(data['Typology'].value_counts())\n",
    "resultsTyp.columns = ['tractCounts']\n",
    "resultsTyp['Typology%'] = resultsTyp['tractCounts'] / resultsTyp['tractCounts'].sum() *100\n",
    "\n",
    "resultsTyp"
   ]
  },
  {
   "cell_type": "code",
   "execution_count": 86,
   "metadata": {},
   "outputs": [
    {
     "data": {
      "text/plain": [
       "tractCounts      int64\n",
       "Typology%      float64\n",
       "dtype: object"
      ]
     },
     "execution_count": 86,
     "metadata": {},
     "output_type": "execute_result"
    }
   ],
   "source": [
    "resultsTyp.dtypes"
   ]
  },
  {
   "cell_type": "code",
   "execution_count": 87,
   "metadata": {},
   "outputs": [
    {
     "data": {
      "text/plain": [
       "(4758, 141)"
      ]
     },
     "execution_count": 87,
     "metadata": {},
     "output_type": "execute_result"
    }
   ],
   "source": [
    "data.shape"
   ]
  },
  {
   "cell_type": "code",
   "execution_count": 88,
   "metadata": {
    "scrolled": false
   },
   "outputs": [
    {
     "data": {
      "text/html": [
       "<div>\n",
       "<style scoped>\n",
       "    .dataframe tbody tr th:only-of-type {\n",
       "        vertical-align: middle;\n",
       "    }\n",
       "\n",
       "    .dataframe tbody tr th {\n",
       "        vertical-align: top;\n",
       "    }\n",
       "\n",
       "    .dataframe thead th {\n",
       "        text-align: right;\n",
       "    }\n",
       "</style>\n",
       "<table border=\"1\" class=\"dataframe\">\n",
       "  <thead>\n",
       "    <tr style=\"text-align: right;\">\n",
       "      <th></th>\n",
       "      <th>GEOid2</th>\n",
       "      <th>Typology</th>\n",
       "    </tr>\n",
       "  </thead>\n",
       "  <tbody>\n",
       "    <tr>\n",
       "      <th>0</th>\n",
       "      <td>09001010101</td>\n",
       "      <td>MHI - Stable, Not Losing Low Income Households</td>\n",
       "    </tr>\n",
       "    <tr>\n",
       "      <th>1</th>\n",
       "      <td>09001010202</td>\n",
       "      <td>MHI - Exclusion</td>\n",
       "    </tr>\n",
       "    <tr>\n",
       "      <th>2</th>\n",
       "      <td>09001010400</td>\n",
       "      <td>MHI - Stable, Not Losing Low Income Households</td>\n",
       "    </tr>\n",
       "    <tr>\n",
       "      <th>3</th>\n",
       "      <td>09001010800</td>\n",
       "      <td>MHI - At Risk of Exclusion</td>\n",
       "    </tr>\n",
       "    <tr>\n",
       "      <th>4</th>\n",
       "      <td>09001010900</td>\n",
       "      <td>MHI - Stable, Not Losing Low Income Households</td>\n",
       "    </tr>\n",
       "    <tr>\n",
       "      <th>5</th>\n",
       "      <td>09001011000</td>\n",
       "      <td>MHI - Stable, Not Losing Low Income Households</td>\n",
       "    </tr>\n",
       "    <tr>\n",
       "      <th>6</th>\n",
       "      <td>09001011100</td>\n",
       "      <td>MHI - Exclusion</td>\n",
       "    </tr>\n",
       "    <tr>\n",
       "      <th>7</th>\n",
       "      <td>09001020200</td>\n",
       "      <td>MHI - Exclusion</td>\n",
       "    </tr>\n",
       "    <tr>\n",
       "      <th>8</th>\n",
       "      <td>09001020300</td>\n",
       "      <td>MHI - Exclusion</td>\n",
       "    </tr>\n",
       "    <tr>\n",
       "      <th>9</th>\n",
       "      <td>09001020400</td>\n",
       "      <td>MHI - Exclusion</td>\n",
       "    </tr>\n",
       "    <tr>\n",
       "      <th>10</th>\n",
       "      <td>09001020500</td>\n",
       "      <td>MHI - Stable, Not Losing Low Income Households</td>\n",
       "    </tr>\n",
       "    <tr>\n",
       "      <th>11</th>\n",
       "      <td>09001020600</td>\n",
       "      <td>MHI - Stable, Not Losing Low Income Households</td>\n",
       "    </tr>\n",
       "    <tr>\n",
       "      <th>12</th>\n",
       "      <td>09001020700</td>\n",
       "      <td>MHI - Stable, Not Losing Low Income Households</td>\n",
       "    </tr>\n",
       "    <tr>\n",
       "      <th>13</th>\n",
       "      <td>09001020800</td>\n",
       "      <td>MHI - Stable, Not Losing Low Income Households</td>\n",
       "    </tr>\n",
       "    <tr>\n",
       "      <th>14</th>\n",
       "      <td>09001020900</td>\n",
       "      <td>LI - Stable, Not Losing Low Income Households</td>\n",
       "    </tr>\n",
       "    <tr>\n",
       "      <th>15</th>\n",
       "      <td>09001021000</td>\n",
       "      <td>MHI - Stable, Not Losing Low Income Households</td>\n",
       "    </tr>\n",
       "    <tr>\n",
       "      <th>16</th>\n",
       "      <td>09001021100</td>\n",
       "      <td>LI - Stable, Not Losing Low Income Households</td>\n",
       "    </tr>\n",
       "    <tr>\n",
       "      <th>17</th>\n",
       "      <td>09001021200</td>\n",
       "      <td>MHI - Stable, Not Losing Low Income Households</td>\n",
       "    </tr>\n",
       "    <tr>\n",
       "      <th>18</th>\n",
       "      <td>09001021300</td>\n",
       "      <td>MHI - Stable, Not Losing Low Income Households</td>\n",
       "    </tr>\n",
       "    <tr>\n",
       "      <th>19</th>\n",
       "      <td>09001021801</td>\n",
       "      <td>LI - Stable, Not Losing Low Income Households</td>\n",
       "    </tr>\n",
       "    <tr>\n",
       "      <th>20</th>\n",
       "      <td>09001021802</td>\n",
       "      <td>LI - Stable, Not Losing Low Income Households</td>\n",
       "    </tr>\n",
       "    <tr>\n",
       "      <th>21</th>\n",
       "      <td>09001021900</td>\n",
       "      <td>LI - Stable, Not Losing Low Income Households</td>\n",
       "    </tr>\n",
       "    <tr>\n",
       "      <th>22</th>\n",
       "      <td>09001022400</td>\n",
       "      <td>MHI - Stable, Not Losing Low Income Households</td>\n",
       "    </tr>\n",
       "    <tr>\n",
       "      <th>23</th>\n",
       "      <td>09001030200</td>\n",
       "      <td>MHI - At Risk of Exclusion</td>\n",
       "    </tr>\n",
       "    <tr>\n",
       "      <th>24</th>\n",
       "      <td>09001030300</td>\n",
       "      <td>MHI - Exclusion</td>\n",
       "    </tr>\n",
       "    <tr>\n",
       "      <th>25</th>\n",
       "      <td>09001030400</td>\n",
       "      <td>MHI - At Risk of Exclusion</td>\n",
       "    </tr>\n",
       "    <tr>\n",
       "      <th>26</th>\n",
       "      <td>09001030500</td>\n",
       "      <td>MHI - At Risk of Exclusion</td>\n",
       "    </tr>\n",
       "    <tr>\n",
       "      <th>27</th>\n",
       "      <td>09001035100</td>\n",
       "      <td>MHI - Stable, Not Losing Low Income Households</td>\n",
       "    </tr>\n",
       "    <tr>\n",
       "      <th>28</th>\n",
       "      <td>09001035300</td>\n",
       "      <td>MHI - Stable, Not Losing Low Income Households</td>\n",
       "    </tr>\n",
       "    <tr>\n",
       "      <th>29</th>\n",
       "      <td>09001035400</td>\n",
       "      <td>MHI - Stable, Not Losing Low Income Households</td>\n",
       "    </tr>\n",
       "    <tr>\n",
       "      <th>...</th>\n",
       "      <td>...</td>\n",
       "      <td>...</td>\n",
       "    </tr>\n",
       "    <tr>\n",
       "      <th>4728</th>\n",
       "      <td>36119005901</td>\n",
       "      <td>LI - Ongoing Gentrification and/or Displacement</td>\n",
       "    </tr>\n",
       "    <tr>\n",
       "      <th>4729</th>\n",
       "      <td>36119005902</td>\n",
       "      <td>LI - Stable, Not Losing Low Income Households</td>\n",
       "    </tr>\n",
       "    <tr>\n",
       "      <th>4730</th>\n",
       "      <td>36119006000</td>\n",
       "      <td>LI - Ongoing Gentrification and/or Displacement</td>\n",
       "    </tr>\n",
       "    <tr>\n",
       "      <th>4731</th>\n",
       "      <td>36119006100</td>\n",
       "      <td>LI - Stable, Not Losing Low Income Households</td>\n",
       "    </tr>\n",
       "    <tr>\n",
       "      <th>4732</th>\n",
       "      <td>36119006200</td>\n",
       "      <td>VLI - Highly Vulnerable for Displacement</td>\n",
       "    </tr>\n",
       "    <tr>\n",
       "      <th>4733</th>\n",
       "      <td>36119006400</td>\n",
       "      <td>LI - Stable, Not Losing Low Income Households</td>\n",
       "    </tr>\n",
       "    <tr>\n",
       "      <th>4734</th>\n",
       "      <td>36119007300</td>\n",
       "      <td>LI - Ongoing Gentrification and/or Displacement</td>\n",
       "    </tr>\n",
       "    <tr>\n",
       "      <th>4735</th>\n",
       "      <td>36119007800</td>\n",
       "      <td>LI - Ongoing Gentrification and/or Displacement</td>\n",
       "    </tr>\n",
       "    <tr>\n",
       "      <th>4736</th>\n",
       "      <td>36119007900</td>\n",
       "      <td>LI - At Risk of Gentrification and/or Displace...</td>\n",
       "    </tr>\n",
       "    <tr>\n",
       "      <th>4737</th>\n",
       "      <td>36119008000</td>\n",
       "      <td>VLI - Highly Vulnerable for Displacement</td>\n",
       "    </tr>\n",
       "    <tr>\n",
       "      <th>4738</th>\n",
       "      <td>36119008100</td>\n",
       "      <td>LI - Stable, Not Losing Low Income Households</td>\n",
       "    </tr>\n",
       "    <tr>\n",
       "      <th>4739</th>\n",
       "      <td>36119008404</td>\n",
       "      <td>MHI - At Risk of Exclusion</td>\n",
       "    </tr>\n",
       "    <tr>\n",
       "      <th>4740</th>\n",
       "      <td>36119008800</td>\n",
       "      <td>LI - At Risk of Gentrification and/or Displace...</td>\n",
       "    </tr>\n",
       "    <tr>\n",
       "      <th>4741</th>\n",
       "      <td>36119008902</td>\n",
       "      <td>LI - Ongoing Gentrification and/or Displacement</td>\n",
       "    </tr>\n",
       "    <tr>\n",
       "      <th>4742</th>\n",
       "      <td>36119009000</td>\n",
       "      <td>LI - Ongoing Gentrification and/or Displacement</td>\n",
       "    </tr>\n",
       "    <tr>\n",
       "      <th>4743</th>\n",
       "      <td>36119009100</td>\n",
       "      <td>LI - Stable, Not Losing Low Income Households</td>\n",
       "    </tr>\n",
       "    <tr>\n",
       "      <th>4744</th>\n",
       "      <td>36119009200</td>\n",
       "      <td>LI - Ongoing Gentrification and/or Displacement</td>\n",
       "    </tr>\n",
       "    <tr>\n",
       "      <th>4745</th>\n",
       "      <td>36119009300</td>\n",
       "      <td>VLI - Highly Vulnerable for Displacement</td>\n",
       "    </tr>\n",
       "    <tr>\n",
       "      <th>4746</th>\n",
       "      <td>36119009400</td>\n",
       "      <td>LI - Stable, Not Losing Low Income Households</td>\n",
       "    </tr>\n",
       "    <tr>\n",
       "      <th>4747</th>\n",
       "      <td>36119009500</td>\n",
       "      <td>LI - Stable, Not Losing Low Income Households</td>\n",
       "    </tr>\n",
       "    <tr>\n",
       "      <th>4748</th>\n",
       "      <td>36119010300</td>\n",
       "      <td>LI - Ongoing Gentrification and/or Displacement</td>\n",
       "    </tr>\n",
       "    <tr>\n",
       "      <th>4749</th>\n",
       "      <td>36119011600</td>\n",
       "      <td>VLI - Highly Vulnerable for Displacement</td>\n",
       "    </tr>\n",
       "    <tr>\n",
       "      <th>4750</th>\n",
       "      <td>36119012900</td>\n",
       "      <td>LI - Stable, Not Losing Low Income Households</td>\n",
       "    </tr>\n",
       "    <tr>\n",
       "      <th>4751</th>\n",
       "      <td>36119013301</td>\n",
       "      <td>LI - At Risk of Gentrification and/or Displace...</td>\n",
       "    </tr>\n",
       "    <tr>\n",
       "      <th>4752</th>\n",
       "      <td>36119013304</td>\n",
       "      <td>LI - At Risk of Gentrification and/or Displace...</td>\n",
       "    </tr>\n",
       "    <tr>\n",
       "      <th>4753</th>\n",
       "      <td>36119013600</td>\n",
       "      <td>LI - Stable, Not Losing Low Income Households</td>\n",
       "    </tr>\n",
       "    <tr>\n",
       "      <th>4754</th>\n",
       "      <td>36119014100</td>\n",
       "      <td>LI - At Risk of Gentrification and/or Displace...</td>\n",
       "    </tr>\n",
       "    <tr>\n",
       "      <th>4755</th>\n",
       "      <td>36119014200</td>\n",
       "      <td>LI - Stable, Not Losing Low Income Households</td>\n",
       "    </tr>\n",
       "    <tr>\n",
       "      <th>4756</th>\n",
       "      <td>36119014300</td>\n",
       "      <td>VLI - Highly Vulnerable for Displacement</td>\n",
       "    </tr>\n",
       "    <tr>\n",
       "      <th>4757</th>\n",
       "      <td>36119014605</td>\n",
       "      <td>LI - Stable, Not Losing Low Income Households</td>\n",
       "    </tr>\n",
       "  </tbody>\n",
       "</table>\n",
       "<p>4758 rows × 2 columns</p>\n",
       "</div>"
      ],
      "text/plain": [
       "           GEOid2                                           Typology\n",
       "0     09001010101     MHI - Stable, Not Losing Low Income Households\n",
       "1     09001010202                                    MHI - Exclusion\n",
       "2     09001010400     MHI - Stable, Not Losing Low Income Households\n",
       "3     09001010800                         MHI - At Risk of Exclusion\n",
       "4     09001010900     MHI - Stable, Not Losing Low Income Households\n",
       "5     09001011000     MHI - Stable, Not Losing Low Income Households\n",
       "6     09001011100                                    MHI - Exclusion\n",
       "7     09001020200                                    MHI - Exclusion\n",
       "8     09001020300                                    MHI - Exclusion\n",
       "9     09001020400                                    MHI - Exclusion\n",
       "10    09001020500     MHI - Stable, Not Losing Low Income Households\n",
       "11    09001020600     MHI - Stable, Not Losing Low Income Households\n",
       "12    09001020700     MHI - Stable, Not Losing Low Income Households\n",
       "13    09001020800     MHI - Stable, Not Losing Low Income Households\n",
       "14    09001020900      LI - Stable, Not Losing Low Income Households\n",
       "15    09001021000     MHI - Stable, Not Losing Low Income Households\n",
       "16    09001021100      LI - Stable, Not Losing Low Income Households\n",
       "17    09001021200     MHI - Stable, Not Losing Low Income Households\n",
       "18    09001021300     MHI - Stable, Not Losing Low Income Households\n",
       "19    09001021801      LI - Stable, Not Losing Low Income Households\n",
       "20    09001021802      LI - Stable, Not Losing Low Income Households\n",
       "21    09001021900      LI - Stable, Not Losing Low Income Households\n",
       "22    09001022400     MHI - Stable, Not Losing Low Income Households\n",
       "23    09001030200                         MHI - At Risk of Exclusion\n",
       "24    09001030300                                    MHI - Exclusion\n",
       "25    09001030400                         MHI - At Risk of Exclusion\n",
       "26    09001030500                         MHI - At Risk of Exclusion\n",
       "27    09001035100     MHI - Stable, Not Losing Low Income Households\n",
       "28    09001035300     MHI - Stable, Not Losing Low Income Households\n",
       "29    09001035400     MHI - Stable, Not Losing Low Income Households\n",
       "...           ...                                                ...\n",
       "4728  36119005901    LI - Ongoing Gentrification and/or Displacement\n",
       "4729  36119005902      LI - Stable, Not Losing Low Income Households\n",
       "4730  36119006000    LI - Ongoing Gentrification and/or Displacement\n",
       "4731  36119006100      LI - Stable, Not Losing Low Income Households\n",
       "4732  36119006200           VLI - Highly Vulnerable for Displacement\n",
       "4733  36119006400      LI - Stable, Not Losing Low Income Households\n",
       "4734  36119007300    LI - Ongoing Gentrification and/or Displacement\n",
       "4735  36119007800    LI - Ongoing Gentrification and/or Displacement\n",
       "4736  36119007900  LI - At Risk of Gentrification and/or Displace...\n",
       "4737  36119008000           VLI - Highly Vulnerable for Displacement\n",
       "4738  36119008100      LI - Stable, Not Losing Low Income Households\n",
       "4739  36119008404                         MHI - At Risk of Exclusion\n",
       "4740  36119008800  LI - At Risk of Gentrification and/or Displace...\n",
       "4741  36119008902    LI - Ongoing Gentrification and/or Displacement\n",
       "4742  36119009000    LI - Ongoing Gentrification and/or Displacement\n",
       "4743  36119009100      LI - Stable, Not Losing Low Income Households\n",
       "4744  36119009200    LI - Ongoing Gentrification and/or Displacement\n",
       "4745  36119009300           VLI - Highly Vulnerable for Displacement\n",
       "4746  36119009400      LI - Stable, Not Losing Low Income Households\n",
       "4747  36119009500      LI - Stable, Not Losing Low Income Households\n",
       "4748  36119010300    LI - Ongoing Gentrification and/or Displacement\n",
       "4749  36119011600           VLI - Highly Vulnerable for Displacement\n",
       "4750  36119012900      LI - Stable, Not Losing Low Income Households\n",
       "4751  36119013301  LI - At Risk of Gentrification and/or Displace...\n",
       "4752  36119013304  LI - At Risk of Gentrification and/or Displace...\n",
       "4753  36119013600      LI - Stable, Not Losing Low Income Households\n",
       "4754  36119014100  LI - At Risk of Gentrification and/or Displace...\n",
       "4755  36119014200      LI - Stable, Not Losing Low Income Households\n",
       "4756  36119014300           VLI - Highly Vulnerable for Displacement\n",
       "4757  36119014605      LI - Stable, Not Losing Low Income Households\n",
       "\n",
       "[4758 rows x 2 columns]"
      ]
     },
     "execution_count": 88,
     "metadata": {},
     "output_type": "execute_result"
    }
   ],
   "source": [
    "data[['GEOid2', 'Typology']].set_index('GEOid2').reset_index()"
   ]
  },
  {
   "cell_type": "code",
   "execution_count": 87,
   "metadata": {
    "collapsed": true
   },
   "outputs": [],
   "source": [
    "data[['GEOid2', 'Typology']].set_index('GEOid2').to_csv('UDPNY_revisedTypologies2.csv')"
   ]
  },
  {
   "cell_type": "code",
   "execution_count": 91,
   "metadata": {},
   "outputs": [
    {
     "data": {
      "text/plain": [
       "([<matplotlib.patches.Wedge at 0x1a1fe3a588>,\n",
       "  <matplotlib.patches.Wedge at 0x1a1fe3aa90>,\n",
       "  <matplotlib.patches.Wedge at 0x1a1fe40048>,\n",
       "  <matplotlib.patches.Wedge at 0x1a1fe40550>,\n",
       "  <matplotlib.patches.Wedge at 0x1a1fe40a90>,\n",
       "  <matplotlib.patches.Wedge at 0x1a1fe40fd0>,\n",
       "  <matplotlib.patches.Wedge at 0x1a1fe85550>,\n",
       "  <matplotlib.patches.Wedge at 0x1a1fe85a90>],\n",
       " [Text(0.597091,0.923841,''),\n",
       "  Text(-1.08383,0.187913,''),\n",
       "  Text(-0.491803,-0.983936,''),\n",
       "  Text(0.0885131,-1.09643,''),\n",
       "  Text(0.558157,-0.947872,''),\n",
       "  Text(0.857551,-0.688917,''),\n",
       "  Text(1.01896,-0.414401,''),\n",
       "  Text(1.09163,-0.135473,'')])"
      ]
     },
     "execution_count": 91,
     "metadata": {},
     "output_type": "execute_result"
    },
    {
     "data": {
      "image/png": "[encoded data removed]",
      "text/plain": [
       "<Figure size 432x288 with 1 Axes>"
      ]
     },
     "metadata": {},
     "output_type": "display_data"
    }
   ],
   "source": [
    "pl.pie(resultsTyp.iloc[:,1])"
   ]
  },
  {
   "cell_type": "code",
   "execution_count": null,
   "metadata": {},
   "outputs": [],
   "source": []
  }
 ],
 "metadata": {
  "kernelspec": {
   "display_name": "Python 3",
   "language": "python",
   "name": "python3"
  },
  "language_info": {
   "codemirror_mode": {
    "name": "ipython",
    "version": 3
   },
   "file_extension": ".py",
   "mimetype": "text/x-python",
   "name": "python",
   "nbconvert_exporter": "python",
   "pygments_lexer": "ipython3",
   "version": "3.5.5"
  }
 },
 "nbformat": 4,
 "nbformat_minor": 2
}
